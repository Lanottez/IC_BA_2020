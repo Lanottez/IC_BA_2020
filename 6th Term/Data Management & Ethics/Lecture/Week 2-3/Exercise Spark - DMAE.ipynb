{
 "cells": [
  {
   "cell_type": "markdown",
   "metadata": {},
   "source": [
    "#  This exercise will demonstrate how easy it is to perform web server log analysis with Apache Spark.\n",
    " \n",
    "Server log analysis is an ideal use case for Spark.  It's a very large, common data source and contains a rich set of information.  Spark allows you to store your logs in files on disk cheaply, while still providing a quick and simple way to perform data analysis on them.  This homework will show you how to use Apache Spark on real-world text-based production logs and fully harness the power of that data.  Log data comes from many sources, such as web, file, and compute servers, application logs, user-generated content,  and can be used for monitoring servers, improving business and customer intelligence, building recommendation systems, fraud detection, and much more.\n",
    "\n",
    "## How to complete this exercise\n",
    " \n",
    "This exercise is broken up into sections with bite-sized examples for demonstrating Spark functionality for log processing. For each problem, you should start by thinking about the algorithm that you will use to *efficiently* process the log in a parallel, distributed manner. This means using the various [RDD](https://spark.apache.org/docs/latest/api/python/reference/api/pyspark.RDD.html) operations along with [`lambda` functions](https://docs.python.org/3/tutorial/controlflow.html#lambda-expressions) that are applied at each worker.\n",
    " \n",
    "## Part 1: Apache Web Server Log file format\n",
    "The log files that we use for this exercise are in the [Apache Common Log Format (CLF)](http://httpd.apache.org/docs/1.3/logs.html#common). The log file entries produced in CLF will look something like this:\n",
    "`127.0.0.1 - - [01/Aug/1995:00:00:01 -0400] \"GET /images/launch-logo.gif HTTP/1.0\" 200 1839`\n",
    " \n",
    "* `-`\n",
    "The \"hyphen\" in the output indicates that the requested piece of information (user identity from remote machine) is not available.\n",
    " \n",
    "* `-`\n",
    "The \"hyphen\" in the output indicates that the requested piece of information (user identity from local logon) is not available.\n",
    " \n",
    "* `[01/Aug/1995:00:00:01 -0400]`\n",
    "The time that the server finished processing the request. The format is:\n",
    "`[day/month/year:hour:minute:second timezone]`\n",
    "  * day = 2 digits\n",
    "  * month = 3 letters\n",
    "  * year = 4 digits\n",
    "  * hour = 2 digits\n",
    "  * minute = 2 digits\n",
    "  * second = 2 digits\n",
    "  * zone = (\\+ | \\-) 4 digits\n",
    " \n",
    "* `\"GET /images/launch-logo.gif HTTP/1.0\"`\n",
    "####This is the first line of the request string from the client. It consists of a three components: the request method (e.g., `GET`, `POST`, etc.), the endpoint (a [Uniform Resource Identifier](http://en.wikipedia.org/wiki/Uniform_resource_identifier)), and the client protocol version.\n",
    " \n",
    "* `200`\n",
    "This is the status code that the server sends back to the client. This information is very valuable, because it reveals whether the request resulted in a successful response (codes beginning in 2), a redirection (codes beginning in 3), an error caused by the client (codes beginning in 4), or an error in the server (codes beginning in 5). The full list of possible status codes can be found in the HTTP specification ([RFC 2616](https://www.ietf.org/rfc/rfc2616.txt) section 10).\n",
    " \n",
    "* `1839`\n",
    "The last entry indicates the size of the object returned to the client, not including the response headers. If no content was returned to the client, this value will be \"-\" (or sometimes 0).\n",
    " \n",
    "** Note that log files contain information supplied directly by the client, without escaping. Therefore, it is possible for malicious clients to insert control-characters in the log files, *so care must be taken in dealing with raw logs.**\n",
    " \n",
    "## NASA-HTTP Web Server Log\n",
    "For this exercise, we will use a data set from NASA Kennedy Space Center WWW server in Florida. We are using a subset that only contains several days worth of requests."
   ]
  },
  {
   "cell_type": "markdown",
   "metadata": {},
   "source": [
    "**(0a) We install some dependencies**"
   ]
  },
  {
   "cell_type": "code",
   "execution_count": null,
   "metadata": {
    "scrolled": true
   },
   "outputs": [],
   "source": [
    "!pip install pymongo\n",
    "!pip install nltk\n",
    "!pip install pandas"
   ]
  },
  {
   "cell_type": "markdown",
   "metadata": {},
   "source": [
    "**(0b) We initialize the Spark Environment**"
   ]
  },
  {
   "cell_type": "code",
   "execution_count": null,
   "metadata": {},
   "outputs": [],
   "source": [
    "from pyspark.sql import SparkSession\n",
    "\n",
    "# Spark session & context\n",
    "spark = SparkSession.builder.master('local').getOrCreate()\n",
    "sc = spark.sparkContext"
   ]
  },
  {
   "cell_type": "markdown",
   "metadata": {},
   "source": [
    "## You need to run the blocks of code through Spark one after the other and replace < FILL IN > with appropriate code."
   ]
  },
  {
   "cell_type": "markdown",
   "metadata": {},
   "source": [
    "**(1a) Parsing Each Log Line**\n",
    "\n",
    "Using the CLF as defined above, we create a regular expression pattern to extract the nine fields of the log line using the Python regular expression [`search` function](https://docs.python.org/3/library/re.html#regular-expression-objects). The function returns a pair consisting of a Row object and 1. If the log line fails to match the regular expression, the function returns a pair consisting of the log line string and 0. A '-' value in the content size field is cleaned up by substituting it with 0. The function converts the log line's date string into a Python `datetime` object using the given `parse_apache_time` function.\n"
   ]
  },
  {
   "cell_type": "code",
   "execution_count": null,
   "metadata": {},
   "outputs": [],
   "source": [
    "import re\n",
    "import datetime\n",
    "\n",
    "from pyspark.sql import Row\n",
    "\n",
    "month_map = {'Jan': 1, 'Feb': 2, 'Mar':3, 'Apr':4, 'May':5, 'Jun':6, 'Jul':7,\n",
    "    'Aug':8,  'Sep': 9, 'Oct':10, 'Nov': 11, 'Dec': 12}\n",
    "\n",
    "def parse_apache_time(s):\n",
    "    \"\"\" Convert Apache time format into a Python datetime object\n",
    "    Args:\n",
    "        s (str): date and time in Apache time format\n",
    "    Returns:\n",
    "        datetime: datetime object (ignore timezone for now)\n",
    "    \"\"\"\n",
    "    return datetime.datetime(int(s[7:11]),\n",
    "                             month_map[s[3:6]],\n",
    "                             int(s[0:2]),\n",
    "                             int(s[12:14]),\n",
    "                             int(s[15:17]),\n",
    "                             int(s[18:20]))\n",
    "\n",
    "\n",
    "def parseApacheLogLine(logline):\n",
    "    \"\"\" Parse a line in the Apache Common Log format\n",
    "    Args:\n",
    "        logline (str): a line of text in the Apache Common Log format\n",
    "    Returns:\n",
    "        tuple: either a dictionary containing the parts of the Apache Access Log and 1,\n",
    "               or the original invalid log line and 0\n",
    "    \"\"\"\n",
    "    match = re.search(APACHE_ACCESS_LOG_PATTERN, logline)\n",
    "    if match is None:\n",
    "        return (logline, 0)\n",
    "    size_field = match.group(9)\n",
    "    if size_field == '-':\n",
    "        size = int(0)\n",
    "    else:\n",
    "        size = int(match.group(9))\n",
    "    return (Row(\n",
    "        host          = match.group(1),\n",
    "        client_identd = match.group(2),\n",
    "        user_id       = match.group(3),\n",
    "        date_time     = parse_apache_time(match.group(4)),\n",
    "        method        = match.group(5),\n",
    "        endpoint      = match.group(6),\n",
    "        protocol      = match.group(7),\n",
    "        response_code = int(match.group(8)),\n",
    "        content_size  = size\n",
    "    ), 1)\n",
    "\n",
    "\n",
    "# A regular expression pattern to extract fields from the log line\n",
    "APACHE_ACCESS_LOG_PATTERN = '^(\\S+) (\\S+) (\\S+) \\[([\\w:/]+\\s[+\\-]\\d{4})\\] \"(\\S+) (\\S+)\\s*(\\S*)\" (\\d{3}) (\\S+)'\n"
   ]
  },
  {
   "cell_type": "markdown",
   "metadata": {},
   "source": [
    "**(1b) Configuration and Initial RDD Creation**\n",
    "\n",
    "We are ready to specify the input log file and create an RDD containing the parsed log file data. The log file has already been downloaded for you.\n",
    "\n",
    "To create the primary RDD that we'll use in the rest of this exercise, we first load the text file using [`sc.textfile(logFile)`](https://spark.apache.org/docs/latest/api/python/reference/api/pyspark.SparkContext.textFile.html) to convert each line of the file into an element in an RDD.\n",
    "Next, we use [`map(parseApacheLogLine)`](https://spark.apache.org/docs/latest/api/python/reference/api/pyspark.RDD.map.html) to apply the parse function to each element (that is, a line from the log file) in the RDD and turn each line into a pair [`Row` object](https://spark.apache.org/docs/latest/api/python/reference/api/pyspark.sql.Row.html).\n",
    "Finally, we cache the RDD in memory since we'll use it throughout this notebook.\n"
   ]
  },
  {
   "cell_type": "code",
   "execution_count": null,
   "metadata": {},
   "outputs": [],
   "source": [
    "import sys\n",
    "import os\n",
    "\n",
    "\n",
    "\n",
    "logFile = \"apache.access.log\"\n",
    "\n",
    "def parseLogs():\n",
    "    \"\"\" Read and parse log file \"\"\"\n",
    "    parsed_logs = (sc\n",
    "                   .textFile(logFile)\n",
    "                   .map(parseApacheLogLine)\n",
    "                   .cache())\n",
    "    access_logs = (parsed_logs\n",
    "                   .filter(lambda s: s[1] == 1)\n",
    "                   .map(lambda s: s[0])\n",
    "                   .cache())\n",
    "    failed_logs = (parsed_logs\n",
    "                   .filter(lambda s: s[1] == 0)\n",
    "                   .map(lambda s: s[0]))\n",
    "    failed_logs_count = failed_logs.count()\n",
    "    if failed_logs_count > 0:\n",
    "        print('Number of invalid logline: %d' % failed_logs.count())\n",
    "        for line in failed_logs.take(20):\n",
    "            print('Invalid logline: %s' % line)\n",
    "    print('Read %d lines, successfully parsed %d lines, failed to parse %d lines' % (parsed_logs.count(), access_logs.count(), failed_logs.count()))\n",
    "    return parsed_logs, access_logs, failed_logs\n",
    "\n",
    "\n",
    "parsed_logs, access_logs, failed_logs = parseLogs()"
   ]
  },
  {
   "cell_type": "markdown",
   "metadata": {},
   "source": [
    "**(1c) Data Cleaning**\n",
    "\n",
    "Notice that there are a large number of log lines that failed to parse. Examine the sample of invalid lines and compare them to the correctly parsed line, an example is included below. Based on your observations, alter the `APACHE_ACCESS_LOG_PATTERN` regular expression below so that the failed lines will correctly parse, and press `Shift-Enter` to rerun `parseLogs()`.\n",
    " \n",
    "`127.0.0.1 - - [01/Aug/1995:00:00:01 -0400] \"GET /images/launch-logo.gif HTTP/1.0\" 200 1839`\n",
    "\n",
    "If you not familar with Python regular expression [`search` function](https://docs.python.org/3/library/re.html#regular-expression-objects), now would be a good time to check up on the [documentation](https://developers.google.com/edu/python/regular-expressions). One tip that might be useful is to use an online tester like http://pythex.org or http://www.pythonregex.com. To use it, copy and paste the regular expression string below (located between the single quotes ') and test it against one of the 'Invalid logline' above.\n",
    "\n",
    "\n",
    "** TODO: Replace < FILL IN > with appropriate code **"
   ]
  },
  {
   "cell_type": "code",
   "execution_count": null,
   "metadata": {},
   "outputs": [],
   "source": [
    "APACHE_ACCESS_LOG_PATTERN = '<FILL IN>'\n",
    "\n",
    "parsed_logs, access_logs, failed_logs = parseLogs()\n",
    "\n",
    "# TEST Data cleaning (1c)\n",
    "assert(failed_logs.count() == 0), 'incorrect failed_logs.count()'\n",
    "assert(parsed_logs.count() == 1043177), 'incorrect parsed_logs.count()'\n",
    "assert(access_logs.count() == parsed_logs.count()), 'incorrect access_logs.count()'\n",
    "\n",
    "print(\"All counts are successful!\")"
   ]
  },
  {
   "cell_type": "markdown",
   "metadata": {},
   "source": [
    "## Part 2: Sample Analyses on the Web Server Log File\n",
    "\n",
    "Now that we have an RDD containing the log file as a set of Row objects, we can perform various analyses.\n",
    "\n",
    " **(2a) Example: Content Size Statistics**\n",
    "\n",
    "Let's compute some statistics about the sizes of content being returned by the web server. In particular, we'd like to know what are the average, minimum, and maximum content sizes.\n",
    "\n",
    "We can compute the statistics by applying a `map` to the `access_logs` RDD. The `lambda` function we want for the map is to extract the `content_size` field from the RDD. The map produces a new RDD containing only the `content_sizes` (one element for each Row object in the `access_logs` RDD). To compute the minimum and maximum statistics, we can use [`min()`](http://spark.apache.org/docs/latest/api/python/reference/api/pyspark.RDD.min.html) and [`max()`](http://spark.apache.org/docs/latest/api/python/reference/api/pyspark.RDD.max.html) functions on the new RDD. We can compute the average statistic by using the [`reduce`](http://spark.apache.org/docs/latest/api/python/reference/api/pyspark.RDD.reduce.html) function with a `lambda` function that sums the two inputs, which represent two elements from the new RDD that are being reduced together. The result of the `reduce()` is the total content size from the log and it is to be divided by the number of requests as determined using the [`count()`](http://spark.apache.org/docs/latest/api/python/reference/api/pyspark.RDD.count.html) function on the new RDD.\n"
   ]
  },
  {
   "cell_type": "code",
   "execution_count": null,
   "metadata": {},
   "outputs": [],
   "source": [
    "# Calculate statistics based on the content size.\n",
    "content_sizes = access_logs.map(lambda log: log.content_size).cache()\n",
    "print('Content Size Avg: %i, Min: %i, Max: %s' % (\n",
    "    content_sizes.reduce(lambda a, b : a + b) / content_sizes.count(),\n",
    "    content_sizes.min(),\n",
    "    content_sizes.max()))"
   ]
  },
  {
   "cell_type": "markdown",
   "metadata": {},
   "source": [
    "**(2b) Example: Response Code Analysis**\n",
    "    \n",
    "Next, lets look at the response codes that appear in the log. As with the content size analysis, first we create a new RDD by using a `lambda` function to extract the `response_code` field from the `access_logs` RDD. The difference here is that we will use a [pair tuple](https://docs.python.org/3/tutorial/datastructures.html?highlight=tuple#tuples-and-sequences) instead of just the field itself. Using a pair tuple consisting of the response code and 1 will let us count how many records have a particular response code. Using the new RDD, we perform a [`reduceByKey`](http://spark.apache.org/docs/latest/api/python/reference/api/pyspark.RDD.reduceByKey.html) function. `reduceByKey` performs a reduce on a per-key basis by applying the `lambda` function to each element, pairwise with the same key. We use the simple `lambda` function of adding the two values. Then, we cache the resulting RDD and create a list by using the [`take`](http://spark.apache.org/docs/latest/api/python/reference/api/pyspark.RDD.take.html) function."
   ]
  },
  {
   "cell_type": "code",
   "execution_count": null,
   "metadata": {},
   "outputs": [],
   "source": [
    "# Response Code to Count\n",
    "responseCodeToCount = (access_logs\n",
    "                       .map(lambda log: (log.response_code, 1))\n",
    "                       .reduceByKey(lambda a, b : a + b)\n",
    "                       .cache())\n",
    "responseCodeToCountList = responseCodeToCount.take(100)\n",
    "print('Found %d response codes' % len(responseCodeToCountList))\n",
    "print('Response Code Counts: %s' % responseCodeToCountList)\n",
    "aassert(len(responseCodeToCountList) == 7)\n",
    "assert(sorted(responseCodeToCountList) == [(200, 940847), (302, 16244), (304, 79824), (403, 58), (404, 6185), (500, 2), (501, 17)])\n"
   ]
  },
  {
   "cell_type": "markdown",
   "metadata": {},
   "source": [
    " **(2c) Example: Frequent Hosts**\n",
    " \n",
    "Let's look at hosts that have accessed the server multiple times (e.g., more than ten times). As with the response code analysis in (2b), first we create a new RDD by using a `lambda` function to extract the `host` field from the `access_logs` RDD using a pair tuple consisting of the host and 1 which will let us count how many records were created by a particular host's request. Using the new RDD, we perform a `reduceByKey` function with a `lambda` function that adds the two values. We then filter the result based on the count of accesses by each host (the second element of each pair) being greater than ten. Next, we extract the host name by performing a `map` with a `lambda` function that returns the first element of each pair. Finally, we extract 20 elements from the resulting RDD - *note that the choice of which elements are returned is not guaranteed to be deterministic.*"
   ]
  },
  {
   "cell_type": "code",
   "execution_count": null,
   "metadata": {},
   "outputs": [],
   "source": [
    "# Any hosts that has accessed the server more than 10 times.\n",
    "hostCountPairTuple = access_logs.map(lambda log: (log.host, 1))\n",
    "\n",
    "hostSum = hostCountPairTuple.reduceByKey(lambda a, b : a + b)\n",
    "\n",
    "hostMoreThan10 = hostSum.filter(lambda s: s[1] > 10)\n",
    "\n",
    "hostsPick20 = (hostMoreThan10\n",
    "               .map(lambda s: s[0])\n",
    "               .take(20))\n",
    "\n",
    "print('Any 20 hosts that have accessed more then 10 times: %s' % hostsPick20)\n",
    "# An example: [u'204.120.34.185', u'204.243.249.9', u'slip1-32.acs.ohio-state.edu', u'lapdog-14.baylor.edu', u'199.77.67.3', u'gs1.cs.ttu.edu', u'haskell.limbex.com', u'alfred.uib.no', u'146.129.66.31', u'manaus.bologna.maraut.it', u'dialup98-110.swipnet.se', u'slip-ppp02.feldspar.com', u'ad03-053.compuserve.com', u'srawlin.opsys.nwa.com', u'199.202.200.52', u'ix-den7-23.ix.netcom.com', u'151.99.247.114', u'w20-575-104.mit.edu', u'205.25.227.20', u'ns.rmc.com']"
   ]
  },
  {
   "cell_type": "markdown",
   "metadata": {},
   "source": [
    "**(2d) Example: Top Endpoints**\n",
    "\n",
    "For the final example, we'll look at the top endpoints (URIs) in the log. To determine them, we first create a new RDD by using a `lambda` function to extract the `endpoint` field from the `access_logs` RDD using a pair tuple consisting of the endpoint and 1 which will let us count how many records were created by a particular host's request. Using the new RDD, we perform a `reduceByKey` function with a `lambda` function that adds the two values. We then extract the top ten endpoints by performing a [`takeOrdered`](http://spark.apache.org/docs/latest/api/python/reference/api/pyspark.RDD.takeOrdered.html) with a value of 10 and a `lambda` function that multiplies the count (the second element of each pair) by -1 to create a sorted list with the top endpoints at the bottom.\n"
   ]
  },
  {
   "cell_type": "code",
   "execution_count": null,
   "metadata": {},
   "outputs": [],
   "source": [
    "# Top Endpoints\n",
    "endpointCounts = (access_logs\n",
    "                  .map(lambda log: (log.endpoint, 1))\n",
    "                  .reduceByKey(lambda a, b : a + b))\n",
    "\n",
    "topEndpoints = endpointCounts.takeOrdered(10, lambda s: -1 * s[1])\n",
    "\n",
    "print('Top Ten Endpoints: %s' % topEndpoints)\n",
    "assert(topEndpoints == [(u'/images/NASA-logosmall.gif', 59737), (u'/images/KSC-logosmall.gif', 50452), (u'/images/MOSAIC-logosmall.gif', 43890), (u'/images/USA-logosmall.gif', 43664), (u'/images/WORLD-logosmall.gif', 43277), (u'/images/ksclogo-medium.gif', 41336), (u'/ksc.html', 28582), (u'/history/apollo/images/apollo-logo1.gif', 26778), (u'/images/launch-logo.gif', 24755), (u'/', 20292)]), 'incorrect Top Ten Endpoints'"
   ]
  },
  {
   "cell_type": "markdown",
   "metadata": {},
   "source": [
    "## **Part 3: Analyzing Web Server Log File**\n",
    "\n",
    "Now it is your turn to perform analyses on web server log files.\n",
    "\n",
    " **(3a) Exercise: Top Ten Error Endpoints**\n",
    " \n",
    "What are the top ten endpoints which did not have return code 200? Create a sorted list containing top ten endpoints and the number of times that they were accessed with non-200 return code.\n",
    " \n",
    "Think about the steps that you need to perform to determine which endpoints did not have a 200 return code, how you will uniquely count those endpoints, and sort the list.\n",
    " \n",
    "You might want to refer back to the previous Lab (Lab 1 Word Count) for insights.\n",
    "\n",
    "\n",
    "**TODO :** Replace < FILL IN > with appropriate code\n",
    "\n",
    "**HINT :** Each of these < FILL IN > below could be completed with a single transformation or action.\n",
    "You are welcome to structure your solution in a different way, so long as you ensure the variables used in the next Test section are defined (ie. endpointSum, topTenErrURLs)."
   ]
  },
  {
   "cell_type": "code",
   "execution_count": null,
   "metadata": {},
   "outputs": [],
   "source": [
    "not200 = access_logs.<FILL IN>\n",
    "\n",
    "endpointCountPairTuple = not200.<FILL IN>\n",
    "\n",
    "endpointSum = endpointCountPairTuple.<FILL IN>\n",
    "\n",
    "topTenErrURLs = endpointSum.<FILL IN>\n",
    "\n",
    "print('Top Ten failed URLs: %s' % topTenErrURLs)\n",
    "\n",
    "# TEST Top ten error endpoints (3a)\n",
    "assert(endpointSum.count() == 7689), 'incorrect count for endpointSum'\n",
    "assert(topTenErrURLs == [(u'/images/NASA-logosmall.gif', 8761), (u'/images/KSC-logosmall.gif', 7236), (u'/images/MOSAIC-logosmall.gif', 5197), (u'/images/USA-logosmall.gif', 5157), (u'/images/WORLD-logosmall.gif', 5020), (u'/images/ksclogo-medium.gif', 4728), (u'/history/apollo/images/apollo-logo1.gif', 2907), (u'/images/launch-logo.gif', 2811), (u'/', 2199), (u'/images/ksclogosmall.gif', 1622)]), 'incorrect Top Ten failed URLs (topTenErrURLs)'"
   ]
  },
  {
   "cell_type": "markdown",
   "metadata": {},
   "source": [
    "**(3b) Exercise: Number of Unique Hosts**\n",
    "\n",
    "How many unique hosts are there in the entire log?\n",
    "\n",
    "Think about the steps that you need to perform to count the number of different hosts in the log.\n",
    "\n",
    "\n",
    "** TODO : ** Replace < FILL IN > with appropriate code\n",
    "\n",
    "** HINT : ** Do you recall the tips from (3a)? Each of these < FILL IN > could be an transformation or action.\n"
   ]
  },
  {
   "cell_type": "code",
   "execution_count": null,
   "metadata": {},
   "outputs": [],
   "source": [
    "hosts = access_logs.<FILL IN>\n",
    "\n",
    "uniqueHosts = hosts.<FILL IN>\n",
    "\n",
    "uniqueHostCount = uniqueHosts.<FILL IN>\n",
    "print('Unique hosts: %d' % uniqueHostCount)\n",
    "\n",
    "# TEST Number of unique hosts (3b)\n",
    "assert(uniqueHostCount == 54507), 'incorrect uniqueHostCount'"
   ]
  },
  {
   "cell_type": "markdown",
   "metadata": {},
   "source": [
    "**(3c) Exercise: Number of Unique Daily Hosts**\n",
    "\n",
    "For an advanced exercise, let's determine the number of unique hosts in the entire log on a day-by-day basis. This computation will give us counts of the number of unique daily hosts. We'd like a list sorted by increasing day of the month which includes the day of the month and the associated number of unique hosts for that day. Make sure you cache the resulting RDD `dailyHosts` so that we can reuse it in the next exercise.\n",
    "  \n",
    "Think about the steps that you need to perform to count the number of different hosts that make requests *each* day.\n",
    "*Since the log only covers a single month, you can ignore the month.*\n",
    "\n",
    "\n",
    "\n",
    "** TODO : ** Replace < FILL IN > with appropriate code"
   ]
  },
  {
   "cell_type": "code",
   "execution_count": null,
   "metadata": {},
   "outputs": [],
   "source": [
    "dayToHostPairTuple = access_logs.<FILL IN>\n",
    "\n",
    "dayGroupedHosts = dayToHostPairTuple.<FILL IN>\n",
    "\n",
    "dayHostCount = dayGroupedHosts.<FILL IN>\n",
    "\n",
    "dailyHosts = (dayHostCount\n",
    "              <FILL IN>)\n",
    "dailyHostsList = dailyHosts.take(30)\n",
    "print('Unique hosts per day: %s' % dailyHostsList)\n",
    "\n",
    "# TEST Number of unique daily hosts (3c)\n",
    "assert(dailyHosts.count() == 21), 'incorrect dailyHosts.count()'\n",
    "assert(dailyHostsList == [(1, 2582), (3, 3222), (4, 4190), (5, 2502), (6, 2537), (7, 4106), (8, 4406), (9, 4317), (10, 4523), (11, 4346), (12, 2864), (13, 2650), (14, 4454), (15, 4214), (16, 4340), (17, 4385), (18, 4168), (19, 2550), (20, 2560), (21, 4134), (22, 4456)]), 'incorrect dailyHostsList'\n",
    "assert(dailyHosts.is_cached), 'incorrect dailyHosts.is_cached'"
   ]
  },
  {
   "cell_type": "markdown",
   "metadata": {},
   "source": [
    " **(3d) Exercise: Number of Unique Daily Hosts**\n",
    " \n",
    " `daysWithHosts` should be a list of days and `hosts` should be a list of number of unique hosts for each corresponding day.\n",
    " * How could you convert a RDD into a list? See the [`collect()` method](http://spark.apache.org/docs/latest/api/python/reference/api/pyspark.RDD.collect.html)*\n",
    "\n",
    "** TODO : ** Replace <FILL IN> with appropriate code"
   ]
  },
  {
   "cell_type": "code",
   "execution_count": null,
   "metadata": {},
   "outputs": [],
   "source": [
    "daysWithHosts = dailyHosts.<FILL IN>\n",
    "hosts = dailyHosts.<FILL IN>\n",
    "\n",
    "# TEST unique daily hosts (3d)\n",
    "test_days = list(range(1, 23))\n",
    "test_days.remove(2)\n",
    "\n",
    "assert(daysWithHosts == test_days), 'incorrect days'\n",
    "assert(hosts == [2582, 3222, 4190, 2502, 2537, 4106, 4406, 4317, 4523, 4346, 2864, 2650, 4454, 4214, 4340, 4385, 4168, 2550, 2560, 4134, 4456]), 'incorrect hosts'"
   ]
  },
  {
   "cell_type": "markdown",
   "metadata": {},
   "source": [
    "**(3e) Exercise: Average Number of Daily Requests per Hosts**\n",
    "\n",
    "Next, let's determine the average number of requests on a day-by-day basis. We'd like a list by increasing day of the month and the associated average number of requests per host for that day. Make sure you cache the resulting RDD `avgDailyReqPerHost` so that we can reuse it in the next exercise.\n",
    "\n",
    "To compute the average number of requests per host, get the total number of request across all hosts and divide that by the number of unique hosts.\n",
    "\n",
    "*Since the log only covers a single month, you can skip checking for the month.*\n",
    "*Also to keep it simple, when calculating the approximate average use the integer value - you do not need to upcast to float*\n",
    "\n",
    "** TODO : ** Replace < FILL IN > with appropriate code"
   ]
  },
  {
   "cell_type": "code",
   "execution_count": null,
   "metadata": {},
   "outputs": [],
   "source": [
    "from itertools import groupby\n",
    "\n",
    "dayAndHostTuple = access_logs.<FILL IN>\n",
    "\n",
    "groupedByDay = dayAndHostTuple.<FILL IN>\n",
    "\n",
    "sortedByDay = groupedByDay.<FILL IN>\n",
    "\n",
    "avgDailyReqPerHost = (sortedByDay\n",
    "                      <FILL IN>)\n",
    "avgDailyReqPerHostList = avgDailyReqPerHost.take(30)\n",
    "print('Average number of daily requests per Hosts is %s' % avgDailyReqPerHostList)\n",
    "\n",
    "# TEST Average number of daily requests per hosts (3e)\n",
    "assert(avgDailyReqPerHostList == [(1, 13), (3, 12), (4, 14), (5, 12), (6, 12), (7, 13), (8, 13), (9, 14), (10, 13), (11, 14), (12, 13), (13, 13), (14, 13), (15, 13), (16, 13), (17, 13), (18, 13), (19, 12), (20, 12), (21, 13), (22, 12)]), 'incorrect avgDailyReqPerHostList'\n",
    "assert(avgDailyReqPerHost.is_cached), 'incorrect avgDailyReqPerHost.is_cache'"
   ]
  },
  {
   "cell_type": "markdown",
   "metadata": {},
   "source": [
    " **(3f) Exercise: Visualizing the Average Daily Requests per Unique Host**\n",
    " \n",
    " `daysWithAvg` should be a list of days and `avgs` should be a list of average daily requests per unique hosts for each corresponding day.\n",
    " \n",
    "** TODO : ** Replace < FILL IN > with appropriate code"
   ]
  },
  {
   "cell_type": "code",
   "execution_count": null,
   "metadata": {},
   "outputs": [],
   "source": [
    "daysWithAvg = avgDailyReqPerHost.<FILL IN>\n",
    "avgs = avgDailyReqPerHost.<FILL IN>\n",
    "\n",
    "# TEST Average Daily Requests per Unique Host (3f)\n",
    "assert(daysWithAvg == [1, 3, 4, 5, 6, 7, 8, 9, 10, 11, 12, 13, 14, 15, 16, 17, 18, 19, 20, 21, 22]), 'incorrect days'\n",
    "assert(avgs == [13, 12, 14, 12, 12, 13, 13, 14, 13, 14, 13, 13, 13, 13, 13, 13, 13, 12, 12, 13, 12]), 'incorrect avgs'\n"
   ]
  },
  {
   "cell_type": "markdown",
   "metadata": {},
   "source": [
    "## Part 4: Exploring 404 Response Codes\n",
    "\n",
    "Let's drill down and explore the error 404 response code records. 404 errors are returned when an endpoint is not found by the server (i.e., a missing page or object).\n",
    "\n",
    " **(4a) Exercise: Counting 404 Response Codes**\n",
    " \n",
    " Create a RDD containing only log records with a 404 response code. Make sure you `cache()` the RDD `badRecords` as we will use it in the rest of this exercise.\n",
    "\n",
    "How many 404 records are in the log?\n",
    "\n",
    "** TODO : ** Replace < FILL IN > with appropriate code"
   ]
  },
  {
   "cell_type": "code",
   "execution_count": null,
   "metadata": {},
   "outputs": [],
   "source": [
    "badRecords = (access_logs\n",
    "              <FILL IN>)\n",
    "print('Found %d 404 URLs' % badRecords.count())\n",
    "\n",
    "# TEST Counting 404 (4a)\n",
    "assert(badRecords.count() == 6185), 'incorrect badRecords.count()'\n",
    "assert(badRecords.is_cached), 'incorrect badRecords.is_cached'"
   ]
  },
  {
   "cell_type": "markdown",
   "metadata": {},
   "source": [
    " **(4b) Exercise: Listing 404 Response Code Records**\n",
    " \n",
    "Using the RDD containing only log records with a 404 response code that you cached in part (4a), print out a list up to 40 **distinct** endpoints that generate 404 errors -  *no endpoint should appear more than once in your list.*\n",
    "\n",
    "** TODO : ** Replace < FILL IN > with appropriate code"
   ]
  },
  {
   "cell_type": "code",
   "execution_count": null,
   "metadata": {},
   "outputs": [],
   "source": [
    "badEndpoints = badRecords.<FILL IN>\n",
    "\n",
    "badUniqueEndpoints = badEndpoints.<FILL IN>\n",
    "\n",
    "badUniqueEndpointsPick40 = badUniqueEndpoints.take(40)\n",
    "print('404 URLS: %s' % badUniqueEndpointsPick40)\n",
    "\n",
    "# TEST Listing 404 records (4b)\n",
    "\n",
    "badUniqueEndpointsSet40 = set(badUniqueEndpointsPick40)\n",
    "assert(len(badUniqueEndpointsSet40) == 40), 'badUniqueEndpointsPick40 not distinct'\n"
   ]
  },
  {
   "cell_type": "markdown",
   "metadata": {},
   "source": [
    "**(4c) Exercise: Listing the Top Twenty 404 Response Code Endpoints**\n",
    "\n",
    "Using the RDD containing only log records with a 404 response code that you cached in part (4a), print out a list of the top twenty endpoints that generate the most 404 errors.\n",
    "*Remember, top endpoints should be in sorted order*\n",
    "\n",
    "\n",
    "** TODO : ** Replace < FILL IN > with appropriate code"
   ]
  },
  {
   "cell_type": "code",
   "execution_count": null,
   "metadata": {},
   "outputs": [],
   "source": [
    "badEndpointsCountPairTuple = badRecords.<FILL IN>\n",
    "\n",
    "badEndpointsSum = badEndpointsCountPairTuple.<FILL IN>\n",
    "\n",
    "badEndpointsTop20 = badEndpointsSum.<FILL IN>\n",
    "print('Top Twenty 404 URLs: %s' % badEndpointsTop20)\n",
    "\n",
    "# TEST Top twenty 404 URLs (4c)\n",
    "assert(badEndpointsTop20 == [(u'/pub/winvn/readme.txt', 633), (u'/pub/winvn/release.txt', 494), (u'/shuttle/missions/STS-69/mission-STS-69.html', 431), (u'/images/nasa-logo.gif', 319), (u'/elv/DELTA/uncons.htm', 178), (u'/shuttle/missions/sts-68/ksc-upclose.gif', 156), (u'/history/apollo/sa-1/sa-1-patch-small.gif', 146), (u'/images/crawlerway-logo.gif', 120), (u'/://spacelink.msfc.nasa.gov', 117), (u'/history/apollo/pad-abort-test-1/pad-abort-test-1-patch-small.gif', 100), (u'/history/apollo/a-001/a-001-patch-small.gif', 97), (u'/images/Nasa-logo.gif', 85), (u'/shuttle/resources/orbiters/atlantis.gif', 64), (u'/history/apollo/images/little-joe.jpg', 62), (u'/images/lf-logo.gif', 59), (u'/shuttle/resources/orbiters/discovery.gif', 56), (u'/shuttle/resources/orbiters/challenger.gif', 54), (u'/robots.txt', 53), (u'/elv/new01.gif>', 43), (u'/history/apollo/pad-abort-test-2/pad-abort-test-2-patch-small.gif', 38)]), 'incorrect badEndpointsTop20'"
   ]
  },
  {
   "cell_type": "markdown",
   "metadata": {},
   "source": [
    "**(4d) Exercise: Listing the Top Twenty-five 404 Response Code Hosts**\n",
    "\n",
    "Instead of looking at the endpoints that generated 404 errors, let's look at the hosts that encountered 404 errors. Using the RDD containing only log records with a 404 response code that you cached in part (4a), print out a list of the top twenty-five hosts that generate the most 404 errors.\n",
    "\n",
    "\n",
    "** TODO : ** Replace < FILL IN > with appropriate code"
   ]
  },
  {
   "cell_type": "code",
   "execution_count": null,
   "metadata": {},
   "outputs": [],
   "source": [
    "errHostsCountPairTuple = badRecords.<FILL IN>\n",
    "\n",
    "errHostsSum = errHostsCountPairTuple.<FILL IN>\n",
    "\n",
    "errHostsTop25 = errHostsSum.<FILL IN>\n",
    "print('Top 25 hosts that generated errors: %s' % errHostsTop25)\n",
    "\n",
    "# TEST Top twenty-five 404 response code hosts (4d)\n",
    "assert(len(errHostsTop25) == 25), 'length of errHostsTop25 is not 25'\n",
    "assert(len(set(errHostsTop25) - set([(u'maz3.maz.net', 39), (u'piweba3y.prodigy.com', 39), (u'gate.barr.com', 38), (u'm38-370-9.mit.edu', 37), (u'ts8-1.westwood.ts.ucla.edu', 37), (u'nexus.mlckew.edu.au', 37), (u'204.62.245.32', 33), (u'163.206.104.34', 27), (u'spica.sci.isas.ac.jp', 27), (u'www-d4.proxy.aol.com', 26), (u'www-c4.proxy.aol.com', 25), (u'203.13.168.24', 25), (u'203.13.168.17', 25), (u'internet-gw.watson.ibm.com', 24), (u'scooter.pa-x.dec.com', 23), (u'crl5.crl.com', 23), (u'piweba5y.prodigy.com', 23), (u'onramp2-9.onr.com', 22), (u'slip145-189.ut.nl.ibm.net', 22), (u'198.40.25.102.sap2.artic.edu', 21), (u'gn2.getnet.com', 20), (u'msp1-16.nas.mr.net', 20), (u'isou24.vilspa.esa.es', 19), (u'dial055.mbnet.mb.ca', 19), (u'tigger.nashscene.com', 19)])) == 0), 'incorrect errHostsTop25'"
   ]
  },
  {
   "cell_type": "markdown",
   "metadata": {},
   "source": [
    " **(4e) Exercise: Listing 404 Response Codes per Day**\n",
    " \n",
    "Let's explore the 404 records temporally. Break down the 404 requests by day (`cache()` the RDD `errDateSorted`) and get the daily counts sorted by day as a list.\n",
    "*Since the log only covers a single month, you can ignore the month in your checks.*\n",
    "\n",
    "** TODO : ** Replace < FILL IN > with appropriate code"
   ]
  },
  {
   "cell_type": "code",
   "execution_count": null,
   "metadata": {},
   "outputs": [],
   "source": [
    "errDateCountPairTuple = badRecords.<FILL IN>\n",
    "\n",
    "errDateSum = errDateCountPairTuple.<FILL IN>\n",
    "\n",
    "errDateSorted = (errDateSum\n",
    "                 <FILL IN>)\n",
    "\n",
    "errByDate = errDateSorted.<FILL IN>\n",
    "print('404 Errors by day: %s' % errByDate)\n",
    "\n",
    "# TEST 404 response codes per day (4e)\n",
    "assert(errByDate == [(1, 243), (3, 303), (4, 346), (5, 234), (6, 372), (7, 532), (8, 381), (9, 279), (10, 314), (11, 263), (12, 195), (13, 216), (14, 287), (15, 326), (16, 258), (17, 269), (18, 255), (19, 207), (20, 312), (21, 305), (22, 288)]), 'incorrect errByDate'\n",
    "assert(errDateSorted.is_cached), 'incorrect errDateSorted.is_cached'"
   ]
  },
  {
   "cell_type": "markdown",
   "metadata": {},
   "source": [
    " **(4f) Exercise: Visualizing the 404 Response Codes by Day**\n",
    "\n",
    "** TODO : ** Replace < FILL IN > with appropriate code"
   ]
  },
  {
   "cell_type": "code",
   "execution_count": null,
   "metadata": {},
   "outputs": [],
   "source": [
    "daysWithErrors404 = errDateSorted.<FILL IN>\n",
    "errors404ByDay = errDateSorted.<FILL IN>\n",
    "\n",
    "# TEST Visualizing the 404 Response Codes by Day (4f)\n",
    "assert(daysWithErrors404 == [1, 3, 4, 5, 6, 7, 8, 9, 10, 11, 12, 13, 14, 15, 16, 17, 18, 19, 20, 21, 22]), 'incorrect daysWithErrors404'\n",
    "assert(errors404ByDay == [243, 303, 346, 234, 372, 532, 381, 279, 314, 263, 195, 216, 287, 326, 258, 269, 255, 207, 312, 305, 288]), 'incorrect errors404ByDay'\n"
   ]
  },
  {
   "cell_type": "markdown",
   "metadata": {},
   "source": [
    " **(4g) Exercise: Top Five Days for 404 Response Codes **\n",
    " \n",
    "Using the RDD `errDateSorted` you cached in the part (4e), what are the top five days for 404 response codes and the corresponding counts of 404 response codes?\n",
    "\n",
    "\n",
    "** TODO : ** Replace < FILL IN > with appropriate code"
   ]
  },
  {
   "cell_type": "code",
   "execution_count": null,
   "metadata": {},
   "outputs": [],
   "source": [
    "topErrDate = errDateSorted.<FILL IN>\n",
    "print('Top Five dates for 404 requests: %s' % topErrDate)\n",
    "\n",
    "# TEST Five dates for 404 requests (4g)\n",
    "assert(topErrDate == [(7, 532), (8, 381), (6, 372), (4, 346), (15, 326)]), 'incorrect topErrDate'"
   ]
  },
  {
   "cell_type": "markdown",
   "metadata": {},
   "source": [
    " **(4h) Exercise: Hourly 404 Response Codes**\n",
    "\n",
    "Using the RDD `badRecords` you cached in the part (4a) and by hour of the day and in decreasing order, create an RDD containing how many requests had a 404 return code for each hour of the day. Cache the resulting RDD hourRecordsSorted and print that as a list.\n",
    "\n",
    "\n",
    "** TODO : ** Replace < FILL IN > with appropriate code"
   ]
  },
  {
   "cell_type": "code",
   "execution_count": null,
   "metadata": {},
   "outputs": [],
   "source": [
    "hourCountPairTuple = badRecords.<FILL IN>\n",
    "\n",
    "hourRecordsSum = hourCountPairTuple.<FILL IN>\n",
    "\n",
    "hourRecordsSorted = (hourRecordsSum\n",
    "                     <FILL IN>)\n",
    "errHourList = hourRecordsSorted.<FILL IN>\n",
    "print('Top hours for 404 requests: %s' % errHourList)\n",
    "\n",
    "# TEST Hourly 404 response codes (4h)\n",
    "assert(errHourList == [(0, 175), (1, 171), (2, 422), (3, 272), (4, 102), (5, 95), (6, 93), (7, 122), (8, 199), (9, 185), (10, 329), (11, 263), (12, 438), (13, 397), (14, 318), (15, 347), (16, 373), (17, 330), (18, 268), (19, 269), (20, 270), (21, 241), (22, 234), (23, 272)]), 'incorrect errHourList'\n",
    "assert(hourRecordsSorted.is_cached), 'incorrect hourRecordsSorted.is_cached'\n"
   ]
  },
  {
   "cell_type": "markdown",
   "metadata": {},
   "source": [
    "**(4i) Exercise: the 404 Response Codes by Hour**\n",
    "\n",
    "** TODO : ** Replace < FILL IN > with appropriate code"
   ]
  },
  {
   "cell_type": "code",
   "execution_count": null,
   "metadata": {},
   "outputs": [],
   "source": [
    "hoursWithErrors404 = hourRecordsSorted.<FILL IN>\n",
    "errors404ByHours = hourRecordsSorted.<FILL IN>\n",
    "\n",
    "# TEST Visualizing the 404 Response Codes by Hour (4i)\n",
    "assert(hoursWithErrors404 == [0, 1, 2, 3, 4, 5, 6, 7, 8, 9, 10, 11, 12, 13, 14, 15, 16, 17, 18, 19, 20, 21, 22, 23]), 'incorrect hoursWithErrors404'\n",
    "assert(errors404ByHours == [175, 171, 422, 272, 102, 95, 93, 122, 199, 185, 329, 263, 438, 397, 318, 347, 373, 330, 268, 269, 270, 241, 234, 272]), 'incorrect errors404ByHours'"
   ]
  }
 ],
 "metadata": {
  "kernelspec": {
   "display_name": "Python 3",
   "language": "python",
   "name": "python3"
  },
  "language_info": {
   "codemirror_mode": {
    "name": "ipython",
    "version": 3
   },
   "file_extension": ".py",
   "mimetype": "text/x-python",
   "name": "python",
   "nbconvert_exporter": "python",
   "pygments_lexer": "ipython3",
   "version": "3.9.4"
  }
 },
 "nbformat": 4,
 "nbformat_minor": 1
}
