{
 "cells": [
  {
   "cell_type": "markdown",
   "metadata": {},
   "source": [
    "# Numpy and plotting \n",
    "\n",
    "_Data Structures and Algorithms_\n",
    "\n",
    "_Imperial College Business School_\n",
    "\n",
    "\n",
    "---\n",
    "This notebook will cover the following Python topics: _Numpy and Matplotlib_.\n",
    "\n",
    "\n",
    "This tutorial will introduce you to scientific computing in Python using the versatile `numpy` and `matplotlib` modules. You'll also learn how to present data in plots and to apply some basic data analysis tools. Libraries such as these provide many more tools than we're able to cover here - essentially, for most things you can do in specialized languages such as R or MATLAB, you can also find a Python implementation. \n",
    "\n",
    "The workshop consists of the following parts:\n",
    "1. Numpy overview\n",
    "2. Numpy exercises\n",
    "3. Introduction to plotting with matplotlib\n"
   ]
  },
  {
   "cell_type": "markdown",
   "metadata": {},
   "source": [
    "## Submitting your work\n",
    "\n",
    "After you're done with the exercises below, you can submit the assignment to OK _directly from this Notebook_. The submission instructions are in the end of the notebook.\n",
    "\n",
    "First, let's connect to OK. To do so, run the code cell below. It may prompt you to log in. If it does, follow the instructions."
   ]
  },
  {
   "cell_type": "code",
   "execution_count": 46,
   "metadata": {},
   "outputs": [
    {
     "name": "stdout",
     "output_type": "stream",
     "text": [
      "=====================================================================\n",
      "Assignment: Session 7\n",
      "OK, version v1.18.1\n",
      "=====================================================================\n",
      "\n",
      "Successfully logged in as z727629029@gmail.com\n"
     ]
    }
   ],
   "source": [
    "# Don't change this cell; just run it. \n",
    "# The result will give you directions on how to log in to the OK submission system.\n",
    "# Once you're logged in, OK should remember it for the duration of the session.\n",
    "import zipimport\n",
    "import os\n",
    "nb_path = os.path.join('client', 'api', 'notebook')\n",
    "ok_bundle =  zipimport.zipimporter('./ok').load_module('client')\n",
    "ok_nb = zipimport.zipimporter('./ok').load_module(nb_path)\n",
    "ok = ok_nb.Notebook('ses07.ok')\n",
    "_ = ok.auth(inline=True)"
   ]
  },
  {
   "cell_type": "markdown",
   "metadata": {},
   "source": [
    "The below cell provides an alternative way to log in to OK if the above way fails on your computer for some reason. If the login worked, you can skip to the next section."
   ]
  },
  {
   "cell_type": "code",
   "execution_count": 47,
   "metadata": {},
   "outputs": [
    {
     "name": "stdout",
     "output_type": "stream",
     "text": [
      "Requirement already up-to-date: okpy in /Users/lyndon/opt/anaconda3/lib/python3.7/site-packages (1.18.1)\n",
      "Requirement already satisfied, skipping upgrade: urllib3==1.25.7 in /Users/lyndon/opt/anaconda3/lib/python3.7/site-packages (from okpy) (1.25.7)\n",
      "Requirement already satisfied, skipping upgrade: requests==2.22.0 in /Users/lyndon/opt/anaconda3/lib/python3.7/site-packages (from okpy) (2.22.0)\n",
      "Requirement already satisfied, skipping upgrade: attrs==19.3.0 in /Users/lyndon/opt/anaconda3/lib/python3.7/site-packages (from okpy) (19.3.0)\n",
      "Requirement already satisfied, skipping upgrade: display-timedelta==1.1 in /Users/lyndon/opt/anaconda3/lib/python3.7/site-packages (from okpy) (1.1)\n",
      "Requirement already satisfied, skipping upgrade: filelock==3.0.12 in /Users/lyndon/opt/anaconda3/lib/python3.7/site-packages (from okpy) (3.0.12)\n",
      "Requirement already satisfied, skipping upgrade: pytutor==1.0.0 in /Users/lyndon/opt/anaconda3/lib/python3.7/site-packages (from okpy) (1.0.0)\n",
      "Requirement already satisfied, skipping upgrade: chardet==3.0.4 in /Users/lyndon/opt/anaconda3/lib/python3.7/site-packages (from okpy) (3.0.4)\n",
      "Requirement already satisfied, skipping upgrade: pyaes==1.6.1 in /Users/lyndon/opt/anaconda3/lib/python3.7/site-packages (from okpy) (1.6.1)\n",
      "Requirement already satisfied, skipping upgrade: idna==2.8 in /Users/lyndon/opt/anaconda3/lib/python3.7/site-packages (from okpy) (2.8)\n",
      "Requirement already satisfied, skipping upgrade: certifi==2019.11.28 in /Users/lyndon/opt/anaconda3/lib/python3.7/site-packages (from okpy) (2019.11.28)\n",
      "Requirement already satisfied, skipping upgrade: ast-scope==0.3.1 in /Users/lyndon/opt/anaconda3/lib/python3.7/site-packages (from okpy) (0.3.1)\n",
      "Requirement already satisfied, skipping upgrade: coverage==4.4 in /Users/lyndon/opt/anaconda3/lib/python3.7/site-packages (from okpy) (4.4)\n",
      "Requirement already satisfied, skipping upgrade: colorama==0.4.3 in /Users/lyndon/opt/anaconda3/lib/python3.7/site-packages (from okpy) (0.4.3)\n",
      "=====================================================================\n",
      "Assignment: Session 7\n",
      "OK, version v1.18.1\n",
      "=====================================================================\n",
      "\n",
      "Successfully logged in as z727629029@gmail.com\n"
     ]
    }
   ],
   "source": [
    "# If your login works with the above cell, no need to run this\n",
    "# If the above cell does not work, this is a backup way of loading up OK\n",
    "# Don't change this cell; just run it. \n",
    "!pip install -U okpy\n",
    "from client.api.notebook import Notebook\n",
    "ok = Notebook('ses07.ok')\n",
    "_ = ok.auth(inline=True)"
   ]
  },
  {
   "cell_type": "markdown",
   "metadata": {},
   "source": [
    "If the OK problem still persists, try the following steps: \n",
    "1. Go to the command line and navigate to the folder where you have this Notebook.\n",
    "2. Run the command `python ok` and log in the standard way\n",
    "3. Try running the first cell above again."
   ]
  },
  {
   "cell_type": "markdown",
   "metadata": {},
   "source": [
    "# Scientific computing with numpy \n",
    "\n",
    "In analytics and scientific computing, we often deal with large numerical datasets. The Python community has developed a set of powerful and well-maintained libraries that build on and extend the standard functionalities and data structures of Python to make working on such problems faster and more convenient. Today we'll look at the `numpy` library. Later in themodule, we'll learn to use pandas, which is a versatile data analysis library building on numpy's features. These are widely used tools for doing analytics using Python.\n",
    "\n",
    "These are vast topics, so by necessity these tutorials will only provide a brief overview to them. We'll suggest additional readings in the review section.\n",
    "\n",
    "## Why numpy?\n",
    "\n",
    "Consider the following matrix:\n",
    "$$\n",
    "M = \\left[\n",
    " \\begin{matrix}\n",
    "  1 & 2 & 3 \\\\\n",
    "  4 & 5 & 6 \\\\\n",
    "  7 & 8 & 9\n",
    " \\end{matrix}\n",
    "\\right]\n",
    "$$\n",
    "\n",
    "Based on what we've learned, we could implement it in Python as a list of lists:\n",
    "```python\n",
    ">>> m = [[1, 2, 3],\n",
    "...      [4, 5, 6],\n",
    "...      [7, 8, 9]]\n",
    ">>> m\n",
    "[[1, 2, 3], [4, 5, 6], [7, 8, 9]]\n",
    "```\n",
    "\n",
    "Suppose we want to add 2 to every element. Ideally, we would want to do something like `m + 2`. However, if you try you will get this:\n",
    "```python\n",
    ">>> m + 2\n",
    "---------------------------------------------------------------------------\n",
    "TypeError                                 Traceback (most recent call last)\n",
    "<ipython-input-3-d5811c0a075a> in <module>()\n",
    "----> 1 m + 2\n",
    "\n",
    "TypeError: can only concatenate list (not \"int\") to list\n",
    "```\n",
    "\n",
    "You can do it but it becomes more involved, not very readable and not very general either.\n",
    "We could do it using nested loops or a by a list comprehension like the one below:\n",
    "\n",
    "```python\n",
    ">>> for j in range(len(m)):\n",
    "...     for i in range(len(m[j])):\n",
    "...         m[i][j] = m[i][j] + 2\n",
    ">>> m\n",
    "[[3, 4, 5], [6, 7, 8], [9, 10, 11]]\n",
    "```\n",
    "\n",
    "```python\n",
    ">>> [[i + 2 for i in j] for j in m]\n",
    "[[3, 4, 5], [6, 7, 8], [9, 10, 11]]\n",
    "```\n",
    "\n",
    "This is where Numpy comes in. Numpy is a library providing a powerful representation for fast manipulation of multi dimensional arrays. It is particularly useful for scientific computing and other tasks where we constantly deal with numerical data.\n",
    "\n",
    "In brief, numpy allows us to do manipulations in a simpler way than lists, and  due to its efficient implementation, it is also much faster than using lists. \n",
    "\n",
    "So far in the module, we've been learning about looping through lists, implementing searching and sorting algorithms from scratch, calculating the number of basic steps our algorithms take, and generally _doing things the hard way_, avoiding convenient shortcuts. This approach is very useful both for learning the core methods of programming and for developing our problem-solving skills. Now in this tutorial and later with the pandas library, we're starting to learn the tools we'll use in practice to quickly and conveniently solve real problems with data. We will discover and build on the many useful methods that the Python community has developed for dealing with data, and generally start doing things in easier ways. "
   ]
  },
  {
   "cell_type": "markdown",
   "metadata": {},
   "source": [
    "## Numpy overview\n",
    "\n",
    "Let's start by loading the numpy library to make its features available to us. The convention is to import is as follows:"
   ]
  },
  {
   "cell_type": "code",
   "execution_count": 48,
   "metadata": {},
   "outputs": [],
   "source": [
    "import numpy as np"
   ]
  },
  {
   "cell_type": "markdown",
   "metadata": {},
   "source": [
    "We've made numpy available for our use, and given it the name `np`. This means that everytime we want to use a function in numpy we access it as `np.function`.\n",
    "\n",
    "We can create a numpy _array_ as follows:"
   ]
  },
  {
   "cell_type": "code",
   "execution_count": 49,
   "metadata": {},
   "outputs": [
    {
     "name": "stdout",
     "output_type": "stream",
     "text": [
      "<class 'numpy.ndarray'>\n",
      "[1 2 3]\n"
     ]
    }
   ],
   "source": [
    "a = np.array([1, 2, 3])\n",
    "print(type(a))\n",
    "print(a)"
   ]
  },
  {
   "cell_type": "markdown",
   "metadata": {},
   "source": [
    "An array in numpy resembles a Python list in that it's an ordered sequence of elements. We can access elements just like before, however, we cannot have different kinds of data in the same array:"
   ]
  },
  {
   "cell_type": "code",
   "execution_count": 50,
   "metadata": {},
   "outputs": [
    {
     "name": "stdout",
     "output_type": "stream",
     "text": [
      "[1 2 2]\n"
     ]
    },
    {
     "ename": "ValueError",
     "evalue": "invalid literal for int() with base 10: 'Hello'",
     "output_type": "error",
     "traceback": [
      "\u001b[0;31m---------------------------------------------------------------------------\u001b[0m",
      "\u001b[0;31mValueError\u001b[0m                                Traceback (most recent call last)",
      "\u001b[0;32m<ipython-input-50-718b64eb9896>\u001b[0m in \u001b[0;36m<module>\u001b[0;34m\u001b[0m\n\u001b[1;32m      2\u001b[0m \u001b[0ma\u001b[0m\u001b[0;34m[\u001b[0m\u001b[0;36m2\u001b[0m\u001b[0;34m]\u001b[0m \u001b[0;34m=\u001b[0m \u001b[0;36m2\u001b[0m\u001b[0;34m\u001b[0m\u001b[0;34m\u001b[0m\u001b[0m\n\u001b[1;32m      3\u001b[0m \u001b[0mprint\u001b[0m\u001b[0;34m(\u001b[0m\u001b[0ma\u001b[0m\u001b[0;34m)\u001b[0m\u001b[0;34m\u001b[0m\u001b[0;34m\u001b[0m\u001b[0m\n\u001b[0;32m----> 4\u001b[0;31m \u001b[0ma\u001b[0m\u001b[0;34m[\u001b[0m\u001b[0;36m1\u001b[0m\u001b[0;34m]\u001b[0m \u001b[0;34m=\u001b[0m \u001b[0;34m'Hello'\u001b[0m \u001b[0;31m# will give an error\u001b[0m\u001b[0;34m\u001b[0m\u001b[0;34m\u001b[0m\u001b[0m\n\u001b[0m",
      "\u001b[0;31mValueError\u001b[0m: invalid literal for int() with base 10: 'Hello'"
     ]
    }
   ],
   "source": [
    "x = a[1]\n",
    "a[2] = 2\n",
    "print(a)\n",
    "a[1] = 'Hello' # will give an error"
   ]
  },
  {
   "cell_type": "markdown",
   "metadata": {},
   "source": [
    "We could still create an array with strings alone, though:"
   ]
  },
  {
   "cell_type": "code",
   "execution_count": null,
   "metadata": {},
   "outputs": [],
   "source": [
    "string_array = np.array(['a', 'b', 'c'])"
   ]
  },
  {
   "cell_type": "markdown",
   "metadata": {},
   "source": [
    "Numpy's speed comes at the cost of some flexibility here. With Python lists, we could have different data elements within a list, but data in numpy arrays must be of the same type. "
   ]
  },
  {
   "cell_type": "markdown",
   "metadata": {},
   "source": [
    "We sometimes want to move from a list to a numpy array for calculations. We can do it with the syntax `np.array(L)` where L is our list, and similarly go back."
   ]
  },
  {
   "cell_type": "code",
   "execution_count": null,
   "metadata": {},
   "outputs": [],
   "source": [
    "L = [1, 5, 7, 9]\n",
    "s = np.array(L)\n",
    "\n",
    "new_list = list(s)"
   ]
  },
  {
   "cell_type": "markdown",
   "metadata": {},
   "source": [
    "### Let's add a dimension"
   ]
  },
  {
   "cell_type": "markdown",
   "metadata": {},
   "source": [
    "Suppose we want to create a matrix; ie a two-dimensional array. This is similar creating nested lists."
   ]
  },
  {
   "cell_type": "code",
   "execution_count": null,
   "metadata": {},
   "outputs": [],
   "source": [
    "m = np.array([[1, 2, 3],\n",
    "              [4, 5, 6],\n",
    "              [7, 8, 9]])"
   ]
  },
  {
   "cell_type": "code",
   "execution_count": null,
   "metadata": {},
   "outputs": [],
   "source": [
    "m"
   ]
  },
  {
   "cell_type": "markdown",
   "metadata": {},
   "source": [
    "We can check the number of dimensions of an array by its `ndim` attribute:"
   ]
  },
  {
   "cell_type": "code",
   "execution_count": null,
   "metadata": {},
   "outputs": [],
   "source": [
    "print(a.ndim)\n",
    "m.ndim"
   ]
  },
  {
   "cell_type": "code",
   "execution_count": null,
   "metadata": {},
   "outputs": [],
   "source": [
    "The shape attribute gives the size of each dimension as a tuple. A one-dimensional array will have just one element in the tuple, a two-dimensional one will have two."
   ]
  },
  {
   "cell_type": "code",
   "execution_count": null,
   "metadata": {
    "scrolled": true
   },
   "outputs": [],
   "source": [
    "print(a.shape)\n",
    "m.shape"
   ]
  },
  {
   "cell_type": "markdown",
   "metadata": {},
   "source": [
    "Try out the following commands to get a hang of how they work."
   ]
  },
  {
   "cell_type": "code",
   "execution_count": null,
   "metadata": {},
   "outputs": [],
   "source": [
    "b = np.array([[1, 2, 3],\n",
    "              [4, 5, 6],\n",
    "              [7, 8, 9],\n",
    "              [10, 11, 12]])"
   ]
  },
  {
   "cell_type": "code",
   "execution_count": null,
   "metadata": {},
   "outputs": [],
   "source": [
    "b.ndim"
   ]
  },
  {
   "cell_type": "code",
   "execution_count": null,
   "metadata": {},
   "outputs": [],
   "source": [
    "b.shape"
   ]
  },
  {
   "cell_type": "code",
   "execution_count": null,
   "metadata": {},
   "outputs": [],
   "source": [
    "len(b) # size of the first dimension"
   ]
  },
  {
   "cell_type": "markdown",
   "metadata": {},
   "source": [
    "In practice we rarely define arrays by hand. There are several convenient functions to create arrays in numpy. Here's the equivalent of `range` in `numpy`."
   ]
  },
  {
   "cell_type": "code",
   "execution_count": 51,
   "metadata": {},
   "outputs": [
    {
     "data": {
      "text/plain": [
       "array([0, 1, 2, 3, 4, 5, 6, 7, 8, 9])"
      ]
     },
     "execution_count": 51,
     "metadata": {},
     "output_type": "execute_result"
    }
   ],
   "source": [
    "np.arange(10) # creates array with values from 0 to input "
   ]
  },
  {
   "cell_type": "markdown",
   "metadata": {},
   "source": [
    "We can also create an array with equally spaced numbers:"
   ]
  },
  {
   "cell_type": "code",
   "execution_count": 52,
   "metadata": {},
   "outputs": [
    {
     "data": {
      "text/plain": [
       "array([ 2.,  4.,  6.,  8., 10., 12., 14., 16., 18., 20.])"
      ]
     },
     "execution_count": 52,
     "metadata": {},
     "output_type": "execute_result"
    }
   ],
   "source": [
    "np.linspace(2, 20, 10)"
   ]
  },
  {
   "cell_type": "markdown",
   "metadata": {},
   "source": [
    "You've seen some matrices in you maths classes. Here's one called the identity matrix which has ones on the diagonal and zeros otherwise. It is useful for many calculations. Similarly, there are functions for creating arrays filled with zeroes or ones."
   ]
  },
  {
   "cell_type": "code",
   "execution_count": 53,
   "metadata": {},
   "outputs": [
    {
     "data": {
      "text/plain": [
       "array([[1., 0., 0., 0.],\n",
       "       [0., 1., 0., 0.],\n",
       "       [0., 0., 1., 0.],\n",
       "       [0., 0., 0., 1.]])"
      ]
     },
     "execution_count": 53,
     "metadata": {},
     "output_type": "execute_result"
    }
   ],
   "source": [
    "np.eye(4)"
   ]
  },
  {
   "cell_type": "code",
   "execution_count": 54,
   "metadata": {},
   "outputs": [
    {
     "data": {
      "text/plain": [
       "array([[0., 0.],\n",
       "       [0., 0.]])"
      ]
     },
     "execution_count": 54,
     "metadata": {},
     "output_type": "execute_result"
    }
   ],
   "source": [
    "np.zeros((2, 2))"
   ]
  },
  {
   "cell_type": "code",
   "execution_count": 55,
   "metadata": {},
   "outputs": [
    {
     "data": {
      "text/plain": [
       "array([[1., 1., 1., 1.],\n",
       "       [1., 1., 1., 1.],\n",
       "       [1., 1., 1., 1.]])"
      ]
     },
     "execution_count": 55,
     "metadata": {},
     "output_type": "execute_result"
    }
   ],
   "source": [
    "np.ones((3, 4))"
   ]
  },
  {
   "cell_type": "markdown",
   "metadata": {},
   "source": [
    "Numpy has its own of generating random numbers. Here `rand` draws uniform random numbers from $[0,1]$ in the shape of a two times three array."
   ]
  },
  {
   "cell_type": "code",
   "execution_count": 56,
   "metadata": {},
   "outputs": [
    {
     "data": {
      "text/plain": [
       "array([[0.65447027, 0.50161164, 0.92530858],\n",
       "       [0.45556632, 0.19971362, 0.65328164]])"
      ]
     },
     "execution_count": 56,
     "metadata": {},
     "output_type": "execute_result"
    }
   ],
   "source": [
    "np.random.rand(2, 3)"
   ]
  },
  {
   "cell_type": "markdown",
   "metadata": {},
   "source": [
    "### Indexing and slicing"
   ]
  },
  {
   "cell_type": "markdown",
   "metadata": {},
   "source": [
    "Slicing arrays shares the syntax with lists: (`array[begin:end:step]`):"
   ]
  },
  {
   "cell_type": "code",
   "execution_count": 57,
   "metadata": {},
   "outputs": [],
   "source": [
    "a = np.array([1, 2, 3, 4, 5, 6, 7, 8, 9, 10])"
   ]
  },
  {
   "cell_type": "code",
   "execution_count": 58,
   "metadata": {},
   "outputs": [
    {
     "data": {
      "text/plain": [
       "array([1, 2, 3, 4, 5])"
      ]
     },
     "execution_count": 58,
     "metadata": {},
     "output_type": "execute_result"
    }
   ],
   "source": [
    "a[:5] # all elements up to the fifth"
   ]
  },
  {
   "cell_type": "code",
   "execution_count": 59,
   "metadata": {},
   "outputs": [
    {
     "data": {
      "text/plain": [
       "10"
      ]
     },
     "execution_count": 59,
     "metadata": {},
     "output_type": "execute_result"
    }
   ],
   "source": [
    "a[-1] # Last element"
   ]
  },
  {
   "cell_type": "code",
   "execution_count": 60,
   "metadata": {},
   "outputs": [
    {
     "data": {
      "text/plain": [
       "array([ 6,  7,  8,  9, 10])"
      ]
     },
     "execution_count": 60,
     "metadata": {},
     "output_type": "execute_result"
    }
   ],
   "source": [
    "a[5:]"
   ]
  },
  {
   "cell_type": "code",
   "execution_count": 61,
   "metadata": {},
   "outputs": [
    {
     "data": {
      "text/plain": [
       "array([3, 4, 5, 6, 7, 8])"
      ]
     },
     "execution_count": 61,
     "metadata": {},
     "output_type": "execute_result"
    }
   ],
   "source": [
    "a[2:-2]"
   ]
  },
  {
   "cell_type": "code",
   "execution_count": 62,
   "metadata": {},
   "outputs": [
    {
     "data": {
      "text/plain": [
       "array([1, 3, 5, 7, 9])"
      ]
     },
     "execution_count": 62,
     "metadata": {},
     "output_type": "execute_result"
    }
   ],
   "source": [
    "a[::2]"
   ]
  },
  {
   "cell_type": "markdown",
   "metadata": {},
   "source": [
    "You can also have a negative step in which case the element are read from the end:"
   ]
  },
  {
   "cell_type": "code",
   "execution_count": 63,
   "metadata": {},
   "outputs": [
    {
     "data": {
      "text/plain": [
       "array([10,  9,  8,  7,  6,  5,  4,  3,  2,  1])"
      ]
     },
     "execution_count": 63,
     "metadata": {},
     "output_type": "execute_result"
    }
   ],
   "source": [
    "a[::-1]"
   ]
  },
  {
   "cell_type": "markdown",
   "metadata": {},
   "source": [
    "To index a 2-D array we need two coordinates."
   ]
  },
  {
   "cell_type": "code",
   "execution_count": 64,
   "metadata": {},
   "outputs": [
    {
     "name": "stdout",
     "output_type": "stream",
     "text": [
      "[[0.82793532 0.51536847 0.92086364]\n",
      " [0.07076435 0.30266352 0.44613148]\n",
      " [0.74178299 0.39577822 0.62817389]]\n"
     ]
    },
    {
     "data": {
      "text/plain": [
       "0.44613147704138567"
      ]
     },
     "execution_count": 64,
     "metadata": {},
     "output_type": "execute_result"
    }
   ],
   "source": [
    "a=np.random.rand(3, 3)\n",
    "\n",
    "print(a)\n",
    "\n",
    "a[1,2]"
   ]
  },
  {
   "cell_type": "markdown",
   "metadata": {},
   "source": [
    "However, we can also use the lists of lists syntax:"
   ]
  },
  {
   "cell_type": "code",
   "execution_count": 65,
   "metadata": {},
   "outputs": [
    {
     "data": {
      "text/plain": [
       "0.44613147704138567"
      ]
     },
     "execution_count": 65,
     "metadata": {},
     "output_type": "execute_result"
    }
   ],
   "source": [
    "a[1][2]"
   ]
  },
  {
   "cell_type": "markdown",
   "metadata": {},
   "source": [
    "### Operations on numpy arrays\n",
    "\n",
    "We now know how to create arrays in different ways. Let's continue by doing some math on numpy arrays. \n",
    "\n",
    "Compare how the operations work to what we've been doing with lists."
   ]
  },
  {
   "cell_type": "code",
   "execution_count": 66,
   "metadata": {},
   "outputs": [],
   "source": [
    "a = np.array([[1, 2, 3],\n",
    "              [4, 5, 6],\n",
    "              [7, 8, 9]])"
   ]
  },
  {
   "cell_type": "markdown",
   "metadata": {},
   "source": [
    "Most operations in numpy are by default **element-wise**, i.e. they are applied to each element of the array. This is much more convenient than looping through a list."
   ]
  },
  {
   "cell_type": "code",
   "execution_count": 67,
   "metadata": {},
   "outputs": [
    {
     "data": {
      "text/plain": [
       "array([[ 3,  4,  5],\n",
       "       [ 6,  7,  8],\n",
       "       [ 9, 10, 11]])"
      ]
     },
     "execution_count": 67,
     "metadata": {},
     "output_type": "execute_result"
    }
   ],
   "source": [
    "a + 2"
   ]
  },
  {
   "cell_type": "code",
   "execution_count": 68,
   "metadata": {},
   "outputs": [
    {
     "data": {
      "text/plain": [
       "array([[ 3,  6,  9],\n",
       "       [12, 15, 18],\n",
       "       [21, 24, 27]])"
      ]
     },
     "execution_count": 68,
     "metadata": {},
     "output_type": "execute_result"
    }
   ],
   "source": [
    "a * 3"
   ]
  },
  {
   "cell_type": "code",
   "execution_count": 69,
   "metadata": {},
   "outputs": [
    {
     "data": {
      "text/plain": [
       "array([[ 1,  4,  9],\n",
       "       [16, 25, 36],\n",
       "       [49, 64, 81]])"
      ]
     },
     "execution_count": 69,
     "metadata": {},
     "output_type": "execute_result"
    }
   ],
   "source": [
    "a**2"
   ]
  },
  {
   "cell_type": "code",
   "execution_count": 70,
   "metadata": {},
   "outputs": [
    {
     "data": {
      "text/plain": [
       "array([[0.5, 1. , 1.5],\n",
       "       [2. , 2.5, 3. ],\n",
       "       [3.5, 4. , 4.5]])"
      ]
     },
     "execution_count": 70,
     "metadata": {},
     "output_type": "execute_result"
    }
   ],
   "source": [
    "a/2"
   ]
  },
  {
   "cell_type": "code",
   "execution_count": 71,
   "metadata": {},
   "outputs": [
    {
     "data": {
      "text/plain": [
       "array([[ 2,  4,  6],\n",
       "       [ 8, 10, 12],\n",
       "       [14, 16, 18]])"
      ]
     },
     "execution_count": 71,
     "metadata": {},
     "output_type": "execute_result"
    }
   ],
   "source": [
    "a+a # same as 2*a"
   ]
  },
  {
   "cell_type": "code",
   "execution_count": 72,
   "metadata": {},
   "outputs": [
    {
     "data": {
      "text/plain": [
       "array([[ 1,  4,  9],\n",
       "       [16, 25, 36],\n",
       "       [49, 64, 81]])"
      ]
     },
     "execution_count": 72,
     "metadata": {},
     "output_type": "execute_result"
    }
   ],
   "source": [
    "a*a # same as a**2"
   ]
  },
  {
   "cell_type": "markdown",
   "metadata": {},
   "source": [
    "Numpy comes in with some more complex functions built-in:"
   ]
  },
  {
   "cell_type": "code",
   "execution_count": 73,
   "metadata": {},
   "outputs": [
    {
     "data": {
      "text/plain": [
       "array([[ 0.54030231, -0.41614684, -0.9899925 ],\n",
       "       [-0.65364362,  0.28366219,  0.96017029],\n",
       "       [ 0.75390225, -0.14550003, -0.91113026]])"
      ]
     },
     "execution_count": 73,
     "metadata": {},
     "output_type": "execute_result"
    }
   ],
   "source": [
    "np.cos(a) # cosine"
   ]
  },
  {
   "cell_type": "code",
   "execution_count": 74,
   "metadata": {},
   "outputs": [
    {
     "data": {
      "text/plain": [
       "array([[2.71828183e+00, 7.38905610e+00, 2.00855369e+01],\n",
       "       [5.45981500e+01, 1.48413159e+02, 4.03428793e+02],\n",
       "       [1.09663316e+03, 2.98095799e+03, 8.10308393e+03]])"
      ]
     },
     "execution_count": 74,
     "metadata": {},
     "output_type": "execute_result"
    }
   ],
   "source": [
    "np.exp(a) # exponential"
   ]
  },
  {
   "cell_type": "code",
   "execution_count": 75,
   "metadata": {},
   "outputs": [
    {
     "data": {
      "text/plain": [
       "array([2.71828183, 1.        ])"
      ]
     },
     "execution_count": 75,
     "metadata": {},
     "output_type": "execute_result"
    }
   ],
   "source": [
    "np.exp([1, 0]) # list input is possible"
   ]
  },
  {
   "cell_type": "markdown",
   "metadata": {},
   "source": [
    "### Built-in aggregation\n",
    "\n",
    "Once we have data in a numpy array, we can calculate statistics. Much easier than looping through (lists of) lists!"
   ]
  },
  {
   "cell_type": "markdown",
   "metadata": {},
   "source": [
    "Let's start with the sum of elements of an array, either directly or by numpy's `array.sum` function:"
   ]
  },
  {
   "cell_type": "code",
   "execution_count": 76,
   "metadata": {},
   "outputs": [
    {
     "name": "stdout",
     "output_type": "stream",
     "text": [
      "9\n",
      "[ 9 12]\n",
      "[ 3  7 11]\n"
     ]
    }
   ],
   "source": [
    "b = np.array([1, 3, 5])\n",
    "print(sum(b))\n",
    "a = np.array([[1, 2],\n",
    "              [3, 4],\n",
    "              [5, 6]])\n",
    "print(np.sum(a, axis=0)) # can sum along different dimensions using axis option\n",
    "print(np.sum(a, axis=1))"
   ]
  },
  {
   "cell_type": "markdown",
   "metadata": {},
   "source": [
    "Similarly, we can get the maximum and the minimum:"
   ]
  },
  {
   "cell_type": "code",
   "execution_count": 77,
   "metadata": {},
   "outputs": [
    {
     "name": "stdout",
     "output_type": "stream",
     "text": [
      "[5, 1]\n",
      "[5 6]\n",
      "[1 3 5]\n"
     ]
    },
    {
     "data": {
      "text/plain": [
       "array([5, 6])"
      ]
     },
     "execution_count": 77,
     "metadata": {},
     "output_type": "execute_result"
    }
   ],
   "source": [
    "print([max(b) , min(b)])\n",
    "print(np.max(a, axis=0)) # can max/min along different dimensions using axis option\n",
    "print(np.min(a, axis=1))\n",
    "a.max(0) # we can also get max directly from array along axis 0"
   ]
  },
  {
   "cell_type": "markdown",
   "metadata": {},
   "source": [
    "Numpy has a large number of these functions available, some of which are included in the following table. Most of these functions come with \"NaN-safe\" counterpart. A NaN-safe function can deal with missing values (which are called NaN values for \"Not a Number\") bye ignoring them and not returning an error.\n",
    "\n",
    "\n",
    "\n",
    "| Function Name     | NaN-safe Version|Description|\n",
    "|-------------------------------|-------------------|-------|\n",
    "|np.sum\t|np.nansum\t|Compute sum of elements|\n",
    "|np.prod|\tnp.nanprod\t|Compute product of elements|\n",
    "|np.mean|\tnp.nanmean\t|Compute mean of elements|\n",
    "|np.std\t|np.nanstd\t|Compute standard deviation|\n",
    "|np.var|\tnp.nanvar\t|Compute variance|\n",
    "|np.min|\tnp.nanmin\t|Find minimum value|\n",
    "|np.max\t|np.nanmax\t|Find maximum value|\n",
    "|np.argmin|\tnp.nanargmin|\tFind index of minimum value|\n",
    "|np.argmax|\tnp.nanargmax|\tFind index of maximum value|\n",
    "|np.median\t|np.nanmedian|\tCompute median of elements|\n",
    "|np.percentile|\tnp.nanpercentile|\tCompute rank-based statistics of elements|\n",
    "|np.any\t|N/A\t|Evaluate whether any elements are true|\n",
    "|np.all\t|N/A\t|Evaluate whether all elements are true|"
   ]
  },
  {
   "cell_type": "markdown",
   "metadata": {},
   "source": [
    "# Numpy exercises\n",
    "\n"
   ]
  },
  {
   "cell_type": "markdown",
   "metadata": {},
   "source": [
    "Now that we have seen the tools, let's see how we can apply them on financial data. \n",
    "\n",
    "Let's first import some data. We will import the file `stock_prices_2015.csv`. This file contains daily stock price data for Google, Amazon, Apple and Facebook for the year 2015. The format of the table is like this:\n",
    "\n",
    "\n",
    "| GOOG    |         AMZN               |AAPL|FB|\n",
    "|---------------|-----------------|------------------|-------|\n",
    "| 524.812404   | 308.519989        |105.69862| 78.449997|\n",
    "| 513.872306 | 302.190002        |102.72092|77.190002|\n",
    "\n",
    "We'll first read the data into a numpy array. Because we can't have strings in the same array as numbers, we'll get rid of the dates in the file for the purposes of this exercise.\n",
    "\n",
    "> **Advanced**. Normally when reading data like this, we'd do it with the pandas library which allows us to more conveniently keep different kinds of data conveniently together. After loading it to pandas, we could then use the data for numpy operations. We'll upgrade to this approach later on. Today, we'll load the data with numpy."
   ]
  },
  {
   "cell_type": "code",
   "execution_count": 78,
   "metadata": {},
   "outputs": [
    {
     "name": "stdout",
     "output_type": "stream",
     "text": [
      "[524.812404 308.519989 105.69862   78.449997]\n",
      "[524.812404 513.872306 501.962262 501.102268 502.682285 496.172244\n",
      " 492.552239 496.182251 500.872267 501.792271]\n"
     ]
    }
   ],
   "source": [
    "# We'll read the data from the csv file using the numpy method genfromtxt\n",
    "all_stock_prices = np.genfromtxt(\"stock_prices_2015.csv\", delimiter=\",\", skip_header=1)\n",
    "# Remove date column\n",
    "all_stock_prices = all_stock_prices[:, 1:]\n",
    "\n",
    "\n",
    "print(all_stock_prices[0,:]) # first stock prices of the year for the four companies\n",
    "\n",
    "goog = all_stock_prices[:,0] # array with just Google prices\n",
    "print(goog[0:10]) # print ten first prices"
   ]
  },
  {
   "cell_type": "markdown",
   "metadata": {},
   "source": [
    "Now we have a numpy array with the data. The companies are ordered as in the csv file: the first column (index zero) is Google, followed by Amazon, Apple, and Facebook."
   ]
  },
  {
   "cell_type": "markdown",
   "metadata": {},
   "source": [
    "### Question 1: counts\n",
    "\n",
    "Calculate the number of price records we have for each company. Why is the number different from 365? \n",
    "\n",
    "**Hint**: You can use the `array.shape` command from above to get the dimensions of an array."
   ]
  },
  {
   "cell_type": "code",
   "execution_count": 79,
   "metadata": {},
   "outputs": [
    {
     "data": {
      "text/plain": [
       "252"
      ]
     },
     "execution_count": 79,
     "metadata": {},
     "output_type": "execute_result"
    }
   ],
   "source": [
    "# Change the cell so that it computes how many price observations we have for each company\n",
    "\n",
    "# your code here\n",
    "number_of_entries = np.shape(all_stock_prices)[0]\n",
    "\n",
    "# We've put this line in this cell so that it will print\n",
    "# the value you've given to number_of_entries when you\n",
    "# run it. You don't need to change this.\n",
    "number_of_entries"
   ]
  },
  {
   "cell_type": "code",
   "execution_count": 80,
   "metadata": {},
   "outputs": [
    {
     "name": "stdout",
     "output_type": "stream",
     "text": [
      "~~~~~~~~~~~~~~~~~~~~~~~~~~~~~~~~~~~~~~~~~~~~~~~~~~~~~~~~~~~~~~~~~~~~~\n",
      "Running tests\n",
      "\n",
      "---------------------------------------------------------------------\n",
      "Test summary\n",
      "    Passed: 2\n",
      "    Failed: 0\n",
      "[ooooooooook] 100.0% passed\n",
      "\n"
     ]
    }
   ],
   "source": [
    "# Test cell; please do not change!\n",
    "_ = ok.grade('q1')"
   ]
  },
  {
   "cell_type": "markdown",
   "metadata": {},
   "source": [
    "*If you get an error about question q1 missing, make sure the folder in which you are working on this notebook contains all files included in the session zip file, including the /tests folder.*"
   ]
  },
  {
   "cell_type": "markdown",
   "metadata": {},
   "source": [
    "### Question 2: means\n",
    "\n",
    "What was the average stock price of Amazon during the year, rounded to an integer value?"
   ]
  },
  {
   "cell_type": "code",
   "execution_count": 81,
   "metadata": {},
   "outputs": [
    {
     "data": {
      "text/plain": [
       "478.0"
      ]
     },
     "execution_count": 81,
     "metadata": {},
     "output_type": "execute_result"
    }
   ],
   "source": [
    "# Change the cell so that it computes the average price for Amazon\n",
    "\n",
    "# Your code here\n",
    "AMZN = all_stock_prices[:,1]\n",
    "average_for_AMZN = np.rint(np.mean(AMZN))\n",
    "\n",
    "\n",
    "# We've put this line in this cell so that it will print\n",
    "# the value you've given to average_for_AMZN when you\n",
    "# run it.  You don't need to change this.\n",
    "average_for_AMZN"
   ]
  },
  {
   "cell_type": "code",
   "execution_count": 82,
   "metadata": {},
   "outputs": [
    {
     "name": "stdout",
     "output_type": "stream",
     "text": [
      "~~~~~~~~~~~~~~~~~~~~~~~~~~~~~~~~~~~~~~~~~~~~~~~~~~~~~~~~~~~~~~~~~~~~~\n",
      "Running tests\n",
      "\n",
      "---------------------------------------------------------------------\n",
      "Test summary\n",
      "    Passed: 2\n",
      "    Failed: 0\n",
      "[ooooooooook] 100.0% passed\n",
      "\n"
     ]
    }
   ],
   "source": [
    "# Test cell; please do not change!\n",
    "_ = ok.grade('q2')"
   ]
  },
  {
   "cell_type": "markdown",
   "metadata": {},
   "source": [
    "### Question 3: returns\n",
    "\n",
    "When comparing the performance of stock prices, analysts often look at their _returns_ over a period of time. The return is defined as the percentage change, so the return between periods $t-1$ and $t$ for stock price $p$ would be\n",
    "\n",
    "$$\n",
    "x_t = \\frac{p_t - p_{t-1}}{p_{t-1}}.\n",
    "$$\n",
    "\n",
    "For example, suppose that Apple's stock price on 1 August was \\$150, and on 2 August \\$157. The daily return was then\n",
    "\n",
    "$$\n",
    "x = \\frac{157 - 150}{150} \\approx 0.047 = 4.7\\%.\n",
    "$$\n",
    "\n",
    "\n",
    "\n",
    "Let's compute the daily returns for Facebook and save it in a new Numpy array. \n",
    "\n",
    "We are going to use this array in the next question as well."
   ]
  },
  {
   "cell_type": "code",
   "execution_count": 83,
   "metadata": {},
   "outputs": [
    {
     "data": {
      "text/plain": [
       "array([ 0.        , -0.01606112, -0.01347325,  0.        ,  0.02665789,\n",
       "       -0.00562806, -0.01312062, -0.00351934, -0.00222365, -0.02923435])"
      ]
     },
     "execution_count": 83,
     "metadata": {},
     "output_type": "execute_result"
    }
   ],
   "source": [
    "# Change the cell so that it computes a Numpy array containing the daily returns for FB\n",
    "# The first day's return should be zero as there is no previous value.\n",
    "\n",
    "# Initialize an empty array for returns\n",
    "fb_returns= np.zeros(number_of_entries)\n",
    "\n",
    "# Create a loop that calculates the daily returns\n",
    "# Your code here\n",
    "FACE = all_stock_prices[:,3]\n",
    "for i in range(1, number_of_entries):\n",
    "    fb_returns[i] = (FACE[i] - FACE[i-1]) / FACE[i-1]\n",
    "\n",
    "\n",
    "# We've put this line in this cell so that it will print\n",
    "# fb_returns when you run it.  You don't need to change this.\n",
    "fb_returns[0:10]"
   ]
  },
  {
   "cell_type": "code",
   "execution_count": 84,
   "metadata": {},
   "outputs": [
    {
     "name": "stdout",
     "output_type": "stream",
     "text": [
      "~~~~~~~~~~~~~~~~~~~~~~~~~~~~~~~~~~~~~~~~~~~~~~~~~~~~~~~~~~~~~~~~~~~~~\n",
      "Running tests\n",
      "\n",
      "---------------------------------------------------------------------\n",
      "Test summary\n",
      "    Passed: 2\n",
      "    Failed: 0\n",
      "[ooooooooook] 100.0% passed\n",
      "\n"
     ]
    }
   ],
   "source": [
    "# Test cell; please do not change!\n",
    "_ = ok.grade('q3')"
   ]
  },
  {
   "cell_type": "markdown",
   "metadata": {},
   "source": [
    "**Exercise.** (No test for this exercise.) Next calculate the returns for all the four companies. Loop through to create an array of returns corresponding to the stock prices."
   ]
  },
  {
   "cell_type": "code",
   "execution_count": 26,
   "metadata": {},
   "outputs": [
    {
     "data": {
      "text/plain": [
       "array([ 0.        , -0.01606112, -0.01347325])"
      ]
     },
     "execution_count": 26,
     "metadata": {},
     "output_type": "execute_result"
    }
   ],
   "source": [
    "# Change the cell so that it computes a Numpy array containing the daily returns for each company\n",
    "# The first day's return should be zero as there is no previous value.\n",
    "\n",
    "# Initialize an empty array for returns\n",
    "all_returns= np.zeros(all_stock_prices.shape)\n",
    "\n",
    "# Create a nested loop that calculates the daily returns\n",
    "row_num,col_num = np.shape(all_stock_prices)\n",
    "for i in range(row_num):\n",
    "    for j in range(col_num):\n",
    "        if i == 0:\n",
    "            all_returns[i][j] = 0\n",
    "        else:\n",
    "            all_returns[i][j] = (all_stock_prices[i][j] - all_stock_prices[i-1][j]) / all_stock_prices[i-1][j]\n",
    "# We've put this line in this cell so that it will print\n",
    "# some elements of all_returns when you run the code. You don't need to change this.\n",
    "all_returns[0:3, 3]"
   ]
  },
  {
   "cell_type": "markdown",
   "metadata": {},
   "source": [
    "### Question 4\n",
    "Compute the highest daily returns for FB as a decimal number (where e.g. 0.10 indicates 10% return)."
   ]
  },
  {
   "cell_type": "code",
   "execution_count": 27,
   "metadata": {},
   "outputs": [
    {
     "data": {
      "text/plain": [
       "0.050481951807228996"
      ]
     },
     "execution_count": 27,
     "metadata": {},
     "output_type": "execute_result"
    }
   ],
   "source": [
    "# Change the cell so that it computes the highest daily returns for FB\n",
    "\n",
    "\n",
    "# Your code here\n",
    "highest_FB_daily_returns = np.max(fb_returns)\n",
    "\n",
    "# We've put this line in this cell so that it will print\n",
    "# the value you've given to highest_FB_daily_returns when you\n",
    "# run it.  You don't need to change this.\n",
    "highest_FB_daily_returns "
   ]
  },
  {
   "cell_type": "code",
   "execution_count": 28,
   "metadata": {},
   "outputs": [
    {
     "name": "stdout",
     "output_type": "stream",
     "text": [
      "~~~~~~~~~~~~~~~~~~~~~~~~~~~~~~~~~~~~~~~~~~~~~~~~~~~~~~~~~~~~~~~~~~~~~\n",
      "Running tests\n",
      "\n",
      "---------------------------------------------------------------------\n",
      "Test summary\n",
      "    Passed: 2\n",
      "    Failed: 0\n",
      "[ooooooooook] 100.0% passed\n",
      "\n"
     ]
    }
   ],
   "source": [
    "# Test cell; please do not change!\n",
    "_ = ok.grade('q4')"
   ]
  },
  {
   "cell_type": "markdown",
   "metadata": {},
   "source": [
    "### Question 5\n",
    "Lastly, let's calculate the volatility (standard deviation) for FB. Hint: you can use one of the aggregations that Numpy provides. "
   ]
  },
  {
   "cell_type": "code",
   "execution_count": 29,
   "metadata": {},
   "outputs": [
    {
     "data": {
      "text/plain": [
       "0.016141325683453726"
      ]
     },
     "execution_count": 29,
     "metadata": {},
     "output_type": "execute_result"
    }
   ],
   "source": [
    "# Change the cell so that it computes the volatility of FB into fb_vol. Use the fb_returns array we calculated earlier.\n",
    "\n",
    "# Your code here\n",
    "fb_vol = np.std(fb_returns)\n",
    "\n",
    "# We've put this line in this cell so that it will print\n",
    "# the value you've given to fb_vol when you\n",
    "# run it.  You don't need to change this.\n",
    "fb_vol"
   ]
  },
  {
   "cell_type": "code",
   "execution_count": 30,
   "metadata": {},
   "outputs": [
    {
     "name": "stdout",
     "output_type": "stream",
     "text": [
      "~~~~~~~~~~~~~~~~~~~~~~~~~~~~~~~~~~~~~~~~~~~~~~~~~~~~~~~~~~~~~~~~~~~~~\n",
      "Running tests\n",
      "\n",
      "---------------------------------------------------------------------\n",
      "Test summary\n",
      "    Passed: 2\n",
      "    Failed: 0\n",
      "[ooooooooook] 100.0% passed\n",
      "\n"
     ]
    }
   ],
   "source": [
    "# Test cell; please do not change!\n",
    "_ = ok.grade('q5')"
   ]
  },
  {
   "cell_type": "markdown",
   "metadata": {},
   "source": [
    "# Plotting"
   ]
  },
  {
   "cell_type": "markdown",
   "metadata": {},
   "source": [
    "Now let's see how we can plot data.\n",
    "\n",
    "We'll start by importing the most commonly used Python plotting library, `matplotlib`:"
   ]
  },
  {
   "cell_type": "code",
   "execution_count": 31,
   "metadata": {},
   "outputs": [],
   "source": [
    "import matplotlib.pyplot as plt"
   ]
  },
  {
   "cell_type": "markdown",
   "metadata": {},
   "source": [
    "When we are in the Jupyter notebook, we need to use the following command to make sure the Notebook interface is able to display plots. If using matplotlib elsewhere, we don't need this command."
   ]
  },
  {
   "cell_type": "code",
   "execution_count": 32,
   "metadata": {},
   "outputs": [],
   "source": [
    "%matplotlib inline"
   ]
  },
  {
   "cell_type": "markdown",
   "metadata": {},
   "source": [
    "Now let's create a first plot. We've talked about different cases of complexity in class: $O(\\log n)$, $O(n)$, $O(n\\log n)$, $O(n^2)$. Let's plot how quickly these functions grow with the input."
   ]
  },
  {
   "cell_type": "code",
   "execution_count": 33,
   "metadata": {},
   "outputs": [],
   "source": [
    "x = np.linspace(1, 10, 100)\n",
    "x_squared = x**2\n",
    "log_x = np.log(x) # natural logarithm\n",
    "x_log_x = x*np.log(x)"
   ]
  },
  {
   "cell_type": "code",
   "execution_count": 34,
   "metadata": {},
   "outputs": [
    {
     "data": {
      "text/plain": [
       "[<matplotlib.lines.Line2D at 0x7fc9c64bd390>]"
      ]
     },
     "execution_count": 34,
     "metadata": {},
     "output_type": "execute_result"
    },
    {
     "data": {
      "image/png": "[encoded data removed]",
      "text/plain": [
       "<Figure size 432x288 with 1 Axes>"
      ]
     },
     "metadata": {
      "needs_background": "light"
     },
     "output_type": "display_data"
    }
   ],
   "source": [
    "plt.plot(x, x_squared)\n",
    "plt.plot(x, x)\n",
    "plt.plot(x, log_x)\n",
    "plt.plot(x, x_log_x)"
   ]
  },
  {
   "cell_type": "markdown",
   "metadata": {},
   "source": [
    "Let's make it a bit more fancy by adding a legend. One way to do this is to label the plots when creating them."
   ]
  },
  {
   "cell_type": "code",
   "execution_count": 35,
   "metadata": {},
   "outputs": [
    {
     "data": {
      "text/plain": [
       "Text(0, 0.5, 'Operations')"
      ]
     },
     "execution_count": 35,
     "metadata": {},
     "output_type": "execute_result"
    },
    {
     "data": {
      "image/png": "[encoded data removed]",
      "text/plain": [
       "<Figure size 432x288 with 1 Axes>"
      ]
     },
     "metadata": {
      "needs_background": "light"
     },
     "output_type": "display_data"
    }
   ],
   "source": [
    "# Give each curve a variable names and a label which we can refer to later\n",
    "x_squared_plot, = plt.plot(x_squared, label='$x^2$') # The dollar signs make math appear fancy through LaTeX\n",
    "x_log_x_plot, = plt.plot(x_log_x, label='$x\\log x$')\n",
    "x_plot, = plt.plot(x, label='$x$')\n",
    "log_x_plot, = plt.plot(log_x, label='$\\log x$')\n",
    "\n",
    "# Give the plot variables as \"handles\" so matplotlib uses labels as legend entries\n",
    "plt.legend(handles=[x_squared_plot, x_log_x_plot, x_plot, log_x_plot]) \n",
    "\n",
    "# Labels on axis\n",
    "plt.xlabel(\"Size of problem\")\n",
    "plt.ylabel(\"Operations\")"
   ]
  },
  {
   "cell_type": "markdown",
   "metadata": {},
   "source": [
    "Another common type of a plot is a scatterplot. Here we plot some random numbers:"
   ]
  },
  {
   "cell_type": "code",
   "execution_count": 36,
   "metadata": {},
   "outputs": [
    {
     "data": {
      "text/plain": [
       "<matplotlib.collections.PathCollection at 0x7fc9c66c6610>"
      ]
     },
     "execution_count": 36,
     "metadata": {},
     "output_type": "execute_result"
    },
    {
     "data": {
      "image/png": "[encoded data removed]",
      "text/plain": [
       "<Figure size 432x288 with 1 Axes>"
      ]
     },
     "metadata": {
      "needs_background": "light"
     },
     "output_type": "display_data"
    }
   ],
   "source": [
    "x = np.arange(10)\n",
    "y = np.random.rand(10)\n",
    "plt.scatter(x, y) # Scatter plot"
   ]
  },
  {
   "cell_type": "markdown",
   "metadata": {},
   "source": [
    "Now let's plot some of our  stock price data. Below is a plot of Google's price in red. Try changing the colours. \n",
    "Here are some colours we can use through letter notation.\n",
    "\n",
    "b : blue; g : green; r : red; c : cyan; m : magenta; y : yellow; k : black; w : white."
   ]
  },
  {
   "cell_type": "code",
   "execution_count": 37,
   "metadata": {},
   "outputs": [
    {
     "data": {
      "text/plain": [
       "[<matplotlib.lines.Line2D at 0x7fc9c6a26410>]"
      ]
     },
     "execution_count": 37,
     "metadata": {},
     "output_type": "execute_result"
    },
    {
     "data": {
      "image/png": "[encoded data removed]",
      "text/plain": [
       "<Figure size 432x288 with 1 Axes>"
      ]
     },
     "metadata": {
      "needs_background": "light"
     },
     "output_type": "display_data"
    }
   ],
   "source": [
    "plt.plot(all_stock_prices[:,0], 'r') # plot the stock price for GOOG specifying color 'r'"
   ]
  },
  {
   "cell_type": "markdown",
   "metadata": {},
   "source": [
    "Next, let's plot the prices of GOOG and AMZN together, in order to compare them."
   ]
  },
  {
   "cell_type": "code",
   "execution_count": 38,
   "metadata": {},
   "outputs": [
    {
     "data": {
      "text/plain": [
       "[<matplotlib.lines.Line2D at 0x7fc9c6c09890>]"
      ]
     },
     "execution_count": 38,
     "metadata": {},
     "output_type": "execute_result"
    },
    {
     "data": {
      "image/png": "[encoded data removed]",
      "text/plain": [
       "<Figure size 432x288 with 2 Axes>"
      ]
     },
     "metadata": {
      "needs_background": "light"
     },
     "output_type": "display_data"
    },
    {
     "data": {
      "image/png": "[encoded data removed]",
      "text/plain": [
       "<Figure size 432x288 with 1 Axes>"
      ]
     },
     "metadata": {
      "needs_background": "light"
     },
     "output_type": "display_data"
    }
   ],
   "source": [
    "plt.figure(1) # First figure: plot separately as subplots\n",
    "plt.subplot(2, 1, 1) # Notation: (rows, columns, position)\n",
    "plt.plot(all_stock_prices[:,0], '--') # specify dashed line\n",
    "\n",
    "plt.subplot(2, 1, 2) # Notation: (rows, columns, position)\n",
    "plt.plot(all_stock_prices[:,1], 'k--') # specify black dashed line\n",
    "\n",
    "plt.figure(2) # Second figure: plot together\n",
    "plt.plot(all_stock_prices[:,0], '--') # specify dashed line\n",
    "plt.plot(all_stock_prices[:,1], 'k--') # specify black dashed line"
   ]
  },
  {
   "cell_type": "markdown",
   "metadata": {},
   "source": [
    "We can also have them in the same plot. Let's plot the _normalized_ prices for all the companies together."
   ]
  },
  {
   "cell_type": "code",
   "execution_count": 39,
   "metadata": {},
   "outputs": [
    {
     "data": {
      "text/plain": [
       "<matplotlib.legend.Legend at 0x7fc9c6d7e350>"
      ]
     },
     "execution_count": 39,
     "metadata": {},
     "output_type": "execute_result"
    },
    {
     "data": {
      "image/png": "[encoded data removed]",
      "text/plain": [
       "<Figure size 432x288 with 1 Axes>"
      ]
     },
     "metadata": {
      "needs_background": "light"
     },
     "output_type": "display_data"
    }
   ],
   "source": [
    "# If we don't specify colors, the color scheme is default which looks pretty nice\n",
    "plt.plot(all_stock_prices[:,0]/all_stock_prices[0,0])\n",
    "plt.plot(all_stock_prices[:,1]/all_stock_prices[0,1])\n",
    "plt.plot(all_stock_prices[:,2]/all_stock_prices[0,2])\n",
    "plt.plot(all_stock_prices[:,3]/all_stock_prices[0,3])\n",
    "plt.legend(['GOOG', 'AMZN', 'AAPL', 'FB']) # can also specify legend directly"
   ]
  },
  {
   "cell_type": "markdown",
   "metadata": {},
   "source": [
    "Let's look at returns again. How are they distributed?"
   ]
  },
  {
   "cell_type": "code",
   "execution_count": 40,
   "metadata": {},
   "outputs": [
    {
     "data": {
      "text/plain": [
       "<matplotlib.collections.PathCollection at 0x7fc9c6de5950>"
      ]
     },
     "execution_count": 40,
     "metadata": {},
     "output_type": "execute_result"
    },
    {
     "data": {
      "image/png": "[encoded data removed]",
      "text/plain": [
       "<Figure size 432x288 with 1 Axes>"
      ]
     },
     "metadata": {
      "needs_background": "light"
     },
     "output_type": "display_data"
    },
    {
     "data": {
      "image/png": "[encoded data removed]",
      "text/plain": [
       "<Figure size 432x288 with 1 Axes>"
      ]
     },
     "metadata": {
      "needs_background": "light"
     },
     "output_type": "display_data"
    }
   ],
   "source": [
    "# Facebook returns histogram\n",
    "plt.figure(1)\n",
    "GO_hist = plt.hist(all_returns[:,0], 30) # 30 bins\n",
    "AM_hist = plt.hist(all_returns[:,1], 30) # 30 bins\n",
    "AP_hist = plt.hist(all_returns[:,2], 30) # 30 bins\n",
    "FB_hist = plt.hist(all_returns[:,3], 30) # 30 bins\n",
    "\n",
    "plt.figure(2)\n",
    "plt.scatter(all_returns[:,0],all_returns[:,2])"
   ]
  },
  {
   "cell_type": "markdown",
   "metadata": {},
   "source": [
    "**Exercise.** (No test for this exercise). Create the same histogram plot for the other stocks.\n",
    "\n",
    "**Exercise.** (No test for this exercise). Create a scatter plot of Google vs. Apple stock returns."
   ]
  },
  {
   "cell_type": "markdown",
   "metadata": {},
   "source": [
    "\n",
    "## All done!\n",
    "\n",
    "### Important!\n",
    "\n",
    "Run this final cell to submit your work. Alternatively, you can submit from the command line with `python ok --submit` as before."
   ]
  },
  {
   "cell_type": "code",
   "execution_count": 41,
   "metadata": {},
   "outputs": [
    {
     "data": {
      "application/javascript": [
       "IPython.notebook.save_checkpoint();"
      ],
      "text/plain": [
       "<IPython.core.display.Javascript object>"
      ]
     },
     "metadata": {},
     "output_type": "display_data"
    },
    {
     "data": {
      "application/javascript": [
       "IPython.notebook.save_notebook();"
      ],
      "text/plain": [
       "<IPython.core.display.Javascript object>"
      ]
     },
     "metadata": {},
     "output_type": "display_data"
    },
    {
     "name": "stdout",
     "output_type": "stream",
     "text": [
      "Saving notebook... Could not automatically save 'ses07_numpy.ipynb'\n",
      "Make sure your notebook is correctly named and saved before submitting to OK!\n",
      "Making a best attempt to submit latest 'ses07.py', last modified at Sun Oct 11 16:36:04 2020\n",
      "Submit... 100% complete\n",
      "Assignment is due in 3 hours, 1 minute, and 35 seconds\n",
      "Submission successful for user: z727629029@gmail.com\n",
      "URL: https://okpy.org/icbs/busi97284/fa20/ses07/submissions/Q7JQvM\n",
      "\n"
     ]
    }
   ],
   "source": [
    "_ = ok.submit()"
   ]
  },
  {
   "cell_type": "markdown",
   "metadata": {},
   "source": [
    "## Review\n",
    "\n",
    "Numpy is a fast and convenient way of dealing with large quantities of data in Python.\n",
    "\n",
    "Here's an example of its speed compared to standard lists. Let's calculate the squared value of integers up to 10000. The difference in speed is orders of magnitude between the two approaches (milliseconds vs microseconds).\n",
    "\n",
    "```ipython\n",
    "In [1]: %timeit l = [i**2 for i in range(10000)]\n",
    "100 loops, best of 3: 4.43 ms per loop\n",
    "\n",
    "In [2]: import numpy as np\n",
    "In [3]: %timeit l = np.arange(10000)**2\n",
    "100000 loops, best of 3: 14.4 µs per loop\n",
    "\n",
    "```\n",
    "\n",
    "This tutorial has been a quick overview of numpy and matplotlib. Next time we'll continue to pandas which provides more convenient tools to deal with data from different sources. \n",
    "\n",
    "There are many great resources online for learning more about matplotlib and numpy. Here are a few of them:\n",
    "- The SciPy lecture notes, which this tutorial is partly based on: http://www.scipy-lectures.org/\n",
    "- Matplotlib tutorials: https://matplotlib.org/users/tutorials.html - see also the examples gallery on the website\n",
    "- The Python Data Science Handbook https://github.com/jakevdp/PythonDataScienceHandbook\n",
    "- If you're coming from MATLAB, Numpy for MATLAB users: https://docs.scipy.org/doc/numpy-dev/user/numpy-for-matlab-users.html"
   ]
  },
  {
   "cell_type": "markdown",
   "metadata": {},
   "source": [
    "## Example: price simulation\n",
    "\n",
    "When analysing the risk of an investment portfolio, we often want to run simulations on stock prices. \n",
    "\n",
    "Facebook's returns above look like they might be normally distributed. Let's assume they are, and simulate how the stock price might change over the next year if future prices behaved similarly. First, we calculate the mean and the standard deviation of the returns."
   ]
  },
  {
   "cell_type": "code",
   "execution_count": 42,
   "metadata": {},
   "outputs": [
    {
     "data": {
      "text/plain": [
       "(0.0012748301816149464, 0.016141325683453726)"
      ]
     },
     "execution_count": 42,
     "metadata": {},
     "output_type": "execute_result"
    }
   ],
   "source": [
    "fb_mean = fb_returns.mean()\n",
    "fb_std = fb_returns.std()\n",
    "\n",
    "fb_mean, fb_std"
   ]
  },
  {
   "cell_type": "markdown",
   "metadata": {},
   "source": [
    "Next, let's generate random numbers from the normal distribution with these parameters. These are possible random daily returns that could happen if the future returns were similar to past ones."
   ]
  },
  {
   "cell_type": "code",
   "execution_count": 43,
   "metadata": {},
   "outputs": [
    {
     "data": {
      "text/plain": [
       "array([ 0.00646762, -0.00145124, -0.00128849,  0.01757706,  0.01237941,\n",
       "       -0.00628226, -0.00379998,  0.01220644,  0.0298605 ,  0.01664518])"
      ]
     },
     "execution_count": 43,
     "metadata": {},
     "output_type": "execute_result"
    }
   ],
   "source": [
    "# Create 100 year-long (252 day) simulations\n",
    "sampling_period = 252\n",
    "no_draws = 100\n",
    "\n",
    "random_draw = np.random.normal(fb_mean, fb_std, (sampling_period, no_draws)) \n",
    "\n",
    "random_draw[0:10, 1]"
   ]
  },
  {
   "cell_type": "code",
   "execution_count": 44,
   "metadata": {},
   "outputs": [],
   "source": [
    "# Calculate cumulative return of simulation during year\n",
    "c = np.cumprod(random_draw + 1, axis=0)"
   ]
  },
  {
   "cell_type": "code",
   "execution_count": 45,
   "metadata": {},
   "outputs": [
    {
     "data": {
      "image/png": "[encoded data removed]",
      "text/plain": [
       "<Figure size 432x288 with 1 Axes>"
      ]
     },
     "metadata": {
      "needs_background": "light"
     },
     "output_type": "display_data"
    }
   ],
   "source": [
    "plot_range = range(sampling_period) # Get x axis for graph\n",
    "\n",
    "# We can create plots with loops\n",
    "for i in range(c.shape[1]):\n",
    "    plt.plot(plot_range, c[:,i])\n",
    "\n",
    "plt.show()"
   ]
  },
  {
   "cell_type": "markdown",
   "metadata": {},
   "source": [
    "The pattern is upwards as FB went up by a lot during the year. Historical data is not a predictor of future performance, but it may be valuable in assessing the risk of investments. This simulation is naive not only in assuming normally distributed returns but also in that it doesn't take into account factors like autocorrelation (today's return might be related to yesterday's one). Now we simply assume independently distributed returns every day. A more sophisticated time-series analysis would be required for better calibration of the simulation model. Nonetheless, this example shows that using numpy's built-in capabilities, we can start doing useful analysis fairly quickly."
   ]
  },
  {
   "cell_type": "code",
   "execution_count": null,
   "metadata": {},
   "outputs": [],
   "source": []
  },
  {
   "cell_type": "code",
   "execution_count": null,
   "metadata": {},
   "outputs": [],
   "source": []
  },
  {
   "cell_type": "code",
   "execution_count": null,
   "metadata": {},
   "outputs": [],
   "source": []
  },
  {
   "cell_type": "code",
   "execution_count": null,
   "metadata": {},
   "outputs": [],
   "source": []
  },
  {
   "cell_type": "code",
   "execution_count": null,
   "metadata": {},
   "outputs": [],
   "source": []
  }
 ],
 "metadata": {
  "anaconda-cloud": {},
  "jupytext": {},
  "kernelspec": {
   "display_name": "Python 3",
   "language": "python",
   "name": "python3"
  },
  "language_info": {
   "codemirror_mode": {
    "name": "ipython",
    "version": 3
   },
   "file_extension": ".py",
   "mimetype": "text/x-python",
   "name": "python",
   "nbconvert_exporter": "python",
   "pygments_lexer": "ipython3",
   "version": "3.7.6"
  }
 },
 "nbformat": 4,
 "nbformat_minor": 4
}
