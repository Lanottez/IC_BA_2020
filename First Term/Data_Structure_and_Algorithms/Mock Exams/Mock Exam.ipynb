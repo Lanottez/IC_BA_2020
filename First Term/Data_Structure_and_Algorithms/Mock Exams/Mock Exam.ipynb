{
 "cells": [
  {
   "cell_type": "markdown",
   "metadata": {},
   "source": [
    "# Mock Exam\n",
    "\n",
    "_Data Structures and Algorithms_\n",
    "\n",
    "_Imperial College Business School_\n",
    "\n",
    "\n",
    "---\n",
    "\n",
    "There are 10 questions, worth up to 10 points each.\n",
    "* In the exam, you'll complete all exercises in a similar Jupyter Notebook, and submit no other material.\n",
    "* You will have two hours to complete the exam.\n",
    "* You may add new test cells into the notebook, but please don't add anything to the cells where you complete the functions for each question. **These cells should only contain the solution itself**.\n",
    "* The examples in the functions are not comprehensive. If your code works for the test cases, it is not a guarantee that it will work for all possible cases.\n",
    "* Unless otherwise specified, your functions do not need to work for bad inputs. You can assume that arguments are of the correct type.\n",
    "* Unless otherwise specified, please do not import any libraries to solve any of the problems.\n",
    "* The exam will not be machine graded and you may get partial credit for effort."
   ]
  },
  {
   "cell_type": "markdown",
   "metadata": {},
   "source": [
    "## Question 1\n",
    "\n",
    "### 10 points\n",
    "\n",
    "\n",
    "**A: (5 points)** Complete the function below according to the docstring."
   ]
  },
  {
   "cell_type": "code",
   "execution_count": null,
   "metadata": {
    "collapsed": true,
    "jupyter": {
     "outputs_hidden": true
    }
   },
   "outputs": [],
   "source": [
    "def happy_birthday(name):\n",
    "    \"\"\"\n",
    "    Prints out a happy birthday message, as per the examples below.\n",
    "    \n",
    "    Parameter:\n",
    "        name, a string\n",
    "    \n",
    "    Example use:\n",
    "    >>> happy_birthday('Marc')\n",
    "    Happy Birthday Marc!\n",
    "    >>> happy_birthday('Adam')\n",
    "    Happy Birthday Adam!\n",
    "    >>> happy_birthday('Liz')\n",
    "    Happy Birthday Liz!\n",
    "    \"\"\"\n",
    "    # Your code here"
   ]
  },
  {
   "cell_type": "code",
   "execution_count": null,
   "metadata": {
    "collapsed": true,
    "jupyter": {
     "outputs_hidden": true
    }
   },
   "outputs": [],
   "source": [
    "# Test happy_birthday in this cell"
   ]
  },
  {
   "cell_type": "markdown",
   "metadata": {},
   "source": [
    "\n",
    "**B: (5 points)** Complete the function below according to the docstring."
   ]
  },
  {
   "cell_type": "code",
   "execution_count": null,
   "metadata": {
    "collapsed": true,
    "jupyter": {
     "outputs_hidden": true
    }
   },
   "outputs": [],
   "source": [
    "def make_html(text, tag):\n",
    "    \"\"\"\n",
    "    Converts the first argument text into HTML by wrapping it inside the tag specified by the second argument. \n",
    "    \n",
    "    A HTML tag is of the form <tag> before the text and </tag> after it.\n",
    "    \n",
    "    Parameters:\n",
    "        text (string)\n",
    "        tag (string)\n",
    "        \n",
    "    Returns: \n",
    "        string with html tag around the the text, as per the examples\n",
    "    \n",
    "    Examples:\n",
    "    >>> make_html('This is important', 'i')\n",
    "    '<i>This is important</i>'\n",
    "    >>> make_html('print(5)', 'code')\n",
    "    '<code>print(5)</code>'\n",
    "    \"\"\"\n",
    "    # Your code here"
   ]
  },
  {
   "cell_type": "code",
   "execution_count": null,
   "metadata": {
    "collapsed": true,
    "jupyter": {
     "outputs_hidden": true
    }
   },
   "outputs": [],
   "source": [
    "# Test make_html in this cell"
   ]
  },
  {
   "cell_type": "markdown",
   "metadata": {},
   "source": [
    "## Question 2\n",
    "\n",
    "### 10 points\n",
    "\n",
    "Complete the function below according to the docstring."
   ]
  },
  {
   "cell_type": "code",
   "execution_count": null,
   "metadata": {
    "collapsed": true,
    "jupyter": {
     "outputs_hidden": true
    }
   },
   "outputs": [],
   "source": [
    "def filter_evens(number_list):\n",
    "    \"\"\"\n",
    "    Creates a new list with only odd numbers of the input list, in the same order.\n",
    "    \n",
    "    Parameters:\n",
    "        number_list: a list of integers\n",
    "    Returns: \n",
    "        a new list containing the odd integers in the input list, in the same order\n",
    "    \n",
    "    Example:\n",
    "    >>> filter_evens([4, 3, 1, 99, 100, 2, 1])\n",
    "    [3, 1, 99, 1]\n",
    "    \"\"\"\n",
    "    # Your code here"
   ]
  },
  {
   "cell_type": "code",
   "execution_count": null,
   "metadata": {
    "collapsed": true,
    "jupyter": {
     "outputs_hidden": true
    }
   },
   "outputs": [],
   "source": [
    "# Test filter_evens in this cell"
   ]
  },
  {
   "cell_type": "markdown",
   "metadata": {},
   "source": [
    "## Question 3\n",
    "\n",
    "### 10 points\n",
    "\n",
    "**A: (5 points)** Complete the function below according to the docstring. You may use any built-in functions."
   ]
  },
  {
   "cell_type": "code",
   "execution_count": null,
   "metadata": {
    "collapsed": true,
    "jupyter": {
     "outputs_hidden": true
    }
   },
   "outputs": [],
   "source": [
    "def best_monster(monster_list):\n",
    "    \"\"\"\n",
    "    Returns the monster with the highest monster score.\n",
    "    \n",
    "    Parameters:\n",
    "        monster_list: list of monsters, with entries as [name(string), score(integer)] lists. \n",
    "    \n",
    "    Returns: \n",
    "        the name of the monster with the highest score.\n",
    "    \n",
    "    You can assume that no two monsters have the same score.\n",
    "    \n",
    "    Example usage:\n",
    "    >>> monsters = [['Pika', 23], ['Eevil', 56], ['Meow', 43]]\n",
    "    >>> best_monster(monsters)\n",
    "    'Eevil'\n",
    "    \"\"\"\n",
    "    # Your code here"
   ]
  },
  {
   "cell_type": "code",
   "execution_count": null,
   "metadata": {
    "collapsed": true,
    "jupyter": {
     "outputs_hidden": true
    }
   },
   "outputs": [],
   "source": [
    "# Test best_monster in this cell"
   ]
  },
  {
   "cell_type": "markdown",
   "metadata": {},
   "source": [
    "**B: (5 points)** Complete the function below according to the docstring. You may use any built-in functions."
   ]
  },
  {
   "cell_type": "code",
   "execution_count": null,
   "metadata": {
    "collapsed": true,
    "jupyter": {
     "outputs_hidden": true
    }
   },
   "outputs": [],
   "source": [
    "def worst_monster(monster_dict):\n",
    "    \"\"\"\n",
    "    Returns the monster with the lowest monster score.\n",
    "    \n",
    "    Parameters:\n",
    "        monster_dict: dictionary of monsters in name(string):score(integer) pairs. \n",
    "    \n",
    "    Returns: \n",
    "        the name of the monster with the lowest score.\n",
    "    \n",
    "    You can assume that no two monsters have the same score.\n",
    "    \n",
    "    Example usage:\n",
    "    >>> monsters = {'Pika':23, 'Eevil':56, 'Meow':43}\n",
    "    >>> worst_monster(monsters)\n",
    "    'Pika'\n",
    "    \"\"\"\n",
    "    # Your code here"
   ]
  },
  {
   "cell_type": "code",
   "execution_count": null,
   "metadata": {},
   "outputs": [],
   "source": [
    "# Test best_monster in this cell"
   ]
  },
  {
   "cell_type": "markdown",
   "metadata": {},
   "source": [
    "## Question 4\n",
    "\n",
    "### 10 points\n",
    "\n",
    "\n",
    "**A (5 points)**: In the cell below, explain clearly and concisely: what are functions in Python? What are the benefits of using them in our code?\n",
    "\n",
    "**B (5 points)**: What is the difference between using `print` and `return` inside a function? Write code examples to illustrate the difference in the second cell below. Comment your code so as to explain the difference clearly to someone who is just learning Python.\n",
    "\n",
    "You can edit a text cell by double clicking. When you're finished, hit `CTRL+ENTER`."
   ]
  },
  {
   "cell_type": "markdown",
   "metadata": {},
   "source": [
    "_A: Replace this text with your answer to question 4A._"
   ]
  },
  {
   "cell_type": "code",
   "execution_count": null,
   "metadata": {
    "collapsed": true,
    "jupyter": {
     "outputs_hidden": true
    }
   },
   "outputs": [],
   "source": [
    "# Your answer to question 4B here"
   ]
  },
  {
   "cell_type": "markdown",
   "metadata": {},
   "source": [
    "## Question 5\n",
    "\n",
    "### 10 points\n",
    "\n",
    "Complete the class `RationalNumber` which represents rational numbers in Python.\n",
    "\n",
    "A rational number consists of a numerator and a denominator. For example, for $1/2$, the numerator is $1$ and the denominator is $2$.\n",
    "\n",
    "For now, the class has an `__init__` function as well as well as functions to display the rationals as fractions. The class constructor takes as arguments the numerator and the denominator of the rational number. It works like this:\n",
    "```python\n",
    ">>> a = RationalNumber(1, 2)\n",
    ">>> print(a)\n",
    "1/2\n",
    "```\n",
    "We would like to be able to perform basic calculations with rational numbers: addition, subtraction, multiplication and division. Your task is to implement these for the RationalNumber class. For example, we would like to be able to do the following:\n",
    "```python\n",
    ">>> a = RationalNumber(1, 2)\n",
    ">>> b = RationalNumber(1, 3)\n",
    ">>> a + b\n",
    "5/6\n",
    "```\n",
    "This is the result of the calculation $1/2 + 1/3 = 3/6 + 2/6 = 5/6$.\n",
    "\n",
    "How do we work with the `+` operator? To do so, we can add the \"magic\" method `__add__` to the class. This is how it works for standard numbers:\n",
    "```python\n",
    ">>> 2.0.__add__(3)\n",
    "5.0\n",
    "```\n",
    "For the RationalNumber class, we must add this method to specify how addition works for these objects.\n",
    "```python\n",
    "def __add__(self, other):\n",
    "    \"\"\" \n",
    "    Adds another rational number to the RationalNumber object\n",
    "    \n",
    "    Parameters:\n",
    "        self: the current rationalNumber object\n",
    "        other: another RationalNumber object\n",
    "    \n",
    "    Returns:\n",
    "        a new RationalNumber object that is the sum of the two rational numbers\n",
    "    \"\"\"\n",
    "    # Your code here\n",
    "```\n",
    "\n",
    "**A (7 points):** Implement the functions below\n",
    "- `__add__` to add a rational number to the current one (called with `+` operator)\n",
    "- `__sub__` to subtract a rational number from the current one (called with `-` operator)\n",
    "- `__mul__` to multiply the current rational number with another one (called with `*` operator)\n",
    "- `__truediv__` to divide the current rational number with another one (called with `/` operator) \n",
    "\n",
    "**Note!** For this part of the exercise, it is not necessary to reduce the fractions. For example, this solution is correct:\n",
    "```python\n",
    ">>> a = RationalNumber(1, 4)\n",
    ">>> b = RationalNumber(1, 4)\n",
    ">>> print(a + b)\n",
    "2/4\n",
    "```\n",
    "So is this:\n",
    "```python\n",
    ">>> a = RationalNumber(1, 4)\n",
    ">>> b = RationalNumber(1, 4)\n",
    ">>> print(a + b)\n",
    "8/16\n",
    "```\n",
    "\n",
    "\n",
    "Here, we could divide both the numerator and the denominator by two or eight to get $1/2$, which would be the simplest representation. We will return to reducing the result fractions in part **B**.\n",
    "\n",
    "You should design the class so as to be able to do multiple operations: \n",
    "```python\n",
    ">>> RationalNumber(1, 2) + RationalNumber(1, 2) + RationalNumber(1, 2) # your result could be different but should reduce to 3/2\n",
    "12/8\n",
    "```"
   ]
  },
  {
   "cell_type": "code",
   "execution_count": null,
   "metadata": {
    "collapsed": true,
    "jupyter": {
     "outputs_hidden": true
    }
   },
   "outputs": [],
   "source": [
    "class RationalNumber(object):\n",
    "    \"\"\"\n",
    "    Positive rational numbers with support for arithmetic operations.\n",
    "\n",
    "    Example usage:\n",
    "    >>> a = RationalNumber(1, 2)\n",
    "    >>> print(a)\n",
    "    1/2\n",
    "    >>> b = RationalNumber(1, 3)\n",
    "    >>> a + b\n",
    "    5/6\n",
    "    >>> a - b\n",
    "    1/6\n",
    "    >>> a * b\n",
    "    1/6\n",
    "    >>> a / b\n",
    "    3/2\n",
    "    >>> RationalNumber(1, 2) + RationalNumber(1, 2) + RationalNumber(1, 2) # note your solution could be different\n",
    "    12/8\n",
    "    \"\"\"\n",
    "    \n",
    "    def __init__(self, numerator, denominator=1):\n",
    "        \"\"\"\n",
    "        Initialise a rational number with numerator and denominator.\n",
    "        \"\"\"\n",
    "        self.n = numerator\n",
    "        self.d = denominator\n",
    "\n",
    "        \n",
    "    def __add__(self, other):\n",
    "        # Your code here\n",
    "        pass\n",
    "\n",
    "    \n",
    "    def __sub__(self, other):\n",
    "        # Your code here\n",
    "        pass\n",
    "\n",
    "    \n",
    "    def __mul__(self, other):\n",
    "        # Your code here\n",
    "        pass\n",
    "    \n",
    "    \n",
    "    def __truediv__(self, other):\n",
    "        # Your code here\n",
    "        pass\n",
    "\n",
    "    \n",
    "    def __str__(self):\n",
    "        return f\"{self.n}/{self.d}\"\n",
    "\n",
    "    \n",
    "    __repr__ = __str__\n",
    "\n",
    "    \n",
    "def gcd(x, y):\n",
    "    # note that this is outside the class\n",
    "    # Your code here\n",
    "    pass\n"
   ]
  },
  {
   "cell_type": "code",
   "execution_count": null,
   "metadata": {},
   "outputs": [],
   "source": [
    "# Test the class RationalNumber in this cell"
   ]
  },
  {
   "cell_type": "markdown",
   "metadata": {},
   "source": [
    "**(B): 3 points** As noted above, our previous solution is not perfect: it does not reduce the fractions. For example, your solution could return\n",
    "\n",
    "```python\n",
    ">>> a = RationalNumber(1, 4)\n",
    ">>> b = RationalNumber(1, 4)\n",
    ">>> print(a + b)\n",
    "2/4\n",
    "```\n",
    "or\n",
    "```python\n",
    ">>> a = RationalNumber(1, 4)\n",
    ">>> b = RationalNumber(1, 4)\n",
    ">>> print(a + b)\n",
    "8/16\n",
    "```\n",
    "\n",
    "To reduce the fractions, we need to find the greatest common divisor (gcd) of the numerator and the denominator, that is, the largest integer that divides both numbers. For example, if we consider 2 and 4, the largest integer dividing them both is 2. If we have the fraction $2/4$, we can therefore reduce it by 2 to get $1/2$.\n",
    "\n",
    "One way to find a gcd in general is using Euclid's algorithm. It works as follows. Suppose we're looking for the greatest common divisor of 64 and 20. Suppose a number $x$ divides both $a = 64$ and $b = 20$ so that $a/x = n_1$ and $b/x = n_2$ where $n_1$ and $n_2$ are integers. Then $x$ must also divide the difference $a - b$, because $(a - b)/x = n_1 - n_2$, which will also be an integer. \n",
    "\n",
    "So, the gcd that we are looking for must also divide $64 - 20 = 44$. We can therefore look for the gcd of 44 and 20. Now the gcd must also divide the difference of 44 and 20, which is 24, so we look for the gcd of 24 and 20. Again, the gcd must also divide the difference, so we find the gcd of 20 and 4. We repeat the procedure until we end up looking for the gcd of 4 and 4, which must be 4. Therefore, the greatest common divisor of 64 and 20 is 4. \n",
    "\n",
    "The formal algorithm (assuming $a > 0, b > 0$) is given below.\n",
    "\n",
    "Algorithm **gcd**:\n",
    "- $gcd(a, a) = a$.\n",
    "- $gcd(a, b) = gcd(b, a - b)$, if $a > b$\n",
    "- $gcd(a, b) = gcd(a, b - a)$, if $a < b$\n",
    "\n",
    "Your task is add a function `gcd` to the cell above and implement the algorithm. Then, you will use it inside the other functions to reduce the results of the calculations correctly, so that:\n",
    "\n",
    "```python\n",
    ">>> a = RationalNumber(1, 4)\n",
    ">>> b = RationalNumber(1, 4)\n",
    ">>> print(a + b)\n",
    "1/2\n",
    "```\n"
   ]
  },
  {
   "cell_type": "markdown",
   "metadata": {},
   "source": [
    "## Question 6\n",
    "### 10 points\n",
    "\n",
    "Write your answers into the code cell below.\n",
    "\n",
    "**A: (2.5 points)** How would you rate the following functions in increasing order of asymptotic complexity?\n",
    "\n",
    "$$\n",
    "T_1(n) = 90\\log n\\\\\n",
    "T_2(n) = 2010n^{2} \\\\\n",
    "T_3(n) = 3^n/2982 \\\\\n",
    "T_4(n) = 5n \\log n^2\n",
    "$$\n",
    "\n",
    "a.$T_1$, $T_4$, $T_3$, $T_2$ \n",
    "\n",
    "b. $T_4$, $T_1$, $T_2$, $T_3$\n",
    "\n",
    "c. $T_1$, $T_2$, $T_3$, $T_4$\n",
    "\n",
    "d. $T_2$, $T_1$, $T_4$, $T_3$\n",
    "\n",
    "e. None of the above\n",
    "\n",
    "**B: (2.5 points)** What is the worst-case running time of the following program?\n",
    "\n",
    "```python\n",
    "def a_fun_function(n):\n",
    "    \"\"\" Parameter: n is a nonnegative integer \"\"\"\n",
    "    y = 0\n",
    "    for i in range(n):\n",
    "        for j in range(n):\n",
    "            y += 1\n",
    "    return y\n",
    "```\n",
    "\n",
    "\n",
    "**C: (2.5 points)** What is the worst-case running time of the following program?\n",
    "\n",
    "```python\n",
    "def another_fun_function(n):\n",
    "    \"\"\" Parameter: n is a nonnegative integer \"\"\"\n",
    "    y = 0\n",
    "    for i in range(n):\n",
    "        for j in range(100):\n",
    "            y += 1\n",
    "    return y\n",
    "```\n",
    "\n",
    "\n",
    "**D: (2.5 points)** What is the worst-case running time of the following program?\n",
    "\n",
    "```python\n",
    "def yet_another_fun_function(n):\n",
    "    \"\"\" Parameter: n is a nonnegative integer \"\"\"\n",
    "    y = 0\n",
    "    i = n\n",
    "    while i > 0:\n",
    "        for j in range(100):\n",
    "            y += 1\n",
    "        i = i // 2\n",
    "    return y\n",
    "```\n",
    "\n",
    "You may express running times for example as:\n",
    "$O(1)$,\n",
    "$O(\\log n)$,\n",
    "$O(n)$,\n",
    "$O(n\\log n)$,\n",
    "$O(n^2)$,\n",
    "$O(n^3)$,\n",
    "$O(2^n)$."
   ]
  },
  {
   "cell_type": "markdown",
   "metadata": {},
   "source": [
    "_A: Replace this text by your answer to question A._\n",
    "\n",
    "_B: Replace this text by your answer to question B._\n",
    "\n",
    "_C: Replace this text by your answer to question C._\n",
    "\n",
    "_D: Replace this text by your answer to question D._"
   ]
  },
  {
   "cell_type": "markdown",
   "metadata": {},
   "source": [
    "## Question 7\n",
    "\n",
    "### 10 points\n",
    "\n",
    "The dictionary `adj_list` represents the adjacency list of an undirected, unweighted graph. Each key is a node, and each value is the set of nodes that the key node has direct edges to.\n",
    "```python\n",
    "adj_list = {\n",
    "        'A':{'B', 'C', 'F', 'G'},\n",
    "        'B':{'A'},\n",
    "        'C':{'A', 'G'},\n",
    "        'D':{'E', 'F'},\n",
    "        'E':{'D', 'G'},\n",
    "        'F':{'A', 'D'},\n",
    "        'G':{'A', 'C', 'E'}\n",
    "        }\n",
    "```\n",
    "\n",
    "**A (4 points)**: Suppose that breadth-first search goes through adjacent nodes to visit in alphabetical order. Give the sequence in which it would visit the graph's nodes, starting from node `B` and working through the entire graph. Your answer should include all the nodes, starting with `B`. It should be of the form `BACDEFG`.\n",
    "\n",
    "**B (1 points)**: What is the shortest distance from B to D?\n",
    "\n",
    "**Hint**: draw the graph on a piece of paper and work through breadth-first search on it.\n",
    "\n",
    "The dictionary `adj_list_weight` represents the adjacency list of an undirected, weighted graph. Each key is a node, and each value is a dictionary containing edges and their weights.\n",
    "```python\n",
    "adj_list_weight = {\n",
    "    'A': {'C': 8, 'F': 1, 'G': 5}, \n",
    "    'B': {'D': 5, 'G': 1}, \n",
    "    'C': {'A': 8, 'F': 9, 'G': 5, 'H': 1}, \n",
    "    'D': {'B': 5, 'E': 9, 'F': 1}, \n",
    "    'E': {'D': 9, 'F': 9}, \n",
    "    'F': {'A': 1, 'C': 9, 'D': 1, 'E': 9, 'G': 6, 'H': 9}, \n",
    "    'G': {'A': 5, 'B': 1, 'C': 5, 'F': 6}, \n",
    "    'H': {'C': 1, 'F': 9}\n",
    "}\n",
    "```\n",
    "\n",
    "**C (4 points)**: We want to find shortest paths starting from node `A`. Suppose that Dijkstra's algorithm resolves ties in alphabetical order. Give the sequence in which it would find the (final) shortest distances to the graph's nodes. Your answer should be of the form `ABCDEFGH`.\n",
    "\n",
    "**Hint**: draw the graph on a piece of paper and work through Dijkstra's algorithm on it.\n",
    "\n",
    "**D (1 point)**: What is the shortest distance from `A` to`E`?\n"
   ]
  },
  {
   "cell_type": "code",
   "execution_count": null,
   "metadata": {
    "collapsed": true,
    "jupyter": {
     "outputs_hidden": true
    }
   },
   "outputs": [],
   "source": [
    "# Add your answers in this cell by replacing the values\n",
    "q7_a_answer = 'replace_with_string_of_upper_case_letters' # replace with your answer\n",
    "q7_b_answer = 0\n",
    "\n",
    "q7_c_answer = 'replace_with_string_of_upper_case_letters' # replace with your answer\n",
    "q7_d_answer = 0"
   ]
  },
  {
   "cell_type": "markdown",
   "metadata": {},
   "source": [
    "_You may add comments here to explain how you got the result, for partial credit. Double click to edit._"
   ]
  },
  {
   "cell_type": "markdown",
   "metadata": {},
   "source": [
    "## Question 8\n",
    "\n",
    "### 10 points"
   ]
  },
  {
   "cell_type": "markdown",
   "metadata": {},
   "source": [
    "**A: (8 points):** In this question, you will implement a sorting algorithm. We will call the algorithm \"wave sort\". The algorithm works in waves, where each wave moves the largest unsorted element to the back of the list. The wave achieves this by doing pairwise comparisons of adjacent elements and moving the larger one towards the back.\n",
    "\n",
    "For example, suppose we have a list `L = [12, 10, 1, 5, 3, 9, 15]`. A wave works like this:\n",
    "\n",
    "- `L = [12, 10, 1, 5, 3, 9, 15]`\n",
    "- Compare the first two elements. If the first one is larger, swap their places. Here we swap 12 and 10.\n",
    "- `L = [10, 12, 1, 5, 3, 9, 15]`\n",
    "- Compare the second and third elements, and swap if the second one is larger. Swap 12 and 1.\n",
    "- `L = [10, 1, 12, 5, 3, 9, 15]`\n",
    "- Repeat until reach the end of the list. Swap 12 and 5.\n",
    "- `L = [10, 1, 5, 12, 3, 9, 15]`\n",
    "- Swap 12 and 3.\n",
    "- `L = [10, 1, 5, 3, 12, 9, 15]`\n",
    "- Swap 12 and 9.\n",
    "- `L = [10, 1, 5, 3, 9, 12, 15]`\n",
    "- Finally, we don't swap 12 and 15.\n",
    "- `L = [10, 1, 5, 3, 9, 12, 15]`\n",
    "\n",
    "The largest two elements at the back of the list are now sorted. \n",
    "\n",
    "In other words, a wave going through $m$ elements works like this:\n",
    "- Start from the first element and compare it to the next one. If the first one is larger, swap their places.\n",
    "- Repeat these steps for the element now in the second place. Repeat again, altogether $m - 1$ times. \n",
    "\n",
    "The \"wave sort\" algorithm repeats the \"wave\" procedure: each wave starts from the first element and moves the largest unsorted element to the back. This is repeated until the list is sorted. \n",
    "\n",
    "Complete the algorithm in the function below."
   ]
  },
  {
   "cell_type": "code",
   "execution_count": null,
   "metadata": {},
   "outputs": [],
   "source": [
    "def wave_sort(L):\n",
    "    \"\"\"\n",
    "    Sort the input list L using the wave sort algorithm.\n",
    "    \n",
    "    Parameter:\n",
    "        L: a list containing integers.\n",
    "        \n",
    "    Returns: \n",
    "        a sorted copy of L\n",
    "        \n",
    "    Example use:\n",
    "    >>> L = [12, 10, 1, 5, 3, 9, 15]\n",
    "    >>> wave_sort(L)\n",
    "    [1, 3, 5, 9, 10, 12, 15]\n",
    "    >>> L\n",
    "    [12, 10, 1, 5, 3, 9, 15]\n",
    "    \"\"\"\n",
    "    # Your code here.\n",
    "    M = L[:]"
   ]
  },
  {
   "cell_type": "code",
   "execution_count": null,
   "metadata": {},
   "outputs": [],
   "source": [
    "# Test wave_sort in this cell"
   ]
  },
  {
   "cell_type": "markdown",
   "metadata": {},
   "source": [
    "**B (2 points):** What is the worst-case complexity of the algorithm? "
   ]
  },
  {
   "cell_type": "markdown",
   "metadata": {},
   "source": [
    "_Your answer here. Double click to edit._"
   ]
  },
  {
   "cell_type": "markdown",
   "metadata": {},
   "source": [
    "## Question 9\n",
    "\n",
    "### 10 points"
   ]
  },
  {
   "cell_type": "markdown",
   "metadata": {},
   "source": [
    "**A: (5 points):** Complete the function below according to the docstring."
   ]
  },
  {
   "cell_type": "code",
   "execution_count": null,
   "metadata": {
    "collapsed": true,
    "jupyter": {
     "outputs_hidden": true
    }
   },
   "outputs": [],
   "source": [
    "def largest_sequence(num_list, n):\n",
    "    \"\"\"\n",
    "    Finds the n-length contiguous sequence with the largest sum in the list num_list.\n",
    "    \n",
    "    Parameters:\n",
    "        num_list: list of integers\n",
    "        n: integer\n",
    "    \n",
    "    Returns: \n",
    "        integer value of the largest-sum n-length contiguous sequence in num_list\n",
    "        \n",
    "    Example:\n",
    "    >>> largest_sequence([1, -10, 3, 0, 4, -50], 3) # the largest-sum 3-sequence is 3,0,4\n",
    "    7\n",
    "    \"\"\"\n",
    "    # Your code here"
   ]
  },
  {
   "cell_type": "code",
   "execution_count": null,
   "metadata": {
    "collapsed": true,
    "jupyter": {
     "outputs_hidden": true
    }
   },
   "outputs": [],
   "source": [
    "# Test largest_sequence in this cell"
   ]
  },
  {
   "cell_type": "markdown",
   "metadata": {},
   "source": [
    "**B: (5 points):** You are given a unimodal list of $n$ distinct elements, meaning that its entries are in increasing order up until its maximum element, after which its elements are in decreasing order. Implement an algorithm to compute the maximum element of a unimodal array that runs in $O(\\log n)$ time. You may assume that the maximum element never occurs as the first or last element of the list."
   ]
  },
  {
   "cell_type": "code",
   "execution_count": null,
   "metadata": {
    "collapsed": true,
    "jupyter": {
     "outputs_hidden": true
    }
   },
   "outputs": [],
   "source": [
    "# Implement your algorithm here.\n",
    "def find_max(seq):\n",
    "    \"\"\"\n",
    "    Find the maximum of a unimodal (increasing-decreasing) sequence in log(n) time.\n",
    "    \n",
    "    Parameter:\n",
    "        seq: list of integers\n",
    "        \n",
    "    Returns:\n",
    "        index at which maximum value occurs\n",
    "    \n",
    "    Example use:\n",
    "    >>> test_data = [-5, 5, 0, -1, -2]\n",
    "    >>> find_max(test_data)\n",
    "    1\n",
    "    \"\"\"\n",
    "    # Your code here"
   ]
  },
  {
   "cell_type": "code",
   "execution_count": null,
   "metadata": {
    "collapsed": true,
    "jupyter": {
     "outputs_hidden": true
    }
   },
   "outputs": [],
   "source": [
    "# Test find_max in this cell"
   ]
  },
  {
   "cell_type": "markdown",
   "metadata": {},
   "source": [
    "## Question 10\n",
    "\n",
    "### 10 points\n",
    "\n",
    "You may want to use the list methods append or extend in this question.\n",
    "\n",
    "**A (2 points):** Complete the function below according to the docstring."
   ]
  },
  {
   "cell_type": "code",
   "execution_count": null,
   "metadata": {
    "collapsed": true,
    "jupyter": {
     "outputs_hidden": true
    }
   },
   "outputs": [],
   "source": [
    "def flatten_list(list_of_lists):\n",
    "    \"\"\"\n",
    "    Flattens a list of lists into a single list that contains all items of all sublists of list_of_lists.\n",
    "    \n",
    "    Parameter: \n",
    "        list_of_lists: a list containing sublists. The sublists contain integers.\n",
    "    Returns: \n",
    "        a single list containing all items in the sublists.\n",
    "    \n",
    "    Example:\n",
    "    >>> flatten_list([[1, 4, 6], [3, 5, 2]])\n",
    "    [1, 4, 6, 3, 5, 2]\n",
    "    >>> flatten_list([[1, 4, 6], [2], [1]])\n",
    "    [1, 4, 6, 2, 1]\n",
    "    \"\"\"\n",
    "    # Your code here."
   ]
  },
  {
   "cell_type": "code",
   "execution_count": null,
   "metadata": {
    "collapsed": true,
    "jupyter": {
     "outputs_hidden": true
    }
   },
   "outputs": [],
   "source": [
    "# Test flatten_list in this cell"
   ]
  },
  {
   "cell_type": "markdown",
   "metadata": {},
   "source": [
    "**B (8 points):** Complete the function below according to the docstring.\n",
    "\n",
    "Note: please complete a recursive algorithm without using any libraries / built-in functions / other methods to directly achieve the result."
   ]
  },
  {
   "cell_type": "code",
   "execution_count": null,
   "metadata": {
    "collapsed": true,
    "jupyter": {
     "outputs_hidden": true
    }
   },
   "outputs": [],
   "source": [
    "def flatten_list_deep(list_of_lists):\n",
    "    \"\"\"\n",
    "    Recursively flattens a list of lists *of any depth* into a single list that contains all items of all sublists of list_of_lists.\n",
    "    \n",
    "    Parameter:\n",
    "        list_of_lists: a list containing either integers or sublists. \n",
    "        The sublists may contain further integers and sublists, to arbitrary depth.  \n",
    "    \n",
    "    Returns: \n",
    "        a single list containing all items in the sublists, in order.\n",
    "    \n",
    "    Example:\n",
    "    >>> flatten_list_deep([[1, 4, 6], [[3, [2]], 5, 2]])\n",
    "    [1, 4, 6, 3, 2, 5, 2]\n",
    "    \"\"\"\n",
    "    # Your code here."
   ]
  },
  {
   "cell_type": "code",
   "execution_count": null,
   "metadata": {
    "collapsed": true,
    "jupyter": {
     "outputs_hidden": true
    }
   },
   "outputs": [],
   "source": [
    "# Test flatten_list_deep in this cell"
   ]
  }
 ],
 "metadata": {
  "kernelspec": {
   "display_name": "Python 3",
   "language": "python",
   "name": "python3"
  },
  "language_info": {
   "codemirror_mode": {
    "name": "ipython",
    "version": 3
   },
   "file_extension": ".py",
   "mimetype": "text/x-python",
   "name": "python",
   "nbconvert_exporter": "python",
   "pygments_lexer": "ipython3",
   "version": "3.8.5"
  },
  "toc": {
   "nav_menu": {},
   "number_sections": true,
   "sideBar": true,
   "skip_h1_title": true,
   "title_cell": "Table of Contents",
   "title_sidebar": "Contents",
   "toc_cell": true,
   "toc_position": {},
   "toc_section_display": true,
   "toc_window_display": false
  }
 },
 "nbformat": 4,
 "nbformat_minor": 4
}
