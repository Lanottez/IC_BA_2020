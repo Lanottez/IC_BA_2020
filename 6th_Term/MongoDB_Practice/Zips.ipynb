{
 "cells": [
  {
   "cell_type": "code",
   "execution_count": null,
   "metadata": {},
   "outputs": [],
   "source": [
    "import warnings\n",
    "warnings.filterwarnings('ignore')\n",
    "import json\n",
    "from pymongo import MongoClient, GEO2D"
   ]
  },
  {
   "cell_type": "code",
   "execution_count": null,
   "metadata": {},
   "outputs": [],
   "source": [
    "zips_list = []\n",
    "for line in open('zips.json', 'r'):\n",
    "    zips_list.append(json.loads(line))"
   ]
  },
  {
   "cell_type": "code",
   "execution_count": null,
   "metadata": {},
   "outputs": [],
   "source": [
    "myclient = MongoClient(\"mongodb://localhost:27017/\")\n",
    "\n",
    "#use database named \"organisation\"\n",
    "mydb = myclient[\"HW2\"]\n",
    "\n",
    "mycol = mydb['hw2_zips']"
   ]
  },
  {
   "cell_type": "code",
   "execution_count": null,
   "metadata": {},
   "outputs": [],
   "source": [
    "mydb.hw2_zips.create_index([(\"loc\", GEO2D)])"
   ]
  },
  {
   "cell_type": "code",
   "execution_count": null,
   "metadata": {},
   "outputs": [],
   "source": [
    "myclient.list_database_names()"
   ]
  },
  {
   "cell_type": "code",
   "execution_count": null,
   "metadata": {},
   "outputs": [],
   "source": [
    "mydb.list_collection_names()"
   ]
  },
  {
   "cell_type": "code",
   "execution_count": null,
   "metadata": {},
   "outputs": [],
   "source": [
    "list(mydb.hw2_zips.find_one().keys())"
   ]
  },
  {
   "cell_type": "code",
   "execution_count": null,
   "metadata": {},
   "outputs": [],
   "source": [
    "mycol.insert_many(zips_list)"
   ]
  },
  {
   "cell_type": "code",
   "execution_count": null,
   "metadata": {},
   "outputs": [],
   "source": [
    "mydb.hw2_zips.drop()"
   ]
  },
  {
   "cell_type": "code",
   "execution_count": null,
   "metadata": {},
   "outputs": [],
   "source": []
  },
  {
   "cell_type": "markdown",
   "metadata": {},
   "source": [
    "## Q1\n",
    "Count the total number of cities in Washington state (code: \"WA\")."
   ]
  },
  {
   "cell_type": "code",
   "execution_count": null,
   "metadata": {},
   "outputs": [],
   "source": [
    "Q1_pipeline_match = {\"$match\": {\"state\": \"WA\"}}\n",
    "\n",
    "Q1_doc = mycol.aggregate([Q1_pipeline_match])\n",
    "print('The total number of cities in Washington state is {}.'.format(len(list(Q1_doc))))"
   ]
  },
  {
   "cell_type": "markdown",
   "metadata": {},
   "source": [
    "## Q2\n",
    "Find the total population of each state (i.e., sort states by their population in the ascending\n",
    "order)."
   ]
  },
  {
   "cell_type": "code",
   "execution_count": null,
   "metadata": {},
   "outputs": [],
   "source": [
    "Q2_pipe_sum = {'$group': {'_id': '$state', 'total': {'$sum': '$pop'}}}\n",
    "Q2_pipe_sort = { '$sort' : { 'total' : 1 } }\n",
    "\n",
    "Q2_sum = mycol.aggregate([Q2_pipe_sum,Q2_pipe_sort])\n",
    "\n",
    "for document in Q2_sum:\n",
    "    print('The populaton of {} is {}.'.format(document['_id'],document['total']))"
   ]
  },
  {
   "cell_type": "markdown",
   "metadata": {},
   "source": [
    "## Q3\n",
    "Find the 10 closest cities to WEST BROOKLYN, IL. You might want to use the \"$near\" operator."
   ]
  },
  {
   "cell_type": "code",
   "execution_count": null,
   "metadata": {
    "scrolled": true
   },
   "outputs": [],
   "source": [
    "Q3_pip_WB_IL =  {\"$match\": {\"state\": \"IL\",'city':'WEST BROOKLYN'}}\n",
    "\n",
    "Q3_WB_IL = mycol.aggregate([Q3_pip_WB_IL])\n",
    "\n",
    "Q3_WB_IL_coord = list(Q3_WB_IL)[0]['loc']\n",
    "\n",
    "Q3_list = 'The 10 closest cities to WEST BROOKLYN, IL is: '\n",
    "for doc in mycol.find({\"loc\": {\"$near\": Q3_WB_IL_coord}}).limit(11):\n",
    "    if doc['city'] != 'WEST BROOKLYN':\n",
    "        Q3_list = Q3_list+doc['city'] + ', '\n",
    "print(Q3_list[:-2]+'.')"
   ]
  },
  {
   "cell_type": "markdown",
   "metadata": {},
   "source": [
    "## Q4\n",
    "Considering the `region` of each US state, according to this source, find the total population in\n",
    "each of the four regions (West, South, Midwest, and Northeast)."
   ]
  },
  {
   "cell_type": "code",
   "execution_count": null,
   "metadata": {},
   "outputs": [],
   "source": [
    "Northeast = ['CT','ME','MA','NH','RI','VT','NJ','NY','PA']\n",
    "\n",
    "West = ['AZ','CO','ID','NM','MT','UT','NV','WY','AK','CA','HI','OR','WA']\n",
    "\n",
    "Midwest = ['IN','IL','MI','OH','WI','IA''NE''KS','ND','MN','SD''MS']\n",
    "\n",
    "South = ['DE''DC','FL','GA','MD','NC''SC','VA','WV','AL','KY','MS','TN','AR','LA','OK','TX']\n",
    "\n",
    "Q4_pipe_region=  {\n",
    "    '$project': {\n",
    "        '_id':'$_id',\n",
    "        'pop':'$pop',\n",
    "        'West' : {'$in': [ '$state',West]},\n",
    "        'Northeast' : {'$in': [ '$state',Northeast]},\n",
    "        'Midwest' : {'$in': [ '$state',Midwest]},\n",
    "        'South' : {'$in': [ '$state',South]}\n",
    "    }\n",
    "}\n",
    "Q4_pipe_northeast =  { '$match' : { 'Northeast' : True } }\n",
    "Q4_pipe_west =  { '$match' : { 'West' : True } }\n",
    "Q4_pipe_midwest =  { '$match' : { 'Midwest' : True } }\n",
    "Q4_pipe_south =  { '$match' : { 'South' : True } }\n",
    "Q4_pipe_sum =  {'$group':{'_id':None,'Total Population': { '$sum': \"$pop\" }}}\n",
    "\n",
    "print('The population in Northeast is {}.'.format(list(mycol.aggregate([Q4_pipe_region,Q4_pipe_sum_northeast,Q4_pipe_sum]))[0]['Total Population']))\n",
    "print('The population in West is {}.'.format(list(mycol.aggregate([Q4_pipe_region,Q4_pipe_west,Q4_pipe_sum]))[0]['Total Population']))\n",
    "print('The population in Midwest is {}.'.format(list(mycol.aggregate([Q4_pipe_region,Q4_pipe_midwest,Q4_pipe_sum]))[0]['Total Population']))\n",
    "print('The population in South is {}.'.format(list(mycol.aggregate([Q4_pipe_region,Q4_pipe_south,Q4_pipe_sum]))[0]['Total Population']))"
   ]
  },
  {
   "cell_type": "markdown",
   "metadata": {},
   "source": [
    "## Q5\n",
    "Find the 3 most populated cities for each state (in one query)."
   ]
  },
  {
   "cell_type": "code",
   "execution_count": null,
   "metadata": {},
   "outputs": [],
   "source": [
    "Q5_Pipeline_city_pop = { '$group':{'_id': { 'state': \"$state\", 'city': \"$city\" },'pop': { '$sum': \"$pop\" }}}\n",
    "Q5_Pipline_sort = { '$sort': { 'pop': 1 } }\n",
    "\n",
    "\n",
    "Q5_pipe_list = {'$group': {'_id':\"$_id.state\", 'pop': {'$push': '$pop'},'city': {'$push': '$_id.city'}}}\n",
    "\n",
    "Q5_pipe_select = {\n",
    "    '$project': {'_id': 1, \n",
    "                 'city_1': {'$arrayElemAt': ['$city', -1]},\n",
    "                 'city_2': {'$arrayElemAt': ['$city', -2]},\n",
    "                 'city_3': {'$arrayElemAt': ['$city', -3]},\n",
    "                 'pop_1': {'$arrayElemAt': ['$pop', -1]},\n",
    "                 'pop_2': {'$arrayElemAt': ['$pop', -2]},\n",
    "                 'pop_3': {'$arrayElemAt': ['$pop', -3]}\n",
    "                }\n",
    "}\n",
    "\n",
    "Q5_3_most = mycol.aggregate([Q5_Pipeline_city_pop,Q5_Pipline_sort,Q5_pipe_list,Q5_pipe_select])\n",
    "\n",
    "for state in list(Q5_3_most):\n",
    "    if(len(state)) ==7:\n",
    "        print('The first, second, third most populated cities in {} are {},{} and {}, with population of {},{} and {}.'.format(state['_id'],state['city_1'],state['city_2'],state['city_3'],state['pop_1'],state['pop_2'],state['pop_3']))\n",
    "    else:\n",
    "        print('The first and second most populated cities in {} are {} and {}, with population of {} and {}.'.format(state['_id'],state['city_1'],state['city_2'],state['pop_1'],state['pop_2']))        \n",
    "        "
   ]
  },
  {
   "cell_type": "code",
   "execution_count": null,
   "metadata": {},
   "outputs": [],
   "source": []
  }
 ],
 "metadata": {
  "kernelspec": {
   "display_name": "Python 3",
   "language": "python",
   "name": "python3"
  },
  "language_info": {
   "codemirror_mode": {
    "name": "ipython",
    "version": 3
   },
   "file_extension": ".py",
   "mimetype": "text/x-python",
   "name": "python",
   "nbconvert_exporter": "python",
   "pygments_lexer": "ipython3",
   "version": "3.8.5"
  }
 },
 "nbformat": 4,
 "nbformat_minor": 4
}
