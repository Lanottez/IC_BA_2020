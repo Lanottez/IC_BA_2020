{
 "cells": [
  {
   "cell_type": "code",
   "execution_count": 1,
   "metadata": {},
   "outputs": [],
   "source": [
    "import warnings\n",
    "warnings.filterwarnings('ignore')\n",
    "import json\n",
    "from pymongo import MongoClient, GEO2D"
   ]
  },
  {
   "cell_type": "code",
   "execution_count": 2,
   "metadata": {},
   "outputs": [],
   "source": [
    "prescriptions_list = []\n",
    "for line in open('prescriptions.jsonl', 'r'):\n",
    "    prescriptions_list.append(json.loads(line))"
   ]
  },
  {
   "cell_type": "code",
   "execution_count": 3,
   "metadata": {},
   "outputs": [],
   "source": [
    "myclient = MongoClient(\"mongodb://localhost:27017/\")\n",
    "\n",
    "#use database named \"organisation\"\n",
    "mydb = myclient[\"HW2\"]\n",
    "\n",
    "mycol = mydb['hw2_prescriptions']"
   ]
  },
  {
   "cell_type": "code",
   "execution_count": 12,
   "metadata": {},
   "outputs": [
    {
     "data": {
      "text/plain": [
       "<pymongo.results.InsertManyResult at 0x167b4cad780>"
      ]
     },
     "execution_count": 12,
     "metadata": {},
     "output_type": "execute_result"
    }
   ],
   "source": [
    "mycol.insert_many(prescriptions_list)"
   ]
  },
  {
   "cell_type": "code",
   "execution_count": 13,
   "metadata": {
    "scrolled": true
   },
   "outputs": [
    {
     "data": {
      "text/plain": [
       "['hw2_zips', 'hw2_prescriptions']"
      ]
     },
     "execution_count": 13,
     "metadata": {},
     "output_type": "execute_result"
    }
   ],
   "source": [
    "mydb.list_collection_names()"
   ]
  },
  {
   "cell_type": "code",
   "execution_count": 14,
   "metadata": {},
   "outputs": [
    {
     "data": {
      "text/plain": [
       "['_id', 'cms_prescription_counts', 'provider_variables', 'npi']"
      ]
     },
     "execution_count": 14,
     "metadata": {},
     "output_type": "execute_result"
    }
   ],
   "source": [
    "list(mydb.hw2_prescriptions.find_one().keys())"
   ]
  },
  {
   "cell_type": "code",
   "execution_count": 5,
   "metadata": {},
   "outputs": [
    {
     "data": {
      "text/plain": [
       "{'_id': ObjectId('6107af558851e7995ec536a2'),\n",
       " 'cms_prescription_counts': {'DOXAZOSIN MESYLATE': 26,\n",
       "  'MIDODRINE HCL': 12,\n",
       "  'MEGESTROL ACETATE': 11,\n",
       "  'BENAZEPRIL HCL': 11,\n",
       "  'METOLAZONE': 73,\n",
       "  'NOVOLOG': 12,\n",
       "  'DIAZEPAM': 24,\n",
       "  'HYDRALAZINE HCL': 50,\n",
       "  'SENSIPAR': 94,\n",
       "  'LABETALOL HCL': 28,\n",
       "  'PREDNISONE': 40,\n",
       "  'CALCITRIOL': 79,\n",
       "  'HYDROCODONE-ACETAMINOPHEN': 64,\n",
       "  'HYDROCHLOROTHIAZIDE': 59,\n",
       "  'LOSARTAN-HYDROCHLOROTHIAZIDE': 14,\n",
       "  'FENOFIBRATE': 14,\n",
       "  'MINOXIDIL': 14,\n",
       "  'MELOXICAM': 29,\n",
       "  'ATENOLOL': 62,\n",
       "  'CARISOPRODOL': 40,\n",
       "  'GABAPENTIN': 35,\n",
       "  'OMEPRAZOLE': 35,\n",
       "  'KLOR-CON M10': 20,\n",
       "  'LANTUS': 20,\n",
       "  'AMLODIPINE BESYLATE': 175,\n",
       "  'CARVEDILOL': 36,\n",
       "  'LOSARTAN POTASSIUM': 41,\n",
       "  'IRBESARTAN': 11,\n",
       "  'NIFEDICAL XL': 32,\n",
       "  'NIFEDIPINE ER': 51,\n",
       "  'LEVOTHYROXINE SODIUM': 12,\n",
       "  'POTASSIUM CHLORIDE': 30,\n",
       "  'FUROSEMIDE': 162,\n",
       "  'GLYBURIDE': 16,\n",
       "  'CLONIDINE HCL': 43,\n",
       "  'TEMAZEPAM': 41,\n",
       "  'SPIRONOLACTONE': 50,\n",
       "  'LOVASTATIN': 11,\n",
       "  'LISINOPRIL': 44,\n",
       "  'PANTOPRAZOLE SODIUM': 13,\n",
       "  'CALCIUM ACETATE': 85,\n",
       "  'NEXIUM': 44,\n",
       "  'ZOLPIDEM TARTRATE': 41,\n",
       "  'DIOVAN': 20,\n",
       "  'OXYCODONE HCL': 51,\n",
       "  'METOPROLOL SUCCINATE': 104,\n",
       "  'RANITIDINE HCL': 21,\n",
       "  'ATORVASTATIN CALCIUM': 19,\n",
       "  'TAMSULOSIN HCL': 14,\n",
       "  'OXYBUTYNIN CHLORIDE': 11,\n",
       "  'LISINOPRIL-HYDROCHLOROTHIAZIDE': 19,\n",
       "  'METOPROLOL TARTRATE': 93,\n",
       "  'AMLODIPINE BESYLATE-BENAZEPRIL': 12,\n",
       "  'BUMETANIDE': 53,\n",
       "  'BYSTOLIC': 14,\n",
       "  'ISOSORBIDE MONONITRATE ER': 13,\n",
       "  'ALLOPURINOL': 86,\n",
       "  'CLOPIDOGREL': 22,\n",
       "  'RENVELA': 117,\n",
       "  'ABILIFY': 11,\n",
       "  'SERTRALINE HCL': 14,\n",
       "  'CIPROFLOXACIN HCL': 19,\n",
       "  'SIMVASTATIN': 14,\n",
       "  'PRAVASTATIN SODIUM': 13,\n",
       "  'ATENOLOL-CHLORTHALIDONE': 53,\n",
       "  'ALPRAZOLAM': 45,\n",
       "  'AZITHROMYCIN': 18,\n",
       "  'TRAMADOL HCL': 11},\n",
       " 'provider_variables': {'settlement_type': 'non-urban',\n",
       "  'generic_rx_count': 2287,\n",
       "  'specialty': 'Nephrology',\n",
       "  'years_practicing': 7,\n",
       "  'gender': 'M',\n",
       "  'region': 'South',\n",
       "  'brand_name_rx_count': 384},\n",
       " 'npi': '1295763035'}"
      ]
     },
     "execution_count": 5,
     "metadata": {},
     "output_type": "execute_result"
    }
   ],
   "source": [
    "mycol.find_one()"
   ]
  },
  {
   "cell_type": "markdown",
   "metadata": {},
   "source": [
    "## Q6 \n",
    "Find the specialty of all doctors who have prescribed \"HALOPERIDOL\"."
   ]
  },
  {
   "cell_type": "code",
   "execution_count": 6,
   "metadata": {},
   "outputs": [
    {
     "name": "stdout",
     "output_type": "stream",
     "text": [
      "The specialty of all doctors who have prescribed HALOPERIDOL include Diagnostic Neuroimaging, Addiction (Substance Use Disorder), Adult Mental Health, Psych/Mental Health, Chronically Ill, Anatomic Pathology & Clinical Pathology, Psychiatric, Mental Health, Clinical Neurophysiology, Allergy & Immunology, Behavioral Neurology & Neuropsychiatry, Oral and Maxillofacial Surgery, Child & Adolescent Psychiatry, Gastroenterology, Forensic Psychiatry, Prescribing (Medical), Endocrinology, Diabetes & Metabolism, Neurology with Special Qualifications in Child Neurology, Pediatric Gastroenterology, Pediatrics, Clinical, Gynecologic Oncology, Emergency Medical Services, Primary Care, Psych/Mental Health, Geropsychiatric, Hematology, Public Health & General Preventive Medicine, Psych/Mental Health, Community, Mental Health (Including Community Mental Health Center), Professional, Critical Care Medicine, Pain Medicine, Interventional Cardiology, Nephrology, Sports Medicine, Hospice and Palliative Medicine, Endodontics, Adolescent Medicine, Medical, Psychosomatic Medicine, Neurodevelopmental Disabilities, Medical Oncology, Psych/Mental Health, Child & Adolescent, Clinical Cardiac Electrophysiology, Community Health, Family Health, Neurology, Foot & Ankle Surgery, Adult Health, Psych/Mental Health, Adult, Cardiovascular Disease, Hematology & Oncology, Addiction Medicine, Geriatric Psychiatry, Gerontology, Mental Retardation & Developmental Disabilities, Gynecology, Diagnostic Radiology, Medical-Surgical, Acute Care, Occupational Medicine, Cognitive & Behavioral, Addiction Psychiatry, Rheumatology, Research Study, Developmental  Behavioral Pediatrics, Adult Medicine, General Practice, Anatomic Pathology, Undersea and Hyperbaric Medicine, Medical Specialty, Vascular Neurology, Surgical Technologist, Women's Health, Psych/Mental Health, Geriatric Medicine, Pediatric Infectious Diseases, Sleep Medicine, Clinical Child & Adolescent, Medical Toxicology, Pharmacotherapy, Psychiatry, Pulmonary Disease, Adolescent and Children Mental Health, Family, Preventive Medicine/Occupational Environmental Medicine, Infectious Disease.\n"
     ]
    }
   ],
   "source": [
    "Q6_pipeline_hal = {'$match': {\"cms_prescription_counts.HALOPERIDOL\": {\"$gt\":0}}}\n",
    "Q6_pipeline_speciality = { '$group' : { '_id' : \"$provider_variables.specialty\" } } \n",
    "# Q6_pipeline_hal = {\"cms_prescription_counts.HALOPERIDOL\":{\"$exists\":True}}\n",
    "\n",
    "print_list = \"The specialty of all doctors who have prescribed HALOPERIDOL include \"\n",
    "for _id in list(mycol.aggregate([Q6_pipeline_hal,Q6_pipeline_speciality])):\n",
    "    print_list = print_list + _id['_id'] + ', '\n",
    "print(print_list[:-2]+'.')"
   ]
  },
  {
   "cell_type": "markdown",
   "metadata": {},
   "source": [
    "## Q7\n",
    "Find the total number of doctors, separately for each region (in one query)."
   ]
  },
  {
   "cell_type": "code",
   "execution_count": 7,
   "metadata": {},
   "outputs": [
    {
     "name": "stdout",
     "output_type": "stream",
     "text": [
      "The number of Doctor in Midwest is 50077.\n",
      "The number of Doctor in South is 80562.\n",
      "The number of Doctor in Northeast is 59012.\n",
      "The number of Doctor in West is 50279.\n"
     ]
    }
   ],
   "source": [
    "Q7_pipe_count =   {\n",
    "     '$group': { \n",
    "        '_id': \"$provider_variables.region\", \n",
    "        'Number of Doctor': {'$sum': 1}\n",
    "     }\n",
    "  }\n",
    "\n",
    "for _id in list(mycol.aggregate([Q7_pipe_count])):\n",
    "    print('The number of Doctor in {} is {}.'.format(_id['_id'],_id['Number of Doctor'])) "
   ]
  },
  {
   "cell_type": "markdown",
   "metadata": {},
   "source": [
    "## Q8\n",
    "Find the total amount of prescribed \"ATORVASTATIN CALCIUM\""
   ]
  },
  {
   "cell_type": "code",
   "execution_count": 8,
   "metadata": {},
   "outputs": [
    {
     "name": "stdout",
     "output_type": "stream",
     "text": [
      "The total amount of prescribed ATORVASTATIN CALCIUM is 4534888.\n"
     ]
    }
   ],
   "source": [
    "Q7_pipe_sum = {'$group': {'_id': None, 'total': {'$sum': '$cms_prescription_counts.ATORVASTATIN CALCIUM'}}}\n",
    "print('The total amount of prescribed ATORVASTATIN CALCIUM is {}.'.format(list(mycol.aggregate([Q7_pipe_sum]))[0]['total']))"
   ]
  },
  {
   "cell_type": "markdown",
   "metadata": {},
   "source": [
    "## Q9\n",
    "Find the drug that is prescribed by the most of doctors working in \"non-urban\" areas. (in terms of number of doctors who prescribed it, not the total amount of prescriptions)."
   ]
  },
  {
   "cell_type": "code",
   "execution_count": 47,
   "metadata": {},
   "outputs": [
    {
     "name": "stdout",
     "output_type": "stream",
     "text": [
      "The drug that is prescribed by the most of doctors working in non-urban areas is HYDROCODONE-ACETAMINOPHEN.\n"
     ]
    }
   ],
   "source": [
    "Q9_match =  {\"$match\": {\"provider_variables.settlement_type\": \"non-urban\"}}\n",
    "Q9_toarry =  { '$project': { 'prescribed': { '$objectToArray': \"$cms_prescription_counts\" } } }\n",
    "Q9_unwind = { '$unwind': \"$prescribed\" }\n",
    "Q9_count =  {'$group':{'_id':'$prescribed.k','number_of_doctors':{'$count':{}}}}\n",
    "Q9_sort = {'$sort' : { 'number_of_doctors' : -1} }\n",
    "\n",
    "print('The drug that is prescribed by the most of doctors working in non-urban areas is {}.'.format(list(mycol.aggregate([Q9_match,Q9_toarry,Q9_unwind,Q9_count,Q9_sort]))[0]['_id']))"
   ]
  },
  {
   "cell_type": "markdown",
   "metadata": {},
   "source": [
    "## Q10\n",
    "Considering the region of US states (Query #4) and the region of each doctor, find the average number of doctors per capita in each of the four regions in US."
   ]
  },
  {
   "cell_type": "code",
   "execution_count": null,
   "metadata": {},
   "outputs": [],
   "source": []
  }
 ],
 "metadata": {
  "kernelspec": {
   "display_name": "Python 3",
   "language": "python",
   "name": "python3"
  },
  "language_info": {
   "codemirror_mode": {
    "name": "ipython",
    "version": 3
   },
   "file_extension": ".py",
   "mimetype": "text/x-python",
   "name": "python",
   "nbconvert_exporter": "python",
   "pygments_lexer": "ipython3",
   "version": "3.8.5"
  }
 },
 "nbformat": 4,
 "nbformat_minor": 4
}
