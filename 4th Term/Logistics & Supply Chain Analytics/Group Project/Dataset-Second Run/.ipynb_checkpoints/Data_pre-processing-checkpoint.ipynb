{
 "cells": [
  {
   "cell_type": "code",
   "execution_count": 1,
   "metadata": {},
   "outputs": [],
   "source": [
    "import numpy as np\n",
    "import pandas as pd\n",
    "import matplotlib.pyplot as plt"
   ]
  },
  {
   "cell_type": "code",
   "execution_count": 2,
   "metadata": {},
   "outputs": [],
   "source": [
    "Finished_Goods_Inventory = pd.read_csv('Finished Goods Inventory at or destined for the warehouse in Calopeia, by current location.csv')\n",
    "\n",
    "Demand_for_each_destination = pd.read_csv('Demand for each destination region.csv')\n",
    "Lost_demand_for_each_destination = pd.read_csv('Lost demand for each destination region.csv')\n",
    "\n",
    "Cash_Balance = pd.read_csv('Plot of cash balance (thousands of dollars).csv')\n",
    "\n",
    "Shipments_from_Calopia_warehouse_for_each_destination = pd.read_csv('Shipments for the Fast segment out of the Calopeia warehouse, for each destination region.csv')\n",
    "\n",
    "\n",
    "Inventory_in_Caplopia_for_each_warehouse_destination = pd.read_csv('WIP inventory in the Calopeia factory, for each warehouse destination.csv')"
   ]
  },
  {
   "cell_type": "markdown",
   "metadata": {},
   "source": [
    "### Cleaning Finished_Goods_Inventory\n",
    "##### Finished Goods Inventory at or destined for the warehouse in Calopeia, by current location"
   ]
  },
  {
   "cell_type": "code",
   "execution_count": 8,
   "metadata": {},
   "outputs": [],
   "source": [
    "Finished_Goods_Inventory = Finished_Goods_Inventory.fillna(0)\n",
    "Finished_Goods_Inventory_warehouse = Finished_Goods_Inventory[['day','warehouse']]\n",
    "Finished_Goods_Inventory_mail = Finished_Goods_Inventory[['day','mail']]\n",
    "\n",
    "Finished_Goods_Inventory_warehouse_group_day_data =  Finished_Goods_Inventory_warehouse.groupby(by=['day'])['warehouse'].sum()\n",
    "Inventory_at_Calopiea_warehouse = pd.DataFrame(data = Finished_Goods_Inventory_warehouse_group_day_data)\n",
    "Inventory_at_Calopiea_warehouse = Inventory_at_Calopiea_warehouse.rename(columns={'warehouse':'Inventory_at_Calopiea_warehouse'})\n",
    "\n",
    "Finished_Goods_Inventory_mail_group_day_data =  Finished_Goods_Inventory_mail.groupby(by=['day'])['mail'].sum()\n",
    "Inventory_destined_to_Calopeia_warehouse_mail= pd.DataFrame(data = Finished_Goods_Inventory_mail_group_day_data)\n",
    "Inventory_destined_to_Calopeia_warehouse_mail = Inventory_destined_to_Calopeia_warehouse_mail.rename(columns={'mail':'Inventory_destined_to_Calopeia_warehouse_mail'})"
   ]
  },
  {
   "cell_type": "markdown",
   "metadata": {},
   "source": [
    "### Cleaning Demand_for_each_destination\n",
    "##### Demand for each destination region"
   ]
  },
  {
   "cell_type": "code",
   "execution_count": 9,
   "metadata": {},
   "outputs": [],
   "source": [
    "Demand_for_Calopiea = Demand_for_each_destination[['day','Calopeia']]\n",
    "Demand_for_Calopiea = Demand_for_Calopiea.rename(columns = {'Calopeia':'Demand for Calopeia'})\n",
    "\n",
    "Demand_for_Sorange = Demand_for_each_destination[['day','Sorange']]\n",
    "Demand_for_Sorange = Demand_for_Sorange.rename(columns = {'Sorange':'Demand for Sorange'})\n",
    "\n",
    "Demand_for_Tyran = Demand_for_each_destination[['day','Tyran']]\n",
    "Demand_for_Tyran = Demand_for_Tyran.rename(columns = {'Tyran':'Demand for Tyran'})\n",
    "\n",
    "Demand_for_Entworpe = Demand_for_each_destination[['day','Entworpe']]\n",
    "Demand_for_Entworpe = Demand_for_Entworpe.rename(columns = {'Entworpe':'Demand for Entworpe'})\n",
    "\n",
    "Demand_for_Fardo = Demand_for_each_destination[['day','Fardo']]\n",
    "Demand_for_Fardo = Demand_for_Fardo.rename(columns = {'Fardo':'Demand for Fardo'})\n"
   ]
  },
  {
   "cell_type": "markdown",
   "metadata": {},
   "source": [
    "### Cleaning Lost_demand_for_each_destination\n",
    "##### Lost demand for each destination region"
   ]
  },
  {
   "cell_type": "code",
   "execution_count": 10,
   "metadata": {},
   "outputs": [],
   "source": [
    "Lost_demand_for_Calopiea = Lost_demand_for_each_destination[['day','Calopeia']]\n",
    "Lost_demand_for_Calopiea = Lost_demand_for_Calopiea.rename(columns = {'Calopeia':'Lost_demand for Calopeia'})\n",
    "Lost_demand_for_Sorange = Lost_demand_for_each_destination[['day','Sorange']]\n",
    "Lost_demand_for_Tyran = Lost_demand_for_each_destination[['day','Tyran']]\n",
    "Lost_demand_for_Entworpe = Lost_demand_for_each_destination[['day','Entworpe']]\n",
    "Lost_demand_for_Fardo = Lost_demand_for_each_destination[['day','Fardo']]"
   ]
  },
  {
   "cell_type": "markdown",
   "metadata": {},
   "source": [
    "### Cleaning Shipments_from_Calopia_warehouse_for_each_destination\n",
    "##### Shipments for the Fast segment out of the Calopeia warehouse, for each destination region"
   ]
  },
  {
   "cell_type": "code",
   "execution_count": 11,
   "metadata": {},
   "outputs": [],
   "source": [
    "Shipments_from_Calopia_warehouse_for_Calopeia = Shipments_from_Calopia_warehouse_for_each_destination[['day','Calopeia']]\n",
    "Shipments_from_Calopia_warehouse_for_Calopeia = Shipments_from_Calopia_warehouse_for_Calopeia.rename(columns = {'Calopeia':'Shipments_from_Calopia_warehouse_for_Calopeia'})"
   ]
  },
  {
   "cell_type": "markdown",
   "metadata": {},
   "source": [
    "### Cleaning Inventory_in_Caplopia_for_each_warehouse_destination\n",
    "##### WIP inventory in the Calopeia factory, for each warehouse destination"
   ]
  },
  {
   "cell_type": "code",
   "execution_count": 12,
   "metadata": {},
   "outputs": [
    {
     "data": {
      "text/html": [
       "<div>\n",
       "<style scoped>\n",
       "    .dataframe tbody tr th:only-of-type {\n",
       "        vertical-align: middle;\n",
       "    }\n",
       "\n",
       "    .dataframe tbody tr th {\n",
       "        vertical-align: top;\n",
       "    }\n",
       "\n",
       "    .dataframe thead th {\n",
       "        text-align: right;\n",
       "    }\n",
       "</style>\n",
       "<table border=\"1\" class=\"dataframe\">\n",
       "  <thead>\n",
       "    <tr style=\"text-align: right;\">\n",
       "      <th></th>\n",
       "      <th>day</th>\n",
       "      <th>Inventory_in_Caplopia_for_warehouse_Calopiea</th>\n",
       "    </tr>\n",
       "  </thead>\n",
       "  <tbody>\n",
       "    <tr>\n",
       "      <th>0</th>\n",
       "      <td>1</td>\n",
       "      <td>1000</td>\n",
       "    </tr>\n",
       "    <tr>\n",
       "      <th>1</th>\n",
       "      <td>14</td>\n",
       "      <td>0</td>\n",
       "    </tr>\n",
       "    <tr>\n",
       "      <th>2</th>\n",
       "      <td>15</td>\n",
       "      <td>1000</td>\n",
       "    </tr>\n",
       "    <tr>\n",
       "      <th>3</th>\n",
       "      <td>28</td>\n",
       "      <td>0</td>\n",
       "    </tr>\n",
       "    <tr>\n",
       "      <th>4</th>\n",
       "      <td>29</td>\n",
       "      <td>1000</td>\n",
       "    </tr>\n",
       "    <tr>\n",
       "      <th>...</th>\n",
       "      <td>...</td>\n",
       "      <td>...</td>\n",
       "    </tr>\n",
       "    <tr>\n",
       "      <th>57</th>\n",
       "      <td>637</td>\n",
       "      <td>0</td>\n",
       "    </tr>\n",
       "    <tr>\n",
       "      <th>58</th>\n",
       "      <td>647</td>\n",
       "      <td>1000</td>\n",
       "    </tr>\n",
       "    <tr>\n",
       "      <th>59</th>\n",
       "      <td>661</td>\n",
       "      <td>0</td>\n",
       "    </tr>\n",
       "    <tr>\n",
       "      <th>60</th>\n",
       "      <td>688</td>\n",
       "      <td>1000</td>\n",
       "    </tr>\n",
       "    <tr>\n",
       "      <th>61</th>\n",
       "      <td>701</td>\n",
       "      <td>0</td>\n",
       "    </tr>\n",
       "  </tbody>\n",
       "</table>\n",
       "<p>62 rows × 2 columns</p>\n",
       "</div>"
      ],
      "text/plain": [
       "    day  Inventory_in_Caplopia_for_warehouse_Calopiea\n",
       "0     1                                          1000\n",
       "1    14                                             0\n",
       "2    15                                          1000\n",
       "3    28                                             0\n",
       "4    29                                          1000\n",
       "..  ...                                           ...\n",
       "57  637                                             0\n",
       "58  647                                          1000\n",
       "59  661                                             0\n",
       "60  688                                          1000\n",
       "61  701                                             0\n",
       "\n",
       "[62 rows x 2 columns]"
      ]
     },
     "execution_count": 12,
     "metadata": {},
     "output_type": "execute_result"
    }
   ],
   "source": [
    "Inventory_in_Caplopia_for_warehouse_Calopiea = Inventory_in_Caplopia_for_each_warehouse_destination[['day','Calopeia']].dropna()\n",
    "Inventory_in_Caplopia_for_warehouse_Calopiea = Inventory_in_Caplopia_for_warehouse_Calopiea.rename(columns = {'Calopeia':'Inventory_in_Caplopia_for_warehouse_Calopiea'})\n",
    "Inventory_in_Caplopia_for_warehouse_Calopiea"
   ]
  },
  {
   "cell_type": "markdown",
   "metadata": {},
   "source": [
    "### Combining all data"
   ]
  },
  {
   "cell_type": "code",
   "execution_count": 13,
   "metadata": {},
   "outputs": [],
   "source": [
    "day = np.arange(1,730)\n",
    "Combination = pd.DataFrame(data = day,columns=['day'])\n",
    "DataFrame_to_Combine = [Inventory_in_Caplopia_for_warehouse_Calopiea,Inventory_destined_to_Calopeia_warehouse_mail,Inventory_at_Calopiea_warehouse,Demand_for_Calopiea,Lost_demand_for_Calopiea,Shipments_from_Calopia_warehouse_for_Calopeia,Cash_Balance]\n",
    "for DataFrame in DataFrame_to_Combine:\n",
    "    Combination = pd.merge(Combination,DataFrame,how='left',on='day')\n",
    "Combination['Inventory_in_Caplopia_for_warehouse_Calopiea']= Combination['Inventory_in_Caplopia_for_warehouse_Calopiea'].fillna(method = 'ffill')\n",
    "Combination.to_csv('Combination.csv',index = False)"
   ]
  }
 ],
 "metadata": {
  "kernelspec": {
   "display_name": "Python 3",
   "language": "python",
   "name": "python3"
  },
  "language_info": {
   "codemirror_mode": {
    "name": "ipython",
    "version": 3
   },
   "file_extension": ".py",
   "mimetype": "text/x-python",
   "name": "python",
   "nbconvert_exporter": "python",
   "pygments_lexer": "ipython3",
   "version": "3.8.5"
  }
 },
 "nbformat": 4,
 "nbformat_minor": 4
}
