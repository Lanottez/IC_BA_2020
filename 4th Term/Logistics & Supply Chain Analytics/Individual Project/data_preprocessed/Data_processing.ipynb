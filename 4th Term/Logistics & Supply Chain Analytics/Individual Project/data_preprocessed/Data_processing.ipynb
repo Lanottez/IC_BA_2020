{
 "cells": [
  {
   "cell_type": "code",
   "execution_count": null,
   "metadata": {},
   "outputs": [],
   "source": [
    "import numpy as np\n",
    "import pandas as pd"
   ]
  },
  {
   "cell_type": "code",
   "execution_count": null,
   "metadata": {},
   "outputs": [],
   "source": [
    "# Store all numbers of stores in a list\n",
    "store_restaurant = pd.read_excel('store_restaurant.xlsx')\n",
    "store_number  = store_restaurant.STORE_NUMBER\n",
    "print(store_number)"
   ]
  },
  {
   "cell_type": "markdown",
   "metadata": {},
   "source": [
    "## Match the order, keep the Recipe Id"
   ]
  },
  {
   "cell_type": "code",
   "execution_count": null,
   "metadata": {},
   "outputs": [],
   "source": [
    "menuitem = pd.read_csv('menuitem.csv') \n",
    "menu_items = pd.read_csv('menu_items.csv') \n",
    "menu_items = menu_items.rename(columns={'MenuItemId': 'Id'})\n",
    "orders = pd.merge(menuitem, menu_items, how=\"left\", on=[\"PLU\", \"Id\"]).drop(columns=['PLU','Id'])\n",
    "orders['date'] = pd.to_datetime(orders['date'])\n",
    "orders = orders.rename(columns={'Quantity':'Quantity_orders'})\n",
    "orders"
   ]
  },
  {
   "cell_type": "markdown",
   "metadata": {},
   "source": [
    "## Match the main ingredient and the quantity"
   ]
  },
  {
   "cell_type": "code",
   "execution_count": null,
   "metadata": {},
   "outputs": [],
   "source": [
    "recipe_ingredient_assignments = pd.read_csv('recipe_ingredient_assignments.csv')\n",
    "orders_with_ingredient = pd.merge(orders, recipe_ingredient_assignments, how=\"left\", on=[\"RecipeId\"])\n",
    "orders_with_ingredient['Quantity'] = orders_with_ingredient['Quantity'] * orders_with_ingredient['Quantity_orders']\n",
    "orders_with_ingredient = orders_with_ingredient.drop(columns=['Quantity_orders'])\n",
    "orders_with_ingredient"
   ]
  },
  {
   "cell_type": "markdown",
   "metadata": {},
   "source": [
    "## Match the sub ingredient and the quantity"
   ]
  },
  {
   "cell_type": "code",
   "execution_count": null,
   "metadata": {},
   "outputs": [],
   "source": [
    "recipe_sub_recipe_assignments = pd.read_csv('recipe_sub_recipe_assignments.csv')\n",
    "orders_with_sub_ingredient = pd.merge(orders, recipe_sub_recipe_assignments, how=\"left\", on=[\"RecipeId\"])\n",
    "orders_with_sub_ingredient['Factor'] = orders_with_sub_ingredient['Factor'] * orders_with_sub_ingredient['Quantity_orders']\n",
    "orders_with_sub_ingredient = orders_with_sub_ingredient.drop(columns=['Quantity_orders'])\n",
    "orders_with_sub_ingredient = orders_with_sub_ingredient.dropna()\n",
    "orders_with_sub_ingredient"
   ]
  },
  {
   "cell_type": "code",
   "execution_count": null,
   "metadata": {},
   "outputs": [],
   "source": [
    "sub_recipe_ingr_assignments = pd.read_csv('sub_recipe_ingr_assignments.csv')\n",
    "orders_with_sub_ingredient_1 = pd.merge(orders_with_sub_ingredient, sub_recipe_ingr_assignments, how=\"left\", on=[\"SubRecipeId\"])\n",
    "orders_with_sub_ingredient_1"
   ]
  },
  {
   "cell_type": "code",
   "execution_count": null,
   "metadata": {},
   "outputs": [],
   "source": [
    "orders_with_sub_ingredient_2 = orders_with_sub_ingredient_1.copy()\n",
    "orders_with_sub_ingredient_2['Quantity(factor)'] = orders_with_sub_ingredient_2.Factor * orders_with_sub_ingredient_2.Quantity\n",
    "orders_with_sub_ingredient_2"
   ]
  },
  {
   "cell_type": "code",
   "execution_count": null,
   "metadata": {},
   "outputs": [],
   "source": [
    "orders_with_sub_ingredient_3 = orders_with_sub_ingredient_2.copy()\n",
    "orders_with_sub_ingredient_3=orders_with_sub_ingredient_3.drop(columns=['Factor','Quantity','SubRecipeId'])\n",
    "orders_with_sub_ingredient_3 = orders_with_sub_ingredient_3.rename(columns={'Quantity(factor)':'Quantity'})\n",
    "orders_with_sub_ingredient_3"
   ]
  },
  {
   "cell_type": "markdown",
   "metadata": {},
   "source": [
    "## Append the main ingredient and sub ingredient"
   ]
  },
  {
   "cell_type": "code",
   "execution_count": null,
   "metadata": {},
   "outputs": [],
   "source": [
    "orders_with_all_ingredient = pd.concat([orders_with_sub_ingredient_3,orders_with_ingredient])\n",
    "orders_with_all_ingredient = orders_with_all_ingredient[orders_with_all_ingredient.Quantity != 0]\n",
    "orders_with_all_ingredient = orders_with_all_ingredient.drop(columns=['RecipeId'])\n",
    "orders_with_all_ingredient"
   ]
  },
  {
   "cell_type": "markdown",
   "metadata": {},
   "source": [
    "## Keeping only lettuce"
   ]
  },
  {
   "cell_type": "code",
   "execution_count": null,
   "metadata": {},
   "outputs": [],
   "source": [
    "orders_with_lettuces = orders_with_all_ingredient[orders_with_all_ingredient.IngredientId == 27]\n",
    "orders_with_lettuces"
   ]
  },
  {
   "cell_type": "markdown",
   "metadata": {},
   "source": [
    "## Calculate the demand of lettuce"
   ]
  },
  {
   "cell_type": "code",
   "execution_count": null,
   "metadata": {},
   "outputs": [],
   "source": [
    "lettuce_demand = pd.DataFrame(data=orders_with_lettuces.groupby(by=['StoreNumber','date'])['Quantity'].sum())\n",
    "lettuce_demand = lettuce_demand.reset_index()\n",
    "lettuce_demand"
   ]
  },
  {
   "cell_type": "code",
   "execution_count": null,
   "metadata": {},
   "outputs": [],
   "source": [
    "store_number_0 = store_number[0]\n",
    "store_number_1 = store_number[1]\n",
    "store_number_2 = store_number[2]\n",
    "store_number_3 = store_number[3]"
   ]
  },
  {
   "cell_type": "code",
   "execution_count": null,
   "metadata": {},
   "outputs": [],
   "source": [
    "lettuce_demand_46673 = lettuce_demand[lettuce_demand.StoreNumber == store_number_0].sort_values(by=['date'])\n",
    "\n",
    "lettuce_demand_4904 = lettuce_demand[lettuce_demand.StoreNumber == store_number_1].sort_values(by=['date'])\n",
    "\n",
    "lettuce_demand_12631 = lettuce_demand[lettuce_demand.StoreNumber == store_number_2].sort_values(by=['date'])\n",
    "\n",
    "lettuce_demand_20974 = lettuce_demand[lettuce_demand.StoreNumber == store_number_3].sort_values(by=['date'])\n",
    "\n",
    "lettuce_demand_46673.to_csv('lettuce_demand_46673.csv')\n",
    "lettuce_demand_4904.to_csv('lettuce_demand_4904.csv')\n",
    "lettuce_demand_12631.to_csv('lettuce_demand_12631.csv')\n",
    "lettuce_demand_20974.to_csv('lettuce_demand_20974.csv')"
   ]
  },
  {
   "cell_type": "code",
   "execution_count": null,
   "metadata": {},
   "outputs": [],
   "source": []
  }
 ],
 "metadata": {
  "kernelspec": {
   "display_name": "Python 3",
   "language": "python",
   "name": "python3"
  },
  "language_info": {
   "codemirror_mode": {
    "name": "ipython",
    "version": 3
   },
   "file_extension": ".py",
   "mimetype": "text/x-python",
   "name": "python",
   "nbconvert_exporter": "python",
   "pygments_lexer": "ipython3",
   "version": "3.8.5"
  }
 },
 "nbformat": 4,
 "nbformat_minor": 4
}
