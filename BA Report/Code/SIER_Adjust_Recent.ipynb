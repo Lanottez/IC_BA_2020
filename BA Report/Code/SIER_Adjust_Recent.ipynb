{
 "cells": [
  {
   "cell_type": "code",
   "execution_count": 1,
   "id": "29009fa1",
   "metadata": {},
   "outputs": [],
   "source": [
    "import numpy as np\n",
    "import pandas as pd\n",
    "pd.options.mode.chained_assignment = None  # default='warn'\n",
    "\n",
    "import matplotlib.pyplot as plt\n",
    "import matplotlib.dates as mdates\n",
    "%matplotlib inline \n",
    "#!pip install mpld3\n",
    "import mpld3\n",
    "mpld3.enable_notebook()\n",
    "\n",
    "from scipy.integrate import odeint\n",
    "#!pip install lmfit\n",
    "import lmfit\n",
    "from lmfit.lineshapes import gaussian, lorentzian\n",
    "\n",
    "import warnings\n",
    "warnings.filterwarnings('ignore')\n",
    "from PIL import Image"
   ]
  },
  {
   "cell_type": "markdown",
   "id": "8be1a183",
   "metadata": {},
   "source": [
    "## Script - Supplemental and Coronavirus Data"
   ]
  },
  {
   "cell_type": "code",
   "execution_count": 2,
   "id": "7da66304",
   "metadata": {},
   "outputs": [],
   "source": [
    "# !! if you get a timeout-error, just click on the link and download the data manually !!\n",
    "\n",
    "# read the data\n",
    "beds = pd.read_csv(\"beds.csv\", header=0)\n",
    "agegroups = pd.read_csv(\"agegroups.csv\")\n",
    "probabilities = pd.read_csv(\"probabilities.csv\")\n",
    "covid_data = pd.read_csv('time_series_covid19_deaths_global_narrow.csv', parse_dates=[\"Date\"], skiprows=[1])\n",
    "covid_data[\"Location\"] = covid_data[\"Country/Region\"]\n",
    "\n",
    "# create some dicts for fast lookup\n",
    "# 1. beds\n",
    "beds_lookup = dict(zip(beds[\"Country\"], beds[\"ICU_Beds\"]))\n",
    "# 2. agegroups\n",
    "agegroup_lookup = dict(zip(agegroups['Location'], agegroups[['0_9', '10_19', '20_29', '30_39', '40_49', '50_59', '60_69', '70_79', '80_89', '90_100']].values))\n",
    "\n",
    "# store the probabilities collected\n",
    "prob_I_to_C_1 = list(probabilities.prob_I_to_ICU_1.values)\n",
    "prob_I_to_C_2 = list(probabilities.prob_I_to_ICU_2.values)\n",
    "prob_C_to_Death_1 = list(probabilities.prob_ICU_to_Death_1.values)\n",
    "prob_C_to_Death_2 = list(probabilities.prob_ICU_to_Death_2.values)"
   ]
  },
  {
   "cell_type": "markdown",
   "id": "117dccb9",
   "metadata": {},
   "source": [
    "## Function - Plotter"
   ]
  },
  {
   "cell_type": "code",
   "execution_count": 3,
   "id": "a71356bb",
   "metadata": {},
   "outputs": [
    {
     "data": {
      "text/html": [
       "\n",
       "\n",
       "<style>\n",
       "\n",
       "</style>\n",
       "\n",
       "<div id=\"fig_el54341404990866941447429613008\"></div>\n",
       "<script>\n",
       "function mpld3_load_lib(url, callback){\n",
       "  var s = document.createElement('script');\n",
       "  s.src = url;\n",
       "  s.async = true;\n",
       "  s.onreadystatechange = s.onload = callback;\n",
       "  s.onerror = function(){console.warn(\"failed to load library \" + url);};\n",
       "  document.getElementsByTagName(\"head\")[0].appendChild(s);\n",
       "}\n",
       "\n",
       "if(typeof(mpld3) !== \"undefined\" && mpld3._mpld3IsLoaded){\n",
       "   // already loaded: just create the figure\n",
       "   !function(mpld3){\n",
       "       \n",
       "       mpld3.draw_figure(\"fig_el54341404990866941447429613008\", {\"width\": 432.0, \"height\": 288.0, \"axes\": [], \"data\": {}, \"id\": \"el5434140499086694144\", \"plugins\": [{\"type\": \"reset\"}, {\"type\": \"zoom\", \"button\": true, \"enabled\": false}, {\"type\": \"boxzoom\", \"button\": true, \"enabled\": false}]});\n",
       "   }(mpld3);\n",
       "}else if(typeof define === \"function\" && define.amd){\n",
       "   // require.js is available: use it to load d3/mpld3\n",
       "   require.config({paths: {d3: \"https://d3js.org/d3.v5\"}});\n",
       "   require([\"d3\"], function(d3){\n",
       "      window.d3 = d3;\n",
       "      mpld3_load_lib(\"https://mpld3.github.io/js/mpld3.v0.5.5.js\", function(){\n",
       "         \n",
       "         mpld3.draw_figure(\"fig_el54341404990866941447429613008\", {\"width\": 432.0, \"height\": 288.0, \"axes\": [], \"data\": {}, \"id\": \"el5434140499086694144\", \"plugins\": [{\"type\": \"reset\"}, {\"type\": \"zoom\", \"button\": true, \"enabled\": false}, {\"type\": \"boxzoom\", \"button\": true, \"enabled\": false}]});\n",
       "      });\n",
       "    });\n",
       "}else{\n",
       "    // require.js not available: dynamically load d3 & mpld3\n",
       "    mpld3_load_lib(\"https://d3js.org/d3.v5.js\", function(){\n",
       "         mpld3_load_lib(\"https://mpld3.github.io/js/mpld3.v0.5.5.js\", function(){\n",
       "                 \n",
       "                 mpld3.draw_figure(\"fig_el54341404990866941447429613008\", {\"width\": 432.0, \"height\": 288.0, \"axes\": [], \"data\": {}, \"id\": \"el5434140499086694144\", \"plugins\": [{\"type\": \"reset\"}, {\"type\": \"zoom\", \"button\": true, \"enabled\": false}, {\"type\": \"boxzoom\", \"button\": true, \"enabled\": false}]});\n",
       "            })\n",
       "         });\n",
       "}\n",
       "</script>"
      ],
      "text/plain": [
       "<Figure size 432x288 with 0 Axes>"
      ]
     },
     "metadata": {},
     "output_type": "display_data"
    }
   ],
   "source": [
    "plt.gcf().subplots_adjust(bottom=0.15)\n",
    "\n",
    "def plotter(region,t, S, E, I, C, R, D, R_0, B, S_1=None, S_2=None, x_ticks=None):\n",
    "    if S_1 is not None and S_2 is not None:\n",
    "      print(f\"percentage going to ICU: {S_1*100}; percentage dying in ICU: {S_2 * 100}\")\n",
    "\n",
    "\n",
    "    f, ax = plt.subplots(1,1,figsize=(15,3))\n",
    "    if x_ticks is None:\n",
    "        ax.plot(t, S, 'b', alpha=0.7, linewidth=2, label='Susceptible')\n",
    "        ax.plot(t, E, 'y', alpha=0.7, linewidth=2, label='Exposed')\n",
    "        ax.plot(t, I, 'r', alpha=0.7, linewidth=2, label='Infected')\n",
    "        ax.plot(t, C, 'r--', alpha=0.7, linewidth=2, label='Critical')\n",
    "        ax.plot(t, R, 'g', alpha=0.7, linewidth=2, label='Recovered')\n",
    "        ax.plot(t, D, 'k', alpha=0.7, linewidth=2, label='Dead')\n",
    "    else:\n",
    "        ax.plot(x_ticks, S, 'b', alpha=0.7, linewidth=2, label='Susceptible')\n",
    "        ax.plot(x_ticks, E, 'y', alpha=0.7, linewidth=2, label='Exposed')\n",
    "        ax.plot(x_ticks, I, 'r', alpha=0.7, linewidth=2, label='Infected')\n",
    "        ax.plot(x_ticks, C, 'r--', alpha=0.7, linewidth=2, label='Critical')\n",
    "        ax.plot(x_ticks, R, 'g', alpha=0.7, linewidth=2, label='Recovered')\n",
    "        ax.plot(x_ticks, D, 'k', alpha=0.7, linewidth=2, label='Dead')\n",
    "\n",
    "        ax.xaxis.set_major_locator(mdates.YearLocator())\n",
    "        ax.xaxis.set_major_formatter(mdates.DateFormatter('%Y-%m-%d'))\n",
    "        ax.xaxis.set_minor_locator(mdates.MonthLocator())\n",
    "        f.autofmt_xdate()\n",
    "\n",
    "\n",
    "    ax.title.set_text('extended SEIR-Model')\n",
    "\n",
    "    ax.grid(b=True, which='major', c='w', lw=2, ls='-')\n",
    "    legend = ax.legend()\n",
    "    legend.get_frame().set_alpha(0.5)\n",
    "    for spine in ('top', 'right', 'bottom', 'left'):\n",
    "        ax.spines[spine].set_visible(False)\n",
    "    f.savefig(region+' figure 2.png')\n",
    "    plt.show();\n",
    "\n",
    "    f = plt.figure(figsize=(15,3))\n",
    "    # sp1\n",
    "    ax1 = f.add_subplot(131)\n",
    "    if x_ticks is None:\n",
    "        ax1.plot(t, R_0, 'b--', alpha=0.7, linewidth=2, label='R_0')\n",
    "    else:\n",
    "        ax1.plot(x_ticks, R_0, 'b--', alpha=0.7, linewidth=2, label='R_0')\n",
    "        ax1.xaxis.set_major_locator(mdates.YearLocator())\n",
    "        ax1.xaxis.set_major_formatter(mdates.DateFormatter('%Y-%m-%d'))\n",
    "        ax1.xaxis.set_minor_locator(mdates.MonthLocator())\n",
    "        f.autofmt_xdate()\n",
    "\n",
    " \n",
    "    ax1.title.set_text('R_0 over time')\n",
    "    ax1.grid(b=True, which='major', c='w', lw=2, ls='-')\n",
    "    legend = ax1.legend()\n",
    "    legend.get_frame().set_alpha(0.5)\n",
    "    for spine in ('top', 'right', 'bottom', 'left'):\n",
    "        ax.spines[spine].set_visible(False)\n",
    "    \n",
    "    # sp2\n",
    "    ax2 = f.add_subplot(132)\n",
    "    total_CFR = [0] + [100 * D[i] / sum(sigma*E[:i]) if sum(sigma*E[:i])>0 else 0 for i in range(1, len(t))]\n",
    "    daily_CFR = [0] + [100 * ((D[i]-D[i-1]) / ((R[i]-R[i-1]) + (D[i]-D[i-1]))) if max((R[i]-R[i-1]), (D[i]-D[i-1]))>10 else 0 for i in range(1, len(t))]\n",
    "    if x_ticks is None:\n",
    "        ax2.plot(t, total_CFR, 'r--', alpha=0.7, linewidth=2, label='total')\n",
    "        ax2.plot(t, daily_CFR, 'b--', alpha=0.7, linewidth=2, label='daily')\n",
    "    else:\n",
    "        ax2.plot(x_ticks, total_CFR, 'r--', alpha=0.7, linewidth=2, label='total')\n",
    "        ax2.plot(x_ticks, daily_CFR, 'b--', alpha=0.7, linewidth=2, label='daily')\n",
    "        ax2.xaxis.set_major_locator(mdates.YearLocator())\n",
    "        ax2.xaxis.set_major_formatter(mdates.DateFormatter('%Y-%m-%d'))\n",
    "        ax2.xaxis.set_minor_locator(mdates.MonthLocator())\n",
    "        f.autofmt_xdate()\n",
    "\n",
    "    ax2.title.set_text('Fatality Rate (%)')\n",
    "    ax2.grid(b=True, which='major', c='w', lw=2, ls='-')\n",
    "    legend = ax2.legend()\n",
    "    legend.get_frame().set_alpha(0.5)\n",
    "    for spine in ('top', 'right', 'bottom', 'left'):\n",
    "        ax.spines[spine].set_visible(False)\n",
    "\n",
    "    # sp3\n",
    "    ax3 = f.add_subplot(133)\n",
    "    newDs = [0] + [D[i]-D[i-1] for i in range(1, len(t))]\n",
    "    if x_ticks is None:\n",
    "        ax3.plot(t, newDs, 'r--', alpha=0.7, linewidth=2, label='total')\n",
    "        ax3.plot(t, [max(0, C[i]-B(i)) for i in range(len(t))], 'b--', alpha=0.7, linewidth=2, label=\"over capacity\")\n",
    "    else:\n",
    "        ax3.plot(x_ticks, newDs, 'r--', alpha=0.7, linewidth=2, label='total')\n",
    "        ax3.plot(x_ticks, [max(0, C[i]-B(i)) for i in range(len(t))], 'b--', alpha=0.7, linewidth=2, label=\"over capacity\")\n",
    "        ax3.xaxis.set_major_locator(mdates.YearLocator())\n",
    "        ax3.xaxis.set_major_formatter(mdates.DateFormatter('%Y-%m-%d'))\n",
    "        ax3.xaxis.set_minor_locator(mdates.MonthLocator())\n",
    "        f.autofmt_xdate()\n",
    "\n",
    "    ax3.title.set_text('Deaths per day')\n",
    "    ax3.yaxis.set_tick_params(length=0)\n",
    "    ax3.xaxis.set_tick_params(length=0)\n",
    "    ax3.grid(b=True, which='major', c='w', lw=2, ls='-')\n",
    "    legend = ax3.legend()\n",
    "    legend.get_frame().set_alpha(0.5)\n",
    "    for spine in ('top', 'right', 'bottom', 'left'):\n",
    "        ax.spines[spine].set_visible(False)\n",
    "    plt.savefig(region+' figure 3.png')\n",
    "    plt.show();"
   ]
  },
  {
   "cell_type": "markdown",
   "id": "872467a8",
   "metadata": {},
   "source": [
    "## Function - Past Model"
   ]
  },
  {
   "cell_type": "code",
   "execution_count": 4,
   "id": "4fcc4038",
   "metadata": {},
   "outputs": [],
   "source": [
    "def deriv(y, t, beta, gamma, sigma, N, eta, alpha, Beds):\n",
    "    S, E, I, C, R, D = y\n",
    "\n",
    "    dSdt = -beta(t) * I * S / N\n",
    "    dEdt = beta(t) * I * S / N - sigma * E\n",
    "    dIdt = sigma * E - 1/12.0 * eta * I - gamma * (1 - eta) * I\n",
    "    dCdt = 1/12.0 * eta * I - 1/7.5 * alpha * min(Beds(t), C) - max(0, C-Beds(t)) - (1 - alpha) * 1/6.5 * min(Beds(t), C)\n",
    "    dRdt = gamma * (1 - eta) * I + (1 - alpha) * 1/6.5 * min(Beds(t), C)\n",
    "    dDdt = 1/7.5 * alpha * min(Beds(t), C) + max(0, C-Beds(t))\n",
    "    return dSdt, dEdt, dIdt, dCdt, dRdt, dDdt"
   ]
  },
  {
   "cell_type": "code",
   "execution_count": 5,
   "id": "7b8347a2",
   "metadata": {},
   "outputs": [],
   "source": [
    "gamma = 1.0/9.0\n",
    "sigma = 1.0/3.0\n",
    "\n",
    "def logistic_R_0(t, R_0_start, k, x0, R_0_end):\n",
    "    return (R_0_start-R_0_end) / (1 + np.exp(-k*(-t+x0))) + R_0_end\n",
    "\n",
    "def Model(days, agegroups, beds_per_100k, R_0_start, k, x0, R_0_end, prob_I_to_C, prob_C_to_D, s):\n",
    "\n",
    "    def beta(t):\n",
    "        return logistic_R_0(t, R_0_start, k, x0, R_0_end) * gamma\n",
    "\n",
    "    N = sum(agegroups)\n",
    "    \n",
    "    def Beds(t):\n",
    "        beds_0 = beds_per_100k / 100_000 * N\n",
    "        return beds_0 + s*beds_0*t  # 0.003\n",
    "\n",
    "    y0 = N-1.0, 1.0, 0.0, 0.0, 0.0, 0.0\n",
    "    t = np.linspace(0, days-1, days)\n",
    "    ret = odeint(deriv, y0, t, args=(beta, gamma, sigma, N, prob_I_to_C, prob_C_to_D, Beds))\n",
    "    S, E, I, C, R, D = ret.T\n",
    "    R_0_over_time = [beta(i)/gamma for i in range(len(t))]\n",
    "\n",
    "    return t, S, E, I, C, R, D, R_0_over_time, Beds, prob_I_to_C, prob_C_to_D"
   ]
  },
  {
   "cell_type": "markdown",
   "id": "6b5e42c6",
   "metadata": {},
   "source": [
    "## Function - Adjusted Model"
   ]
  },
  {
   "cell_type": "code",
   "execution_count": 6,
   "id": "77ccfd15",
   "metadata": {},
   "outputs": [],
   "source": [
    "def deriv_adjust(y, t, beta, gamma, sigma, N, eta, alpha, Beds):\n",
    "    S_W, E_W, I_W, C_W, R_W, D_W,S_NW,E_NW,I_NW,C_NW,R_NW,D_NW = y\n",
    "\n",
    "    dS_Wdt = -beta(t) * I_W * S_W / N - beta(t) * (1-epsilon_out) * I_NW * S_W / N\n",
    "    dE_Wdt = beta(t) * I_W * S_W / N + beta(t) * (1-epsilon_out) * I_NW * S_W / N - sigma * E_W\n",
    "    dI_Wdt = sigma * E_W - 1/12.0 * eta * I_W - gamma * (1 - eta) * I_W\n",
    "    dC_Wdt = 1/12.0 * eta * I_W - 1/7.5 * alpha * min(Beds(t), C_W) - max(0, C_W-Beds(t)) - (1 - alpha) * 1/6.5 * min(Beds(t), C_W)\n",
    "    dR_Wdt = gamma * (1 - eta) * I_W + (1 - alpha) * 1/6.5 * min(Beds(t), C_W)\n",
    "    dD_Wdt = 1/7.5 * alpha * min(Beds(t), C_W) + max(0, C_W-Beds(t))\n",
    "\n",
    "    dS_NWdt = -beta(t) *(1-epsilon_in)* I_W * S_NW / N - beta(t) * (1-epsilon_in)*(1-epsilon_out) * I_NW * S_NW / N\n",
    "    dE_NWdt = beta(t) *(1-epsilon_in)* I_W * S_NW / N + beta(t) * (1-epsilon_in)*(1-epsilon_out) * I_NW * S_NW / N - sigma * E_NW\n",
    "    dI_NWdt = sigma * E_NW - 1/12.0 * eta * I_NW - gamma * (1 - eta) * I_NW\n",
    "    dC_NWdt = 1/12.0 * eta * I_NW - 1/7.5 * alpha * min(Beds(t), C_NW) - max(0, C_NW-Beds(t)) - (1 - alpha) * 1/6.5 * min(Beds(t), C_NW)\n",
    "    dR_NWdt = gamma * (1 - eta) * I_NW + (1 - alpha) * 1/6.5 * min(Beds(t), C_NW)\n",
    "    dD_NWdt = 1/7.5 * alpha * min(Beds(t), C_NW) + max(0, C_NW-Beds(t))\n",
    "    return dS_Wdt,dE_Wdt,dI_Wdt,dC_Wdt,dR_Wdt,dD_Wdt,dS_NWdt,dE_NWdt,dI_NWdt,dC_NWdt,dR_NWdt,dD_NWdt"
   ]
  },
  {
   "cell_type": "code",
   "execution_count": 7,
   "id": "3edcb85c",
   "metadata": {},
   "outputs": [
    {
     "ename": "SyntaxError",
     "evalue": "duplicate argument 'pi' in function definition (<ipython-input-7-73182b5d2d8a>, line 8)",
     "output_type": "error",
     "traceback": [
      "\u001b[0;36m  File \u001b[0;32m\"<ipython-input-7-73182b5d2d8a>\"\u001b[0;36m, line \u001b[0;32m8\u001b[0m\n\u001b[0;31m    def Model_Adjusted(pi,days, agegroups, beds_per_100k, R_0_start, k, x0, R_0_end, prob_I_to_C, prob_C_to_D, s,pi):\u001b[0m\n\u001b[0m    ^\u001b[0m\n\u001b[0;31mSyntaxError\u001b[0m\u001b[0;31m:\u001b[0m duplicate argument 'pi' in function definition\n"
     ]
    }
   ],
   "source": [
    "gamma = 1.0/9.0\n",
    "sigma = 1.0/3.0\n",
    "epsilon_out = 0.5\n",
    "epsilon_in = 0.5\n",
    "def logistic_R_0(t, R_0_start, k, x0, R_0_end):\n",
    "    return (R_0_start-R_0_end) / (1 + np.exp(-k*(-t+x0))) + R_0_end\n",
    "\n",
    "def Model_Adjusted(pi,days, agegroups, beds_per_100k, R_0_start, k, x0, R_0_end, prob_I_to_C, prob_C_to_D, s,pi):\n",
    "\n",
    "    def beta(t):\n",
    "        return logistic_R_0(t, R_0_start, k, x0, R_0_end) * gamma\n",
    "\n",
    "    N = sum(agegroups)\n",
    "    \n",
    "    def Beds(t):\n",
    "        beds_0 = beds_per_100k / 100_000 * N\n",
    "        return beds_0 + s*beds_0*t  # 0.003\n",
    "\n",
    "    y0 = (N-10)*(1-pi), 10, 0, 0, 0, 0,(N-1)*pi,0,0,0,0,0\n",
    "    t = np.linspace(0, days-1, days)\n",
    "    ret = odeint(deriv_adjust, y0, t, args=(beta, gamma, sigma, N, prob_I_to_C, prob_C_to_D, Beds))\n",
    "    S_W, E_W, I_W, C_W, R_W, D_W,S_NW,E_NW,I_NW,C_NW,R_NW,D_NW = ret.T\n",
    "    R_0_over_time = [beta(i)/gamma for i in range(len(t))]\n",
    "\n",
    "    return t, S_W, E_W, I_W, C_W, R_W, D_W,S_NW,E_NW,I_NW,C_NW,R_NW,D_NW, R_0_over_time, Beds, prob_I_to_C, prob_C_to_D"
   ]
  },
  {
   "cell_type": "markdown",
   "id": "1fc87526",
   "metadata": {},
   "source": [
    "## Function - Fitting"
   ]
  },
  {
   "cell_type": "code",
   "execution_count": null,
   "id": "973bfb0a",
   "metadata": {},
   "outputs": [],
   "source": [
    "def fitting_by_region(region,data):\n",
    "\n",
    "    agegroups = agegroup_lookup[\"United Kingdom\"]\n",
    "    beds_per_100k = beds_lookup[\"United Kingdom\"]\n",
    "    \n",
    "    params_init_min_max = {\"R_0_start\": (3.0, 2.0, 8.0), \"k\": (2.5, 0.01, 5.0), \"x0\": (90, 0, 120), \"R_0_end\": (0.9, 0.3, 3.5),\n",
    "                           \"prob_I_to_C\": (0.05, 0.01, 0.1), \"prob_C_to_D\": (0.5, 0.05, 0.8),\n",
    "                           \"s\": (0.003, 0.001, 0.01)}  # form: {parameter: (initial guess, minimum value, max value)}\n",
    "    days = outbreak_shift + len(data)\n",
    "    if outbreak_shift >= 0:\n",
    "        y_data = np.concatenate((np.zeros(outbreak_shift), data))\n",
    "    else:\n",
    "        y_data = y_data[-outbreak_shift:]\n",
    "\n",
    "    x_data = np.linspace(0, days - 1, days, dtype=int)  # x_data is just [0, 1, ..., max_days] array\n",
    "\n",
    "    def fitter(x, R_0_start, k, x0, R_0_end, prob_I_to_C, prob_C_to_D, s):\n",
    "        ret = Model(days, agegroups, beds_per_100k, R_0_start, k, x0, R_0_end, prob_I_to_C, prob_C_to_D, s)\n",
    "        return ret[6][x]\n",
    "    \n",
    "    mod = lmfit.Model(fitter)\n",
    "\n",
    "    for kwarg, (init, mini, maxi) in params_init_min_max.items():\n",
    "        mod.set_param_hint(str(kwarg), value=init, min=mini, max=maxi, vary=True)\n",
    "\n",
    "    params = mod.make_params()\n",
    "    fit_method = 'leastsq'\n",
    "    result = mod.fit(y_data, params, method=\"least_squares\", x=x_data)\n",
    "    print(result.best_values)\n",
    "    return result"
   ]
  },
  {
   "cell_type": "markdown",
   "id": "355afc84",
   "metadata": {},
   "source": [
    "## Function - Plot Result "
   ]
  },
  {
   "cell_type": "code",
   "execution_count": null,
   "id": "6eef69a0",
   "metadata": {},
   "outputs": [],
   "source": [
    "def plot_result(result): \n",
    "    result.plot_fit(datafmt=\"-\");\n",
    "    plt.title(region)\n",
    "    \n",
    "    plt.plot(range(10))\n",
    "    plt.savefig(region+' figure 1.png')\n",
    "    \n",
    "    full_days = 365\n",
    "    first_date = np.datetime64(covid_data.Date.min()) - np.timedelta64(outbreak_shift,'D')\n",
    "    x_ticks = pd.date_range(start=first_date, periods=full_days, freq=\"D\")\n",
    "    print(\"Prediction for \" + region)\n",
    "    plotter(region,*Model(full_days, agegroup_lookup[\"United Kingdom\"], beds_lookup[\"United Kingdom\"], **result.best_values), x_ticks=x_ticks);"
   ]
  },
  {
   "cell_type": "markdown",
   "id": "5957ffc1",
   "metadata": {},
   "source": [
    "## Script - Forcasting current parameters"
   ]
  },
  {
   "cell_type": "code",
   "execution_count": 8,
   "id": "ba426eb0",
   "metadata": {},
   "outputs": [],
   "source": [
    "England_data = pd.read_csv('England_Cumdeath_by_Region.csv')\n",
    "outbreak_shift = 30\n",
    "UK_data = pd.read_csv('UK_Data.csv')"
   ]
  },
  {
   "cell_type": "code",
   "execution_count": 9,
   "id": "d47977a5",
   "metadata": {},
   "outputs": [],
   "source": [
    "UK_Death = UK_data['cumDeaths28DaysByDeathDate'].to_list()[::-1][-30:]\n",
    "UK_Death = [number - UK_Death[0] for number in UK_Death]"
   ]
  },
  {
   "cell_type": "code",
   "execution_count": 10,
   "id": "ec298d4f",
   "metadata": {
    "scrolled": true
   },
   "outputs": [
    {
     "ename": "NameError",
     "evalue": "name 'fitting_by_region' is not defined",
     "output_type": "error",
     "traceback": [
      "\u001b[0;31m---------------------------------------------------------------------------\u001b[0m",
      "\u001b[0;31mNameError\u001b[0m                                 Traceback (most recent call last)",
      "\u001b[0;32m<ipython-input-10-d53f80ff0972>\u001b[0m in \u001b[0;36m<module>\u001b[0;34m\u001b[0m\n\u001b[1;32m      1\u001b[0m \u001b[0mregion\u001b[0m \u001b[0;34m=\u001b[0m \u001b[0;34m'UK'\u001b[0m\u001b[0;34m\u001b[0m\u001b[0;34m\u001b[0m\u001b[0m\n\u001b[0;32m----> 2\u001b[0;31m \u001b[0mresult\u001b[0m \u001b[0;34m=\u001b[0m \u001b[0mfitting_by_region\u001b[0m\u001b[0;34m(\u001b[0m\u001b[0mregion\u001b[0m\u001b[0;34m,\u001b[0m\u001b[0mUK_Death\u001b[0m\u001b[0;34m)\u001b[0m\u001b[0;34m\u001b[0m\u001b[0;34m\u001b[0m\u001b[0m\n\u001b[0m\u001b[1;32m      3\u001b[0m \u001b[0mfull_days\u001b[0m \u001b[0;34m=\u001b[0m \u001b[0;36m30\u001b[0m\u001b[0;34m\u001b[0m\u001b[0;34m\u001b[0m\u001b[0m\n\u001b[1;32m      4\u001b[0m \u001b[0mresult\u001b[0m \u001b[0;34m=\u001b[0m \u001b[0mModel\u001b[0m\u001b[0;34m(\u001b[0m\u001b[0mfull_days\u001b[0m\u001b[0;34m,\u001b[0m \u001b[0magegroup_lookup\u001b[0m\u001b[0;34m[\u001b[0m\u001b[0;34m\"United Kingdom\"\u001b[0m\u001b[0;34m]\u001b[0m\u001b[0;34m,\u001b[0m \u001b[0mbeds_lookup\u001b[0m\u001b[0;34m[\u001b[0m\u001b[0;34m\"United Kingdom\"\u001b[0m\u001b[0;34m]\u001b[0m\u001b[0;34m,\u001b[0m \u001b[0;34m**\u001b[0m\u001b[0mresult\u001b[0m\u001b[0;34m.\u001b[0m\u001b[0mbest_values\u001b[0m\u001b[0;34m)\u001b[0m\u001b[0;34m\u001b[0m\u001b[0;34m\u001b[0m\u001b[0m\n",
      "\u001b[0;31mNameError\u001b[0m: name 'fitting_by_region' is not defined"
     ]
    }
   ],
   "source": [
    "region = 'UK'\n",
    "result = fitting_by_region(region,UK_Death)\n",
    "full_days = 30\n",
    "result = Model(full_days, agegroup_lookup[\"United Kingdom\"], beds_lookup[\"United Kingdom\"], **result.best_values)"
   ]
  },
  {
   "cell_type": "code",
   "execution_count": null,
   "id": "fb48376e",
   "metadata": {},
   "outputs": [],
   "source": [
    "result"
   ]
  },
  {
   "cell_type": "code",
   "execution_count": null,
   "id": "624b18e8",
   "metadata": {},
   "outputs": [],
   "source": []
  },
  {
   "cell_type": "code",
   "execution_count": null,
   "id": "a35ba025",
   "metadata": {},
   "outputs": [],
   "source": []
  },
  {
   "cell_type": "code",
   "execution_count": null,
   "id": "112693f3",
   "metadata": {},
   "outputs": [],
   "source": []
  }
 ],
 "metadata": {
  "kernelspec": {
   "display_name": "Python 3",
   "language": "python",
   "name": "python3"
  },
  "language_info": {
   "codemirror_mode": {
    "name": "ipython",
    "version": 3
   },
   "file_extension": ".py",
   "mimetype": "text/x-python",
   "name": "python",
   "nbconvert_exporter": "python",
   "pygments_lexer": "ipython3",
   "version": "3.8.8"
  }
 },
 "nbformat": 4,
 "nbformat_minor": 5
}
