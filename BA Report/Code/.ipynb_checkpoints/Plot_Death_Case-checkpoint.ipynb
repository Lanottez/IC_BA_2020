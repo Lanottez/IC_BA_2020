{
 "cells": [
  {
   "cell_type": "code",
   "execution_count": 1,
   "metadata": {},
   "outputs": [],
   "source": [
    "import numpy as np\n",
    "import pandas as pd"
   ]
  },
  {
   "cell_type": "code",
   "execution_count": 2,
   "metadata": {},
   "outputs": [
    {
     "name": "stdout",
     "output_type": "stream",
     "text": [
      " 驱动器 F 中的卷是 Files\n",
      " 卷的序列号是 CC8A-3356\n",
      "\n",
      " F:\\IC_BA_2020\\BA Report\\Untitled Folder 的目录\n",
      "\n",
      "2021/08/26  22:57    <DIR>          .\n",
      "2021/08/26  22:57    <DIR>          ..\n",
      "2021/08/26  22:57    <DIR>          .ipynb_checkpoints\n",
      "2021/08/26  22:57                72 Untitled.ipynb\n",
      "               1 个文件             72 字节\n",
      "               3 个目录 245,190,471,680 可用字节\n"
     ]
    }
   ],
   "source": [
    "ls"
   ]
  }
 ],
 "metadata": {
  "kernelspec": {
   "display_name": "Python 3",
   "language": "python",
   "name": "python3"
  },
  "language_info": {
   "codemirror_mode": {
    "name": "ipython",
    "version": 3
   },
   "file_extension": ".py",
   "mimetype": "text/x-python",
   "name": "python",
   "nbconvert_exporter": "python",
   "pygments_lexer": "ipython3",
   "version": "3.8.5"
  }
 },
 "nbformat": 4,
 "nbformat_minor": 4
}
