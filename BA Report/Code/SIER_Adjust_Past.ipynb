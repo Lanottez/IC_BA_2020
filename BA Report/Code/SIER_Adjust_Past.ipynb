{
 "cells": [
  {
   "cell_type": "code",
   "execution_count": 1,
   "id": "29009fa1",
   "metadata": {},
   "outputs": [],
   "source": [
    "import numpy as np\n",
    "import pandas as pd\n",
    "pd.options.mode.chained_assignment = None  # default='warn'\n",
    "\n",
    "import matplotlib.pyplot as plt\n",
    "import matplotlib.dates as mdates\n",
    "%matplotlib inline \n",
    "#!pip install mpld3\n",
    "import mpld3\n",
    "mpld3.enable_notebook()\n",
    "\n",
    "from scipy.integrate import odeint\n",
    "#!pip install lmfit\n",
    "import lmfit\n",
    "from lmfit.lineshapes import gaussian, lorentzian\n",
    "\n",
    "import warnings\n",
    "warnings.filterwarnings('ignore')\n",
    "from PIL import Image"
   ]
  },
  {
   "cell_type": "markdown",
   "id": "8be1a183",
   "metadata": {},
   "source": [
    "## Script - Supplemental and Coronavirus Data"
   ]
  },
  {
   "cell_type": "code",
   "execution_count": 2,
   "id": "7da66304",
   "metadata": {},
   "outputs": [],
   "source": [
    "# !! if you get a timeout-error, just click on the link and download the data manually !!\n",
    "\n",
    "# read the data\n",
    "beds = pd.read_csv(\"beds.csv\", header=0)\n",
    "agegroups = pd.read_csv(\"agegroups.csv\")\n",
    "probabilities = pd.read_csv(\"probabilities.csv\")\n",
    "covid_data = pd.read_csv('time_series_covid19_deaths_global_narrow.csv', parse_dates=[\"Date\"], skiprows=[1])\n",
    "covid_data[\"Location\"] = covid_data[\"Country/Region\"]\n",
    "\n",
    "# create some dicts for fast lookup\n",
    "# 1. beds\n",
    "beds_lookup = dict(zip(beds[\"Country\"], beds[\"ICU_Beds\"]))\n",
    "# 2. agegroups\n",
    "agegroup_lookup = dict(zip(agegroups['Location'], agegroups[['0_9', '10_19', '20_29', '30_39', '40_49', '50_59', '60_69', '70_79', '80_89', '90_100']].values))\n",
    "\n",
    "# store the probabilities collected\n",
    "prob_I_to_C_1 = list(probabilities.prob_I_to_ICU_1.values)\n",
    "prob_I_to_C_2 = list(probabilities.prob_I_to_ICU_2.values)\n",
    "prob_C_to_Death_1 = list(probabilities.prob_ICU_to_Death_1.values)\n",
    "prob_C_to_Death_2 = list(probabilities.prob_ICU_to_Death_2.values)"
   ]
  },
  {
   "cell_type": "markdown",
   "id": "117dccb9",
   "metadata": {},
   "source": [
    "## Function - Plotter"
   ]
  },
  {
   "cell_type": "code",
   "execution_count": 3,
   "id": "a71356bb",
   "metadata": {},
   "outputs": [
    {
     "data": {
      "text/html": [
       "\n",
       "\n",
       "<style>\n",
       "\n",
       "</style>\n",
       "\n",
       "<div id=\"fig_el31801405488155812482066894816\"></div>\n",
       "<script>\n",
       "function mpld3_load_lib(url, callback){\n",
       "  var s = document.createElement('script');\n",
       "  s.src = url;\n",
       "  s.async = true;\n",
       "  s.onreadystatechange = s.onload = callback;\n",
       "  s.onerror = function(){console.warn(\"failed to load library \" + url);};\n",
       "  document.getElementsByTagName(\"head\")[0].appendChild(s);\n",
       "}\n",
       "\n",
       "if(typeof(mpld3) !== \"undefined\" && mpld3._mpld3IsLoaded){\n",
       "   // already loaded: just create the figure\n",
       "   !function(mpld3){\n",
       "       \n",
       "       mpld3.draw_figure(\"fig_el31801405488155812482066894816\", {\"width\": 432.0, \"height\": 288.0, \"axes\": [], \"data\": {}, \"id\": \"el3180140548815581248\", \"plugins\": [{\"type\": \"reset\"}, {\"type\": \"zoom\", \"button\": true, \"enabled\": false}, {\"type\": \"boxzoom\", \"button\": true, \"enabled\": false}]});\n",
       "   }(mpld3);\n",
       "}else if(typeof define === \"function\" && define.amd){\n",
       "   // require.js is available: use it to load d3/mpld3\n",
       "   require.config({paths: {d3: \"https://d3js.org/d3.v5\"}});\n",
       "   require([\"d3\"], function(d3){\n",
       "      window.d3 = d3;\n",
       "      mpld3_load_lib(\"https://mpld3.github.io/js/mpld3.v0.5.5.js\", function(){\n",
       "         \n",
       "         mpld3.draw_figure(\"fig_el31801405488155812482066894816\", {\"width\": 432.0, \"height\": 288.0, \"axes\": [], \"data\": {}, \"id\": \"el3180140548815581248\", \"plugins\": [{\"type\": \"reset\"}, {\"type\": \"zoom\", \"button\": true, \"enabled\": false}, {\"type\": \"boxzoom\", \"button\": true, \"enabled\": false}]});\n",
       "      });\n",
       "    });\n",
       "}else{\n",
       "    // require.js not available: dynamically load d3 & mpld3\n",
       "    mpld3_load_lib(\"https://d3js.org/d3.v5.js\", function(){\n",
       "         mpld3_load_lib(\"https://mpld3.github.io/js/mpld3.v0.5.5.js\", function(){\n",
       "                 \n",
       "                 mpld3.draw_figure(\"fig_el31801405488155812482066894816\", {\"width\": 432.0, \"height\": 288.0, \"axes\": [], \"data\": {}, \"id\": \"el3180140548815581248\", \"plugins\": [{\"type\": \"reset\"}, {\"type\": \"zoom\", \"button\": true, \"enabled\": false}, {\"type\": \"boxzoom\", \"button\": true, \"enabled\": false}]});\n",
       "            })\n",
       "         });\n",
       "}\n",
       "</script>"
      ],
      "text/plain": [
       "<Figure size 432x288 with 0 Axes>"
      ]
     },
     "metadata": {},
     "output_type": "display_data"
    }
   ],
   "source": [
    "plt.gcf().subplots_adjust(bottom=0.15)\n",
    "\n",
    "def plotter(region,t, S, E, I, C, R, D, R_0, B, S_1=None, S_2=None, x_ticks=None):\n",
    "    if S_1 is not None and S_2 is not None:\n",
    "      print(f\"percentage going to ICU: {S_1*100}; percentage dying in ICU: {S_2 * 100}\")\n",
    "\n",
    "\n",
    "    f, ax = plt.subplots(1,1,figsize=(15,3))\n",
    "    if x_ticks is None:\n",
    "        ax.plot(t, S, 'b', alpha=0.7, linewidth=2, label='Susceptible')\n",
    "        ax.plot(t, E, 'y', alpha=0.7, linewidth=2, label='Exposed')\n",
    "        ax.plot(t, I, 'r', alpha=0.7, linewidth=2, label='Infected')\n",
    "        ax.plot(t, C, 'r--', alpha=0.7, linewidth=2, label='Critical')\n",
    "        ax.plot(t, R, 'g', alpha=0.7, linewidth=2, label='Recovered')\n",
    "        ax.plot(t, D, 'k', alpha=0.7, linewidth=2, label='Dead')\n",
    "    else:\n",
    "        ax.plot(x_ticks, S, 'b', alpha=0.7, linewidth=2, label='Susceptible')\n",
    "        ax.plot(x_ticks, E, 'y', alpha=0.7, linewidth=2, label='Exposed')\n",
    "        ax.plot(x_ticks, I, 'r', alpha=0.7, linewidth=2, label='Infected')\n",
    "        ax.plot(x_ticks, C, 'r--', alpha=0.7, linewidth=2, label='Critical')\n",
    "        ax.plot(x_ticks, R, 'g', alpha=0.7, linewidth=2, label='Recovered')\n",
    "        ax.plot(x_ticks, D, 'k', alpha=0.7, linewidth=2, label='Dead')\n",
    "\n",
    "        ax.xaxis.set_major_locator(mdates.YearLocator())\n",
    "        ax.xaxis.set_major_formatter(mdates.DateFormatter('%Y-%m-%d'))\n",
    "        ax.xaxis.set_minor_locator(mdates.MonthLocator())\n",
    "        f.autofmt_xdate()\n",
    "\n",
    "\n",
    "    ax.title.set_text('extended SEIR-Model')\n",
    "\n",
    "    ax.grid(b=True, which='major', c='w', lw=2, ls='-')\n",
    "    legend = ax.legend()\n",
    "    legend.get_frame().set_alpha(0.5)\n",
    "    for spine in ('top', 'right', 'bottom', 'left'):\n",
    "        ax.spines[spine].set_visible(False)\n",
    "    f.savefig(region+' figure 2.png')\n",
    "    plt.show();\n",
    "\n",
    "    f = plt.figure(figsize=(15,3))\n",
    "    # sp1\n",
    "    ax1 = f.add_subplot(131)\n",
    "    if x_ticks is None:\n",
    "        ax1.plot(t, R_0, 'b--', alpha=0.7, linewidth=2, label='R_0')\n",
    "    else:\n",
    "        ax1.plot(x_ticks, R_0, 'b--', alpha=0.7, linewidth=2, label='R_0')\n",
    "        ax1.xaxis.set_major_locator(mdates.YearLocator())\n",
    "        ax1.xaxis.set_major_formatter(mdates.DateFormatter('%Y-%m-%d'))\n",
    "        ax1.xaxis.set_minor_locator(mdates.MonthLocator())\n",
    "        f.autofmt_xdate()\n",
    "\n",
    " \n",
    "    ax1.title.set_text('R_0 over time')\n",
    "    ax1.grid(b=True, which='major', c='w', lw=2, ls='-')\n",
    "    legend = ax1.legend()\n",
    "    legend.get_frame().set_alpha(0.5)\n",
    "    for spine in ('top', 'right', 'bottom', 'left'):\n",
    "        ax.spines[spine].set_visible(False)\n",
    "    \n",
    "    # sp2\n",
    "    ax2 = f.add_subplot(132)\n",
    "    total_CFR = [0] + [100 * D[i] / sum(sigma*E[:i]) if sum(sigma*E[:i])>0 else 0 for i in range(1, len(t))]\n",
    "    daily_CFR = [0] + [100 * ((D[i]-D[i-1]) / ((R[i]-R[i-1]) + (D[i]-D[i-1]))) if max((R[i]-R[i-1]), (D[i]-D[i-1]))>10 else 0 for i in range(1, len(t))]\n",
    "    if x_ticks is None:\n",
    "        ax2.plot(t, total_CFR, 'r--', alpha=0.7, linewidth=2, label='total')\n",
    "        ax2.plot(t, daily_CFR, 'b--', alpha=0.7, linewidth=2, label='daily')\n",
    "    else:\n",
    "        ax2.plot(x_ticks, total_CFR, 'r--', alpha=0.7, linewidth=2, label='total')\n",
    "        ax2.plot(x_ticks, daily_CFR, 'b--', alpha=0.7, linewidth=2, label='daily')\n",
    "        ax2.xaxis.set_major_locator(mdates.YearLocator())\n",
    "        ax2.xaxis.set_major_formatter(mdates.DateFormatter('%Y-%m-%d'))\n",
    "        ax2.xaxis.set_minor_locator(mdates.MonthLocator())\n",
    "        f.autofmt_xdate()\n",
    "\n",
    "    ax2.title.set_text('Fatality Rate (%)')\n",
    "    ax2.grid(b=True, which='major', c='w', lw=2, ls='-')\n",
    "    legend = ax2.legend()\n",
    "    legend.get_frame().set_alpha(0.5)\n",
    "    for spine in ('top', 'right', 'bottom', 'left'):\n",
    "        ax.spines[spine].set_visible(False)\n",
    "\n",
    "    # sp3\n",
    "    ax3 = f.add_subplot(133)\n",
    "    newDs = [0] + [D[i]-D[i-1] for i in range(1, len(t))]\n",
    "    if x_ticks is None:\n",
    "        ax3.plot(t, newDs, 'r--', alpha=0.7, linewidth=2, label='total')\n",
    "        ax3.plot(t, [max(0, C[i]-B(i)) for i in range(len(t))], 'b--', alpha=0.7, linewidth=2, label=\"over capacity\")\n",
    "    else:\n",
    "        ax3.plot(x_ticks, newDs, 'r--', alpha=0.7, linewidth=2, label='total')\n",
    "        ax3.plot(x_ticks, [max(0, C[i]-B(i)) for i in range(len(t))], 'b--', alpha=0.7, linewidth=2, label=\"over capacity\")\n",
    "        ax3.xaxis.set_major_locator(mdates.YearLocator())\n",
    "        ax3.xaxis.set_major_formatter(mdates.DateFormatter('%Y-%m-%d'))\n",
    "        ax3.xaxis.set_minor_locator(mdates.MonthLocator())\n",
    "        f.autofmt_xdate()\n",
    "\n",
    "    ax3.title.set_text('Deaths per day')\n",
    "    ax3.yaxis.set_tick_params(length=0)\n",
    "    ax3.xaxis.set_tick_params(length=0)\n",
    "    ax3.grid(b=True, which='major', c='w', lw=2, ls='-')\n",
    "    legend = ax3.legend()\n",
    "    legend.get_frame().set_alpha(0.5)\n",
    "    for spine in ('top', 'right', 'bottom', 'left'):\n",
    "        ax.spines[spine].set_visible(False)\n",
    "    plt.savefig(region+' figure 3.png')\n",
    "    plt.show();"
   ]
  },
  {
   "cell_type": "markdown",
   "id": "6b5e42c6",
   "metadata": {},
   "source": [
    "## Function - Adjusted Model"
   ]
  },
  {
   "cell_type": "code",
   "execution_count": 13,
   "id": "77ccfd15",
   "metadata": {},
   "outputs": [],
   "source": [
    "def deriv_adjust(y, t, beta, gamma, sigma, N, eta, alpha, Beds):\n",
    "    S_W, E_W, I_W, C_W, R_W, D_W,S_NW,E_NW,I_NW,C_NW,R_NW,D_NW = y\n",
    "\n",
    "    dS_Wdt = -beta(t) * I_W * S_W / N - beta(t) * (1-epsilon_out) * I_NW * S_W / N\n",
    "    dE_Wdt = beta(t) * I_W * S_W / N + beta(t) * (1-epsilon_out) * I_NW * S_W / N - sigma * E_W\n",
    "    dI_Wdt = sigma * E_W - 1/12.0 * eta * I_W - gamma * (1 - eta) * I_W\n",
    "    dC_Wdt = 1/12.0 * eta * I_W - 1/7.5 * alpha * min(Beds(t), C_W) - max(0, C_W-Beds(t)) - (1 - alpha) * 1/6.5 * min(Beds(t), C_W)\n",
    "    dR_Wdt = gamma * (1 - eta) * I_W + (1 - alpha) * 1/6.5 * min(Beds(t), C_W)\n",
    "    dD_Wdt = 1/7.5 * alpha * min(Beds(t), C_W) + max(0, C_W-Beds(t))\n",
    "\n",
    "    dS_NWdt = -beta(t) *(1-epsilon_in)* I_W * S_NW / N - beta(t) * (1-epsilon_in)*(1-epsilon_out) * I_NW * S_NW / N\n",
    "    dE_NWdt = beta(t) *(1-epsilon_in)* I_W * S_NW / N + beta(t) * (1-epsilon_in)*(1-epsilon_out) * I_NW * S_NW / N - sigma * E_NW\n",
    "    dI_NWdt = sigma * E_NW - 1/12.0 * eta * I_NW - gamma * (1 - eta) * I_NW\n",
    "    dC_NWdt = 1/12.0 * eta * I_NW - 1/7.5 * alpha * min(Beds(t), C_NW) - max(0, C_NW-Beds(t)) - (1 - alpha) * 1/6.5 * min(Beds(t), C_NW)\n",
    "    dR_NWdt = gamma * (1 - eta) * I_NW + (1 - alpha) * 1/6.5 * min(Beds(t), C_NW)\n",
    "    dD_NWdt = 1/7.5 * alpha * min(Beds(t), C_NW) + max(0, C_NW-Beds(t))\n",
    "    return dS_Wdt,dE_Wdt,dI_Wdt,dC_Wdt,dR_Wdt,dD_Wdt,dS_NWdt,dE_NWdt,dI_NWdt,dC_NWdt,dR_NWdt,dD_NWdt"
   ]
  },
  {
   "cell_type": "code",
   "execution_count": 14,
   "id": "3edcb85c",
   "metadata": {},
   "outputs": [],
   "source": [
    "gamma = 1.0/9.0\n",
    "sigma = 1.0/3.0\n",
    "epsilon_out = 0.5\n",
    "epsilon_in = 0.5\n",
    "def logistic_R_0(t, R_0_start, k, x0, R_0_end):\n",
    "    return (R_0_start-R_0_end) / (1 + np.exp(-k*(-t+x0))) + R_0_end\n",
    "\n",
    "def Model_Adjusted(pi,days, agegroups, beds_per_100k, R_0_start, k, x0, R_0_end, prob_I_to_C, prob_C_to_D, s):\n",
    "\n",
    "    def beta(t):\n",
    "        return logistic_R_0(t, R_0_start, k, x0, R_0_end) * gamma\n",
    "\n",
    "    N = sum(agegroups)\n",
    "    \n",
    "    def Beds(t):\n",
    "        beds_0 = beds_per_100k / 100_000 * N\n",
    "        return beds_0 + s*beds_0*t  # 0.003\n",
    "\n",
    "    y0 = (N-10)*(1-pi), 10, 0, 0, 0, 0,(N-1)*pi,0,0,0,0,0\n",
    "    t = np.linspace(0, days-1, days)\n",
    "    ret = odeint(deriv_adjust, y0, t, args=(beta, gamma, sigma, N, prob_I_to_C, prob_C_to_D, Beds))\n",
    "    S_W, E_W, I_W, C_W, R_W, D_W,S_NW,E_NW,I_NW,C_NW,R_NW,D_NW = ret.T\n",
    "    R_0_over_time = [beta(i)/gamma for i in range(len(t))]\n",
    "\n",
    "    return t, S_W, E_W, I_W, C_W, R_W, D_W,S_NW,E_NW,I_NW,C_NW,R_NW,D_NW, R_0_over_time, Beds, prob_I_to_C, prob_C_to_D"
   ]
  },
  {
   "cell_type": "markdown",
   "id": "1fc87526",
   "metadata": {},
   "source": [
    "## Function - Fitting"
   ]
  },
  {
   "cell_type": "code",
   "execution_count": 15,
   "id": "973bfb0a",
   "metadata": {},
   "outputs": [],
   "source": [
    "def fitting_by_region(region):\n",
    "    if region == 'UK':\n",
    "        data = UK_data['cumDeaths28DaysByDeathDate'].to_list()[::-1][0:60]\n",
    "    else:\n",
    "        data = England_data[England_data.areaName == region]['cumDeaths28DaysByDeathDate'].to_list()[::-1][0:60]\n",
    "    agegroups = agegroup_lookup[\"United Kingdom\"]\n",
    "    beds_per_100k = beds_lookup[\"United Kingdom\"]\n",
    "    \n",
    "    params_init_min_max = {\"R_0_start\": (3.0, 2.0, 8.0), \"k\": (2.5, 0.01, 5.0), \"x0\": (90, 0, 120), \"R_0_end\": (0.9, 0.3, 3.5),\n",
    "                           \"prob_I_to_C\": (0.05, 0.01, 0.1), \"prob_C_to_D\": (0.5, 0.05, 0.8),\n",
    "                           \"s\": (0.003, 0.001, 0.01)}  # form: {parameter: (initial guess, minimum value, max value)}\n",
    "    days = outbreak_shift + len(data)\n",
    "    if outbreak_shift >= 0:\n",
    "        y_data = np.concatenate((np.zeros(outbreak_shift), data))\n",
    "    else:\n",
    "        y_data = y_data[-outbreak_shift:]\n",
    "\n",
    "    x_data = np.linspace(0, days - 1, days, dtype=int)  # x_data is just [0, 1, ..., max_days] array\n",
    "\n",
    "    def fitter(x, R_0_start, k, x0, R_0_end, prob_I_to_C, prob_C_to_D, s):\n",
    "        ret = Model(days, agegroups, beds_per_100k, R_0_start, k, x0, R_0_end, prob_I_to_C, prob_C_to_D, s)\n",
    "        return ret[6][x]\n",
    "    \n",
    "    mod = lmfit.Model(fitter)\n",
    "\n",
    "    for kwarg, (init, mini, maxi) in params_init_min_max.items():\n",
    "        mod.set_param_hint(str(kwarg), value=init, min=mini, max=maxi, vary=True)\n",
    "\n",
    "    params = mod.make_params()\n",
    "    fit_method = 'leastsq'\n",
    "    result = mod.fit(y_data, params, method=\"least_squares\", x=x_data)\n",
    "    print(result.best_values)\n",
    "    return result"
   ]
  },
  {
   "cell_type": "markdown",
   "id": "355afc84",
   "metadata": {},
   "source": [
    "## Function - Plot Result "
   ]
  },
  {
   "cell_type": "code",
   "execution_count": 16,
   "id": "6eef69a0",
   "metadata": {},
   "outputs": [],
   "source": [
    "def plot_result(result): \n",
    "    result.plot_fit(datafmt=\"-\");\n",
    "    plt.title(region)\n",
    "    \n",
    "    plt.plot(range(10))\n",
    "    plt.savefig(region+' figure 1.png')\n",
    "    \n",
    "    full_days = 60\n",
    "    first_date = np.datetime64(covid_data.Date.min()) - np.timedelta64(outbreak_shift,'D')\n",
    "    x_ticks = pd.date_range(start=first_date, periods=full_days, freq=\"D\")\n",
    "    print(\"Prediction for \" + region)\n",
    "    plotter(region,*Model(full_days, agegroup_lookup[\"United Kingdom\"], beds_lookup[\"United Kingdom\"], **result.best_values), x_ticks=x_ticks);"
   ]
  },
  {
   "cell_type": "markdown",
   "id": "5957ffc1",
   "metadata": {},
   "source": [
    "## Script - Predicting Death Under Different Coverage"
   ]
  },
  {
   "cell_type": "code",
   "execution_count": 21,
   "id": "2df79479",
   "metadata": {},
   "outputs": [
    {
     "ename": "FileNotFoundError",
     "evalue": "[Errno 2] No such file or directory: '\\\\Data\\\\England_Cumdeath_by_Region.csv'",
     "output_type": "error",
     "traceback": [
      "\u001b[0;31m---------------------------------------------------------------------------\u001b[0m",
      "\u001b[0;31mFileNotFoundError\u001b[0m                         Traceback (most recent call last)",
      "\u001b[0;32m<ipython-input-21-0c11f50260c0>\u001b[0m in \u001b[0;36m<module>\u001b[0;34m\u001b[0m\n\u001b[0;32m----> 1\u001b[0;31m \u001b[0mEngland_data\u001b[0m \u001b[0;34m=\u001b[0m \u001b[0mpd\u001b[0m\u001b[0;34m.\u001b[0m\u001b[0mread_csv\u001b[0m\u001b[0;34m(\u001b[0m\u001b[0;34m'\\Data\\England_Cumdeath_by_Region.csv'\u001b[0m\u001b[0;34m)\u001b[0m\u001b[0;34m\u001b[0m\u001b[0;34m\u001b[0m\u001b[0m\n\u001b[0m\u001b[1;32m      2\u001b[0m \u001b[0moutbreak_shift\u001b[0m \u001b[0;34m=\u001b[0m \u001b[0;36m30\u001b[0m\u001b[0;34m\u001b[0m\u001b[0;34m\u001b[0m\u001b[0m\n\u001b[1;32m      3\u001b[0m \u001b[0mUK_data\u001b[0m \u001b[0;34m=\u001b[0m \u001b[0mpd\u001b[0m\u001b[0;34m.\u001b[0m\u001b[0mread_csv\u001b[0m\u001b[0;34m(\u001b[0m\u001b[0;34m'UK_Data.csv'\u001b[0m\u001b[0;34m)\u001b[0m\u001b[0;34m\u001b[0m\u001b[0;34m\u001b[0m\u001b[0m\n",
      "\u001b[0;32m~/opt/anaconda3/lib/python3.8/site-packages/pandas/io/parsers.py\u001b[0m in \u001b[0;36mread_csv\u001b[0;34m(filepath_or_buffer, sep, delimiter, header, names, index_col, usecols, squeeze, prefix, mangle_dupe_cols, dtype, engine, converters, true_values, false_values, skipinitialspace, skiprows, skipfooter, nrows, na_values, keep_default_na, na_filter, verbose, skip_blank_lines, parse_dates, infer_datetime_format, keep_date_col, date_parser, dayfirst, cache_dates, iterator, chunksize, compression, thousands, decimal, lineterminator, quotechar, quoting, doublequote, escapechar, comment, encoding, dialect, error_bad_lines, warn_bad_lines, delim_whitespace, low_memory, memory_map, float_precision, storage_options)\u001b[0m\n\u001b[1;32m    608\u001b[0m     \u001b[0mkwds\u001b[0m\u001b[0;34m.\u001b[0m\u001b[0mupdate\u001b[0m\u001b[0;34m(\u001b[0m\u001b[0mkwds_defaults\u001b[0m\u001b[0;34m)\u001b[0m\u001b[0;34m\u001b[0m\u001b[0;34m\u001b[0m\u001b[0m\n\u001b[1;32m    609\u001b[0m \u001b[0;34m\u001b[0m\u001b[0m\n\u001b[0;32m--> 610\u001b[0;31m     \u001b[0;32mreturn\u001b[0m \u001b[0m_read\u001b[0m\u001b[0;34m(\u001b[0m\u001b[0mfilepath_or_buffer\u001b[0m\u001b[0;34m,\u001b[0m \u001b[0mkwds\u001b[0m\u001b[0;34m)\u001b[0m\u001b[0;34m\u001b[0m\u001b[0;34m\u001b[0m\u001b[0m\n\u001b[0m\u001b[1;32m    611\u001b[0m \u001b[0;34m\u001b[0m\u001b[0m\n\u001b[1;32m    612\u001b[0m \u001b[0;34m\u001b[0m\u001b[0m\n",
      "\u001b[0;32m~/opt/anaconda3/lib/python3.8/site-packages/pandas/io/parsers.py\u001b[0m in \u001b[0;36m_read\u001b[0;34m(filepath_or_buffer, kwds)\u001b[0m\n\u001b[1;32m    460\u001b[0m \u001b[0;34m\u001b[0m\u001b[0m\n\u001b[1;32m    461\u001b[0m     \u001b[0;31m# Create the parser.\u001b[0m\u001b[0;34m\u001b[0m\u001b[0;34m\u001b[0m\u001b[0;34m\u001b[0m\u001b[0m\n\u001b[0;32m--> 462\u001b[0;31m     \u001b[0mparser\u001b[0m \u001b[0;34m=\u001b[0m \u001b[0mTextFileReader\u001b[0m\u001b[0;34m(\u001b[0m\u001b[0mfilepath_or_buffer\u001b[0m\u001b[0;34m,\u001b[0m \u001b[0;34m**\u001b[0m\u001b[0mkwds\u001b[0m\u001b[0;34m)\u001b[0m\u001b[0;34m\u001b[0m\u001b[0;34m\u001b[0m\u001b[0m\n\u001b[0m\u001b[1;32m    463\u001b[0m \u001b[0;34m\u001b[0m\u001b[0m\n\u001b[1;32m    464\u001b[0m     \u001b[0;32mif\u001b[0m \u001b[0mchunksize\u001b[0m \u001b[0;32mor\u001b[0m \u001b[0miterator\u001b[0m\u001b[0;34m:\u001b[0m\u001b[0;34m\u001b[0m\u001b[0;34m\u001b[0m\u001b[0m\n",
      "\u001b[0;32m~/opt/anaconda3/lib/python3.8/site-packages/pandas/io/parsers.py\u001b[0m in \u001b[0;36m__init__\u001b[0;34m(self, f, engine, **kwds)\u001b[0m\n\u001b[1;32m    817\u001b[0m             \u001b[0mself\u001b[0m\u001b[0;34m.\u001b[0m\u001b[0moptions\u001b[0m\u001b[0;34m[\u001b[0m\u001b[0;34m\"has_index_names\"\u001b[0m\u001b[0;34m]\u001b[0m \u001b[0;34m=\u001b[0m \u001b[0mkwds\u001b[0m\u001b[0;34m[\u001b[0m\u001b[0;34m\"has_index_names\"\u001b[0m\u001b[0;34m]\u001b[0m\u001b[0;34m\u001b[0m\u001b[0;34m\u001b[0m\u001b[0m\n\u001b[1;32m    818\u001b[0m \u001b[0;34m\u001b[0m\u001b[0m\n\u001b[0;32m--> 819\u001b[0;31m         \u001b[0mself\u001b[0m\u001b[0;34m.\u001b[0m\u001b[0m_engine\u001b[0m \u001b[0;34m=\u001b[0m \u001b[0mself\u001b[0m\u001b[0;34m.\u001b[0m\u001b[0m_make_engine\u001b[0m\u001b[0;34m(\u001b[0m\u001b[0mself\u001b[0m\u001b[0;34m.\u001b[0m\u001b[0mengine\u001b[0m\u001b[0;34m)\u001b[0m\u001b[0;34m\u001b[0m\u001b[0;34m\u001b[0m\u001b[0m\n\u001b[0m\u001b[1;32m    820\u001b[0m \u001b[0;34m\u001b[0m\u001b[0m\n\u001b[1;32m    821\u001b[0m     \u001b[0;32mdef\u001b[0m \u001b[0mclose\u001b[0m\u001b[0;34m(\u001b[0m\u001b[0mself\u001b[0m\u001b[0;34m)\u001b[0m\u001b[0;34m:\u001b[0m\u001b[0;34m\u001b[0m\u001b[0;34m\u001b[0m\u001b[0m\n",
      "\u001b[0;32m~/opt/anaconda3/lib/python3.8/site-packages/pandas/io/parsers.py\u001b[0m in \u001b[0;36m_make_engine\u001b[0;34m(self, engine)\u001b[0m\n\u001b[1;32m   1048\u001b[0m             )\n\u001b[1;32m   1049\u001b[0m         \u001b[0;31m# error: Too many arguments for \"ParserBase\"\u001b[0m\u001b[0;34m\u001b[0m\u001b[0;34m\u001b[0m\u001b[0;34m\u001b[0m\u001b[0m\n\u001b[0;32m-> 1050\u001b[0;31m         \u001b[0;32mreturn\u001b[0m \u001b[0mmapping\u001b[0m\u001b[0;34m[\u001b[0m\u001b[0mengine\u001b[0m\u001b[0;34m]\u001b[0m\u001b[0;34m(\u001b[0m\u001b[0mself\u001b[0m\u001b[0;34m.\u001b[0m\u001b[0mf\u001b[0m\u001b[0;34m,\u001b[0m \u001b[0;34m**\u001b[0m\u001b[0mself\u001b[0m\u001b[0;34m.\u001b[0m\u001b[0moptions\u001b[0m\u001b[0;34m)\u001b[0m  \u001b[0;31m# type: ignore[call-arg]\u001b[0m\u001b[0;34m\u001b[0m\u001b[0;34m\u001b[0m\u001b[0m\n\u001b[0m\u001b[1;32m   1051\u001b[0m \u001b[0;34m\u001b[0m\u001b[0m\n\u001b[1;32m   1052\u001b[0m     \u001b[0;32mdef\u001b[0m \u001b[0m_failover_to_python\u001b[0m\u001b[0;34m(\u001b[0m\u001b[0mself\u001b[0m\u001b[0;34m)\u001b[0m\u001b[0;34m:\u001b[0m\u001b[0;34m\u001b[0m\u001b[0;34m\u001b[0m\u001b[0m\n",
      "\u001b[0;32m~/opt/anaconda3/lib/python3.8/site-packages/pandas/io/parsers.py\u001b[0m in \u001b[0;36m__init__\u001b[0;34m(self, src, **kwds)\u001b[0m\n\u001b[1;32m   1865\u001b[0m \u001b[0;34m\u001b[0m\u001b[0m\n\u001b[1;32m   1866\u001b[0m         \u001b[0;31m# open handles\u001b[0m\u001b[0;34m\u001b[0m\u001b[0;34m\u001b[0m\u001b[0;34m\u001b[0m\u001b[0m\n\u001b[0;32m-> 1867\u001b[0;31m         \u001b[0mself\u001b[0m\u001b[0;34m.\u001b[0m\u001b[0m_open_handles\u001b[0m\u001b[0;34m(\u001b[0m\u001b[0msrc\u001b[0m\u001b[0;34m,\u001b[0m \u001b[0mkwds\u001b[0m\u001b[0;34m)\u001b[0m\u001b[0;34m\u001b[0m\u001b[0;34m\u001b[0m\u001b[0m\n\u001b[0m\u001b[1;32m   1868\u001b[0m         \u001b[0;32massert\u001b[0m \u001b[0mself\u001b[0m\u001b[0;34m.\u001b[0m\u001b[0mhandles\u001b[0m \u001b[0;32mis\u001b[0m \u001b[0;32mnot\u001b[0m \u001b[0;32mNone\u001b[0m\u001b[0;34m\u001b[0m\u001b[0;34m\u001b[0m\u001b[0m\n\u001b[1;32m   1869\u001b[0m         \u001b[0;32mfor\u001b[0m \u001b[0mkey\u001b[0m \u001b[0;32min\u001b[0m \u001b[0;34m(\u001b[0m\u001b[0;34m\"storage_options\"\u001b[0m\u001b[0;34m,\u001b[0m \u001b[0;34m\"encoding\"\u001b[0m\u001b[0;34m,\u001b[0m \u001b[0;34m\"memory_map\"\u001b[0m\u001b[0;34m,\u001b[0m \u001b[0;34m\"compression\"\u001b[0m\u001b[0;34m)\u001b[0m\u001b[0;34m:\u001b[0m\u001b[0;34m\u001b[0m\u001b[0;34m\u001b[0m\u001b[0m\n",
      "\u001b[0;32m~/opt/anaconda3/lib/python3.8/site-packages/pandas/io/parsers.py\u001b[0m in \u001b[0;36m_open_handles\u001b[0;34m(self, src, kwds)\u001b[0m\n\u001b[1;32m   1360\u001b[0m         \u001b[0mLet\u001b[0m \u001b[0mthe\u001b[0m \u001b[0mreaders\u001b[0m \u001b[0mopen\u001b[0m \u001b[0mIOHanldes\u001b[0m \u001b[0mafter\u001b[0m \u001b[0mthey\u001b[0m \u001b[0mare\u001b[0m \u001b[0mdone\u001b[0m \u001b[0;32mwith\u001b[0m \u001b[0mtheir\u001b[0m \u001b[0mpotential\u001b[0m \u001b[0mraises\u001b[0m\u001b[0;34m.\u001b[0m\u001b[0;34m\u001b[0m\u001b[0;34m\u001b[0m\u001b[0m\n\u001b[1;32m   1361\u001b[0m         \"\"\"\n\u001b[0;32m-> 1362\u001b[0;31m         self.handles = get_handle(\n\u001b[0m\u001b[1;32m   1363\u001b[0m             \u001b[0msrc\u001b[0m\u001b[0;34m,\u001b[0m\u001b[0;34m\u001b[0m\u001b[0;34m\u001b[0m\u001b[0m\n\u001b[1;32m   1364\u001b[0m             \u001b[0;34m\"r\"\u001b[0m\u001b[0;34m,\u001b[0m\u001b[0;34m\u001b[0m\u001b[0;34m\u001b[0m\u001b[0m\n",
      "\u001b[0;32m~/opt/anaconda3/lib/python3.8/site-packages/pandas/io/common.py\u001b[0m in \u001b[0;36mget_handle\u001b[0;34m(path_or_buf, mode, encoding, compression, memory_map, is_text, errors, storage_options)\u001b[0m\n\u001b[1;32m    640\u001b[0m                 \u001b[0merrors\u001b[0m \u001b[0;34m=\u001b[0m \u001b[0;34m\"replace\"\u001b[0m\u001b[0;34m\u001b[0m\u001b[0;34m\u001b[0m\u001b[0m\n\u001b[1;32m    641\u001b[0m             \u001b[0;31m# Encoding\u001b[0m\u001b[0;34m\u001b[0m\u001b[0;34m\u001b[0m\u001b[0;34m\u001b[0m\u001b[0m\n\u001b[0;32m--> 642\u001b[0;31m             handle = open(\n\u001b[0m\u001b[1;32m    643\u001b[0m                 \u001b[0mhandle\u001b[0m\u001b[0;34m,\u001b[0m\u001b[0;34m\u001b[0m\u001b[0;34m\u001b[0m\u001b[0m\n\u001b[1;32m    644\u001b[0m                 \u001b[0mioargs\u001b[0m\u001b[0;34m.\u001b[0m\u001b[0mmode\u001b[0m\u001b[0;34m,\u001b[0m\u001b[0;34m\u001b[0m\u001b[0;34m\u001b[0m\u001b[0m\n",
      "\u001b[0;31mFileNotFoundError\u001b[0m: [Errno 2] No such file or directory: '\\\\Data\\\\England_Cumdeath_by_Region.csv'"
     ]
    }
   ],
   "source": [
    "England_data = pd.read_csv('\\Data\\England_Cumdeath_by_Region.csv')\n",
    "outbreak_shift = 30\n",
    "UK_data = pd.read_csv('UK_Data.csv')"
   ]
  },
  {
   "cell_type": "code",
   "execution_count": 18,
   "id": "ec298d4f",
   "metadata": {},
   "outputs": [
    {
     "name": "stdout",
     "output_type": "stream",
     "text": [
      "{'R_0_start': 5.477935168350583, 'k': 2.4190452213590583, 'x0': 51.79477506260841, 'R_0_end': 0.8371372125983966, 'prob_I_to_C': 0.09407481290015005, 'prob_C_to_D': 0.7935504531071241, 's': 0.005424080910357749}\n"
     ]
    }
   ],
   "source": [
    "result = fitting_by_region('UK')"
   ]
  },
  {
   "cell_type": "code",
   "execution_count": 19,
   "id": "4ac0de53",
   "metadata": {},
   "outputs": [],
   "source": [
    "x_30 = Model_Adjusted(0.3,150, agegroup_lookup[\"United Kingdom\"], beds_lookup[\"United Kingdom\"], **result.best_values)\n",
    "x_50 = Model_Adjusted(0.5,150, agegroup_lookup[\"United Kingdom\"], beds_lookup[\"United Kingdom\"], **result.best_values)\n",
    "x_70 = Model_Adjusted(0.7,150, agegroup_lookup[\"United Kingdom\"], beds_lookup[\"United Kingdom\"], **result.best_values)"
   ]
  },
  {
   "cell_type": "code",
   "execution_count": 20,
   "id": "b1bbc6a2",
   "metadata": {},
   "outputs": [
    {
     "data": {
      "text/plain": [
       "<matplotlib.legend.Legend at 0x7fd40ea0d910>"
      ]
     },
     "execution_count": 20,
     "metadata": {},
     "output_type": "execute_result"
    },
    {
     "data": {
      "image/png": "[encoded data removed]",
      "text/html": [
       "\n",
       "\n",
       "<style>\n",
       "\n",
       "</style>\n",
       "\n",
       "<div id=\"fig_el3180140548678721888653060015\"></div>\n",
       "<script>\n",
       "function mpld3_load_lib(url, callback){\n",
       "  var s = document.createElement('script');\n",
       "  s.src = url;\n",
       "  s.async = true;\n",
       "  s.onreadystatechange = s.onload = callback;\n",
       "  s.onerror = function(){console.warn(\"failed to load library \" + url);};\n",
       "  document.getElementsByTagName(\"head\")[0].appendChild(s);\n",
       "}\n",
       "\n",
       "if(typeof(mpld3) !== \"undefined\" && mpld3._mpld3IsLoaded){\n",
       "   // already loaded: just create the figure\n",
       "   !function(mpld3){\n",
       "       \n",
       "       mpld3.draw_figure(\"fig_el3180140548678721888653060015\", {\"width\": 432.0, \"height\": 288.0, \"axes\": [{\"bbox\": [0.125, 0.125, 0.775, 0.755], \"xlim\": [-7.45, 156.45], \"ylim\": [-2066.9500000000003, 43405.95], \"xdomain\": [-7.45, 156.45], \"ydomain\": [-2066.9500000000003, 43405.95], \"xscale\": \"linear\", \"yscale\": \"linear\", \"axes\": [{\"position\": \"bottom\", \"nticks\": 10, \"tickvalues\": null, \"tickformat_formatter\": \"\", \"tickformat\": null, \"scale\": \"linear\", \"fontsize\": 10.0, \"grid\": {\"gridOn\": false}, \"visible\": true}, {\"position\": \"left\", \"nticks\": 7, \"tickvalues\": null, \"tickformat_formatter\": \"\", \"tickformat\": null, \"scale\": \"linear\", \"fontsize\": 10.0, \"grid\": {\"gridOn\": false}, \"visible\": true}], \"axesbg\": \"#FFFFFF\", \"axesbgalpha\": null, \"zoomable\": true, \"id\": \"el3180140548760336416\", \"lines\": [{\"data\": \"data01\", \"xindex\": 0, \"yindex\": 1, \"coordinates\": \"data\", \"id\": \"el3180140548755152800\", \"color\": \"#1F77B4\", \"linewidth\": 1.5, \"dasharray\": \"none\", \"alpha\": 1, \"zorder\": 2, \"drawstyle\": \"default\"}, {\"data\": \"data01\", \"xindex\": 0, \"yindex\": 2, \"coordinates\": \"data\", \"id\": \"el3180140548755215216\", \"color\": \"#FF7F0E\", \"linewidth\": 1.5, \"dasharray\": \"none\", \"alpha\": 1, \"zorder\": 2, \"drawstyle\": \"default\"}, {\"data\": \"data01\", \"xindex\": 0, \"yindex\": 3, \"coordinates\": \"data\", \"id\": \"el3180140548755216080\", \"color\": \"#2CA02C\", \"linewidth\": 1.5, \"dasharray\": \"none\", \"alpha\": 1, \"zorder\": 2, \"drawstyle\": \"default\"}, {\"data\": \"data01\", \"xindex\": 0, \"yindex\": 4, \"coordinates\": \"data\", \"id\": \"el3180140548755216944\", \"color\": \"#D62728\", \"linewidth\": 1.5, \"dasharray\": \"none\", \"alpha\": 1, \"zorder\": 2, \"drawstyle\": \"default\"}, {\"data\": \"data02\", \"xindex\": 0, \"yindex\": 1, \"coordinates\": \"axes\", \"id\": \"el3180140548755276176\", \"color\": \"#1F77B4\", \"linewidth\": 1.5, \"dasharray\": \"none\", \"alpha\": 1, \"zorder\": 1000002.0, \"drawstyle\": \"default\"}, {\"data\": \"data02\", \"xindex\": 0, \"yindex\": 2, \"coordinates\": \"axes\", \"id\": \"el3180140548755277904\", \"color\": \"#FF7F0E\", \"linewidth\": 1.5, \"dasharray\": \"none\", \"alpha\": 1, \"zorder\": 1000002.0, \"drawstyle\": \"default\"}, {\"data\": \"data02\", \"xindex\": 0, \"yindex\": 3, \"coordinates\": \"axes\", \"id\": \"el3180140548755279632\", \"color\": \"#2CA02C\", \"linewidth\": 1.5, \"dasharray\": \"none\", \"alpha\": 1, \"zorder\": 1000002.0, \"drawstyle\": \"default\"}, {\"data\": \"data02\", \"xindex\": 0, \"yindex\": 4, \"coordinates\": \"axes\", \"id\": \"el3180140548754658832\", \"color\": \"#D62728\", \"linewidth\": 1.5, \"dasharray\": \"none\", \"alpha\": 1, \"zorder\": 1000002.0, \"drawstyle\": \"default\"}], \"paths\": [{\"data\": \"data03\", \"xindex\": 0, \"yindex\": 1, \"coordinates\": \"axes\", \"pathcodes\": [\"M\", \"L\", \"S\", \"L\", \"S\", \"L\", \"S\", \"L\", \"S\", \"Z\"], \"id\": \"el3180140548755217568\", \"dasharray\": \"none\", \"alpha\": 0.8, \"facecolor\": \"rgba(255, 255, 255, 0.8)\", \"edgecolor\": \"rgba(204, 204, 204, 0.8)\", \"edgewidth\": 1.0, \"zorder\": 1000000.0}], \"markers\": [], \"texts\": [{\"text\": \"30%\", \"position\": [0.11051373954599761, 0.9218175128771156], \"coordinates\": \"axes\", \"h_anchor\": \"start\", \"v_baseline\": \"auto\", \"rotation\": -0.0, \"fontsize\": 10.0, \"color\": \"#000000\", \"alpha\": 1, \"zorder\": 1000003.0, \"id\": \"el3180140548755218192\"}, {\"text\": \"50%\", \"position\": [0.11051373954599761, 0.8528329654157469], \"coordinates\": \"axes\", \"h_anchor\": \"start\", \"v_baseline\": \"auto\", \"rotation\": -0.0, \"fontsize\": 10.0, \"color\": \"#000000\", \"alpha\": 1, \"zorder\": 1000003.0, \"id\": \"el3180140548755277328\"}, {\"text\": \"70%\", \"position\": [0.11051373954599761, 0.7838484179543781], \"coordinates\": \"axes\", \"h_anchor\": \"start\", \"v_baseline\": \"auto\", \"rotation\": -0.0, \"fontsize\": 10.0, \"color\": \"#000000\", \"alpha\": 1, \"zorder\": 1000003.0, \"id\": \"el3180140548755279056\"}, {\"text\": \"Original\", \"position\": [0.11051373954599761, 0.7148638704930095], \"coordinates\": \"axes\", \"h_anchor\": \"start\", \"v_baseline\": \"auto\", \"rotation\": -0.0, \"fontsize\": 10.0, \"color\": \"#000000\", \"alpha\": 1, \"zorder\": 1000003.0, \"id\": \"el3180140548754658256\"}], \"collections\": [], \"images\": [], \"sharex\": [], \"sharey\": []}], \"data\": {\"data01\": [[0.0, 0.0, 0.0, 0.0, 1.0], [1.0, 0.0004026219050707711, 0.00040222358711661894, 0.00040182583251343885, 3.0], [2.0, 0.002867343912236991, 0.0028562678216735365, 0.0028452536997159747, 3.0], [3.0, 0.008764783844254883, 0.008690332304765217, 0.008616795015374013, 6.0], [4.0, 0.01911694817462143, 0.01883442006842435, 0.018557887646730668, 6.0], [5.0, 0.03485731835148138, 0.03406852607422475, 0.0333050850003752, 6.0], [6.0, 0.056980163574658675, 0.0551585144705943, 0.05341839644902626, 9.0], [7.0, 0.08663612704796099, 0.08293402217456948, 0.07944966193725762, 14.0], [8.0, 0.12520463218749997, 0.11833773054481223, 0.11197957918240721, 17.0], [9.0, 0.174359882967312, 0.16246183936296832, 0.15163899159372382, 25.0], [10.0, 0.2361402019035319, 0.21658033564191315, 0.19912282408023232, 38.0], [11.0, 0.31302701587014403, 0.282181824791764, 0.25520109396321045, 54.0], [12.0, 0.40803829820100523, 0.3610057238899763, 0.3207292849815271, 76.0], [13.0, 0.5248408491511831, 0.4550836528250163, 0.39665924253596746, 108.0], [14.0, 0.6678859955222808, 0.5667874458672472, 0.48405117284529653, 155.0], [15.0, 0.8425739046879339, 0.6988850930734412, 0.5840870504882433, 207.0], [16.0, 1.0554526310380268, 0.8546059678539315, 0.6980856213592621, 275.0], [17.0, 1.3144592308185767, 1.0377168711412146, 0.8275191508425586, 349.0], [18.0, 1.629211807366428, 1.2526106459827038, 0.9740320725056317, 458.0], [19.0, 2.0113631966188663, 1.50440938973302, 1.1394617100399058, 588.0], [20.0, 2.475029205956872, 1.7990846696041496, 1.3258612943304493, 752.0], [21.0, 3.0373072866936024, 2.1435974820243864, 1.5355255189605304, 938.0], [22.0, 3.7189043987463495, 2.5460612993381777, 1.7710189018984794, 1175.0], [23.0, 4.544897296427377, 3.0159318690938317, 2.035207335671827, 1478.0], [24.0, 5.545653062780719, 3.5642282237253524, 2.33129312534433, 1840.0], [25.0, 6.757943648895944, 4.20379014622893, 2.662854005417748, 2238.0], [26.0, 8.226295234030767, 4.949577907663382, 3.033886490668583, 2674.0], [27.0, 10.004622044642325, 5.819021498629969, 3.448854351703461, 3180.0], [28.0, 12.158204366151333, 6.832427224080747, 3.912742333143499, 3772.0], [29.0, 14.766083384676598, 8.013451311742546, 4.431116238782188, 4432.0], [30.0, 17.923960633465473, 9.389651551669202, 5.010189838063955, 5201.0], [31.0, 21.747708301991473, 10.993129767310332, 5.656899482307065, 6007.0], [32.0, 26.37761903702056, 12.861280138129867, 6.378987236450703, 6847.0], [33.0, 31.983550990571242, 15.037660659167031, 7.185093713050458, 7754.0], [34.0, 38.771156550793, 17.573008321874177, 8.084861519520995, 8671.0], [35.0, 46.98942290179944, 20.526421369365405, 9.089050669085276, 9566.0], [36.0, 56.93980031472938, 23.966736272977915, 10.209667312839882, 10565.0], [37.0, 68.98725215196174, 27.97413150807337, 11.46010732870519, 11641.0], [38.0, 83.57363070604586, 32.641995386770674, 12.855316489505002, 12642.0], [39.0, 101.23386755979323, 38.07910145664343, 14.411969120441263, 13586.0], [40.0, 122.61556973671976, 44.4121420615212, 16.14866730181415, 14543.0], [41.0, 148.50273598352794, 51.78867895929097, 18.086163434532622, 15501.0], [42.0, 179.8444572346224, 60.38057961325161, 20.247607944019297, 16397.0], [43.0, 217.78964526467138, 70.38801901378997, 22.658825907525078, 17254.0], [44.0, 263.72905020582925, 82.04413994613355, 25.348625632951368, 18132.0], [45.0, 319.3460895437627, 95.62047992080443, 28.349142768196216, 18976.0], [46.0, 386.67832343261665, 111.4332904124079, 31.6962241291849, 19795.0], [47.0, 468.19179161028114, 129.85089601505052, 35.42985582616254, 20595.0], [48.0, 566.8708714516308, 151.30226097664308, 39.59464076007147, 21364.0], [49.0, 686.326798234933, 176.28695290855234, 44.240329702074064, 22147.0], [50.0, 830.9277588973073, 205.38659699446112, 49.4223965918208, 22891.0], [51.0, 1005.9426407568582, 239.27633400088055, 55.20246860707839, 23622.0], [52.0, 1217.558432362294, 278.7169741368042, 61.64651393167573, 24299.0], [53.0, 1471.9211310248752, 324.41713523527756, 68.80940470686858, 24982.0], [54.0, 1772.5972177667913, 376.7001366933123, 76.70071257641956, 25629.0], [55.0, 2119.381520898673, 435.3669071615457, 85.27313865712554, 26262.0], [56.0, 2509.296815471496, 499.8467312157677, 94.44074339603722, 26857.0], [57.0, 2937.8380624581005, 569.3730689090187, 104.098813235135, 27418.0], [58.0, 3399.832468930089, 643.1041053955134, 114.13731215985977, 27990.0], [59.0, 3889.971665008459, 720.1970202583254, 124.44907749664861, 28541.0], [60.0, 4403.124666561967, 799.8512052955803, 134.93448244485015, 29109.0], [61.0, 4934.5101216346775, 881.3314450296652, 145.5038105923204, 29603.0], [62.0, 5479.779850234553, 963.9784109212758, 156.07818217395706, 30053.0], [63.0, 6035.047564595603, 1047.211309255675, 166.5895869348937, 30537.0], [64.0, 6596.88473237675, 1130.5258444824797, 176.9803912678055, 31002.0], [65.0, 7162.297677558903, 1213.4895420611429, 187.20255741961518, 31461.0], [66.0, 7728.694857025297, 1295.735736695789, 197.21672772370874, 31922.0], [67.0, 8293.849917738198, 1376.9570450300942, 206.99126985881847, 32305.0], [68.0, 8855.863929452731, 1456.8988232578292, 216.50134108976832, 32683.0], [69.0, 9413.12880218682, 1535.3529015450588, 225.7280053731631, 33031.0], [70.0, 9964.292989704589, 1612.1517544516482, 234.6574206006263, 33340.0], [71.0, 10508.230018285964, 1687.1631811148309, 243.28010343424842, 33661.0], [72.0, 11044.010025675727, 1760.2855166444153, 251.59027274018365, 33978.0], [73.0, 11570.874288561648, 1831.4433639761444, 259.5852688597176, 34312.0], [74.0, 12088.212594830762, 1900.5838181580357, 267.26504383927954, 34626.0], [75.0, 12595.543252916053, 1967.6731451592827, 274.6317166984008, 34940.0], [76.0, 13092.495506156754, 2032.6938734659484, 281.68918741189475, 35207.0], [77.0, 13578.794112147632, 2095.6422566142573, 288.4428033884188, 35500.0], [78.0, 14054.245846940717, 2156.5260659800083, 294.8990724771697, 35775.0], [79.0, 14518.72772671733, 2215.3626761622545, 301.0654169348166, 36043.0], [80.0, 14972.176748778937, 2272.177407285175, 306.94996334824117, 36281.0], [81.0, 15414.580951686406, 2327.0020934355293, 312.5613639049868, 36504.0], [82.0, 15845.971634442792, 2379.8738504733565, 317.9086450510415, 36724.0], [83.0, 16266.416627269035, 2430.8340156164504, 323.0010796325215, 36920.0], [84.0, 16676.01442969444, 2479.927235443021, 327.8480797802031, 37120.0], [85.0, 17074.889140406936, 2527.200690599914, 332.4591074475642, 37334.0], [86.0, 17463.186065024158, 2572.7034291931986, 336.84360030888774, 37531.0], [87.0, 17841.067903398067, 2616.4858016723524, 341.01091038280424, 37748.0], [88.0, 18208.711492679664, 2658.59898111065, 344.970254577845, 37934.0], [89.0, 18566.304962161743, 2699.0945563251735, 348.7306743646309, 38097.0], [90.0, 18914.045298522746, 2738.0241939354614, 352.3010039261334, 38223.0], [91.0, 19252.136248664632, 2775.4393518768857, 355.68984529487807, 38358.0], [92.0, 19580.78652000468, 2811.3910383517923, 358.905549270057, 38526.0], [93.0, 19900.20821214304, 2845.929618703954, 361.9562020399245, 38681.0], [94.0, 20210.61558103617, 2879.104654885482, 364.8496152213094, 38815.0], [95.0, 20512.223811665295, 2910.964774610709, 367.59331976285705, 38938.0], [96.0, 20805.248112593665, 2941.557568216365, 370.19456317009906, 39048.0], [97.0, 21089.902906004005, 2970.9295072737395, 372.6603089942376, 39176.0], [98.0, 21366.401147810084, 2999.125882716309, 374.9972382736304, 39301.0], [99.0, 21634.953745488012, 3026.1907593752285, 377.2117528604207, 39391.0], [100.0, 21895.76909043539, 3052.166944564383, 379.3099799792948, 39500.0], [101.0, 22149.052661991445, 3077.095968281555, 381.2977779379403, 39580.0], [102.0, 22395.006705053158, 3101.0180735513404, 383.1807427008279, 39660.0], [103.0, 22633.82996643697, 3123.9722150775815, 384.9642151212581, 39722.0], [104.0, 22865.717489106817, 3145.996064966239, 386.653288668277, 39808.0], [105.0, 23090.8604519018, 3167.1260242959743, 388.25281751980594, 39878.0], [106.0, 23309.446045259076, 3187.3972396051786, 389.7674249053224, 39962.0], [107.0, 23521.657381580964, 3206.8436228851842, 391.2015115703896, 40021.0], [108.0, 23727.67343503349, 3225.4978748424783, 392.55926430309864, 40082.0], [109.0, 23927.66900607235, 3243.3915130537507, 393.84466445027266, 40134.0], [110.0, 24121.81470661632, 3260.5548971152216, 395.06149636254025, 40194.0], [111.0, 24310.276964406334, 3277.0172596130114, 396.21335571249483, 40248.0], [112.0, 24493.218038474377, 3292.806736377259, 397.30365769619493, 40312.0], [113.0, 24670.796048773394, 3307.950398519057, 398.3356450006636, 40376.0], [114.0, 24843.16503471689, 3322.4742838510992, 399.31239562979044, 40450.0], [115.0, 25010.47498099462, 3336.4034288692847, 400.236830424754, 40518.0], [116.0, 25172.871889990343, 3349.7619011390025, 401.11172038252244, 40559.0], [117.0, 25330.497838888266, 3362.572831145566, 401.93969377295616, 40608.0], [118.0, 25483.491054430186, 3374.858444175771, 402.72324295670114, 40653.0], [119.0, 25631.98598572672, 3386.6400911277133, 403.46473091231223, 40692.0], [120.0, 25776.11337420604, 3397.938279583707, 404.1663976000739, 40739.0], [121.0, 25916.00033420182, 3408.7727039395677, 404.8303660274283, 40766.0], [122.0, 26051.77043331901, 3419.162274786219, 405.45864799696926, 40809.0], [123.0, 26183.54377187209, 3429.1251477966944, 406.0531497118449, 40838.0], [124.0, 26311.437064623187, 3438.67875167497, 406.61567710363704, 40871.0], [125.0, 26435.56372066928, 3447.839815522153, 407.14794086754443, 40898.0], [126.0, 26556.033925686366, 3456.6243953444973, 407.65156141830096, 40933.0], [127.0, 26672.95472285186, 3465.0478996950806, 408.12807324451416, 40960.0], [128.0, 26786.430092584975, 3473.1251146106006, 408.5789296165073, 40984.0], [129.0, 26896.561031833393, 3480.8702277222847, 409.0055066324675, 41021.0], [130.0, 27003.445632517447, 3488.2968514610643, 409.4091072750945, 41042.0], [131.0, 27107.17915869799, 3495.4180459524687, 409.7909651615714, 41063.0], [132.0, 27207.854122264667, 3502.2463402100093, 410.1522481987281, 41076.0], [133.0, 27305.560358572355, 3508.7937534907533, 410.4940619956193, 41100.0], [134.0, 27400.385098116072, 3515.071815512163, 410.8174531248716, 41121.0], [135.0, 27492.413037367565, 3521.0915855367734, 411.1234122429697, 41141.0], [136.0, 27581.72641130745, 3526.86367179183, 411.4128770231223, 41154.0], [137.0, 27668.405061061683, 3532.398248940279, 411.6867349631769, 41172.0], [138.0, 27752.526499792515, 3537.7050757718807, 411.94582601988475, 41186.0], [139.0, 27834.165982582737, 3542.793512097798, 412.19094514395533, 41200.0], [140.0, 27913.39656498527, 3547.6725343447188, 412.4228446514835, 41212.0], [141.0, 27990.289170138854, 3552.350751604071, 412.6422365044606, 41232.0], [142.0, 28064.912654979868, 3556.83642012594, 412.8497944469408, 41249.0], [143.0, 28137.33383174047, 3561.137457539307, 413.04615603975844, 41265.0], [144.0, 28207.61756299034, 3565.261457414277, 413.23192459556196, 41272.0], [145.0, 28275.82684021774, 3569.215701101475, 413.4076709955434, 41288.0], [146.0, 28342.022805261735, 3573.007171774978, 413.5739354365692, 41304.0], [147.0, 28406.264777904962, 3576.6425653836395, 413.7312290559538, 41315.0], [148.0, 28468.610357189835, 3580.128303483403, 413.8800354998392, 41327.0], [149.0, 28529.115440771482, 3583.4705434560346, 414.02081238041376, 41339.0]], \"data02\": [[0.026881720430107503, 0.9379139072847682, 0.8689293598233996, 0.7999448123620307, 0.7309602649006621], [0.08661887694145756, 0.9379139072847682, 0.8689293598233996, 0.7999448123620307, 0.7309602649006621]], \"data03\": [[0.020908004778972505, 0.687270051508462], [0.23409498207885301, 0.687270051508462], [0.24006869772998804, 0.687270051508462], [0.24006869772998804, 0.6964679911699778], [0.24006869772998804, 0.9678072111846947], [0.24006869772998804, 0.9770051508462105], [0.23409498207885301, 0.9770051508462105], [0.020908004778972505, 0.9770051508462105], [0.014934289127837508, 0.9770051508462105], [0.014934289127837508, 0.9678072111846947], [0.014934289127837508, 0.6964679911699778], [0.014934289127837508, 0.687270051508462], [0.020908004778972505, 0.687270051508462]]}, \"id\": \"el3180140548678721888\", \"plugins\": [{\"type\": \"reset\"}, {\"type\": \"zoom\", \"button\": true, \"enabled\": false}, {\"type\": \"boxzoom\", \"button\": true, \"enabled\": false}]});\n",
       "   }(mpld3);\n",
       "}else if(typeof define === \"function\" && define.amd){\n",
       "   // require.js is available: use it to load d3/mpld3\n",
       "   require.config({paths: {d3: \"https://d3js.org/d3.v5\"}});\n",
       "   require([\"d3\"], function(d3){\n",
       "      window.d3 = d3;\n",
       "      mpld3_load_lib(\"https://mpld3.github.io/js/mpld3.v0.5.5.js\", function(){\n",
       "         \n",
       "         mpld3.draw_figure(\"fig_el3180140548678721888653060015\", {\"width\": 432.0, \"height\": 288.0, \"axes\": [{\"bbox\": [0.125, 0.125, 0.775, 0.755], \"xlim\": [-7.45, 156.45], \"ylim\": [-2066.9500000000003, 43405.95], \"xdomain\": [-7.45, 156.45], \"ydomain\": [-2066.9500000000003, 43405.95], \"xscale\": \"linear\", \"yscale\": \"linear\", \"axes\": [{\"position\": \"bottom\", \"nticks\": 10, \"tickvalues\": null, \"tickformat_formatter\": \"\", \"tickformat\": null, \"scale\": \"linear\", \"fontsize\": 10.0, \"grid\": {\"gridOn\": false}, \"visible\": true}, {\"position\": \"left\", \"nticks\": 7, \"tickvalues\": null, \"tickformat_formatter\": \"\", \"tickformat\": null, \"scale\": \"linear\", \"fontsize\": 10.0, \"grid\": {\"gridOn\": false}, \"visible\": true}], \"axesbg\": \"#FFFFFF\", \"axesbgalpha\": null, \"zoomable\": true, \"id\": \"el3180140548760336416\", \"lines\": [{\"data\": \"data01\", \"xindex\": 0, \"yindex\": 1, \"coordinates\": \"data\", \"id\": \"el3180140548755152800\", \"color\": \"#1F77B4\", \"linewidth\": 1.5, \"dasharray\": \"none\", \"alpha\": 1, \"zorder\": 2, \"drawstyle\": \"default\"}, {\"data\": \"data01\", \"xindex\": 0, \"yindex\": 2, \"coordinates\": \"data\", \"id\": \"el3180140548755215216\", \"color\": \"#FF7F0E\", \"linewidth\": 1.5, \"dasharray\": \"none\", \"alpha\": 1, \"zorder\": 2, \"drawstyle\": \"default\"}, {\"data\": \"data01\", \"xindex\": 0, \"yindex\": 3, \"coordinates\": \"data\", \"id\": \"el3180140548755216080\", \"color\": \"#2CA02C\", \"linewidth\": 1.5, \"dasharray\": \"none\", \"alpha\": 1, \"zorder\": 2, \"drawstyle\": \"default\"}, {\"data\": \"data01\", \"xindex\": 0, \"yindex\": 4, \"coordinates\": \"data\", \"id\": \"el3180140548755216944\", \"color\": \"#D62728\", \"linewidth\": 1.5, \"dasharray\": \"none\", \"alpha\": 1, \"zorder\": 2, \"drawstyle\": \"default\"}, {\"data\": \"data02\", \"xindex\": 0, \"yindex\": 1, \"coordinates\": \"axes\", \"id\": \"el3180140548755276176\", \"color\": \"#1F77B4\", \"linewidth\": 1.5, \"dasharray\": \"none\", \"alpha\": 1, \"zorder\": 1000002.0, \"drawstyle\": \"default\"}, {\"data\": \"data02\", \"xindex\": 0, \"yindex\": 2, \"coordinates\": \"axes\", \"id\": \"el3180140548755277904\", \"color\": \"#FF7F0E\", \"linewidth\": 1.5, \"dasharray\": \"none\", \"alpha\": 1, \"zorder\": 1000002.0, \"drawstyle\": \"default\"}, {\"data\": \"data02\", \"xindex\": 0, \"yindex\": 3, \"coordinates\": \"axes\", \"id\": \"el3180140548755279632\", \"color\": \"#2CA02C\", \"linewidth\": 1.5, \"dasharray\": \"none\", \"alpha\": 1, \"zorder\": 1000002.0, \"drawstyle\": \"default\"}, {\"data\": \"data02\", \"xindex\": 0, \"yindex\": 4, \"coordinates\": \"axes\", \"id\": \"el3180140548754658832\", \"color\": \"#D62728\", \"linewidth\": 1.5, \"dasharray\": \"none\", \"alpha\": 1, \"zorder\": 1000002.0, \"drawstyle\": \"default\"}], \"paths\": [{\"data\": \"data03\", \"xindex\": 0, \"yindex\": 1, \"coordinates\": \"axes\", \"pathcodes\": [\"M\", \"L\", \"S\", \"L\", \"S\", \"L\", \"S\", \"L\", \"S\", \"Z\"], \"id\": \"el3180140548755217568\", \"dasharray\": \"none\", \"alpha\": 0.8, \"facecolor\": \"rgba(255, 255, 255, 0.8)\", \"edgecolor\": \"rgba(204, 204, 204, 0.8)\", \"edgewidth\": 1.0, \"zorder\": 1000000.0}], \"markers\": [], \"texts\": [{\"text\": \"30%\", \"position\": [0.11051373954599761, 0.9218175128771156], \"coordinates\": \"axes\", \"h_anchor\": \"start\", \"v_baseline\": \"auto\", \"rotation\": -0.0, \"fontsize\": 10.0, \"color\": \"#000000\", \"alpha\": 1, \"zorder\": 1000003.0, \"id\": \"el3180140548755218192\"}, {\"text\": \"50%\", \"position\": [0.11051373954599761, 0.8528329654157469], \"coordinates\": \"axes\", \"h_anchor\": \"start\", \"v_baseline\": \"auto\", \"rotation\": -0.0, \"fontsize\": 10.0, \"color\": \"#000000\", \"alpha\": 1, \"zorder\": 1000003.0, \"id\": \"el3180140548755277328\"}, {\"text\": \"70%\", \"position\": [0.11051373954599761, 0.7838484179543781], \"coordinates\": \"axes\", \"h_anchor\": \"start\", \"v_baseline\": \"auto\", \"rotation\": -0.0, \"fontsize\": 10.0, \"color\": \"#000000\", \"alpha\": 1, \"zorder\": 1000003.0, \"id\": \"el3180140548755279056\"}, {\"text\": \"Original\", \"position\": [0.11051373954599761, 0.7148638704930095], \"coordinates\": \"axes\", \"h_anchor\": \"start\", \"v_baseline\": \"auto\", \"rotation\": -0.0, \"fontsize\": 10.0, \"color\": \"#000000\", \"alpha\": 1, \"zorder\": 1000003.0, \"id\": \"el3180140548754658256\"}], \"collections\": [], \"images\": [], \"sharex\": [], \"sharey\": []}], \"data\": {\"data01\": [[0.0, 0.0, 0.0, 0.0, 1.0], [1.0, 0.0004026219050707711, 0.00040222358711661894, 0.00040182583251343885, 3.0], [2.0, 0.002867343912236991, 0.0028562678216735365, 0.0028452536997159747, 3.0], [3.0, 0.008764783844254883, 0.008690332304765217, 0.008616795015374013, 6.0], [4.0, 0.01911694817462143, 0.01883442006842435, 0.018557887646730668, 6.0], [5.0, 0.03485731835148138, 0.03406852607422475, 0.0333050850003752, 6.0], [6.0, 0.056980163574658675, 0.0551585144705943, 0.05341839644902626, 9.0], [7.0, 0.08663612704796099, 0.08293402217456948, 0.07944966193725762, 14.0], [8.0, 0.12520463218749997, 0.11833773054481223, 0.11197957918240721, 17.0], [9.0, 0.174359882967312, 0.16246183936296832, 0.15163899159372382, 25.0], [10.0, 0.2361402019035319, 0.21658033564191315, 0.19912282408023232, 38.0], [11.0, 0.31302701587014403, 0.282181824791764, 0.25520109396321045, 54.0], [12.0, 0.40803829820100523, 0.3610057238899763, 0.3207292849815271, 76.0], [13.0, 0.5248408491511831, 0.4550836528250163, 0.39665924253596746, 108.0], [14.0, 0.6678859955222808, 0.5667874458672472, 0.48405117284529653, 155.0], [15.0, 0.8425739046879339, 0.6988850930734412, 0.5840870504882433, 207.0], [16.0, 1.0554526310380268, 0.8546059678539315, 0.6980856213592621, 275.0], [17.0, 1.3144592308185767, 1.0377168711412146, 0.8275191508425586, 349.0], [18.0, 1.629211807366428, 1.2526106459827038, 0.9740320725056317, 458.0], [19.0, 2.0113631966188663, 1.50440938973302, 1.1394617100399058, 588.0], [20.0, 2.475029205956872, 1.7990846696041496, 1.3258612943304493, 752.0], [21.0, 3.0373072866936024, 2.1435974820243864, 1.5355255189605304, 938.0], [22.0, 3.7189043987463495, 2.5460612993381777, 1.7710189018984794, 1175.0], [23.0, 4.544897296427377, 3.0159318690938317, 2.035207335671827, 1478.0], [24.0, 5.545653062780719, 3.5642282237253524, 2.33129312534433, 1840.0], [25.0, 6.757943648895944, 4.20379014622893, 2.662854005417748, 2238.0], [26.0, 8.226295234030767, 4.949577907663382, 3.033886490668583, 2674.0], [27.0, 10.004622044642325, 5.819021498629969, 3.448854351703461, 3180.0], [28.0, 12.158204366151333, 6.832427224080747, 3.912742333143499, 3772.0], [29.0, 14.766083384676598, 8.013451311742546, 4.431116238782188, 4432.0], [30.0, 17.923960633465473, 9.389651551669202, 5.010189838063955, 5201.0], [31.0, 21.747708301991473, 10.993129767310332, 5.656899482307065, 6007.0], [32.0, 26.37761903702056, 12.861280138129867, 6.378987236450703, 6847.0], [33.0, 31.983550990571242, 15.037660659167031, 7.185093713050458, 7754.0], [34.0, 38.771156550793, 17.573008321874177, 8.084861519520995, 8671.0], [35.0, 46.98942290179944, 20.526421369365405, 9.089050669085276, 9566.0], [36.0, 56.93980031472938, 23.966736272977915, 10.209667312839882, 10565.0], [37.0, 68.98725215196174, 27.97413150807337, 11.46010732870519, 11641.0], [38.0, 83.57363070604586, 32.641995386770674, 12.855316489505002, 12642.0], [39.0, 101.23386755979323, 38.07910145664343, 14.411969120441263, 13586.0], [40.0, 122.61556973671976, 44.4121420615212, 16.14866730181415, 14543.0], [41.0, 148.50273598352794, 51.78867895929097, 18.086163434532622, 15501.0], [42.0, 179.8444572346224, 60.38057961325161, 20.247607944019297, 16397.0], [43.0, 217.78964526467138, 70.38801901378997, 22.658825907525078, 17254.0], [44.0, 263.72905020582925, 82.04413994613355, 25.348625632951368, 18132.0], [45.0, 319.3460895437627, 95.62047992080443, 28.349142768196216, 18976.0], [46.0, 386.67832343261665, 111.4332904124079, 31.6962241291849, 19795.0], [47.0, 468.19179161028114, 129.85089601505052, 35.42985582616254, 20595.0], [48.0, 566.8708714516308, 151.30226097664308, 39.59464076007147, 21364.0], [49.0, 686.326798234933, 176.28695290855234, 44.240329702074064, 22147.0], [50.0, 830.9277588973073, 205.38659699446112, 49.4223965918208, 22891.0], [51.0, 1005.9426407568582, 239.27633400088055, 55.20246860707839, 23622.0], [52.0, 1217.558432362294, 278.7169741368042, 61.64651393167573, 24299.0], [53.0, 1471.9211310248752, 324.41713523527756, 68.80940470686858, 24982.0], [54.0, 1772.5972177667913, 376.7001366933123, 76.70071257641956, 25629.0], [55.0, 2119.381520898673, 435.3669071615457, 85.27313865712554, 26262.0], [56.0, 2509.296815471496, 499.8467312157677, 94.44074339603722, 26857.0], [57.0, 2937.8380624581005, 569.3730689090187, 104.098813235135, 27418.0], [58.0, 3399.832468930089, 643.1041053955134, 114.13731215985977, 27990.0], [59.0, 3889.971665008459, 720.1970202583254, 124.44907749664861, 28541.0], [60.0, 4403.124666561967, 799.8512052955803, 134.93448244485015, 29109.0], [61.0, 4934.5101216346775, 881.3314450296652, 145.5038105923204, 29603.0], [62.0, 5479.779850234553, 963.9784109212758, 156.07818217395706, 30053.0], [63.0, 6035.047564595603, 1047.211309255675, 166.5895869348937, 30537.0], [64.0, 6596.88473237675, 1130.5258444824797, 176.9803912678055, 31002.0], [65.0, 7162.297677558903, 1213.4895420611429, 187.20255741961518, 31461.0], [66.0, 7728.694857025297, 1295.735736695789, 197.21672772370874, 31922.0], [67.0, 8293.849917738198, 1376.9570450300942, 206.99126985881847, 32305.0], [68.0, 8855.863929452731, 1456.8988232578292, 216.50134108976832, 32683.0], [69.0, 9413.12880218682, 1535.3529015450588, 225.7280053731631, 33031.0], [70.0, 9964.292989704589, 1612.1517544516482, 234.6574206006263, 33340.0], [71.0, 10508.230018285964, 1687.1631811148309, 243.28010343424842, 33661.0], [72.0, 11044.010025675727, 1760.2855166444153, 251.59027274018365, 33978.0], [73.0, 11570.874288561648, 1831.4433639761444, 259.5852688597176, 34312.0], [74.0, 12088.212594830762, 1900.5838181580357, 267.26504383927954, 34626.0], [75.0, 12595.543252916053, 1967.6731451592827, 274.6317166984008, 34940.0], [76.0, 13092.495506156754, 2032.6938734659484, 281.68918741189475, 35207.0], [77.0, 13578.794112147632, 2095.6422566142573, 288.4428033884188, 35500.0], [78.0, 14054.245846940717, 2156.5260659800083, 294.8990724771697, 35775.0], [79.0, 14518.72772671733, 2215.3626761622545, 301.0654169348166, 36043.0], [80.0, 14972.176748778937, 2272.177407285175, 306.94996334824117, 36281.0], [81.0, 15414.580951686406, 2327.0020934355293, 312.5613639049868, 36504.0], [82.0, 15845.971634442792, 2379.8738504733565, 317.9086450510415, 36724.0], [83.0, 16266.416627269035, 2430.8340156164504, 323.0010796325215, 36920.0], [84.0, 16676.01442969444, 2479.927235443021, 327.8480797802031, 37120.0], [85.0, 17074.889140406936, 2527.200690599914, 332.4591074475642, 37334.0], [86.0, 17463.186065024158, 2572.7034291931986, 336.84360030888774, 37531.0], [87.0, 17841.067903398067, 2616.4858016723524, 341.01091038280424, 37748.0], [88.0, 18208.711492679664, 2658.59898111065, 344.970254577845, 37934.0], [89.0, 18566.304962161743, 2699.0945563251735, 348.7306743646309, 38097.0], [90.0, 18914.045298522746, 2738.0241939354614, 352.3010039261334, 38223.0], [91.0, 19252.136248664632, 2775.4393518768857, 355.68984529487807, 38358.0], [92.0, 19580.78652000468, 2811.3910383517923, 358.905549270057, 38526.0], [93.0, 19900.20821214304, 2845.929618703954, 361.9562020399245, 38681.0], [94.0, 20210.61558103617, 2879.104654885482, 364.8496152213094, 38815.0], [95.0, 20512.223811665295, 2910.964774610709, 367.59331976285705, 38938.0], [96.0, 20805.248112593665, 2941.557568216365, 370.19456317009906, 39048.0], [97.0, 21089.902906004005, 2970.9295072737395, 372.6603089942376, 39176.0], [98.0, 21366.401147810084, 2999.125882716309, 374.9972382736304, 39301.0], [99.0, 21634.953745488012, 3026.1907593752285, 377.2117528604207, 39391.0], [100.0, 21895.76909043539, 3052.166944564383, 379.3099799792948, 39500.0], [101.0, 22149.052661991445, 3077.095968281555, 381.2977779379403, 39580.0], [102.0, 22395.006705053158, 3101.0180735513404, 383.1807427008279, 39660.0], [103.0, 22633.82996643697, 3123.9722150775815, 384.9642151212581, 39722.0], [104.0, 22865.717489106817, 3145.996064966239, 386.653288668277, 39808.0], [105.0, 23090.8604519018, 3167.1260242959743, 388.25281751980594, 39878.0], [106.0, 23309.446045259076, 3187.3972396051786, 389.7674249053224, 39962.0], [107.0, 23521.657381580964, 3206.8436228851842, 391.2015115703896, 40021.0], [108.0, 23727.67343503349, 3225.4978748424783, 392.55926430309864, 40082.0], [109.0, 23927.66900607235, 3243.3915130537507, 393.84466445027266, 40134.0], [110.0, 24121.81470661632, 3260.5548971152216, 395.06149636254025, 40194.0], [111.0, 24310.276964406334, 3277.0172596130114, 396.21335571249483, 40248.0], [112.0, 24493.218038474377, 3292.806736377259, 397.30365769619493, 40312.0], [113.0, 24670.796048773394, 3307.950398519057, 398.3356450006636, 40376.0], [114.0, 24843.16503471689, 3322.4742838510992, 399.31239562979044, 40450.0], [115.0, 25010.47498099462, 3336.4034288692847, 400.236830424754, 40518.0], [116.0, 25172.871889990343, 3349.7619011390025, 401.11172038252244, 40559.0], [117.0, 25330.497838888266, 3362.572831145566, 401.93969377295616, 40608.0], [118.0, 25483.491054430186, 3374.858444175771, 402.72324295670114, 40653.0], [119.0, 25631.98598572672, 3386.6400911277133, 403.46473091231223, 40692.0], [120.0, 25776.11337420604, 3397.938279583707, 404.1663976000739, 40739.0], [121.0, 25916.00033420182, 3408.7727039395677, 404.8303660274283, 40766.0], [122.0, 26051.77043331901, 3419.162274786219, 405.45864799696926, 40809.0], [123.0, 26183.54377187209, 3429.1251477966944, 406.0531497118449, 40838.0], [124.0, 26311.437064623187, 3438.67875167497, 406.61567710363704, 40871.0], [125.0, 26435.56372066928, 3447.839815522153, 407.14794086754443, 40898.0], [126.0, 26556.033925686366, 3456.6243953444973, 407.65156141830096, 40933.0], [127.0, 26672.95472285186, 3465.0478996950806, 408.12807324451416, 40960.0], [128.0, 26786.430092584975, 3473.1251146106006, 408.5789296165073, 40984.0], [129.0, 26896.561031833393, 3480.8702277222847, 409.0055066324675, 41021.0], [130.0, 27003.445632517447, 3488.2968514610643, 409.4091072750945, 41042.0], [131.0, 27107.17915869799, 3495.4180459524687, 409.7909651615714, 41063.0], [132.0, 27207.854122264667, 3502.2463402100093, 410.1522481987281, 41076.0], [133.0, 27305.560358572355, 3508.7937534907533, 410.4940619956193, 41100.0], [134.0, 27400.385098116072, 3515.071815512163, 410.8174531248716, 41121.0], [135.0, 27492.413037367565, 3521.0915855367734, 411.1234122429697, 41141.0], [136.0, 27581.72641130745, 3526.86367179183, 411.4128770231223, 41154.0], [137.0, 27668.405061061683, 3532.398248940279, 411.6867349631769, 41172.0], [138.0, 27752.526499792515, 3537.7050757718807, 411.94582601988475, 41186.0], [139.0, 27834.165982582737, 3542.793512097798, 412.19094514395533, 41200.0], [140.0, 27913.39656498527, 3547.6725343447188, 412.4228446514835, 41212.0], [141.0, 27990.289170138854, 3552.350751604071, 412.6422365044606, 41232.0], [142.0, 28064.912654979868, 3556.83642012594, 412.8497944469408, 41249.0], [143.0, 28137.33383174047, 3561.137457539307, 413.04615603975844, 41265.0], [144.0, 28207.61756299034, 3565.261457414277, 413.23192459556196, 41272.0], [145.0, 28275.82684021774, 3569.215701101475, 413.4076709955434, 41288.0], [146.0, 28342.022805261735, 3573.007171774978, 413.5739354365692, 41304.0], [147.0, 28406.264777904962, 3576.6425653836395, 413.7312290559538, 41315.0], [148.0, 28468.610357189835, 3580.128303483403, 413.8800354998392, 41327.0], [149.0, 28529.115440771482, 3583.4705434560346, 414.02081238041376, 41339.0]], \"data02\": [[0.026881720430107503, 0.9379139072847682, 0.8689293598233996, 0.7999448123620307, 0.7309602649006621], [0.08661887694145756, 0.9379139072847682, 0.8689293598233996, 0.7999448123620307, 0.7309602649006621]], \"data03\": [[0.020908004778972505, 0.687270051508462], [0.23409498207885301, 0.687270051508462], [0.24006869772998804, 0.687270051508462], [0.24006869772998804, 0.6964679911699778], [0.24006869772998804, 0.9678072111846947], [0.24006869772998804, 0.9770051508462105], [0.23409498207885301, 0.9770051508462105], [0.020908004778972505, 0.9770051508462105], [0.014934289127837508, 0.9770051508462105], [0.014934289127837508, 0.9678072111846947], [0.014934289127837508, 0.6964679911699778], [0.014934289127837508, 0.687270051508462], [0.020908004778972505, 0.687270051508462]]}, \"id\": \"el3180140548678721888\", \"plugins\": [{\"type\": \"reset\"}, {\"type\": \"zoom\", \"button\": true, \"enabled\": false}, {\"type\": \"boxzoom\", \"button\": true, \"enabled\": false}]});\n",
       "      });\n",
       "    });\n",
       "}else{\n",
       "    // require.js not available: dynamically load d3 & mpld3\n",
       "    mpld3_load_lib(\"https://d3js.org/d3.v5.js\", function(){\n",
       "         mpld3_load_lib(\"https://mpld3.github.io/js/mpld3.v0.5.5.js\", function(){\n",
       "                 \n",
       "                 mpld3.draw_figure(\"fig_el3180140548678721888653060015\", {\"width\": 432.0, \"height\": 288.0, \"axes\": [{\"bbox\": [0.125, 0.125, 0.775, 0.755], \"xlim\": [-7.45, 156.45], \"ylim\": [-2066.9500000000003, 43405.95], \"xdomain\": [-7.45, 156.45], \"ydomain\": [-2066.9500000000003, 43405.95], \"xscale\": \"linear\", \"yscale\": \"linear\", \"axes\": [{\"position\": \"bottom\", \"nticks\": 10, \"tickvalues\": null, \"tickformat_formatter\": \"\", \"tickformat\": null, \"scale\": \"linear\", \"fontsize\": 10.0, \"grid\": {\"gridOn\": false}, \"visible\": true}, {\"position\": \"left\", \"nticks\": 7, \"tickvalues\": null, \"tickformat_formatter\": \"\", \"tickformat\": null, \"scale\": \"linear\", \"fontsize\": 10.0, \"grid\": {\"gridOn\": false}, \"visible\": true}], \"axesbg\": \"#FFFFFF\", \"axesbgalpha\": null, \"zoomable\": true, \"id\": \"el3180140548760336416\", \"lines\": [{\"data\": \"data01\", \"xindex\": 0, \"yindex\": 1, \"coordinates\": \"data\", \"id\": \"el3180140548755152800\", \"color\": \"#1F77B4\", \"linewidth\": 1.5, \"dasharray\": \"none\", \"alpha\": 1, \"zorder\": 2, \"drawstyle\": \"default\"}, {\"data\": \"data01\", \"xindex\": 0, \"yindex\": 2, \"coordinates\": \"data\", \"id\": \"el3180140548755215216\", \"color\": \"#FF7F0E\", \"linewidth\": 1.5, \"dasharray\": \"none\", \"alpha\": 1, \"zorder\": 2, \"drawstyle\": \"default\"}, {\"data\": \"data01\", \"xindex\": 0, \"yindex\": 3, \"coordinates\": \"data\", \"id\": \"el3180140548755216080\", \"color\": \"#2CA02C\", \"linewidth\": 1.5, \"dasharray\": \"none\", \"alpha\": 1, \"zorder\": 2, \"drawstyle\": \"default\"}, {\"data\": \"data01\", \"xindex\": 0, \"yindex\": 4, \"coordinates\": \"data\", \"id\": \"el3180140548755216944\", \"color\": \"#D62728\", \"linewidth\": 1.5, \"dasharray\": \"none\", \"alpha\": 1, \"zorder\": 2, \"drawstyle\": \"default\"}, {\"data\": \"data02\", \"xindex\": 0, \"yindex\": 1, \"coordinates\": \"axes\", \"id\": \"el3180140548755276176\", \"color\": \"#1F77B4\", \"linewidth\": 1.5, \"dasharray\": \"none\", \"alpha\": 1, \"zorder\": 1000002.0, \"drawstyle\": \"default\"}, {\"data\": \"data02\", \"xindex\": 0, \"yindex\": 2, \"coordinates\": \"axes\", \"id\": \"el3180140548755277904\", \"color\": \"#FF7F0E\", \"linewidth\": 1.5, \"dasharray\": \"none\", \"alpha\": 1, \"zorder\": 1000002.0, \"drawstyle\": \"default\"}, {\"data\": \"data02\", \"xindex\": 0, \"yindex\": 3, \"coordinates\": \"axes\", \"id\": \"el3180140548755279632\", \"color\": \"#2CA02C\", \"linewidth\": 1.5, \"dasharray\": \"none\", \"alpha\": 1, \"zorder\": 1000002.0, \"drawstyle\": \"default\"}, {\"data\": \"data02\", \"xindex\": 0, \"yindex\": 4, \"coordinates\": \"axes\", \"id\": \"el3180140548754658832\", \"color\": \"#D62728\", \"linewidth\": 1.5, \"dasharray\": \"none\", \"alpha\": 1, \"zorder\": 1000002.0, \"drawstyle\": \"default\"}], \"paths\": [{\"data\": \"data03\", \"xindex\": 0, \"yindex\": 1, \"coordinates\": \"axes\", \"pathcodes\": [\"M\", \"L\", \"S\", \"L\", \"S\", \"L\", \"S\", \"L\", \"S\", \"Z\"], \"id\": \"el3180140548755217568\", \"dasharray\": \"none\", \"alpha\": 0.8, \"facecolor\": \"rgba(255, 255, 255, 0.8)\", \"edgecolor\": \"rgba(204, 204, 204, 0.8)\", \"edgewidth\": 1.0, \"zorder\": 1000000.0}], \"markers\": [], \"texts\": [{\"text\": \"30%\", \"position\": [0.11051373954599761, 0.9218175128771156], \"coordinates\": \"axes\", \"h_anchor\": \"start\", \"v_baseline\": \"auto\", \"rotation\": -0.0, \"fontsize\": 10.0, \"color\": \"#000000\", \"alpha\": 1, \"zorder\": 1000003.0, \"id\": \"el3180140548755218192\"}, {\"text\": \"50%\", \"position\": [0.11051373954599761, 0.8528329654157469], \"coordinates\": \"axes\", \"h_anchor\": \"start\", \"v_baseline\": \"auto\", \"rotation\": -0.0, \"fontsize\": 10.0, \"color\": \"#000000\", \"alpha\": 1, \"zorder\": 1000003.0, \"id\": \"el3180140548755277328\"}, {\"text\": \"70%\", \"position\": [0.11051373954599761, 0.7838484179543781], \"coordinates\": \"axes\", \"h_anchor\": \"start\", \"v_baseline\": \"auto\", \"rotation\": -0.0, \"fontsize\": 10.0, \"color\": \"#000000\", \"alpha\": 1, \"zorder\": 1000003.0, \"id\": \"el3180140548755279056\"}, {\"text\": \"Original\", \"position\": [0.11051373954599761, 0.7148638704930095], \"coordinates\": \"axes\", \"h_anchor\": \"start\", \"v_baseline\": \"auto\", \"rotation\": -0.0, \"fontsize\": 10.0, \"color\": \"#000000\", \"alpha\": 1, \"zorder\": 1000003.0, \"id\": \"el3180140548754658256\"}], \"collections\": [], \"images\": [], \"sharex\": [], \"sharey\": []}], \"data\": {\"data01\": [[0.0, 0.0, 0.0, 0.0, 1.0], [1.0, 0.0004026219050707711, 0.00040222358711661894, 0.00040182583251343885, 3.0], [2.0, 0.002867343912236991, 0.0028562678216735365, 0.0028452536997159747, 3.0], [3.0, 0.008764783844254883, 0.008690332304765217, 0.008616795015374013, 6.0], [4.0, 0.01911694817462143, 0.01883442006842435, 0.018557887646730668, 6.0], [5.0, 0.03485731835148138, 0.03406852607422475, 0.0333050850003752, 6.0], [6.0, 0.056980163574658675, 0.0551585144705943, 0.05341839644902626, 9.0], [7.0, 0.08663612704796099, 0.08293402217456948, 0.07944966193725762, 14.0], [8.0, 0.12520463218749997, 0.11833773054481223, 0.11197957918240721, 17.0], [9.0, 0.174359882967312, 0.16246183936296832, 0.15163899159372382, 25.0], [10.0, 0.2361402019035319, 0.21658033564191315, 0.19912282408023232, 38.0], [11.0, 0.31302701587014403, 0.282181824791764, 0.25520109396321045, 54.0], [12.0, 0.40803829820100523, 0.3610057238899763, 0.3207292849815271, 76.0], [13.0, 0.5248408491511831, 0.4550836528250163, 0.39665924253596746, 108.0], [14.0, 0.6678859955222808, 0.5667874458672472, 0.48405117284529653, 155.0], [15.0, 0.8425739046879339, 0.6988850930734412, 0.5840870504882433, 207.0], [16.0, 1.0554526310380268, 0.8546059678539315, 0.6980856213592621, 275.0], [17.0, 1.3144592308185767, 1.0377168711412146, 0.8275191508425586, 349.0], [18.0, 1.629211807366428, 1.2526106459827038, 0.9740320725056317, 458.0], [19.0, 2.0113631966188663, 1.50440938973302, 1.1394617100399058, 588.0], [20.0, 2.475029205956872, 1.7990846696041496, 1.3258612943304493, 752.0], [21.0, 3.0373072866936024, 2.1435974820243864, 1.5355255189605304, 938.0], [22.0, 3.7189043987463495, 2.5460612993381777, 1.7710189018984794, 1175.0], [23.0, 4.544897296427377, 3.0159318690938317, 2.035207335671827, 1478.0], [24.0, 5.545653062780719, 3.5642282237253524, 2.33129312534433, 1840.0], [25.0, 6.757943648895944, 4.20379014622893, 2.662854005417748, 2238.0], [26.0, 8.226295234030767, 4.949577907663382, 3.033886490668583, 2674.0], [27.0, 10.004622044642325, 5.819021498629969, 3.448854351703461, 3180.0], [28.0, 12.158204366151333, 6.832427224080747, 3.912742333143499, 3772.0], [29.0, 14.766083384676598, 8.013451311742546, 4.431116238782188, 4432.0], [30.0, 17.923960633465473, 9.389651551669202, 5.010189838063955, 5201.0], [31.0, 21.747708301991473, 10.993129767310332, 5.656899482307065, 6007.0], [32.0, 26.37761903702056, 12.861280138129867, 6.378987236450703, 6847.0], [33.0, 31.983550990571242, 15.037660659167031, 7.185093713050458, 7754.0], [34.0, 38.771156550793, 17.573008321874177, 8.084861519520995, 8671.0], [35.0, 46.98942290179944, 20.526421369365405, 9.089050669085276, 9566.0], [36.0, 56.93980031472938, 23.966736272977915, 10.209667312839882, 10565.0], [37.0, 68.98725215196174, 27.97413150807337, 11.46010732870519, 11641.0], [38.0, 83.57363070604586, 32.641995386770674, 12.855316489505002, 12642.0], [39.0, 101.23386755979323, 38.07910145664343, 14.411969120441263, 13586.0], [40.0, 122.61556973671976, 44.4121420615212, 16.14866730181415, 14543.0], [41.0, 148.50273598352794, 51.78867895929097, 18.086163434532622, 15501.0], [42.0, 179.8444572346224, 60.38057961325161, 20.247607944019297, 16397.0], [43.0, 217.78964526467138, 70.38801901378997, 22.658825907525078, 17254.0], [44.0, 263.72905020582925, 82.04413994613355, 25.348625632951368, 18132.0], [45.0, 319.3460895437627, 95.62047992080443, 28.349142768196216, 18976.0], [46.0, 386.67832343261665, 111.4332904124079, 31.6962241291849, 19795.0], [47.0, 468.19179161028114, 129.85089601505052, 35.42985582616254, 20595.0], [48.0, 566.8708714516308, 151.30226097664308, 39.59464076007147, 21364.0], [49.0, 686.326798234933, 176.28695290855234, 44.240329702074064, 22147.0], [50.0, 830.9277588973073, 205.38659699446112, 49.4223965918208, 22891.0], [51.0, 1005.9426407568582, 239.27633400088055, 55.20246860707839, 23622.0], [52.0, 1217.558432362294, 278.7169741368042, 61.64651393167573, 24299.0], [53.0, 1471.9211310248752, 324.41713523527756, 68.80940470686858, 24982.0], [54.0, 1772.5972177667913, 376.7001366933123, 76.70071257641956, 25629.0], [55.0, 2119.381520898673, 435.3669071615457, 85.27313865712554, 26262.0], [56.0, 2509.296815471496, 499.8467312157677, 94.44074339603722, 26857.0], [57.0, 2937.8380624581005, 569.3730689090187, 104.098813235135, 27418.0], [58.0, 3399.832468930089, 643.1041053955134, 114.13731215985977, 27990.0], [59.0, 3889.971665008459, 720.1970202583254, 124.44907749664861, 28541.0], [60.0, 4403.124666561967, 799.8512052955803, 134.93448244485015, 29109.0], [61.0, 4934.5101216346775, 881.3314450296652, 145.5038105923204, 29603.0], [62.0, 5479.779850234553, 963.9784109212758, 156.07818217395706, 30053.0], [63.0, 6035.047564595603, 1047.211309255675, 166.5895869348937, 30537.0], [64.0, 6596.88473237675, 1130.5258444824797, 176.9803912678055, 31002.0], [65.0, 7162.297677558903, 1213.4895420611429, 187.20255741961518, 31461.0], [66.0, 7728.694857025297, 1295.735736695789, 197.21672772370874, 31922.0], [67.0, 8293.849917738198, 1376.9570450300942, 206.99126985881847, 32305.0], [68.0, 8855.863929452731, 1456.8988232578292, 216.50134108976832, 32683.0], [69.0, 9413.12880218682, 1535.3529015450588, 225.7280053731631, 33031.0], [70.0, 9964.292989704589, 1612.1517544516482, 234.6574206006263, 33340.0], [71.0, 10508.230018285964, 1687.1631811148309, 243.28010343424842, 33661.0], [72.0, 11044.010025675727, 1760.2855166444153, 251.59027274018365, 33978.0], [73.0, 11570.874288561648, 1831.4433639761444, 259.5852688597176, 34312.0], [74.0, 12088.212594830762, 1900.5838181580357, 267.26504383927954, 34626.0], [75.0, 12595.543252916053, 1967.6731451592827, 274.6317166984008, 34940.0], [76.0, 13092.495506156754, 2032.6938734659484, 281.68918741189475, 35207.0], [77.0, 13578.794112147632, 2095.6422566142573, 288.4428033884188, 35500.0], [78.0, 14054.245846940717, 2156.5260659800083, 294.8990724771697, 35775.0], [79.0, 14518.72772671733, 2215.3626761622545, 301.0654169348166, 36043.0], [80.0, 14972.176748778937, 2272.177407285175, 306.94996334824117, 36281.0], [81.0, 15414.580951686406, 2327.0020934355293, 312.5613639049868, 36504.0], [82.0, 15845.971634442792, 2379.8738504733565, 317.9086450510415, 36724.0], [83.0, 16266.416627269035, 2430.8340156164504, 323.0010796325215, 36920.0], [84.0, 16676.01442969444, 2479.927235443021, 327.8480797802031, 37120.0], [85.0, 17074.889140406936, 2527.200690599914, 332.4591074475642, 37334.0], [86.0, 17463.186065024158, 2572.7034291931986, 336.84360030888774, 37531.0], [87.0, 17841.067903398067, 2616.4858016723524, 341.01091038280424, 37748.0], [88.0, 18208.711492679664, 2658.59898111065, 344.970254577845, 37934.0], [89.0, 18566.304962161743, 2699.0945563251735, 348.7306743646309, 38097.0], [90.0, 18914.045298522746, 2738.0241939354614, 352.3010039261334, 38223.0], [91.0, 19252.136248664632, 2775.4393518768857, 355.68984529487807, 38358.0], [92.0, 19580.78652000468, 2811.3910383517923, 358.905549270057, 38526.0], [93.0, 19900.20821214304, 2845.929618703954, 361.9562020399245, 38681.0], [94.0, 20210.61558103617, 2879.104654885482, 364.8496152213094, 38815.0], [95.0, 20512.223811665295, 2910.964774610709, 367.59331976285705, 38938.0], [96.0, 20805.248112593665, 2941.557568216365, 370.19456317009906, 39048.0], [97.0, 21089.902906004005, 2970.9295072737395, 372.6603089942376, 39176.0], [98.0, 21366.401147810084, 2999.125882716309, 374.9972382736304, 39301.0], [99.0, 21634.953745488012, 3026.1907593752285, 377.2117528604207, 39391.0], [100.0, 21895.76909043539, 3052.166944564383, 379.3099799792948, 39500.0], [101.0, 22149.052661991445, 3077.095968281555, 381.2977779379403, 39580.0], [102.0, 22395.006705053158, 3101.0180735513404, 383.1807427008279, 39660.0], [103.0, 22633.82996643697, 3123.9722150775815, 384.9642151212581, 39722.0], [104.0, 22865.717489106817, 3145.996064966239, 386.653288668277, 39808.0], [105.0, 23090.8604519018, 3167.1260242959743, 388.25281751980594, 39878.0], [106.0, 23309.446045259076, 3187.3972396051786, 389.7674249053224, 39962.0], [107.0, 23521.657381580964, 3206.8436228851842, 391.2015115703896, 40021.0], [108.0, 23727.67343503349, 3225.4978748424783, 392.55926430309864, 40082.0], [109.0, 23927.66900607235, 3243.3915130537507, 393.84466445027266, 40134.0], [110.0, 24121.81470661632, 3260.5548971152216, 395.06149636254025, 40194.0], [111.0, 24310.276964406334, 3277.0172596130114, 396.21335571249483, 40248.0], [112.0, 24493.218038474377, 3292.806736377259, 397.30365769619493, 40312.0], [113.0, 24670.796048773394, 3307.950398519057, 398.3356450006636, 40376.0], [114.0, 24843.16503471689, 3322.4742838510992, 399.31239562979044, 40450.0], [115.0, 25010.47498099462, 3336.4034288692847, 400.236830424754, 40518.0], [116.0, 25172.871889990343, 3349.7619011390025, 401.11172038252244, 40559.0], [117.0, 25330.497838888266, 3362.572831145566, 401.93969377295616, 40608.0], [118.0, 25483.491054430186, 3374.858444175771, 402.72324295670114, 40653.0], [119.0, 25631.98598572672, 3386.6400911277133, 403.46473091231223, 40692.0], [120.0, 25776.11337420604, 3397.938279583707, 404.1663976000739, 40739.0], [121.0, 25916.00033420182, 3408.7727039395677, 404.8303660274283, 40766.0], [122.0, 26051.77043331901, 3419.162274786219, 405.45864799696926, 40809.0], [123.0, 26183.54377187209, 3429.1251477966944, 406.0531497118449, 40838.0], [124.0, 26311.437064623187, 3438.67875167497, 406.61567710363704, 40871.0], [125.0, 26435.56372066928, 3447.839815522153, 407.14794086754443, 40898.0], [126.0, 26556.033925686366, 3456.6243953444973, 407.65156141830096, 40933.0], [127.0, 26672.95472285186, 3465.0478996950806, 408.12807324451416, 40960.0], [128.0, 26786.430092584975, 3473.1251146106006, 408.5789296165073, 40984.0], [129.0, 26896.561031833393, 3480.8702277222847, 409.0055066324675, 41021.0], [130.0, 27003.445632517447, 3488.2968514610643, 409.4091072750945, 41042.0], [131.0, 27107.17915869799, 3495.4180459524687, 409.7909651615714, 41063.0], [132.0, 27207.854122264667, 3502.2463402100093, 410.1522481987281, 41076.0], [133.0, 27305.560358572355, 3508.7937534907533, 410.4940619956193, 41100.0], [134.0, 27400.385098116072, 3515.071815512163, 410.8174531248716, 41121.0], [135.0, 27492.413037367565, 3521.0915855367734, 411.1234122429697, 41141.0], [136.0, 27581.72641130745, 3526.86367179183, 411.4128770231223, 41154.0], [137.0, 27668.405061061683, 3532.398248940279, 411.6867349631769, 41172.0], [138.0, 27752.526499792515, 3537.7050757718807, 411.94582601988475, 41186.0], [139.0, 27834.165982582737, 3542.793512097798, 412.19094514395533, 41200.0], [140.0, 27913.39656498527, 3547.6725343447188, 412.4228446514835, 41212.0], [141.0, 27990.289170138854, 3552.350751604071, 412.6422365044606, 41232.0], [142.0, 28064.912654979868, 3556.83642012594, 412.8497944469408, 41249.0], [143.0, 28137.33383174047, 3561.137457539307, 413.04615603975844, 41265.0], [144.0, 28207.61756299034, 3565.261457414277, 413.23192459556196, 41272.0], [145.0, 28275.82684021774, 3569.215701101475, 413.4076709955434, 41288.0], [146.0, 28342.022805261735, 3573.007171774978, 413.5739354365692, 41304.0], [147.0, 28406.264777904962, 3576.6425653836395, 413.7312290559538, 41315.0], [148.0, 28468.610357189835, 3580.128303483403, 413.8800354998392, 41327.0], [149.0, 28529.115440771482, 3583.4705434560346, 414.02081238041376, 41339.0]], \"data02\": [[0.026881720430107503, 0.9379139072847682, 0.8689293598233996, 0.7999448123620307, 0.7309602649006621], [0.08661887694145756, 0.9379139072847682, 0.8689293598233996, 0.7999448123620307, 0.7309602649006621]], \"data03\": [[0.020908004778972505, 0.687270051508462], [0.23409498207885301, 0.687270051508462], [0.24006869772998804, 0.687270051508462], [0.24006869772998804, 0.6964679911699778], [0.24006869772998804, 0.9678072111846947], [0.24006869772998804, 0.9770051508462105], [0.23409498207885301, 0.9770051508462105], [0.020908004778972505, 0.9770051508462105], [0.014934289127837508, 0.9770051508462105], [0.014934289127837508, 0.9678072111846947], [0.014934289127837508, 0.6964679911699778], [0.014934289127837508, 0.687270051508462], [0.020908004778972505, 0.687270051508462]]}, \"id\": \"el3180140548678721888\", \"plugins\": [{\"type\": \"reset\"}, {\"type\": \"zoom\", \"button\": true, \"enabled\": false}, {\"type\": \"boxzoom\", \"button\": true, \"enabled\": false}]});\n",
       "            })\n",
       "         });\n",
       "}\n",
       "</script>"
      ],
      "text/plain": [
       "<Figure size 432x288 with 1 Axes>"
      ]
     },
     "metadata": {
      "needs_background": "light"
     },
     "output_type": "display_data"
    }
   ],
   "source": [
    "plt.plot(x_30[6]+x_30[12],label = '30%')\n",
    "plt.plot(x_50[6]+x_50[12],label = '50%')\n",
    "plt.plot(x_70[6]+x_70[12],label = '70%')\n",
    "plt.plot(UK_data['cumDeaths28DaysByDeathDate'].to_list()[::-1][0:150],label='Original')\n",
    "plt.legend()"
   ]
  }
 ],
 "metadata": {
  "kernelspec": {
   "display_name": "Python 3",
   "language": "python",
   "name": "python3"
  },
  "language_info": {
   "codemirror_mode": {
    "name": "ipython",
    "version": 3
   },
   "file_extension": ".py",
   "mimetype": "text/x-python",
   "name": "python",
   "nbconvert_exporter": "python",
   "pygments_lexer": "ipython3",
   "version": "3.8.8"
  }
 },
 "nbformat": 4,
 "nbformat_minor": 5
}
