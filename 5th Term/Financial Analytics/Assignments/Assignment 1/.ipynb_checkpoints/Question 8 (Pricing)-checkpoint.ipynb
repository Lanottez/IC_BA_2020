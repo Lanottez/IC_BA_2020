{
 "cells": [
  {
   "cell_type": "code",
   "execution_count": 1,
   "metadata": {},
   "outputs": [],
   "source": [
    "import pandas as pd\n",
    "import numpy as np\n",
    "import math\n",
    "import statistics\n",
    "import scipy.stats"
   ]
  },
  {
   "cell_type": "code",
   "execution_count": 2,
   "metadata": {},
   "outputs": [],
   "source": [
    "r = 0.05\n",
    "K = 100\n",
    "T = 1"
   ]
  },
  {
   "cell_type": "code",
   "execution_count": 3,
   "metadata": {},
   "outputs": [],
   "source": [
    "GBM = pd.read_csv('GBM.csv',index_col= 0)"
   ]
  },
  {
   "cell_type": "code",
   "execution_count": 4,
   "metadata": {},
   "outputs": [],
   "source": [
    "GBM_hx = GBM.copy()\n",
    "GBM_hx['hx'] = 0\n",
    "GBM_hx.hx = GBM_hx.apply(lambda row:max(0,row[:-1].mean()-K),axis=1)"
   ]
  },
  {
   "cell_type": "code",
   "execution_count": 6,
   "metadata": {},
   "outputs": [],
   "source": [
    "GBM_price = GBM_hx.copy()\n",
    "GBM_price['price'] = 0\n",
    "GBM_price.price = GBM_hx.apply(lambda row:math.exp(-r*T)*row.hx,axis = 1)"
   ]
  },
  {
   "cell_type": "code",
   "execution_count": 7,
   "metadata": {},
   "outputs": [],
   "source": [
    "C0 = statistics.mean(GBM_price.price)\n",
    "std = statistics.stdev(GBM_price.price)\n",
    "h = std * scipy.stats.t.ppf((1 + 0.95) / 2., len(GBM_price.price)-1)\n",
    "ul = C0 + h\n",
    "ll = C0 - h"
   ]
  },
  {
   "cell_type": "code",
   "execution_count": 8,
   "metadata": {},
   "outputs": [
    {
     "name": "stdout",
     "output_type": "stream",
     "text": [
      "For K = 100, the option price for the asian stock is 6.72 (95% C.I.: [-12.67,26.11]).\n"
     ]
    }
   ],
   "source": [
    "print('For K = {}, the option price for the asian stock is {:.2f} (95% C.I.: [{:.2f},{:.2f}]).'.format(K,C0,ll,ul))"
   ]
  },
  {
   "cell_type": "code",
   "execution_count": null,
   "metadata": {},
   "outputs": [],
   "source": []
  },
  {
   "cell_type": "code",
   "execution_count": 11,
   "metadata": {},
   "outputs": [
    {
     "name": "stdout",
     "output_type": "stream",
     "text": [
      "For K = 90, the option price for the asian stock is 13.10 (95% C.I.: [-11.38,37.59]).\n",
      "For K = 100, the option price for the asian stock is 6.72 (95% C.I.: [-12.67,26.11]).\n",
      "For K = 110, the option price for the asian stock is 2.90 (95% C.I.: [-10.54,16.34]).\n",
      "For K = 120, the option price for the asian stock is 1.09 (95% C.I.: [-7.38,9.56]).\n"
     ]
    }
   ],
   "source": [
    "Ks = [90,100,110,120]\n",
    "for K in Ks:\n",
    "    pricing_option(K)"
   ]
  },
  {
   "cell_type": "code",
   "execution_count": 9,
   "metadata": {},
   "outputs": [],
   "source": [
    "def pricing_option(K):\n",
    "    GBM = pd.read_csv('GBM.csv',index_col= 0)\n",
    "    GBM_hx = GBM.copy()\n",
    "    GBM_hx['hx'] = 0\n",
    "    GBM_hx.hx = GBM_hx.apply(lambda row:max(0,row[:-1].mean()-K),axis=1)\n",
    "    GBM_price = GBM_hx.copy()\n",
    "    GBM_price['price'] = 0\n",
    "    GBM_price.price = GBM_hx.apply(lambda row:math.exp(-r*T)*row.hx,axis = 1)\n",
    "    C0 = statistics.mean(GBM_price.price)\n",
    "    std = statistics.stdev(GBM_price.price)\n",
    "    h = std * scipy.stats.t.ppf((1 + 0.95) / 2., len(GBM_price.price)-1)\n",
    "    ul = C0 + h\n",
    "    ll = C0 - h\n",
    "    print('For K = {}, the option price for the asian stock is {:.2f} (95% C.I.: [{:.2f},{:.2f}]).'.format(K,C0,ll,ul))"
   ]
  }
 ],
 "metadata": {
  "kernelspec": {
   "display_name": "Python 3",
   "language": "python",
   "name": "python3"
  },
  "language_info": {
   "codemirror_mode": {
    "name": "ipython",
    "version": 3
   },
   "file_extension": ".py",
   "mimetype": "text/x-python",
   "name": "python",
   "nbconvert_exporter": "python",
   "pygments_lexer": "ipython3",
   "version": "3.8.5"
  }
 },
 "nbformat": 4,
 "nbformat_minor": 4
}
