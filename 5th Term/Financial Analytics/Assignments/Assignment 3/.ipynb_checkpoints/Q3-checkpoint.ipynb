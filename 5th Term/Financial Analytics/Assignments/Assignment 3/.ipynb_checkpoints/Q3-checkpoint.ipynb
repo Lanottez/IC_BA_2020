{
 "cells": [
  {
   "cell_type": "code",
   "execution_count": 1,
   "metadata": {},
   "outputs": [],
   "source": [
    "import numpy as np\n",
    "import pandas as pd\n",
    "import matplotlib.pyplot as plt"
   ]
  },
  {
   "cell_type": "code",
   "execution_count": 4,
   "metadata": {},
   "outputs": [],
   "source": [
    "covariance_matrix = pd.read_excel(r'Return-Covariance-Data.xlsx',sheet_name=['Covariance matrix'])\n",
    "correlation_matrix = pd.read_excel(r'Return-Covariance-Data.xlsx',sheet_name=['Correlation matrix'])\n",
    "products_of_std_deviations = pd.read_excel(r'Return-Covariance-Data.xlsx',sheet_name=['Products of std deviations'])\n",
    "ER_and_SD = pd.read_excel('Return-Covariance-Data.xlsx',sheet_name=['ER and SD'])"
   ]
  },
  {
   "cell_type": "code",
   "execution_count": 5,
   "metadata": {},
   "outputs": [
    {
     "data": {
      "text/plain": [
       "{'ER and SD':                      Standard Dev (%)\n",
       " Expected Return (%)                  \n",
       " 0.0027                         0.0156\n",
       " 0.0025                         0.0201\n",
       " 0.0039                         0.0550\n",
       " 0.0088                         0.0703\n",
       " 0.0053                         0.0622\n",
       " 0.0088                         0.0704\n",
       " 0.0079                         0.0601\n",
       " 0.0071                         0.0430}"
      ]
     },
     "execution_count": 5,
     "metadata": {},
     "output_type": "execute_result"
    }
   ],
   "source": [
    "ER_and_SD["
   ]
  }
 ],
 "metadata": {
  "kernelspec": {
   "display_name": "Python 3",
   "language": "python",
   "name": "python3"
  },
  "language_info": {
   "codemirror_mode": {
    "name": "ipython",
    "version": 3
   },
   "file_extension": ".py",
   "mimetype": "text/x-python",
   "name": "python",
   "nbconvert_exporter": "python",
   "pygments_lexer": "ipython3",
   "version": "3.8.5"
  }
 },
 "nbformat": 4,
 "nbformat_minor": 4
}
