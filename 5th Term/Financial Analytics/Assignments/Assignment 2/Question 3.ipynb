{
 "cells": [
  {
   "cell_type": "code",
   "execution_count": 4,
   "metadata": {},
   "outputs": [],
   "source": [
    "import numpy as np\n",
    "import pandas as pd\n",
    "import matplotlib.pyplot as plt\n",
    "from scipy.sparse import csc_matrix\n",
    "import math\n",
    "from scipy.stats import norm"
   ]
  },
  {
   "cell_type": "markdown",
   "metadata": {},
   "source": [
    "### Question 3"
   ]
  },
  {
   "cell_type": "markdown",
   "metadata": {},
   "source": [
    "#### (a)"
   ]
  },
  {
   "cell_type": "code",
   "execution_count": 8,
   "metadata": {},
   "outputs": [],
   "source": [
    "S0 = 100\n",
    "sigma = 0.3\n",
    "r = 0.02\n",
    "c = 0\n",
    "T = 1\n",
    "K = 100"
   ]
  },
  {
   "cell_type": "code",
   "execution_count": 20,
   "metadata": {},
   "outputs": [],
   "source": [
    "def Black_Scholes_Option_Price():\n",
    "    d1_p1 = math.log(S0/K)+(r-c+math.pow(sigma,2)/2)*T\n",
    "    d1_p2 = sigma*math.pow(T,0.5)\n",
    "    d1 = d1_p1 / d1_p2\n",
    "    d2 = d1 - sigma*math.pow(T,0.5)\n",
    "    \n",
    "    price = math.exp(-c*T)*S0*norm.cdf(d1) - math.exp(-r*T)*K*norm.cdf(d2)\n",
    "    return price"
   ]
  },
  {
   "cell_type": "code",
   "execution_count": 21,
   "metadata": {},
   "outputs": [
    {
     "name": "stdout",
     "output_type": "stream",
     "text": [
      "The prices of European call options in the Black-Schles framework is 12.82.\n"
     ]
    }
   ],
   "source": [
    "price_BS = Black_Scholes_Option_Price()\n",
    "print(\"The prices of European call options in the Black-Schles framework is {:0.2f}.\".format(price_BS))"
   ]
  },
  {
   "cell_type": "markdown",
   "metadata": {},
   "source": [
    "#### (b)"
   ]
  },
  {
   "cell_type": "code",
   "execution_count": 22,
   "metadata": {},
   "outputs": [],
   "source": [
    "def Binomial_Model_Price(n):\n",
    "    t = T/n\n",
    "    u = np.exp(sigma * np.sqrt(t))\n",
    "    d = 1/u\n",
    "    p = (np.exp(r * t) - d) / (u - d)\n",
    "\n",
    "    stock_prices = np.zeros((n, n))\n",
    "    call_prices = np.zeros((n, n))\n",
    "\n",
    "\n",
    "    stock_prices[0,0] = S0\n",
    "\n",
    "    for i in range(1, n):\n",
    "        M = i + 1\n",
    "        stock_prices[i, 0] = d * stock_prices[i-1, 0]\n",
    "        for j in range(1, M ):\n",
    "            stock_prices[i, j] = u * stock_prices[i - 1, j - 1]\n",
    "\n",
    "    expiration = stock_prices[-1,:] - K\n",
    "    expiration.shape = (expiration.size, )\n",
    "    expiration = np.where(expiration >= 0, expiration, 0)\n",
    "\n",
    "\n",
    "    call_prices[-1,:] =  expiration\n",
    "\n",
    "    for i in range(n - 2,-1,-1):\n",
    "        for j in range(i + 1):\n",
    "            call_prices[i,j] = np.exp(-r * t) * ((1-p) * call_prices[i+1,j] + p * call_prices[i+1,j+1])\n",
    "\n",
    "    return call_prices[0,0]"
   ]
  },
  {
   "cell_type": "code",
   "execution_count": 32,
   "metadata": {},
   "outputs": [
    {
     "name": "stdout",
     "output_type": "stream",
     "text": [
      "The prices of European call options in the Binomial Model is 12.44.\n"
     ]
    }
   ],
   "source": [
    "n = 10\n",
    "price_BM = Binomial_Model_Price(n)\n",
    "print(\"The prices of European call options in the Binomial Model is {:0.2f}.\".format(price_BM))"
   ]
  },
  {
   "cell_type": "markdown",
   "metadata": {},
   "source": [
    "#### (c)"
   ]
  },
  {
   "cell_type": "code",
   "execution_count": 33,
   "metadata": {},
   "outputs": [],
   "source": [
    "n = [10,25,50,100,600,1000]\n",
    "price_BM = list(map(Binomial_Model_Price,n))"
   ]
  },
  {
   "cell_type": "code",
   "execution_count": 35,
   "metadata": {},
   "outputs": [
    {
     "data": {
      "text/plain": [
       "<matplotlib.lines.Line2D at 0x24489f668b0>"
      ]
     },
     "execution_count": 35,
     "metadata": {},
     "output_type": "execute_result"
    },
    {
     "data": {
      "image/png": "[encoded data removed]",
      "text/plain": [
       "<Figure size 432x288 with 1 Axes>"
      ]
     },
     "metadata": {
      "needs_background": "light"
     },
     "output_type": "display_data"
    }
   ],
   "source": [
    "plt.plot(n,price_BM)\n",
    "plt.axhline(y=price_BS, color='r', linestyle='-')"
   ]
  },
  {
   "cell_type": "markdown",
   "metadata": {},
   "source": [
    "### Question 4"
   ]
  },
  {
   "cell_type": "code",
   "execution_count": 259,
   "metadata": {},
   "outputs": [],
   "source": [
    "Stock_price=pd.read_csv('stock_price.csv',index_col=0)"
   ]
  },
  {
   "cell_type": "code",
   "execution_count": 260,
   "metadata": {},
   "outputs": [],
   "source": [
    "S0 = 100 # Underlying price of stock at t = 0\n",
    "K = 100 # strike price\n",
    "r = 0.01 # continuously compounded risk-free interest rate\n",
    "q = 0.01 # continuously compounded dividend yield\n",
    "T = 0.5 #  option maturity\n",
    "N = len(Stock_price.columns)-1 # number of periods\n",
    "\n",
    "t = 0 # the current time\n",
    "\n",
    "sigma = 0.4 # implied vol used to generate prices\n",
    "number_path = len(Stock_price.index)"
   ]
  },
  {
   "cell_type": "markdown",
   "metadata": {},
   "source": [
    "#### Calcating the C0 (option price at t = 0)"
   ]
  },
  {
   "cell_type": "code",
   "execution_count": 261,
   "metadata": {},
   "outputs": [
    {
     "data": {
      "text/plain": [
       "11.190200488459205"
      ]
     },
     "execution_count": 261,
     "metadata": {},
     "output_type": "execute_result"
    }
   ],
   "source": [
    "def C_Price(S, K, r, q, T,t,sigma): \n",
    "    d1 =  (math.log(S/K) + (r - q + (math.pow(sigma,2))/2)*(T-t)) / (sigma*math.sqrt((T-t)))\n",
    "    d2 =  d1 - sigma*math.sqrt((T-t))\n",
    "    C_Price = S * math.exp(-q*(T-t)) *  norm.cdf(d1) - K*math.exp(-r*(T-t))*norm.cdf(d2) # Calculating The Black-Scholes Option Price\n",
    "    return C_Price\n",
    "C0 = C_Price(S0, K, r, q,T, t, sigma)\n",
    "C0"
   ]
  },
  {
   "cell_type": "markdown",
   "metadata": {},
   "source": [
    "#### Creating the delta at each time period baesd on stock price "
   ]
  },
  {
   "cell_type": "code",
   "execution_count": 262,
   "metadata": {},
   "outputs": [],
   "source": [
    "def C_Delta(S,index): \n",
    "    \"\"\"\n",
    "    input: stock price, and the time\n",
    "    output: delta at time i\n",
    "    Calculate the delta based on stock price\n",
    "    \"\"\"\n",
    "    ti = 1/N*T*index\n",
    "    d1  =  (math.log(S/K) + (r + (math.pow(sigma,2))/2)* (T-ti)) / (sigma*math.sqrt(T-ti))\n",
    "    C_Delta = math.exp(-q*(T-ti)) *  norm.cdf(d1)  # Calculating the delta\n",
    "    return C_Delta\n",
    "\n",
    "def return_which_period(value,row):\n",
    "    row =list(row)\n",
    "    return row.index(value)\n",
    "\n",
    "def C_Delta_row(row):\n",
    "    delta_row = []\n",
    "    for element in row[:-1]:\n",
    "        delta_row.append(C_Delta(element,return_which_period(element,row)))\n",
    "    return delta_row\n",
    "\n",
    "GBM_Delta = Stock_price.copy().iloc[: , :-1]\n",
    "for i in range(len(Stock_price.index)):\n",
    "    GBM_Delta.iloc[i] = C_Delta_row(Stock_price.iloc[i])"
   ]
  },
  {
   "cell_type": "markdown",
   "metadata": {},
   "source": [
    "#### Calculating the value of portfolio at each time period"
   ]
  },
  {
   "cell_type": "code",
   "execution_count": 263,
   "metadata": {},
   "outputs": [],
   "source": [
    "# Generate the dataframe to store P, set P0 = C0\n",
    "P_Delta_Hedgin = Stock_price.copy()\n",
    "for col in P_Delta_Hedgin.columns:\n",
    "    P_Delta_Hedgin[col].values[:] = 0"
   ]
  },
  {
   "cell_type": "code",
   "execution_count": 264,
   "metadata": {},
   "outputs": [],
   "source": [
    "def generate_P_next(P,delta,stock_price,stock_price_next):\n",
    "    part1 = P\n",
    "    part2 = (P - delta*stock_price) * r * T/N\n",
    "    part3 = delta*(stock_price_next + q*stock_price*T/N - stock_price)\n",
    "    return part1 + part2 + part3"
   ]
  },
  {
   "cell_type": "code",
   "execution_count": 265,
   "metadata": {},
   "outputs": [],
   "source": [
    "def generate_P_list(P_Delta_Hedgin_list,GBM_Delta_list,Stock_price_list):\n",
    "    P_list = P_Delta_Hedgin_list\n",
    "    P_list[0] = C0 \n",
    "    for i in range(N):\n",
    "        P_next = generate_P_next(P_list[i],GBM_Delta_list[i],Stock_price_list[i],Stock_price_list[i+1])\n",
    "        P_list[i+1] = P_next \n",
    "    return P_list\n",
    "\n",
    "for i in range(number_path):\n",
    "    P_Delta_Hedging_ith_row = P_Delta_Hedgin.iloc[i].to_list()\n",
    "    GBM_Delta_ith_row = GBM_Delta.iloc[i].to_list()\n",
    "    Stock_price_ith_row = Stock_price.iloc[i].to_list()\n",
    "    P_Delta_Hedgin.iloc[i] = generate_P_list(P_Delta_Hedging_ith_row,GBM_Delta_ith_row,Stock_price_ith_row)"
   ]
  },
  {
   "cell_type": "code",
   "execution_count": 266,
   "metadata": {},
   "outputs": [],
   "source": [
    "def generate_P_and_L(P_Delta_Hedgin_list,GBM_Delta_list,Stock_price_list):\n",
    "    P_list = generate_P_list(P_Delta_Hedgin_list,GBM_Delta_list,Stock_price_list)\n",
    "    Pt = P_list[-1]\n",
    "    St = Stock_price_list[-1]\n",
    "    PandL = Pt - max(St - K,0)\n",
    "    return PandL\n",
    "\n",
    "PandL_list = []\n",
    "for i in range(number_path):\n",
    "    P_Delta_Hedging_ith_row = P_Delta_Hedgin.iloc[i].to_list()\n",
    "    GBM_Delta_ith_row = GBM_Delta.iloc[i].to_list()\n",
    "    Stock_price_ith_row = Stock_price.iloc[i].to_list()\n",
    "    PandL = generate_P_and_L(P_Delta_Hedging_ith_row,GBM_Delta_ith_row,Stock_price_ith_row)\n",
    "    PandL_list.append(PandL)"
   ]
  },
  {
   "cell_type": "code",
   "execution_count": 268,
   "metadata": {
    "scrolled": true
   },
   "outputs": [
    {
     "data": {
      "image/png": "[encoded data removed]",
      "text/plain": [
       "<Figure size 432x288 with 1 Axes>"
      ]
     },
     "metadata": {
      "needs_background": "light"
     },
     "output_type": "display_data"
    }
   ],
   "source": [
    "plt.hist(PandL_list)\n",
    "plt.title(\"Delta-hedging P&L: true vol. = 30%, imp. vol. = 40%.\")\n",
    "plt.ylabel(\"# of Paths\")\n",
    "plt.savefig('40%.png', dpi=100)"
   ]
  }
 ],
 "metadata": {
  "kernelspec": {
   "display_name": "Python 3",
   "language": "python",
   "name": "python3"
  },
  "language_info": {
   "codemirror_mode": {
    "name": "ipython",
    "version": 3
   },
   "file_extension": ".py",
   "mimetype": "text/x-python",
   "name": "python",
   "nbconvert_exporter": "python",
   "pygments_lexer": "ipython3",
   "version": "3.8.5"
  }
 },
 "nbformat": 4,
 "nbformat_minor": 4
}
