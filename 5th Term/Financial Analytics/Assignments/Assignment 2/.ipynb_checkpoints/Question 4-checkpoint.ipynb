{
 "cells": [
  {
   "cell_type": "markdown",
   "metadata": {},
   "source": [
    "### Question 4"
   ]
  },
  {
   "cell_type": "markdown",
   "metadata": {},
   "source": [
    "The code below uses Monte-Carlo simulation code to replicate Figures 8(a) and 8(b) of the An Introduction\n",
    "to Derivatives Pricing lecture notes.While the original figures simulate 100,000 paths and have 2000 time periods per path, here we only simulate 5000 paths and 1000 perods per path.However, the distribution of the figures are identical. "
   ]
  },
  {
   "cell_type": "markdown",
   "metadata": {},
   "source": [
    "The figure below is the Delta-hedging P&L, given true vol. = 30%, and imp. vol. = 20%."
   ]
  },
  {
   "cell_type": "code",
   "execution_count": 3,
   "metadata": {},
   "outputs": [
    {
     "data": {
      "image/png": "[encoded data removed]",
      "text/plain": [
       "<IPython.core.display.Image object>"
      ]
     },
     "execution_count": 3,
     "metadata": {},
     "output_type": "execute_result"
    }
   ],
   "source": [
    "Image(filename='20%.png')"
   ]
  },
  {
   "cell_type": "markdown",
   "metadata": {},
   "source": [
    "The figure below is the Delta-hedging P&L, given true vol. = 30%, and imp. vol. = 40%."
   ]
  },
  {
   "cell_type": "code",
   "execution_count": 4,
   "metadata": {},
   "outputs": [
    {
     "data": {
      "image/png": "[encoded data removed]",
      "text/plain": [
       "<IPython.core.display.Image object>"
      ]
     },
     "execution_count": 4,
     "metadata": {},
     "output_type": "execute_result"
    }
   ],
   "source": [
    "Image(filename='40%(1).png')"
   ]
  },
  {
   "cell_type": "markdown",
   "metadata": {},
   "source": [
    "If the true volatility is equal to the implied volatility, then the histograms will look like a normal distribution, and the average is 0"
   ]
  },
  {
   "cell_type": "markdown",
   "metadata": {},
   "source": [
    "### The code that draw the figures above are attached below"
   ]
  },
  {
   "cell_type": "code",
   "execution_count": 2,
   "metadata": {},
   "outputs": [],
   "source": [
    "import numpy as np\n",
    "import pandas as pd\n",
    "import matplotlib.pyplot as plt\n",
    "from scipy.sparse import csc_matrix\n",
    "import math\n",
    "from scipy.stats import norm\n",
    "from IPython.display import Image"
   ]
  },
  {
   "cell_type": "markdown",
   "metadata": {},
   "source": [
    "#### The stock price is simulated using Monte-Carlo simulation in R, assuming the stock price follows GBM"
   ]
  },
  {
   "cell_type": "code",
   "execution_count": 5,
   "metadata": {},
   "outputs": [],
   "source": [
    "Stock_price=pd.read_csv('stock_price.csv',index_col=0)"
   ]
  },
  {
   "cell_type": "code",
   "execution_count": 15,
   "metadata": {},
   "outputs": [],
   "source": [
    "S0 = 100 # Underlying price of stock at t = 0\n",
    "K = 100 # strike price\n",
    "r = 0.01 # continuously compounded risk-free interest rate\n",
    "q = 0.01 # continuously compounded dividend yield\n",
    "T = 0.5 #  option maturity\n",
    "N = len(Stock_price.columns)-1 # number of periods\n",
    "\n",
    "t = 0 # the current time\n",
    "\n",
    "sigma = 0.4 # implied vol used to generate prices\n",
    "number_path = len(Stock_price.index)"
   ]
  },
  {
   "cell_type": "markdown",
   "metadata": {},
   "source": [
    "#### Calcating the C0 (option price at t = 0)"
   ]
  },
  {
   "cell_type": "code",
   "execution_count": 16,
   "metadata": {},
   "outputs": [
    {
     "data": {
      "text/plain": [
       "11.190200488459205"
      ]
     },
     "execution_count": 16,
     "metadata": {},
     "output_type": "execute_result"
    }
   ],
   "source": [
    "def C_Price(S, K, r, q, T,t,sigma): \n",
    "    d1 =  (math.log(S/K) + (r - q + (math.pow(sigma,2))/2)*(T-t)) / (sigma*math.sqrt((T-t)))\n",
    "    d2 =  d1 - sigma*math.sqrt((T-t))\n",
    "    C_Price = S * math.exp(-q*(T-t)) *  norm.cdf(d1) - K*math.exp(-r*(T-t))*norm.cdf(d2) # Calculating The Black-Scholes Option Price\n",
    "    return C_Price\n",
    "C0 = C_Price(S0, K, r, q,T, t, sigma)\n",
    "C0"
   ]
  },
  {
   "cell_type": "markdown",
   "metadata": {},
   "source": [
    "#### Creating the delta at each time period baesd on stock price "
   ]
  },
  {
   "cell_type": "code",
   "execution_count": 8,
   "metadata": {},
   "outputs": [],
   "source": [
    "def C_Delta(S,index): \n",
    "    \"\"\"\n",
    "    input: stock price, and the time\n",
    "    output: delta at time i\n",
    "    Calculate the delta based on stock price\n",
    "    \"\"\"\n",
    "    ti = 1/N*T*index\n",
    "    d1  =  (math.log(S/K) + (r + (math.pow(sigma,2))/2)* (T-ti)) / (sigma*math.sqrt(T-ti))\n",
    "    C_Delta = math.exp(-q*(T-ti)) *  norm.cdf(d1)  # Calculating the delta\n",
    "    return C_Delta\n",
    "\n",
    "def return_which_period(value,row):\n",
    "    row =list(row)\n",
    "    return row.index(value)\n",
    "\n",
    "def C_Delta_row(row):\n",
    "    delta_row = []\n",
    "    for element in row[:-1]:\n",
    "        delta_row.append(C_Delta(element,return_which_period(element,row)))\n",
    "    return delta_row\n",
    "\n",
    "GBM_Delta = Stock_price.copy().iloc[: , :-1]\n",
    "for i in range(len(Stock_price.index)):\n",
    "    GBM_Delta.iloc[i] = C_Delta_row(Stock_price.iloc[i])"
   ]
  },
  {
   "cell_type": "markdown",
   "metadata": {},
   "source": [
    "#### Calculating the value of portfolio at each time period"
   ]
  },
  {
   "cell_type": "code",
   "execution_count": 9,
   "metadata": {},
   "outputs": [],
   "source": [
    "# Generate the dataframe to store P, set P0 = C0\n",
    "P_Delta_Hedgin = Stock_price.copy()\n",
    "for col in P_Delta_Hedgin.columns:\n",
    "    P_Delta_Hedgin[col].values[:] = 0"
   ]
  },
  {
   "cell_type": "code",
   "execution_count": 10,
   "metadata": {},
   "outputs": [],
   "source": [
    "def generate_P_next(P,delta,stock_price,stock_price_next):\n",
    "    part1 = P\n",
    "    part2 = (P - delta*stock_price) * r * T/N\n",
    "    part3 = delta*(stock_price_next + q*stock_price*T/N - stock_price)\n",
    "    return part1 + part2 + part3"
   ]
  },
  {
   "cell_type": "code",
   "execution_count": 11,
   "metadata": {},
   "outputs": [],
   "source": [
    "def generate_P_list(P_Delta_Hedgin_list,GBM_Delta_list,Stock_price_list):\n",
    "    P_list = P_Delta_Hedgin_list\n",
    "    P_list[0] = C0 \n",
    "    for i in range(N):\n",
    "        P_next = generate_P_next(P_list[i],GBM_Delta_list[i],Stock_price_list[i],Stock_price_list[i+1])\n",
    "        P_list[i+1] = P_next \n",
    "    return P_list\n",
    "\n",
    "for i in range(number_path):\n",
    "    P_Delta_Hedging_ith_row = P_Delta_Hedgin.iloc[i].to_list()\n",
    "    GBM_Delta_ith_row = GBM_Delta.iloc[i].to_list()\n",
    "    Stock_price_ith_row = Stock_price.iloc[i].to_list()\n",
    "    P_Delta_Hedgin.iloc[i] = generate_P_list(P_Delta_Hedging_ith_row,GBM_Delta_ith_row,Stock_price_ith_row)"
   ]
  },
  {
   "cell_type": "code",
   "execution_count": 12,
   "metadata": {},
   "outputs": [],
   "source": [
    "def generate_P_and_L(P_Delta_Hedgin_list,GBM_Delta_list,Stock_price_list):\n",
    "    P_list = generate_P_list(P_Delta_Hedgin_list,GBM_Delta_list,Stock_price_list)\n",
    "    Pt = P_list[-1]\n",
    "    St = Stock_price_list[-1]\n",
    "    PandL = Pt - max(St - K,0)\n",
    "    return PandL\n",
    "\n",
    "PandL_list = []\n",
    "for i in range(number_path):\n",
    "    P_Delta_Hedging_ith_row = P_Delta_Hedgin.iloc[i].to_list()\n",
    "    GBM_Delta_ith_row = GBM_Delta.iloc[i].to_list()\n",
    "    Stock_price_ith_row = Stock_price.iloc[i].to_list()\n",
    "    PandL = generate_P_and_L(P_Delta_Hedging_ith_row,GBM_Delta_ith_row,Stock_price_ith_row)\n",
    "    PandL_list.append(PandL)"
   ]
  },
  {
   "cell_type": "code",
   "execution_count": 13,
   "metadata": {
    "scrolled": true
   },
   "outputs": [
    {
     "data": {
      "image/png": "[encoded data removed]",
      "text/plain": [
       "<Figure size 432x288 with 1 Axes>"
      ]
     },
     "metadata": {
      "needs_background": "light"
     },
     "output_type": "display_data"
    }
   ],
   "source": [
    "plt.hist(PandL_list)\n",
    "plt.title(\"Delta-hedging P&L: true vol. = 30%, imp. vol. = 40%.\")\n",
    "plt.ylabel(\"# of Paths\")\n",
    "plt.savefig('40%.png', dpi=100)"
   ]
  }
 ],
 "metadata": {
  "kernelspec": {
   "display_name": "Python 3",
   "language": "python",
   "name": "python3"
  },
  "language_info": {
   "codemirror_mode": {
    "name": "ipython",
    "version": 3
   },
   "file_extension": ".py",
   "mimetype": "text/x-python",
   "name": "python",
   "nbconvert_exporter": "python",
   "pygments_lexer": "ipython3",
   "version": "3.8.5"
  }
 },
 "nbformat": 4,
 "nbformat_minor": 4
}
