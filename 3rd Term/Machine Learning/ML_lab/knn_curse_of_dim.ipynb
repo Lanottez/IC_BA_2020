{
 "cells": [
  {
   "cell_type": "code",
   "execution_count": 1,
   "metadata": {},
   "outputs": [],
   "source": [
    "import numpy as np\n",
    "import pandas as pd\n",
    "\n",
    "# Plotting library\n",
    "import matplotlib.pyplot as plt\n",
    "\n",
    "# Preprocessing functions\n",
    "from sklearn.model_selection import train_test_split\n",
    "from sklearn import preprocessing\n",
    "\n",
    "# ML functions\n",
    "from sklearn.neighbors import KNeighborsRegressor"
   ]
  },
  {
   "cell_type": "code",
   "execution_count": 2,
   "metadata": {},
   "outputs": [
    {
     "name": "stdout",
     "output_type": "stream",
     "text": [
      "Size of the data:  (740, 21)\n"
     ]
    }
   ],
   "source": [
    "data = pd.read_csv('data/Absenteeism_at_work_AAA/Absenteeism_at_work.csv',\n",
    "                   header=0,delimiter=\";\")\n",
    "print(\"Size of the data: \", data.shape)"
   ]
  },
  {
   "cell_type": "code",
   "execution_count": 3,
   "metadata": {},
   "outputs": [
    {
     "name": "stdout",
     "output_type": "stream",
     "text": [
      "number of features:  20\n"
     ]
    }
   ],
   "source": [
    "# Convert the pandas to numpy\n",
    "data = np.array(data)\n",
    "data_X = data[:,:-1]\n",
    "data_Y = data[:,-1]\n",
    "n_feature = data_X.shape[1]\n",
    "print(\"number of features: \", n_feature)\n",
    "\n",
    "# Generate Train/Test data\n",
    "X_train, X_test, y_train, y_test = train_test_split(\n",
    "       data_X, data_Y, test_size=0.33, random_state=0)"
   ]
  },
  {
   "cell_type": "code",
   "execution_count": 4,
   "metadata": {},
   "outputs": [],
   "source": [
    "# Let's do some normalization\n",
    "scaler = preprocessing.StandardScaler().fit(X_train)\n",
    "# The same scaling 'object' applied to both train/test data\n",
    "X_train = scaler.transform(X_train)\n",
    "X_test = scaler.transform(X_test)"
   ]
  },
  {
   "cell_type": "code",
   "execution_count": 5,
   "metadata": {},
   "outputs": [],
   "source": [
    "# Let's add some noise\n",
    "n_train = X_train.shape[0]\n",
    "n_test = X_test.shape[0]"
   ]
  },
  {
   "cell_type": "code",
   "execution_count": 6,
   "metadata": {
    "scrolled": true
   },
   "outputs": [],
   "source": [
    "# Prepare the data\n",
    "k_nn = 20\n",
    "np.random.seed(0)\n",
    "# number of noisy features we add to the original features\n",
    "k_noise_list = [2, 20, 200, 500, 3000, 6000]\n",
    "train_X_list = []\n",
    "test_X_list = []\n",
    "for k in k_noise_list:\n",
    "    # add noisy columns to train data\n",
    "    X_train_noise = np.random.normal(0,1,[n_train,k])\n",
    "    X_train_new = np.concatenate((X_train, X_train_noise), axis=1)\n",
    "    train_X_list.append(X_train_new)\n",
    "\n",
    "    # add noisy columns to test data\n",
    "    X_test_noise = np.random.normal(0,1,[n_test,k])\n",
    "    X_test_new = np.concatenate((X_test, X_test_noise), axis=1)\n",
    "    test_X_list.append(X_test_new)"
   ]
  },
  {
   "cell_type": "code",
   "execution_count": 7,
   "metadata": {},
   "outputs": [],
   "source": [
    "# train the kNN\n",
    "err_list_train = np.zeros([len(k_noise_list)])\n",
    "err_list_test = np.zeros([len(k_noise_list)])\n",
    "for i in range(len(k_noise_list)):\n",
    "    X_train_tmp = train_X_list[i]\n",
    "    X_test_tmp = test_X_list[i]\n",
    "    k_nn_model = KNeighborsRegressor(n_neighbors=k_nn)\n",
    "    k_nn_model.fit(X_train_tmp, y_train)\n",
    "    err_list_train[i] = np.mean((k_nn_model.predict(X_train_tmp)-y_train)**2)\n",
    "    err_list_test[i] = np.mean((k_nn_model.predict(X_test_tmp)-y_test)**2)"
   ]
  },
  {
   "cell_type": "code",
   "execution_count": 8,
   "metadata": {},
   "outputs": [
    {
     "data": {
      "image/png": "[encoded data removed]",
      "text/plain": [
       "<Figure size 432x288 with 1 Axes>"
      ]
     },
     "metadata": {
      "needs_background": "light"
     },
     "output_type": "display_data"
    }
   ],
   "source": [
    "# Plot the error: importance of doing normalization\n",
    "fig = plt.figure()\n",
    "plt.plot(err_list_train)\n",
    "plt.plot(err_list_test)\n",
    "n_feat_list = [x+n_feature for x in k_noise_list]\n",
    "plt.xticks(list(range(len(k_noise_list))), n_feat_list)\n",
    "plt.show()"
   ]
  },
  {
   "cell_type": "code",
   "execution_count": 9,
   "metadata": {},
   "outputs": [
    {
     "data": {
      "text/plain": [
       "163.02640566430654"
      ]
     },
     "execution_count": 9,
     "metadata": {},
     "output_type": "execute_result"
    }
   ],
   "source": [
    "# As a benchmark\n",
    "np.var(y_test)"
   ]
  },
  {
   "cell_type": "code",
   "execution_count": 10,
   "metadata": {},
   "outputs": [],
   "source": [
    "# Visualize the distance \n",
    "dist_mat = np.zeros([len(n_feat_list), n_train])\n",
    " \n",
    "# Compute the distance from original point to each point in the training data\n",
    "for i in range(len(n_feat_list)):\n",
    "    X_train_tmp = train_X_list[i]\n",
    "    test_point = np.zeros([n_feat_list[i]])\n",
    "    for j in range(n_train):\n",
    "        dist_mat[i, j] = np.sum((X_train_tmp[j,:]-test_point)**2)"
   ]
  },
  {
   "cell_type": "code",
   "execution_count": 11,
   "metadata": {},
   "outputs": [
    {
     "data": {
      "image/png": "[encoded data removed]",
      "text/plain": [
       "<Figure size 432x288 with 1 Axes>"
      ]
     },
     "metadata": {
      "needs_background": "light"
     },
     "output_type": "display_data"
    }
   ],
   "source": [
    "# Plot the error: importance of doing normalization\n",
    "fig = plt.figure()\n",
    "for i in range(len(n_feat_list)):\n",
    "    plt.plot(i*np.ones([n_train]), dist_mat[i,:], 'o', color='black')\n",
    "plt.xticks(list(range(len(n_feat_list))), n_feat_list)\n",
    "plt.show()"
   ]
  },
  {
   "cell_type": "code",
   "execution_count": null,
   "metadata": {},
   "outputs": [],
   "source": []
  },
  {
   "cell_type": "code",
   "execution_count": null,
   "metadata": {},
   "outputs": [],
   "source": []
  }
 ],
 "metadata": {
  "kernelspec": {
   "display_name": "Python 3",
   "language": "python",
   "name": "python3"
  },
  "language_info": {
   "codemirror_mode": {
    "name": "ipython",
    "version": 3
   },
   "file_extension": ".py",
   "mimetype": "text/x-python",
   "name": "python",
   "nbconvert_exporter": "python",
   "pygments_lexer": "ipython3",
   "version": "3.7.3"
  }
 },
 "nbformat": 4,
 "nbformat_minor": 2
}
