{
 "cells": [
  {
   "cell_type": "code",
   "execution_count": 1,
   "metadata": {},
   "outputs": [],
   "source": [
    "import numpy as np\n",
    "import pandas as pd\n",
    "\n",
    "# Plotting library\n",
    "import matplotlib.pyplot as plt\n",
    "\n",
    "# Preprocessing functions\n",
    "from sklearn.model_selection import train_test_split\n",
    "from sklearn import preprocessing\n",
    "\n",
    "# ML functions\n",
    "from sklearn.neighbors import KNeighborsRegressor\n"
   ]
  },
  {
   "cell_type": "code",
   "execution_count": 2,
   "metadata": {},
   "outputs": [
    {
     "name": "stdout",
     "output_type": "stream",
     "text": [
      "Size of the data:  (740, 21)\n"
     ]
    }
   ],
   "source": [
    "data = pd.read_csv('data/Absenteeism_at_work_AAA/Absenteeism_at_work.csv',\n",
    "                   header=0,delimiter=\";\")\n",
    "print(\"Size of the data: \", data.shape)"
   ]
  },
  {
   "cell_type": "code",
   "execution_count": 3,
   "metadata": {},
   "outputs": [
    {
     "name": "stdout",
     "output_type": "stream",
     "text": [
      "number of features:  20\n"
     ]
    }
   ],
   "source": [
    "# Convert the pandas to numpy\n",
    "data = np.array(data)\n",
    "data_X = data[:,:-1]\n",
    "data_Y = data[:,-1]\n",
    "n_feature = data_X.shape[1]\n",
    "print(\"number of features: \", n_feature)\n",
    "\n",
    "# Generate Train/Test data\n",
    "X_train, X_test, y_train, y_test = train_test_split(\n",
    "       data_X, data_Y, test_size=0.33, random_state=0)"
   ]
  },
  {
   "cell_type": "code",
   "execution_count": 4,
   "metadata": {},
   "outputs": [],
   "source": [
    "# Let's do some normalization\n",
    "scaler = preprocessing.StandardScaler().fit(X_train)\n",
    "# The same scaling 'object' applied to both train/test data\n",
    "X_train_new = scaler.transform(X_train)\n",
    "X_test_new = scaler.transform(X_test)"
   ]
  },
  {
   "cell_type": "code",
   "execution_count": 5,
   "metadata": {
    "scrolled": true
   },
   "outputs": [],
   "source": [
    "# k_NN model\n",
    "k_nn_list = [3, 6, 9, 12, 16, 24, 36]\n",
    "err_list = np.zeros([2,len(k_nn_list)])\n",
    "for i,k_nn in enumerate(k_nn_list):\n",
    "    k_nn_model = KNeighborsRegressor(n_neighbors=k_nn)\n",
    "    k_nn_model.fit(X_train, y_train)\n",
    "    err_list[0,i] = np.mean((k_nn_model.predict(X_test)-y_test)**2)\n",
    "                    \n",
    "    k_nn_model_new = KNeighborsRegressor(n_neighbors=k_nn)\n",
    "    k_nn_model_new.fit(X_train_new, y_train)\n",
    "    err_list[1,i] = np.mean((k_nn_model_new.predict(X_test_new)-y_test)**2)"
   ]
  },
  {
   "cell_type": "code",
   "execution_count": 6,
   "metadata": {},
   "outputs": [
    {
     "data": {
      "image/png": "[encoded data removed]",
      "text/plain": [
       "<Figure size 432x288 with 1 Axes>"
      ]
     },
     "metadata": {
      "needs_background": "light"
     },
     "output_type": "display_data"
    }
   ],
   "source": [
    "# Plot the error: importance of doing normalization\n",
    "fig = plt.figure()\n",
    "plt.plot(err_list[0,:])\n",
    "plt.plot(err_list[1,:])\n",
    "plt.xticks(list(range(len(k_nn_list))), k_nn_list)\n",
    "plt.show()"
   ]
  },
  {
   "cell_type": "code",
   "execution_count": null,
   "metadata": {},
   "outputs": [],
   "source": []
  },
  {
   "cell_type": "code",
   "execution_count": null,
   "metadata": {},
   "outputs": [],
   "source": []
  },
  {
   "cell_type": "code",
   "execution_count": null,
   "metadata": {},
   "outputs": [],
   "source": []
  }
 ],
 "metadata": {
  "kernelspec": {
   "display_name": "Python 3",
   "language": "python",
   "name": "python3"
  },
  "language_info": {
   "codemirror_mode": {
    "name": "ipython",
    "version": 3
   },
   "file_extension": ".py",
   "mimetype": "text/x-python",
   "name": "python",
   "nbconvert_exporter": "python",
   "pygments_lexer": "ipython3",
   "version": "3.7.3"
  }
 },
 "nbformat": 4,
 "nbformat_minor": 2
}
