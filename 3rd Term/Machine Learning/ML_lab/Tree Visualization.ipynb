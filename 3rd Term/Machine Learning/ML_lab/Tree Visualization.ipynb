{
 "cells": [
  {
   "cell_type": "code",
   "execution_count": 1,
   "metadata": {
    "scrolled": true
   },
   "outputs": [],
   "source": [
    "import numpy as np\n",
    "import pandas as pd\n",
    "import sklearn\n",
    "\n",
    "'''\n",
    "Visualization decision trees:\n",
    "https://towardsdatascience.com/visualizing-decision-trees-with-python-scikit-learn-graphviz-matplotlib-1c50b4aa68dc\n",
    "'''\n",
    "\n",
    "\n",
    "# Plotting library\n",
    "import matplotlib.pyplot as plt\n",
    "\n",
    "# Preprocessing functions\n",
    "from sklearn.model_selection import train_test_split\n",
    "from sklearn import preprocessing\n",
    "\n",
    "# ML functions\n",
    "from sklearn.neighbors import KNeighborsRegressor\n",
    "from sklearn.tree import DecisionTreeRegressor, plot_tree\n",
    "from sklearn.ensemble import RandomForestRegressor\n",
    "from sklearn.ensemble import GradientBoostingRegressor"
   ]
  },
  {
   "cell_type": "code",
   "execution_count": 2,
   "metadata": {},
   "outputs": [
    {
     "name": "stdout",
     "output_type": "stream",
     "text": [
      "0.24.1\n"
     ]
    }
   ],
   "source": [
    "print(sklearn.__version__)"
   ]
  },
  {
   "cell_type": "code",
   "execution_count": 3,
   "metadata": {},
   "outputs": [
    {
     "name": "stdout",
     "output_type": "stream",
     "text": [
      "Size of the data:  (740, 21)\n"
     ]
    }
   ],
   "source": [
    "data = pd.read_csv('data/Absenteeism_at_work_AAA/Absenteeism_at_work.csv',\n",
    "                   header=0,delimiter=\";\")\n",
    "print(\"Size of the data: \", data.shape)\n",
    "col_names = list(data.columns)"
   ]
  },
  {
   "cell_type": "code",
   "execution_count": 4,
   "metadata": {},
   "outputs": [
    {
     "name": "stdout",
     "output_type": "stream",
     "text": [
      "number of features:  20\n"
     ]
    }
   ],
   "source": [
    "# Convert the pandas to numpy\n",
    "data = np.array(data)\n",
    "data_X = data[:,:-1]\n",
    "data_Y = data[:,-1]\n",
    "n_feature = data_X.shape[1]\n",
    "print(\"number of features: \", n_feature)\n",
    "\n",
    "# Generate Train/Test data\n",
    "X_train, X_test, y_train, y_test = train_test_split(\n",
    "       data_X, data_Y, test_size=0.33, random_state=0)"
   ]
  },
  {
   "cell_type": "code",
   "execution_count": 5,
   "metadata": {},
   "outputs": [],
   "source": [
    "# Let's do some normalization\n",
    "# scaler = preprocessing.StandardScaler().fit(X_train)\n",
    "# The same scaling 'object' applied to both train/test data\n",
    "# X_train = scaler.transform(X_train)\n",
    "# X_test = scaler.transform(X_test)"
   ]
  },
  {
   "cell_type": "code",
   "execution_count": 6,
   "metadata": {},
   "outputs": [
    {
     "data": {
      "text/plain": [
       "[Text(186.0, 195.696, 'X[1] <= 21.5\\nmse = 184.585\\nsamples = 495\\nvalue = 6.806'),\n",
       " Text(148.8, 152.208, 'X[9] <= 233.459\\nmse = 408.94\\nsamples = 199\\nvalue = 11.558'),\n",
       " Text(74.4, 108.72, 'X[19] <= 24.5\\nmse = 1715.347\\nsamples = 14\\nvalue = 31.714'),\n",
       " Text(37.2, 65.232, 'mse = 0.0\\nsamples = 2\\nvalue = 112.0'),\n",
       " Text(111.60000000000001, 65.232, 'X[4] <= 2.5\\nmse = 747.889\\nsamples = 12\\nvalue = 18.333'),\n",
       " Text(74.4, 21.744, 'mse = 88.066\\nsamples = 11\\nvalue = 10.545'),\n",
       " Text(148.8, 21.744, 'mse = 0.0\\nsamples = 1\\nvalue = 104.0'),\n",
       " Text(223.20000000000002, 108.72, 'X[18] <= 190.5\\nmse = 277.004\\nsamples = 185\\nvalue = 10.032'),\n",
       " Text(186.0, 65.232, 'mse = 182.607\\nsamples = 177\\nvalue = 8.768'),\n",
       " Text(260.40000000000003, 65.232, 'X[9] <= 295.188\\nmse = 1548.0\\nsamples = 8\\nvalue = 38.0'),\n",
       " Text(223.20000000000002, 21.744, 'mse = 867.556\\nsamples = 3\\nvalue = 82.667'),\n",
       " Text(297.6, 21.744, 'mse = 40.96\\nsamples = 5\\nvalue = 11.2'),\n",
       " Text(223.20000000000002, 152.208, 'mse = 8.366\\nsamples = 296\\nvalue = 3.611')]"
      ]
     },
     "execution_count": 6,
     "metadata": {},
     "output_type": "execute_result"
    },
    {
     "data": {
      "image/png": "[encoded data removed]",
      "text/plain": [
       "<Figure size 432x288 with 1 Axes>"
      ]
     },
     "metadata": {
      "needs_background": "light"
     },
     "output_type": "display_data"
    }
   ],
   "source": [
    "# Train a decision tree\n",
    "DT_model = DecisionTreeRegressor(random_state=0, ccp_alpha=12)\n",
    "DT_model.fit(X_train, y_train)\n",
    "plot_tree(DT_model)"
   ]
  },
  {
   "cell_type": "code",
   "execution_count": 7,
   "metadata": {},
   "outputs": [
    {
     "data": {
      "text/plain": [
       "RandomForestRegressor(n_estimators=30)"
      ]
     },
     "execution_count": 7,
     "metadata": {},
     "output_type": "execute_result"
    }
   ],
   "source": [
    "# Train a random forest model\n",
    "RF_model = RandomForestRegressor(n_estimators=30)\n",
    "RF_model.fit(X_train, y_train)"
   ]
  },
  {
   "cell_type": "code",
   "execution_count": 8,
   "metadata": {
    "scrolled": true
   },
   "outputs": [
    {
     "name": "stdout",
     "output_type": "stream",
     "text": [
      "Feature ranking:\n",
      "1. Reason for absence (0.166155)\n",
      "2. Work load Average/day  (0.162293)\n",
      "3. Month of absence (0.115465)\n",
      "4. Height (0.105329)\n",
      "5. Seasons (0.081865)\n",
      "6. Age (0.068520)\n",
      "7. ID (0.053965)\n",
      "8. Hit target (0.053019)\n",
      "9. Day of the week (0.036516)\n",
      "10. Son (0.031835)\n",
      "11. Transportation expense (0.030002)\n",
      "12. Weight (0.027689)\n",
      "13. Distance from Residence to Work (0.015408)\n",
      "14. Body mass index (0.014973)\n",
      "15. Pet (0.010018)\n",
      "16. Social drinker (0.007683)\n",
      "17. Service time (0.006508)\n",
      "18. Social smoker (0.005993)\n",
      "19. Disciplinary failure (0.003491)\n",
      "20. Education (0.003273)\n"
     ]
    }
   ],
   "source": [
    "importances = RF_model.feature_importances_\n",
    "indices = np.argsort(importances)[::-1]\n",
    "# Print the feature ranking\n",
    "print(\"Feature ranking:\")\n",
    "for f in range(len(indices)):\n",
    "    print(\"%d. %s (%f)\" % (f + 1, col_names[indices[f]], importances[indices[f]]))"
   ]
  },
  {
   "cell_type": "code",
   "execution_count": 9,
   "metadata": {},
   "outputs": [
    {
     "name": "stdout",
     "output_type": "stream",
     "text": [
      "Feature ranking:\n",
      "1. feature 1 (0.166155)\n",
      "2. feature 9 (0.162293)\n",
      "3. feature 2 (0.115465)\n",
      "4. feature 18 (0.105329)\n",
      "5. feature 4 (0.081865)\n",
      "6. feature 8 (0.068520)\n",
      "7. feature 0 (0.053965)\n",
      "8. feature 10 (0.053019)\n",
      "9. feature 3 (0.036516)\n",
      "10. feature 13 (0.031835)\n",
      "11. feature 5 (0.030002)\n",
      "12. feature 17 (0.027689)\n",
      "13. feature 6 (0.015408)\n",
      "14. feature 19 (0.014973)\n",
      "15. feature 16 (0.010018)\n",
      "16. feature 14 (0.007683)\n",
      "17. feature 7 (0.006508)\n",
      "18. feature 15 (0.005993)\n",
      "19. feature 11 (0.003491)\n",
      "20. feature 12 (0.003273)\n"
     ]
    }
   ],
   "source": [
    "importances = RF_model.feature_importances_\n",
    "indices = np.argsort(importances)[::-1]\n",
    "# Print the feature ranking\n",
    "print(\"Feature ranking:\")\n",
    "for f in range(len(indices)):\n",
    "    print(\"%d. feature %d (%f)\" % (f + 1, indices[f], importances[indices[f]]))"
   ]
  },
  {
   "cell_type": "markdown",
   "metadata": {},
   "source": [
    "## More Visualizations"
   ]
  },
  {
   "cell_type": "code",
   "execution_count": 10,
   "metadata": {},
   "outputs": [],
   "source": [
    "from sklearn.inspection import plot_partial_dependence"
   ]
  },
  {
   "cell_type": "code",
   "execution_count": 11,
   "metadata": {},
   "outputs": [
    {
     "data": {
      "text/plain": [
       "<sklearn.inspection._plot.partial_dependence.PartialDependenceDisplay at 0x1b1a502668>"
      ]
     },
     "execution_count": 11,
     "metadata": {},
     "output_type": "execute_result"
    },
    {
     "data": {
      "image/png": "[encoded data removed]",
      "text/plain": [
       "<Figure size 432x288 with 3 Axes>"
      ]
     },
     "metadata": {
      "needs_background": "light"
     },
     "output_type": "display_data"
    }
   ],
   "source": [
    "plot_partial_dependence(RF_model, X_train, [9,8]) "
   ]
  },
  {
   "cell_type": "code",
   "execution_count": 12,
   "metadata": {},
   "outputs": [
    {
     "data": {
      "text/plain": [
       "<sklearn.inspection._plot.partial_dependence.PartialDependenceDisplay at 0x1b1a737828>"
      ]
     },
     "execution_count": 12,
     "metadata": {},
     "output_type": "execute_result"
    },
    {
     "data": {
      "image/png": "[encoded data removed]",
      "text/plain": [
       "<Figure size 432x288 with 2 Axes>"
      ]
     },
     "metadata": {
      "needs_background": "light"
     },
     "output_type": "display_data"
    }
   ],
   "source": [
    "plot_partial_dependence(RF_model, X_train, [[9,8]]) "
   ]
  },
  {
   "cell_type": "code",
   "execution_count": 13,
   "metadata": {},
   "outputs": [],
   "source": [
    "from ipywidgets import interact, interactive, fixed, interact_manual\n",
    "import ipywidgets as widgets"
   ]
  },
  {
   "cell_type": "code",
   "execution_count": 14,
   "metadata": {},
   "outputs": [],
   "source": [
    "def plot_vis(i_feature, model, data):\n",
    "    '''\n",
    "    Visualize data slice by slice\n",
    "    '''\n",
    "    plot_partial_dependence(model, data, [i_feature]) \n",
    "    plt.xlabel(col_names[i_feature])\n",
    "    plt.show()\n",
    "    #print(data[x,:])"
   ]
  },
  {
   "cell_type": "code",
   "execution_count": 15,
   "metadata": {},
   "outputs": [
    {
     "data": {
      "application/vnd.jupyter.widget-view+json": {
       "model_id": "6e94fecd38c04ad9ab4fbf58f00ee0bd",
       "version_major": 2,
       "version_minor": 0
      },
      "text/plain": [
       "interactive(children=(IntSlider(value=0, description='i_feature', max=19), Output()), _dom_classes=('widget-in…"
      ]
     },
     "metadata": {},
     "output_type": "display_data"
    },
    {
     "data": {
      "text/plain": [
       "<function __main__.plot_vis(i_feature, model, data)>"
      ]
     },
     "execution_count": 15,
     "metadata": {},
     "output_type": "execute_result"
    }
   ],
   "source": [
    "interact(plot_vis, i_feature=widgets.IntSlider(min=0,max=19), \n",
    "         model=fixed(RF_model), data=fixed(X_train))"
   ]
  },
  {
   "cell_type": "code",
   "execution_count": 16,
   "metadata": {},
   "outputs": [],
   "source": [
    "def plot_vis(i_feature, data_Y, data):\n",
    "    '''\n",
    "    Visualize data slice by slice\n",
    "    '''\n",
    "    plt.plot(data[:,i_feature], data_Y,'o', color='black') \n",
    "    plt.xlabel(col_names[i_feature])\n",
    "    plt.ylabel(\"absent hours\")\n",
    "    plt.show()\n",
    "    #print(data[x,:])"
   ]
  },
  {
   "cell_type": "code",
   "execution_count": 17,
   "metadata": {},
   "outputs": [
    {
     "data": {
      "application/vnd.jupyter.widget-view+json": {
       "model_id": "af78a0b46e3043ed8cd84e480a20402a",
       "version_major": 2,
       "version_minor": 0
      },
      "text/plain": [
       "interactive(children=(IntSlider(value=0, description='i_feature', max=19), Output()), _dom_classes=('widget-in…"
      ]
     },
     "metadata": {},
     "output_type": "display_data"
    },
    {
     "data": {
      "text/plain": [
       "<function __main__.plot_vis(i_feature, data_Y, data)>"
      ]
     },
     "execution_count": 17,
     "metadata": {},
     "output_type": "execute_result"
    }
   ],
   "source": [
    "interact(plot_vis, i_feature=widgets.IntSlider(min=0,max=19), \n",
    "         data_Y=fixed(y_train), data=fixed(X_train))"
   ]
  },
  {
   "cell_type": "code",
   "execution_count": null,
   "metadata": {},
   "outputs": [],
   "source": []
  },
  {
   "cell_type": "code",
   "execution_count": null,
   "metadata": {},
   "outputs": [],
   "source": []
  }
 ],
 "metadata": {
  "kernelspec": {
   "display_name": "Python 3",
   "language": "python",
   "name": "python3"
  },
  "language_info": {
   "codemirror_mode": {
    "name": "ipython",
    "version": 3
   },
   "file_extension": ".py",
   "mimetype": "text/x-python",
   "name": "python",
   "nbconvert_exporter": "python",
   "pygments_lexer": "ipython3",
   "version": "3.7.3"
  }
 },
 "nbformat": 4,
 "nbformat_minor": 2
}
