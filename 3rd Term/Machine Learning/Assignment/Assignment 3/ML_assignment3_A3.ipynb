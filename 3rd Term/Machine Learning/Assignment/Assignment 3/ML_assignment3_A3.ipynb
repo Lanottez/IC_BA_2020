{
 "cells": [
  {
   "cell_type": "markdown",
   "metadata": {},
   "source": [
    "## <div align=\"center\"> Assignment 3</div>\n",
    "## <div align=\"center\"> Machine Learning</div>\n",
    "### <div align=\"center\"> Group Assignment</div>\n",
    "\n",
    "\n",
    "<br><div align=\"center\"> By Group A3: </div>\n",
    "<div align=\"center\"> Jiaqi Chen, Yuxi Fu, Jiaxuan Lyu, Maria Tsotalou, Qian Zhang </div>"
   ]
  },
  {
   "cell_type": "code",
   "execution_count": 1,
   "metadata": {},
   "outputs": [],
   "source": [
    "import pandas as pd\n",
    "import numpy as np\n",
    "import math \n",
    "import random\n",
    "\n",
    "\n",
    "from sklearn import preprocessing\n",
    "from sklearn.preprocessing import StandardScaler\n",
    "from sklearn.tree import DecisionTreeClassifier\n",
    "from sklearn.ensemble import RandomForestClassifier\n",
    "from sklearn import metrics\n",
    "import matplotlib.pyplot as plt\n",
    "from sklearn.utils import shuffle\n",
    "\n",
    "import seaborn as sns\n",
    "import timeit"
   ]
  },
  {
   "cell_type": "markdown",
   "metadata": {},
   "source": [
    "## Question 1"
   ]
  },
  {
   "cell_type": "code",
   "execution_count": 2,
   "metadata": {},
   "outputs": [
    {
     "data": {
      "text/html": [
       "<div>\n",
       "<style scoped>\n",
       "    .dataframe tbody tr th:only-of-type {\n",
       "        vertical-align: middle;\n",
       "    }\n",
       "\n",
       "    .dataframe tbody tr th {\n",
       "        vertical-align: top;\n",
       "    }\n",
       "\n",
       "    .dataframe thead th {\n",
       "        text-align: right;\n",
       "    }\n",
       "</style>\n",
       "<table border=\"1\" class=\"dataframe\">\n",
       "  <thead>\n",
       "    <tr style=\"text-align: right;\">\n",
       "      <th></th>\n",
       "      <th>field</th>\n",
       "      <th>selectiveCollege</th>\n",
       "      <th>sex</th>\n",
       "      <th>Default</th>\n",
       "      <th>loanAmount</th>\n",
       "      <th>graduationYear</th>\n",
       "    </tr>\n",
       "  </thead>\n",
       "  <tbody>\n",
       "    <tr>\n",
       "      <th>0</th>\n",
       "      <td>STEM</td>\n",
       "      <td>0</td>\n",
       "      <td>Male</td>\n",
       "      <td>No</td>\n",
       "      <td>22907</td>\n",
       "      <td>2005</td>\n",
       "    </tr>\n",
       "    <tr>\n",
       "      <th>1</th>\n",
       "      <td>HUMANITIES</td>\n",
       "      <td>0</td>\n",
       "      <td>Male</td>\n",
       "      <td>Yes</td>\n",
       "      <td>60087</td>\n",
       "      <td>2010</td>\n",
       "    </tr>\n",
       "    <tr>\n",
       "      <th>2</th>\n",
       "      <td>HUMANITIES</td>\n",
       "      <td>0</td>\n",
       "      <td>Female</td>\n",
       "      <td>No</td>\n",
       "      <td>33149</td>\n",
       "      <td>2011</td>\n",
       "    </tr>\n",
       "    <tr>\n",
       "      <th>3</th>\n",
       "      <td>STEM</td>\n",
       "      <td>1</td>\n",
       "      <td>Female</td>\n",
       "      <td>No</td>\n",
       "      <td>33342</td>\n",
       "      <td>2007</td>\n",
       "    </tr>\n",
       "    <tr>\n",
       "      <th>4</th>\n",
       "      <td>BUSINESS</td>\n",
       "      <td>0</td>\n",
       "      <td>Male</td>\n",
       "      <td>Yes</td>\n",
       "      <td>55834</td>\n",
       "      <td>2013</td>\n",
       "    </tr>\n",
       "  </tbody>\n",
       "</table>\n",
       "</div>"
      ],
      "text/plain": [
       "        field  selectiveCollege     sex Default  loanAmount  graduationYear\n",
       "0        STEM                 0    Male      No       22907            2005\n",
       "1  HUMANITIES                 0    Male     Yes       60087            2010\n",
       "2  HUMANITIES                 0  Female      No       33149            2011\n",
       "3        STEM                 1  Female      No       33342            2007\n",
       "4    BUSINESS                 0    Male     Yes       55834            2013"
      ]
     },
     "execution_count": 2,
     "metadata": {},
     "output_type": "execute_result"
    }
   ],
   "source": [
    "## Load the dataset\n",
    "loandata = pd.read_csv('loandata.csv') \n",
    "loandata.head()"
   ]
  },
  {
   "cell_type": "code",
   "execution_count": 3,
   "metadata": {},
   "outputs": [
    {
     "data": {
      "text/plain": [
       "No     1536\n",
       "Yes     464\n",
       "Name: Default, dtype: int64"
      ]
     },
     "execution_count": 3,
     "metadata": {},
     "output_type": "execute_result"
    }
   ],
   "source": [
    "default_cnt = loandata['Default'].value_counts()\n",
    "default_cnt"
   ]
  },
  {
   "cell_type": "markdown",
   "metadata": {},
   "source": [
    "## Question 2"
   ]
  },
  {
   "cell_type": "code",
   "execution_count": 4,
   "metadata": {},
   "outputs": [
    {
     "data": {
      "text/html": [
       "<div>\n",
       "<style scoped>\n",
       "    .dataframe tbody tr th:only-of-type {\n",
       "        vertical-align: middle;\n",
       "    }\n",
       "\n",
       "    .dataframe tbody tr th {\n",
       "        vertical-align: top;\n",
       "    }\n",
       "\n",
       "    .dataframe thead th {\n",
       "        text-align: right;\n",
       "    }\n",
       "</style>\n",
       "<table border=\"1\" class=\"dataframe\">\n",
       "  <thead>\n",
       "    <tr style=\"text-align: right;\">\n",
       "      <th></th>\n",
       "      <th>selectiveCollege</th>\n",
       "      <th>loanAmount</th>\n",
       "      <th>graduationYear</th>\n",
       "      <th>field_BUSINESS</th>\n",
       "      <th>field_HUMANITIES</th>\n",
       "      <th>field_STEM</th>\n",
       "      <th>sex_Female</th>\n",
       "      <th>sex_Male</th>\n",
       "      <th>Default_No</th>\n",
       "      <th>Default_Yes</th>\n",
       "    </tr>\n",
       "  </thead>\n",
       "  <tbody>\n",
       "    <tr>\n",
       "      <th>0</th>\n",
       "      <td>0</td>\n",
       "      <td>22907</td>\n",
       "      <td>2005</td>\n",
       "      <td>0</td>\n",
       "      <td>0</td>\n",
       "      <td>1</td>\n",
       "      <td>0</td>\n",
       "      <td>1</td>\n",
       "      <td>1</td>\n",
       "      <td>0</td>\n",
       "    </tr>\n",
       "    <tr>\n",
       "      <th>1</th>\n",
       "      <td>0</td>\n",
       "      <td>60087</td>\n",
       "      <td>2010</td>\n",
       "      <td>0</td>\n",
       "      <td>1</td>\n",
       "      <td>0</td>\n",
       "      <td>0</td>\n",
       "      <td>1</td>\n",
       "      <td>0</td>\n",
       "      <td>1</td>\n",
       "    </tr>\n",
       "    <tr>\n",
       "      <th>2</th>\n",
       "      <td>0</td>\n",
       "      <td>33149</td>\n",
       "      <td>2011</td>\n",
       "      <td>0</td>\n",
       "      <td>1</td>\n",
       "      <td>0</td>\n",
       "      <td>1</td>\n",
       "      <td>0</td>\n",
       "      <td>1</td>\n",
       "      <td>0</td>\n",
       "    </tr>\n",
       "    <tr>\n",
       "      <th>3</th>\n",
       "      <td>1</td>\n",
       "      <td>33342</td>\n",
       "      <td>2007</td>\n",
       "      <td>0</td>\n",
       "      <td>0</td>\n",
       "      <td>1</td>\n",
       "      <td>1</td>\n",
       "      <td>0</td>\n",
       "      <td>1</td>\n",
       "      <td>0</td>\n",
       "    </tr>\n",
       "    <tr>\n",
       "      <th>4</th>\n",
       "      <td>0</td>\n",
       "      <td>55834</td>\n",
       "      <td>2013</td>\n",
       "      <td>1</td>\n",
       "      <td>0</td>\n",
       "      <td>0</td>\n",
       "      <td>0</td>\n",
       "      <td>1</td>\n",
       "      <td>0</td>\n",
       "      <td>1</td>\n",
       "    </tr>\n",
       "    <tr>\n",
       "      <th>...</th>\n",
       "      <td>...</td>\n",
       "      <td>...</td>\n",
       "      <td>...</td>\n",
       "      <td>...</td>\n",
       "      <td>...</td>\n",
       "      <td>...</td>\n",
       "      <td>...</td>\n",
       "      <td>...</td>\n",
       "      <td>...</td>\n",
       "      <td>...</td>\n",
       "    </tr>\n",
       "    <tr>\n",
       "      <th>1995</th>\n",
       "      <td>0</td>\n",
       "      <td>34862</td>\n",
       "      <td>2006</td>\n",
       "      <td>1</td>\n",
       "      <td>0</td>\n",
       "      <td>0</td>\n",
       "      <td>1</td>\n",
       "      <td>0</td>\n",
       "      <td>1</td>\n",
       "      <td>0</td>\n",
       "    </tr>\n",
       "    <tr>\n",
       "      <th>1996</th>\n",
       "      <td>0</td>\n",
       "      <td>51527</td>\n",
       "      <td>2008</td>\n",
       "      <td>0</td>\n",
       "      <td>1</td>\n",
       "      <td>0</td>\n",
       "      <td>1</td>\n",
       "      <td>0</td>\n",
       "      <td>0</td>\n",
       "      <td>1</td>\n",
       "    </tr>\n",
       "    <tr>\n",
       "      <th>1997</th>\n",
       "      <td>0</td>\n",
       "      <td>63594</td>\n",
       "      <td>2012</td>\n",
       "      <td>0</td>\n",
       "      <td>0</td>\n",
       "      <td>1</td>\n",
       "      <td>0</td>\n",
       "      <td>1</td>\n",
       "      <td>1</td>\n",
       "      <td>0</td>\n",
       "    </tr>\n",
       "    <tr>\n",
       "      <th>1998</th>\n",
       "      <td>1</td>\n",
       "      <td>54822</td>\n",
       "      <td>2006</td>\n",
       "      <td>1</td>\n",
       "      <td>0</td>\n",
       "      <td>0</td>\n",
       "      <td>1</td>\n",
       "      <td>0</td>\n",
       "      <td>1</td>\n",
       "      <td>0</td>\n",
       "    </tr>\n",
       "    <tr>\n",
       "      <th>1999</th>\n",
       "      <td>0</td>\n",
       "      <td>70776</td>\n",
       "      <td>2009</td>\n",
       "      <td>1</td>\n",
       "      <td>0</td>\n",
       "      <td>0</td>\n",
       "      <td>0</td>\n",
       "      <td>1</td>\n",
       "      <td>1</td>\n",
       "      <td>0</td>\n",
       "    </tr>\n",
       "  </tbody>\n",
       "</table>\n",
       "<p>2000 rows × 10 columns</p>\n",
       "</div>"
      ],
      "text/plain": [
       "      selectiveCollege  loanAmount  graduationYear  field_BUSINESS  \\\n",
       "0                    0       22907            2005               0   \n",
       "1                    0       60087            2010               0   \n",
       "2                    0       33149            2011               0   \n",
       "3                    1       33342            2007               0   \n",
       "4                    0       55834            2013               1   \n",
       "...                ...         ...             ...             ...   \n",
       "1995                 0       34862            2006               1   \n",
       "1996                 0       51527            2008               0   \n",
       "1997                 0       63594            2012               0   \n",
       "1998                 1       54822            2006               1   \n",
       "1999                 0       70776            2009               1   \n",
       "\n",
       "      field_HUMANITIES  field_STEM  sex_Female  sex_Male  Default_No  \\\n",
       "0                    0           1           0         1           1   \n",
       "1                    1           0           0         1           0   \n",
       "2                    1           0           1         0           1   \n",
       "3                    0           1           1         0           1   \n",
       "4                    0           0           0         1           0   \n",
       "...                ...         ...         ...       ...         ...   \n",
       "1995                 0           0           1         0           1   \n",
       "1996                 1           0           1         0           0   \n",
       "1997                 0           1           0         1           1   \n",
       "1998                 0           0           1         0           1   \n",
       "1999                 0           0           0         1           1   \n",
       "\n",
       "      Default_Yes  \n",
       "0               0  \n",
       "1               1  \n",
       "2               0  \n",
       "3               0  \n",
       "4               1  \n",
       "...           ...  \n",
       "1995            0  \n",
       "1996            1  \n",
       "1997            0  \n",
       "1998            0  \n",
       "1999            0  \n",
       "\n",
       "[2000 rows x 10 columns]"
      ]
     },
     "execution_count": 4,
     "metadata": {},
     "output_type": "execute_result"
    }
   ],
   "source": [
    "## translate the categorical predictors into numerical predictors\n",
    "loandata_dummies = pd.get_dummies(loandata)\n",
    "loandata_dummies"
   ]
  },
  {
   "cell_type": "markdown",
   "metadata": {},
   "source": [
    "## Question 3"
   ]
  },
  {
   "cell_type": "code",
   "execution_count": 5,
   "metadata": {},
   "outputs": [
    {
     "data": {
      "text/html": [
       "<div>\n",
       "<style scoped>\n",
       "    .dataframe tbody tr th:only-of-type {\n",
       "        vertical-align: middle;\n",
       "    }\n",
       "\n",
       "    .dataframe tbody tr th {\n",
       "        vertical-align: top;\n",
       "    }\n",
       "\n",
       "    .dataframe thead th {\n",
       "        text-align: right;\n",
       "    }\n",
       "</style>\n",
       "<table border=\"1\" class=\"dataframe\">\n",
       "  <thead>\n",
       "    <tr style=\"text-align: right;\">\n",
       "      <th></th>\n",
       "      <th>selectiveCollege</th>\n",
       "      <th>loanAmount</th>\n",
       "      <th>graduationYear</th>\n",
       "      <th>field_BUSINESS</th>\n",
       "      <th>field_HUMANITIES</th>\n",
       "      <th>field_STEM</th>\n",
       "      <th>sex_Female</th>\n",
       "      <th>sex_Male</th>\n",
       "      <th>Default_No</th>\n",
       "      <th>Default_Yes</th>\n",
       "    </tr>\n",
       "  </thead>\n",
       "  <tbody>\n",
       "    <tr>\n",
       "      <th>1893</th>\n",
       "      <td>0</td>\n",
       "      <td>45354</td>\n",
       "      <td>2007</td>\n",
       "      <td>0</td>\n",
       "      <td>1</td>\n",
       "      <td>0</td>\n",
       "      <td>1</td>\n",
       "      <td>0</td>\n",
       "      <td>1</td>\n",
       "      <td>0</td>\n",
       "    </tr>\n",
       "    <tr>\n",
       "      <th>898</th>\n",
       "      <td>0</td>\n",
       "      <td>55232</td>\n",
       "      <td>2004</td>\n",
       "      <td>0</td>\n",
       "      <td>0</td>\n",
       "      <td>1</td>\n",
       "      <td>1</td>\n",
       "      <td>0</td>\n",
       "      <td>1</td>\n",
       "      <td>0</td>\n",
       "    </tr>\n",
       "    <tr>\n",
       "      <th>1578</th>\n",
       "      <td>0</td>\n",
       "      <td>63144</td>\n",
       "      <td>2006</td>\n",
       "      <td>1</td>\n",
       "      <td>0</td>\n",
       "      <td>0</td>\n",
       "      <td>1</td>\n",
       "      <td>0</td>\n",
       "      <td>1</td>\n",
       "      <td>0</td>\n",
       "    </tr>\n",
       "    <tr>\n",
       "      <th>559</th>\n",
       "      <td>0</td>\n",
       "      <td>38498</td>\n",
       "      <td>2015</td>\n",
       "      <td>0</td>\n",
       "      <td>1</td>\n",
       "      <td>0</td>\n",
       "      <td>1</td>\n",
       "      <td>0</td>\n",
       "      <td>0</td>\n",
       "      <td>1</td>\n",
       "    </tr>\n",
       "    <tr>\n",
       "      <th>88</th>\n",
       "      <td>1</td>\n",
       "      <td>38548</td>\n",
       "      <td>2011</td>\n",
       "      <td>0</td>\n",
       "      <td>0</td>\n",
       "      <td>1</td>\n",
       "      <td>0</td>\n",
       "      <td>1</td>\n",
       "      <td>1</td>\n",
       "      <td>0</td>\n",
       "    </tr>\n",
       "  </tbody>\n",
       "</table>\n",
       "</div>"
      ],
      "text/plain": [
       "      selectiveCollege  loanAmount  graduationYear  field_BUSINESS  \\\n",
       "1893                 0       45354            2007               0   \n",
       "898                  0       55232            2004               0   \n",
       "1578                 0       63144            2006               1   \n",
       "559                  0       38498            2015               0   \n",
       "88                   1       38548            2011               0   \n",
       "\n",
       "      field_HUMANITIES  field_STEM  sex_Female  sex_Male  Default_No  \\\n",
       "1893                 1           0           1         0           1   \n",
       "898                  0           1           1         0           1   \n",
       "1578                 0           0           1         0           1   \n",
       "559                  1           0           1         0           0   \n",
       "88                   0           1           0         1           1   \n",
       "\n",
       "      Default_Yes  \n",
       "1893            0  \n",
       "898             0  \n",
       "1578            0  \n",
       "559             1  \n",
       "88              0  "
      ]
     },
     "execution_count": 5,
     "metadata": {},
     "output_type": "execute_result"
    }
   ],
   "source": [
    "## Shuffle the data\n",
    "loandata_dummies = loandata_dummies.sample(frac=1,random_state=4)\n",
    "loandata_dummies.head()"
   ]
  },
  {
   "cell_type": "code",
   "execution_count": 6,
   "metadata": {},
   "outputs": [],
   "source": [
    "## Split the data into 50% training data, 25% validation data and 25% test data\n",
    "training_data = loandata_dummies[0:1000]\n",
    "validation_data = loandata_dummies[1000:1500]\n",
    "test_data = loandata_dummies[1500:2000]"
   ]
  },
  {
   "cell_type": "code",
   "execution_count": 7,
   "metadata": {},
   "outputs": [],
   "source": [
    "training_data_x = training_data.drop(columns = ['Default_No','Default_Yes'])\n",
    "training_data_y = training_data['Default_Yes']\n",
    "\n",
    "validation_data_x = validation_data.drop(columns = ['Default_No','Default_Yes'])\n",
    "validation_data_y = validation_data['Default_Yes']\n",
    "\n",
    "test_data_x = test_data.drop(columns = ['Default_No','Default_Yes'])\n",
    "test_data_y = test_data['Default_Yes']"
   ]
  },
  {
   "cell_type": "markdown",
   "metadata": {},
   "source": [
    "## Question 4"
   ]
  },
  {
   "cell_type": "code",
   "execution_count": 8,
   "metadata": {},
   "outputs": [
    {
     "name": "stdout",
     "output_type": "stream",
     "text": [
      "Number of no default = 753\n",
      "Number of default = 247\n"
     ]
    }
   ],
   "source": [
    "# Calculation of the Naïve Benchmark (majority predictor)\n",
    "default_no_cnt = training_data['Default_No'].value_counts()\n",
    "default_yes_cnt = training_data['Default_Yes'].value_counts()\n",
    "print(\"Number of no default =\", default_no_cnt[1])\n",
    "print(\"Number of default =\", default_yes_cnt[1])"
   ]
  },
  {
   "cell_type": "markdown",
   "metadata": {},
   "source": [
    "The majority of the labels of the training data are \"No Default\"."
   ]
  },
  {
   "cell_type": "code",
   "execution_count": 9,
   "metadata": {},
   "outputs": [
    {
     "name": "stdout",
     "output_type": "stream",
     "text": [
      "Number of no default in validation set= 390\n",
      "Number of default in validation set= 110\n"
     ]
    }
   ],
   "source": [
    "default_no_validation = validation_data['Default_No'].value_counts()\n",
    "default_yes_validation = validation_data['Default_Yes'].value_counts()\n",
    "print(\"Number of no default in validation set=\", default_no_validation[1])\n",
    "print(\"Number of default in validation set=\", default_yes_validation[1])"
   ]
  },
  {
   "cell_type": "markdown",
   "metadata": {},
   "source": [
    "If we label the whole validation set as \"No Default\" we will have a misclassification rate of 110/500 = 0.22 = 22%."
   ]
  },
  {
   "cell_type": "markdown",
   "metadata": {},
   "source": [
    "## Question 5 "
   ]
  },
  {
   "cell_type": "code",
   "execution_count": 10,
   "metadata": {},
   "outputs": [],
   "source": [
    "# Return the maximum possible depth of this decision tree classifier \n",
    "clf = DecisionTreeClassifier() \n",
    "clf.fit(training_data_x, training_data_y)\n",
    "max_depth = clf.get_depth()\n",
    "depth_list = range(1,max_depth)"
   ]
  },
  {
   "cell_type": "code",
   "execution_count": 11,
   "metadata": {},
   "outputs": [],
   "source": [
    "# Run through all possible max depth, and return the max depth the provides the best classifer on \n",
    "# predicting validation data\n",
    "dt_scores_list_training = []\n",
    "dt_scores_list_validation = []\n",
    "best_depth = 0\n",
    "best_score = 0\n",
    "\n",
    "for depth in depth_list:\n",
    "    clf = DecisionTreeClassifier(max_depth=depth) \n",
    "    clf.fit(training_data_x,training_data_y)\n",
    "   \n",
    "    dt_scores_list_training.append(clf.score(training_data_x,training_data_y))\n",
    "    \n",
    "    accuracy_validation = clf.score(validation_data_x,validation_data_y)\n",
    "    dt_scores_list_validation.append(accuracy_validation)\n",
    "    \n",
    "    if best_score < accuracy_validation:\n",
    "        best_score = clf.score(validation_data_x,validation_data_y)\n",
    "        best_depth = depth\n"
   ]
  },
  {
   "cell_type": "code",
   "execution_count": 12,
   "metadata": {},
   "outputs": [],
   "source": [
    "# Create the data frame to store all the data\n",
    "df_dict = {'Score of training data': dt_scores_list_training, \n",
    "           'Score of validation data': dt_scores_list_validation,\n",
    "           'Maximum Depth':depth_list}  \n",
    "dt_scores_list_df = pd.DataFrame(df_dict)"
   ]
  },
  {
   "cell_type": "code",
   "execution_count": 13,
   "metadata": {},
   "outputs": [
    {
     "name": "stdout",
     "output_type": "stream",
     "text": [
      "For predicting the validation data, the maximum depth for the classifier is 2, where the best score is 0.87\n",
      "The accuracy rate of using this classifier to predict the training data is 0.877.\n",
      "The accuracy rate of using this classifier to predict the validation data is 0.87.\n"
     ]
    }
   ],
   "source": [
    "# Use the best depth classifier to predict the training data and validation data\n",
    "clf_best = DecisionTreeClassifier(max_depth = best_depth)\n",
    "clf_best.fit(training_data_x,training_data_y)\n",
    "score_training = clf_best.score(training_data_x,training_data_y)\n",
    "score_validation = clf_best.score(validation_data_x,validation_data_y)\n",
    "print(\"For predicting the validation data, the maximum depth for the classifier is {}, where the best score is {}\".format(best_depth,best_score))        \n",
    "print('The accuracy rate of using this classifier to predict the training data is {}.'.format(score_training))\n",
    "print('The accuracy rate of using this classifier to predict the validation data is {}.'.format(score_validation))\n",
    "\n"
   ]
  },
  {
   "cell_type": "code",
   "execution_count": 14,
   "metadata": {},
   "outputs": [
    {
     "data": {
      "text/plain": [
       "<matplotlib.legend.Legend at 0x16b08559d00>"
      ]
     },
     "execution_count": 14,
     "metadata": {},
     "output_type": "execute_result"
    },
    {
     "data": {
      "image/png": "[encoded data removed]",
      "text/plain": [
       "<Figure size 720x720 with 1 Axes>"
      ]
     },
     "metadata": {
      "needs_background": "light"
     },
     "output_type": "display_data"
    }
   ],
   "source": [
    "# Plot the maximum depth vs the score of predicting \n",
    "\n",
    "f = plt.figure(figsize=(10,10))\n",
    "plt.plot(dt_scores_list_df['Maximum Depth'], dt_scores_list_df['Score of training data'], label = \"Validation Data\")\n",
    "plt.plot(dt_scores_list_df['Maximum Depth'], dt_scores_list_df['Score of validation data'], label = \"Training Data\")\n",
    "plt.title('Accuracy of Prediction(Decision Tree Tree)')\n",
    "plt.xlabel('Maximum Depth')\n",
    "plt.ylabel('Accuracy(%)')\n",
    "plt.legend()\n"
   ]
  },
  {
   "cell_type": "code",
   "execution_count": 15,
   "metadata": {},
   "outputs": [
    {
     "name": "stdout",
     "output_type": "stream",
     "text": [
      "The depth that achieves the highest accuracy rate for the training data set is 16, and the corresponding accuracy rate is 1.0.\n",
      "However, with maximum depth equal to 16, the accuracy rate for the validation data is 0.834 , which is lower than what we acheive with depth = 2. This happens due to over-fitting problem.\n"
     ]
    }
   ],
   "source": [
    "# Train the decision tree classifier so it returns that highest accuracy rate of predicting training data\n",
    "alf = DecisionTreeClassifier() # \n",
    "alf.fit(training_data_x,training_data_y)\n",
    "best_score_training = alf.score(training_data_x,training_data_y)\n",
    "best_depth_training = alf.get_depth()\n",
    "\n",
    "# Use this decision tree classifier to predict the validation data\n",
    "validation_Score=alf.score(validation_data_x,validation_data_y)\n",
    "\n",
    "print('The depth that achieves the highest accuracy rate for the training data set is {}, and the corresponding accuracy rate is {}.'.format(best_depth_training, best_score_training))\n",
    "print('However, with maximum depth equal to {}, the accuracy rate for the validation data is {} , which is lower than what we acheive with depth = 2. This happens due to over-fitting problem.'.format(best_depth_training,validation_Score))"
   ]
  },
  {
   "cell_type": "markdown",
   "metadata": {},
   "source": [
    "In general, the deeper the tree grows, the more complex the model will become because there will be more splits and more information about the data will be captured.\n",
    "However this means that the model will fit as perfect as it can to the training data, but will not generate good predictions for the testing set.\n",
    "Hence we use the validation dataset to determine the proper max_depth of the model."
   ]
  },
  {
   "cell_type": "code",
   "execution_count": 16,
   "metadata": {},
   "outputs": [
    {
     "name": "stdout",
     "output_type": "stream",
     "text": [
      "Accuracy fot testing data = 0.862.\n"
     ]
    }
   ],
   "source": [
    "score_test = clf_best.score(test_data_x,test_data_y)\n",
    "print(\"Accuracy fot testing data = {}.\".format(score_test))"
   ]
  },
  {
   "cell_type": "markdown",
   "metadata": {},
   "source": [
    "The classifier gives an accuracy of 0.862 for depth = 2. "
   ]
  },
  {
   "cell_type": "markdown",
   "metadata": {},
   "source": [
    "## Question 6"
   ]
  },
  {
   "cell_type": "code",
   "execution_count": 17,
   "metadata": {},
   "outputs": [],
   "source": [
    "estimator_list = np.arange(1,50).tolist()\n",
    "rfs_scores_list_training = []\n",
    "rfs_scores_list_validation = []\n",
    "training_time = []\n",
    "\n",
    "# Run through a list of number of estimators, and return the max depth the provides the best classifer on predicting validation data\n",
    "for k in estimator_list:\n",
    "    clf   = RandomForestClassifier(n_estimators=k)\n",
    "    start = timeit.default_timer()\n",
    "    clf.fit(training_data_x, training_data_y)\n",
    "    end   = timeit.default_timer()\n",
    "    training_time.append(end-start)\n",
    "\n",
    "    rfs_scores_list_training.append(clf.score(training_data_x,training_data_y))\n",
    "    rfs_scores_list_validation.append(clf.score(validation_data_x,validation_data_y))\n"
   ]
  },
  {
   "cell_type": "code",
   "execution_count": 18,
   "metadata": {},
   "outputs": [
    {
     "name": "stdout",
     "output_type": "stream",
     "text": [
      "For predicting the validation data, the best number of estimator for the classifier is 9, where the best score is 0.858, and the training time is 0.03678s.\n"
     ]
    }
   ],
   "source": [
    "rfs_dict = {'Number of Estimator': estimator_list, \n",
    "            'Score of training data': rfs_scores_list_training,\n",
    "            'Score of validation data':rfs_scores_list_validation, \n",
    "            'Training time':training_time}  \n",
    "rfs_scores_list_df = pd.DataFrame(rfs_dict)\n",
    "\n",
    "# Return the running time while training the best classifer\n",
    "max_row = rfs_scores_list_df['Score of validation data'].idxmax()\n",
    "best_number_of_estimator=rfs_scores_list_df.iloc[max_row]['Number of Estimator']\n",
    "training_time = rfs_scores_list_df.iloc[max_row]['Training time']\n",
    "best_score    = rfs_scores_list_df.iloc[max_row]['Score of validation data']\n",
    "\n",
    "print(\"For predicting the validation data, the best number of estimator for the classifier is {:.0f}, where the best score is {}, and the training time is {:.5f}s.\".format(best_number_of_estimator, best_score,training_time))        \n"
   ]
  },
  {
   "cell_type": "code",
   "execution_count": 19,
   "metadata": {},
   "outputs": [
    {
     "data": {
      "text/plain": [
       "<matplotlib.legend.Legend at 0x16b0859dd30>"
      ]
     },
     "execution_count": 19,
     "metadata": {},
     "output_type": "execute_result"
    },
    {
     "data": {
      "image/png": "[encoded data removed]",
      "text/plain": [
       "<Figure size 720x720 with 1 Axes>"
      ]
     },
     "metadata": {
      "needs_background": "light"
     },
     "output_type": "display_data"
    }
   ],
   "source": [
    "# Plot the number of estimator vs the score of predicting \n",
    "f = plt.figure(figsize=(10,10))\n",
    "plt.plot(rfs_scores_list_df['Number of Estimator'], rfs_scores_list_df['Score of training data'], label = \"Training Data\")\n",
    "plt.plot(rfs_scores_list_df['Number of Estimator'], rfs_scores_list_df['Score of validation data'], label = \"Validation Data\")\n",
    "plt.title('Accuracy of Prediction(Random Forest Tree)')\n",
    "plt.xlabel('Number of Estimator')\n",
    "plt.ylabel('Accuracy(%)')\n",
    "plt.legend()"
   ]
  },
  {
   "cell_type": "markdown",
   "metadata": {},
   "source": [
    "## Question 7"
   ]
  },
  {
   "cell_type": "markdown",
   "metadata": {},
   "source": [
    "We observe that choosing the number of estimators to be equal to 7 will give us the best accuracy score for the validation data set and a low training time. Consequently it seems as a good choice bsed on our available data. "
   ]
  },
  {
   "cell_type": "code",
   "execution_count": 20,
   "metadata": {},
   "outputs": [
    {
     "name": "stdout",
     "output_type": "stream",
     "text": [
      "For the random forest tree, the training time increases linearly with the increase of the estimators' number.\n"
     ]
    },
    {
     "data": {
      "image/png": "[encoded data removed]",
      "text/plain": [
       "<Figure size 720x720 with 1 Axes>"
      ]
     },
     "metadata": {
      "needs_background": "light"
     },
     "output_type": "display_data"
    }
   ],
   "source": [
    "# Plot the number of estimators versus the training time\n",
    "f = plt.figure(figsize=(10,10))\n",
    "plt.plot(rfs_scores_list_df['Number of Estimator'], rfs_scores_list_df['Training time'], label = \"Training time\")\n",
    "plt.title('Training Time vs The number of Estimators(Random Forest Tree)')\n",
    "plt.xlabel('Number of Estimator')\n",
    "plt.ylabel('Training Time(s)')\n",
    "plt.legend()\n",
    "print('For the random forest tree, the training time increases linearly with the increase of the estimators\\' number.')"
   ]
  },
  {
   "cell_type": "markdown",
   "metadata": {},
   "source": [
    "## Question 8"
   ]
  },
  {
   "cell_type": "code",
   "execution_count": 21,
   "metadata": {},
   "outputs": [
    {
     "name": "stdout",
     "output_type": "stream",
     "text": [
      "The accuracy rate of using the decision tree to predict the test data is 0.862, and the training time is 0.01353s.\n"
     ]
    }
   ],
   "source": [
    "# Train the decision tree with the best maximum depth, and use it to predict the result of test data\n",
    "clf = DecisionTreeClassifier(max_depth = best_depth)\n",
    "start = timeit.default_timer()\n",
    "clf.fit(training_data_x,training_data_y)\n",
    "score_test = clf.score(test_data_x,test_data_y)\n",
    "end = timeit.default_timer()\n",
    "Running_time = end - start\n",
    "print('The accuracy rate of using the decision tree to predict the test data is {}, and the training time is {:.5f}s.'.format(score_test,Running_time))"
   ]
  },
  {
   "cell_type": "code",
   "execution_count": 22,
   "metadata": {},
   "outputs": [
    {
     "name": "stdout",
     "output_type": "stream",
     "text": [
      "The accuracy rate of using random forest classifier to predict test data is 0.842, and the training time is 0.06057s.\n"
     ]
    }
   ],
   "source": [
    "# Train the random forest tree with the best number of estimators, and use it to predict the result of test data\n",
    "clf = RandomForestClassifier(n_estimators=int(best_number_of_estimator))\n",
    "start = timeit.default_timer()\n",
    "clf.fit(training_data_x,training_data_y)\n",
    "score_test = clf.score(test_data_x,test_data_y)\n",
    "end = timeit.default_timer()\n",
    "Running_time = end - start\n",
    "\n",
    "print('The accuracy rate of using random forest classifier to predict test data is {}, and the training time is {:.5f}s.'.format(score_test,Running_time))"
   ]
  },
  {
   "cell_type": "markdown",
   "metadata": {},
   "source": [
    "In terms of performance, we have trained both the decision tree and random forest tree multiple times, and the accuracy of the decision tree is always slightly higher of that of the random forest algorithm. \n",
    "   \n",
    "In terms of interpretability, the decision tree has a very high interpretability since the way that the data are classified is absolutely clear. That said, random forests in general have relatively high level of interpretability too. \n",
    "\n",
    "In terms of training time, for all the times, the training time for the random forest classifier is significantly higher than the training time for the decision tree. \n",
    "\n",
    "With regard to the generalisability, for both algorithms, we need to use for loop to determine the classifier which returns the highest accuracy while predicting the result of validation data. For decision tree, the package includes the function which returns the highest possibly maximum depth; however, for random forest tree we need to guess a range for the number of estimators. Therefore, the decision tree  could be generalised easier than random forest tree. \n",
    "\n",
    "\n",
    "Overall, based on our data the decision tree seems to be a better choice than the random forest algorithm for predicting defaults in student loan applications."
   ]
  },
  {
   "cell_type": "code",
   "execution_count": null,
   "metadata": {},
   "outputs": [],
   "source": []
  }
 ],
 "metadata": {
  "kernelspec": {
   "display_name": "Python 3",
   "language": "python",
   "name": "python3"
  },
  "language_info": {
   "codemirror_mode": {
    "name": "ipython",
    "version": 3
   },
   "file_extension": ".py",
   "mimetype": "text/x-python",
   "name": "python",
   "nbconvert_exporter": "python",
   "pygments_lexer": "ipython3",
   "version": "3.8.5"
  }
 },
 "nbformat": 4,
 "nbformat_minor": 4
}
