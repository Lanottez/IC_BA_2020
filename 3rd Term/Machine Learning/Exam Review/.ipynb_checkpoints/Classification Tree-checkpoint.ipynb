{
 "cells": [
  {
   "cell_type": "code",
   "execution_count": 1,
   "metadata": {},
   "outputs": [],
   "source": [
    "import numpy as np\n",
    "import pandas as pd"
   ]
  },
  {
   "cell_type": "code",
   "execution_count": 33,
   "metadata": {},
   "outputs": [],
   "source": [
    "data = pd.read_excel('Classification Tree.xlsx')"
   ]
  },
  {
   "cell_type": "code",
   "execution_count": 34,
   "metadata": {},
   "outputs": [],
   "source": [
    "def traffic_predict(day,weather,time):\n",
    "    if weather == 'sunny':\n",
    "        if day == 'weekend':\n",
    "            return 'yes'\n",
    "        elif day == 'weekday':\n",
    "            if time == '1pm':\n",
    "                return 'no'\n",
    "            elif time == '8am':\n",
    "                return 'no'\n",
    "    elif weather == 'rainy':\n",
    "        if day == 'weekend':\n",
    "            if time == '1pm':\n",
    "                return 'yes'\n",
    "            elif time == '8am':\n",
    "                return 'no\\yes'\n",
    "        elif day == 'weekday':\n",
    "            return 'yes'"
   ]
  },
  {
   "cell_type": "code",
   "execution_count": 35,
   "metadata": {},
   "outputs": [],
   "source": [
    "def result(traffic,prediction):\n",
    "    if traffic == 'no':\n",
    "        if prediction == 'no':\n",
    "            return 'TN'\n",
    "        elif prediction == 'yes':\n",
    "            return 'FP'\n",
    "        else:\n",
    "            return 'TN or FP'\n",
    "    elif traffic == 'yes':\n",
    "        if prediction == 'no':\n",
    "            return 'FN'\n",
    "        elif prediction == 'yes':\n",
    "            return 'TP'\n",
    "        else:\n",
    "            return 'FN or TP'\n",
    "            \n",
    "    "
   ]
  },
  {
   "cell_type": "code",
   "execution_count": 37,
   "metadata": {},
   "outputs": [
    {
     "data": {
      "text/html": [
       "<div>\n",
       "<style scoped>\n",
       "    .dataframe tbody tr th:only-of-type {\n",
       "        vertical-align: middle;\n",
       "    }\n",
       "\n",
       "    .dataframe tbody tr th {\n",
       "        vertical-align: top;\n",
       "    }\n",
       "\n",
       "    .dataframe thead th {\n",
       "        text-align: right;\n",
       "    }\n",
       "</style>\n",
       "<table border=\"1\" class=\"dataframe\">\n",
       "  <thead>\n",
       "    <tr style=\"text-align: right;\">\n",
       "      <th></th>\n",
       "      <th>Day</th>\n",
       "      <th>Weather</th>\n",
       "      <th>Time</th>\n",
       "      <th>Traffic</th>\n",
       "      <th>Prediction</th>\n",
       "      <th>Class</th>\n",
       "    </tr>\n",
       "  </thead>\n",
       "  <tbody>\n",
       "    <tr>\n",
       "      <th>0</th>\n",
       "      <td>weekday</td>\n",
       "      <td>sunny</td>\n",
       "      <td>1pm</td>\n",
       "      <td>no</td>\n",
       "      <td>no</td>\n",
       "      <td>TN</td>\n",
       "    </tr>\n",
       "    <tr>\n",
       "      <th>1</th>\n",
       "      <td>weekday</td>\n",
       "      <td>rainy</td>\n",
       "      <td>1pm</td>\n",
       "      <td>yes</td>\n",
       "      <td>yes</td>\n",
       "      <td>TP</td>\n",
       "    </tr>\n",
       "    <tr>\n",
       "      <th>2</th>\n",
       "      <td>weekday</td>\n",
       "      <td>sunny</td>\n",
       "      <td>8am</td>\n",
       "      <td>no</td>\n",
       "      <td>no</td>\n",
       "      <td>TN</td>\n",
       "    </tr>\n",
       "    <tr>\n",
       "      <th>3</th>\n",
       "      <td>weekday</td>\n",
       "      <td>sunny</td>\n",
       "      <td>1pm</td>\n",
       "      <td>no</td>\n",
       "      <td>no</td>\n",
       "      <td>TN</td>\n",
       "    </tr>\n",
       "    <tr>\n",
       "      <th>4</th>\n",
       "      <td>weekday</td>\n",
       "      <td>rainy</td>\n",
       "      <td>1pm</td>\n",
       "      <td>yes</td>\n",
       "      <td>yes</td>\n",
       "      <td>TP</td>\n",
       "    </tr>\n",
       "  </tbody>\n",
       "</table>\n",
       "</div>"
      ],
      "text/plain": [
       "       Day Weather Time Traffic Prediction Class\n",
       "0  weekday   sunny  1pm      no         no    TN\n",
       "1  weekday   rainy  1pm     yes        yes    TP\n",
       "2  weekday   sunny  8am      no         no    TN\n",
       "3  weekday   sunny  1pm      no         no    TN\n",
       "4  weekday   rainy  1pm     yes        yes    TP"
      ]
     },
     "execution_count": 37,
     "metadata": {},
     "output_type": "execute_result"
    }
   ],
   "source": [
    "data['Prediction'] = data.apply(lambda row:traffic_predict(row['Day'],row['Weather'],row['Time']),axis = 1)\n",
    "data['Class'] = data.apply(lambda row:result(row['Traffic'],row['Prediction']),axis = 1)\n",
    "\n",
    "data.head()"
   ]
  },
  {
   "cell_type": "code",
   "execution_count": 38,
   "metadata": {},
   "outputs": [],
   "source": [
    "data.to_excel('Classification Tree.xlsx',index = False)"
   ]
  }
 ],
 "metadata": {
  "kernelspec": {
   "display_name": "Python 3",
   "language": "python",
   "name": "python3"
  },
  "language_info": {
   "codemirror_mode": {
    "name": "ipython",
    "version": 3
   },
   "file_extension": ".py",
   "mimetype": "text/x-python",
   "name": "python",
   "nbconvert_exporter": "python",
   "pygments_lexer": "ipython3",
   "version": "3.8.5"
  }
 },
 "nbformat": 4,
 "nbformat_minor": 4
}
