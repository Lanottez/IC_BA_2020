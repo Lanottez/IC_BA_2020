{
 "cells": [
  {
   "cell_type": "code",
   "execution_count": 1,
   "metadata": {},
   "outputs": [],
   "source": [
    "import numpy as np\n",
    "import pandas as pd"
   ]
  },
  {
   "cell_type": "code",
   "execution_count": 2,
   "metadata": {},
   "outputs": [],
   "source": [
    "data = pd.read_excel('Classification Tree.xlsx')"
   ]
  },
  {
   "cell_type": "code",
   "execution_count": 3,
   "metadata": {},
   "outputs": [],
   "source": [
    "def traffic_predict(day,weather,time):\n",
    "    if weather == 'sunny':\n",
    "        if day == 'weekend':\n",
    "            return 'yes'\n",
    "        elif day == 'weekday':\n",
    "            if time == '1pm':\n",
    "                return 'no'\n",
    "            elif time == '8am':\n",
    "                return 'no'\n",
    "    elif weather == 'rainy':\n",
    "        if day == 'weekend':\n",
    "            if time == '1pm':\n",
    "                return 'yes'\n",
    "            elif time == '8am':\n",
    "                return 'no\\yes'\n",
    "        elif day == 'weekday':\n",
    "            return 'yes'"
   ]
  },
  {
   "cell_type": "code",
   "execution_count": 4,
   "metadata": {},
   "outputs": [],
   "source": [
    "def result(traffic,prediction):\n",
    "    if traffic == 'no':\n",
    "        if prediction == 'no':\n",
    "            return 'TN'\n",
    "        elif prediction == 'yes':\n",
    "            return 'FP'\n",
    "        else:\n",
    "            return 'TN or FP'\n",
    "    elif traffic == 'yes':\n",
    "        if prediction == 'no':\n",
    "            return 'FN'\n",
    "        elif prediction == 'yes':\n",
    "            return 'TP'\n",
    "        else:\n",
    "            return 'FN or TP'\n",
    "            \n",
    "    "
   ]
  },
  {
   "cell_type": "code",
   "execution_count": 5,
   "metadata": {},
   "outputs": [],
   "source": [
    "data['Prediction'] = data.apply(lambda row:traffic_predict(row['Day'],row['Weather'],row['Time']),axis = 1)\n",
    "data['Class'] = data.apply(lambda row:result(row['Traffic'],row['Prediction']),axis = 1)"
   ]
  },
  {
   "cell_type": "code",
   "execution_count": 6,
   "metadata": {},
   "outputs": [],
   "source": [
    "data.to_excel('Classification Tree.xlsx',index = False)"
   ]
  }
 ],
 "metadata": {
  "kernelspec": {
   "display_name": "Python 3",
   "language": "python",
   "name": "python3"
  },
  "language_info": {
   "codemirror_mode": {
    "name": "ipython",
    "version": 3
   },
   "file_extension": ".py",
   "mimetype": "text/x-python",
   "name": "python",
   "nbconvert_exporter": "python",
   "pygments_lexer": "ipython3",
   "version": "3.8.5"
  }
 },
 "nbformat": 4,
 "nbformat_minor": 4
}
