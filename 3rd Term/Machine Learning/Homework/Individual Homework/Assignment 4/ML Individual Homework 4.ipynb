{
 "cells": [
  {
   "cell_type": "markdown",
   "metadata": {},
   "source": [
    "# Qian Zhang\n",
    "## ML Individual Homework 4"
   ]
  },
  {
   "cell_type": "code",
   "execution_count": 1,
   "metadata": {},
   "outputs": [],
   "source": [
    "import numpy as np\n",
    "import pandas as pd\n",
    "import matplotlib.pyplot as plt\n",
    "import random"
   ]
  },
  {
   "cell_type": "markdown",
   "metadata": {},
   "source": [
    "# Create the dataframe"
   ]
  },
  {
   "cell_type": "code",
   "execution_count": 2,
   "metadata": {},
   "outputs": [
    {
     "data": {
      "text/html": [
       "<div>\n",
       "<style scoped>\n",
       "    .dataframe tbody tr th:only-of-type {\n",
       "        vertical-align: middle;\n",
       "    }\n",
       "\n",
       "    .dataframe tbody tr th {\n",
       "        vertical-align: top;\n",
       "    }\n",
       "\n",
       "    .dataframe thead th {\n",
       "        text-align: right;\n",
       "    }\n",
       "</style>\n",
       "<table border=\"1\" class=\"dataframe\">\n",
       "  <thead>\n",
       "    <tr style=\"text-align: right;\">\n",
       "      <th></th>\n",
       "      <th>x1</th>\n",
       "      <th>x2</th>\n",
       "    </tr>\n",
       "  </thead>\n",
       "  <tbody>\n",
       "    <tr>\n",
       "      <th>0</th>\n",
       "      <td>1</td>\n",
       "      <td>4</td>\n",
       "    </tr>\n",
       "    <tr>\n",
       "      <th>1</th>\n",
       "      <td>1</td>\n",
       "      <td>3</td>\n",
       "    </tr>\n",
       "    <tr>\n",
       "      <th>2</th>\n",
       "      <td>1</td>\n",
       "      <td>2</td>\n",
       "    </tr>\n",
       "    <tr>\n",
       "      <th>3</th>\n",
       "      <td>5</td>\n",
       "      <td>1</td>\n",
       "    </tr>\n",
       "    <tr>\n",
       "      <th>4</th>\n",
       "      <td>2</td>\n",
       "      <td>3</td>\n",
       "    </tr>\n",
       "    <tr>\n",
       "      <th>5</th>\n",
       "      <td>6</td>\n",
       "      <td>2</td>\n",
       "    </tr>\n",
       "    <tr>\n",
       "      <th>6</th>\n",
       "      <td>4</td>\n",
       "      <td>1</td>\n",
       "    </tr>\n",
       "  </tbody>\n",
       "</table>\n",
       "</div>"
      ],
      "text/plain": [
       "   x1  x2\n",
       "0   1   4\n",
       "1   1   3\n",
       "2   1   2\n",
       "3   5   1\n",
       "4   2   3\n",
       "5   6   2\n",
       "6   4   1"
      ]
     },
     "execution_count": 2,
     "metadata": {},
     "output_type": "execute_result"
    }
   ],
   "source": [
    "xi = np.array([[1,1,1,5,2,6,4],[4,3,2,1,3,2,1]])\n",
    "xi = np.transpose(xi)\n",
    "xi_pd = pd.DataFrame(data=xi,columns=['x1','x2'])\n",
    "xi_pd"
   ]
  },
  {
   "cell_type": "markdown",
   "metadata": {},
   "source": [
    "# Question 1"
   ]
  },
  {
   "cell_type": "code",
   "execution_count": 3,
   "metadata": {},
   "outputs": [
    {
     "data": {
      "text/plain": [
       "Text(0, 0.5, 'x2')"
      ]
     },
     "execution_count": 3,
     "metadata": {},
     "output_type": "execute_result"
    },
    {
     "data": {
      "image/png": "[encoded data removed]",
      "text/plain": [
       "<Figure size 432x288 with 1 Axes>"
      ]
     },
     "metadata": {
      "needs_background": "light"
     },
     "output_type": "display_data"
    }
   ],
   "source": [
    "x = xi_pd.x1\n",
    "y = xi_pd.x2\n",
    "plt.scatter(x,y)\n",
    "plt.xlabel('x1')\n",
    "plt.ylabel('x2')"
   ]
  },
  {
   "cell_type": "code",
   "execution_count": 4,
   "metadata": {},
   "outputs": [],
   "source": [
    "# Normalise the samples. Since there is no outliers, I will use Min-max normalisation\n",
    "def min_max_normlisation(x_column):\n",
    "    normalised_x_column = []\n",
    "    min_x = x_column.min()\n",
    "    max_x = x_column.max()\n",
    "    for x in x_column:\n",
    "        normalised_x_column.append((x-min_x)/(max_x - min_x))\n",
    "    return normalised_x_column\n",
    "normalised_x1 = min_max_normlisation(xi_pd.x1)\n",
    "normalised_x2 = min_max_normlisation(xi_pd.x2)\n",
    "normalised_x = np.transpose(np.array([normalised_x1,normalised_x2]))\n",
    "xi_normalised_pd = pd.DataFrame(data = normalised_x,columns=['Normalised_x1','Normalised_x2'])"
   ]
  },
  {
   "cell_type": "markdown",
   "metadata": {},
   "source": [
    "# Question 2 "
   ]
  },
  {
   "cell_type": "code",
   "execution_count": 5,
   "metadata": {},
   "outputs": [],
   "source": [
    "xi_normalised_pd_Q2 = xi_normalised_pd.copy()"
   ]
  },
  {
   "cell_type": "code",
   "execution_count": 6,
   "metadata": {},
   "outputs": [
    {
     "data": {
      "text/html": [
       "<div>\n",
       "<style scoped>\n",
       "    .dataframe tbody tr th:only-of-type {\n",
       "        vertical-align: middle;\n",
       "    }\n",
       "\n",
       "    .dataframe tbody tr th {\n",
       "        vertical-align: top;\n",
       "    }\n",
       "\n",
       "    .dataframe thead th {\n",
       "        text-align: right;\n",
       "    }\n",
       "</style>\n",
       "<table border=\"1\" class=\"dataframe\">\n",
       "  <thead>\n",
       "    <tr style=\"text-align: right;\">\n",
       "      <th></th>\n",
       "      <th>Normalised_x1</th>\n",
       "      <th>Normalised_x2</th>\n",
       "      <th>Label</th>\n",
       "      <th>Point</th>\n",
       "    </tr>\n",
       "  </thead>\n",
       "  <tbody>\n",
       "    <tr>\n",
       "      <th>0</th>\n",
       "      <td>0.0</td>\n",
       "      <td>1.000000</td>\n",
       "      <td>0</td>\n",
       "      <td>[0.0, 1.0]</td>\n",
       "    </tr>\n",
       "    <tr>\n",
       "      <th>1</th>\n",
       "      <td>0.0</td>\n",
       "      <td>0.666667</td>\n",
       "      <td>0</td>\n",
       "      <td>[0.0, 0.6666666666666666]</td>\n",
       "    </tr>\n",
       "    <tr>\n",
       "      <th>2</th>\n",
       "      <td>0.0</td>\n",
       "      <td>0.333333</td>\n",
       "      <td>1</td>\n",
       "      <td>[0.0, 0.3333333333333333]</td>\n",
       "    </tr>\n",
       "    <tr>\n",
       "      <th>3</th>\n",
       "      <td>0.8</td>\n",
       "      <td>0.000000</td>\n",
       "      <td>0</td>\n",
       "      <td>[0.8, 0.0]</td>\n",
       "    </tr>\n",
       "    <tr>\n",
       "      <th>4</th>\n",
       "      <td>0.2</td>\n",
       "      <td>0.666667</td>\n",
       "      <td>1</td>\n",
       "      <td>[0.2, 0.6666666666666666]</td>\n",
       "    </tr>\n",
       "    <tr>\n",
       "      <th>5</th>\n",
       "      <td>1.0</td>\n",
       "      <td>0.333333</td>\n",
       "      <td>1</td>\n",
       "      <td>[1.0, 0.3333333333333333]</td>\n",
       "    </tr>\n",
       "    <tr>\n",
       "      <th>6</th>\n",
       "      <td>0.6</td>\n",
       "      <td>0.000000</td>\n",
       "      <td>0</td>\n",
       "      <td>[0.6, 0.0]</td>\n",
       "    </tr>\n",
       "  </tbody>\n",
       "</table>\n",
       "</div>"
      ],
      "text/plain": [
       "   Normalised_x1  Normalised_x2  Label                      Point\n",
       "0            0.0       1.000000      0                 [0.0, 1.0]\n",
       "1            0.0       0.666667      0  [0.0, 0.6666666666666666]\n",
       "2            0.0       0.333333      1  [0.0, 0.3333333333333333]\n",
       "3            0.8       0.000000      0                 [0.8, 0.0]\n",
       "4            0.2       0.666667      1  [0.2, 0.6666666666666666]\n",
       "5            1.0       0.333333      1  [1.0, 0.3333333333333333]\n",
       "6            0.6       0.000000      0                 [0.6, 0.0]"
      ]
     },
     "execution_count": 6,
     "metadata": {},
     "output_type": "execute_result"
    }
   ],
   "source": [
    "# Toss a coin 7 times to initialise the label.\n",
    "label = []\n",
    "for n in range(0,7):\n",
    "    label.append(random.randint(0,1))\n",
    "xi_normalised_pd_Q2['Label'] = label\n",
    "xi_normalised_pd_Q2['Point'] = xi_normalised_pd_Q2.apply(lambda row: [row.Normalised_x1,row.Normalised_x2],axis=1)\n",
    "xi_normalised_pd_Q2"
   ]
  },
  {
   "cell_type": "code",
   "execution_count": 7,
   "metadata": {},
   "outputs": [],
   "source": [
    "# Write function to calculate the centroids of each cluster\n",
    "def calculate_the_centroids(xi_normalised_pd_Q2):\n",
    "    centroids = xi_normalised_pd_Q2.groupby(['Label']).mean().rename(columns={'Normalised_x1':'Centroids_x1','Normalised_x2':'Centroids_x2'})\n",
    "    centroids_0 = list(centroids.iloc[0])\n",
    "    centroids_1 = list(centroids.iloc[1])\n",
    "    return centroids_0,centroids_1"
   ]
  },
  {
   "cell_type": "code",
   "execution_count": 8,
   "metadata": {},
   "outputs": [],
   "source": [
    "# Write function to return the closest centrods\n",
    "def calculate_the_distance(point_1,point_2):\n",
    "    point_1_x = point_1[0]\n",
    "    point_1_y = point_1[1]    \n",
    "    point_2_x = point_2[0]    \n",
    "    point_2_y = point_2[1]   \n",
    "    return np.sqrt(np.square(point_1_x-point_2_x) + np.square(point_1_y-point_2_y))\n",
    "\n",
    "def calculate_the_closet_centroids(point,centroid_0,centroid_1):\n",
    "    distance_centroid_0 = calculate_the_distance(point,centroid_0)\n",
    "    distance_centroid_1 = calculate_the_distance(point,centroid_1)\n",
    "    if distance_centroid_1 < distance_centroid_0:\n",
    "        return 1\n",
    "    else:\n",
    "        return 0"
   ]
  },
  {
   "cell_type": "code",
   "execution_count": 9,
   "metadata": {},
   "outputs": [],
   "source": [
    "# Write function to return whetherthe clusters changes\n",
    "def whether_clusters_no_longer_change(pd1,pd2):\n",
    "    return pd1.Label.equals(pd2.Label)"
   ]
  },
  {
   "cell_type": "code",
   "execution_count": 10,
   "metadata": {},
   "outputs": [],
   "source": [
    "# Main Scripts\n",
    "xi_normalised_pd_Q2_old = xi_normalised_pd_Q2.copy()\n",
    "xi_normalised_pd_Q2_new = xi_normalised_pd_Q2.copy()\n",
    "\n",
    "centroids_0,centroids_1 = calculate_the_centroids(xi_normalised_pd_Q2_old)\n",
    "xi_normalised_pd_Q2_new['Label'] = xi_normalised_pd_Q2_new.apply(lambda row:calculate_the_closet_centroids(row['Point'],centroids_0,centroids_1),axis=1)\n",
    "\n",
    "\n",
    "while not whether_clusters_no_longer_change(xi_normalised_pd_Q2_old,xi_normalised_pd_Q2_new):\n",
    "    xi_normalised_pd_Q2_old = xi_normalised_pd_Q2_new.copy()\n",
    "    centroids_0,centroids_1 = calculate_the_centroids(xi_normalised_pd_Q2_old)\n",
    "    xi_normalised_pd_Q2_new['Label'] = xi_normalised_pd_Q2_new.apply(lambda row:calculate_the_closet_centroids(row['Point'],centroids_0,centroids_1),axis=1)"
   ]
  },
  {
   "cell_type": "code",
   "execution_count": 11,
   "metadata": {},
   "outputs": [
    {
     "data": {
      "text/html": [
       "<div>\n",
       "<style scoped>\n",
       "    .dataframe tbody tr th:only-of-type {\n",
       "        vertical-align: middle;\n",
       "    }\n",
       "\n",
       "    .dataframe tbody tr th {\n",
       "        vertical-align: top;\n",
       "    }\n",
       "\n",
       "    .dataframe thead th {\n",
       "        text-align: right;\n",
       "    }\n",
       "</style>\n",
       "<table border=\"1\" class=\"dataframe\">\n",
       "  <thead>\n",
       "    <tr style=\"text-align: right;\">\n",
       "      <th></th>\n",
       "      <th>Normalised_x1</th>\n",
       "      <th>Normalised_x2</th>\n",
       "      <th>Label</th>\n",
       "      <th>Point</th>\n",
       "    </tr>\n",
       "  </thead>\n",
       "  <tbody>\n",
       "    <tr>\n",
       "      <th>0</th>\n",
       "      <td>0.0</td>\n",
       "      <td>1.000000</td>\n",
       "      <td>0</td>\n",
       "      <td>[0.0, 1.0]</td>\n",
       "    </tr>\n",
       "    <tr>\n",
       "      <th>1</th>\n",
       "      <td>0.0</td>\n",
       "      <td>0.666667</td>\n",
       "      <td>0</td>\n",
       "      <td>[0.0, 0.6666666666666666]</td>\n",
       "    </tr>\n",
       "    <tr>\n",
       "      <th>2</th>\n",
       "      <td>0.0</td>\n",
       "      <td>0.333333</td>\n",
       "      <td>0</td>\n",
       "      <td>[0.0, 0.3333333333333333]</td>\n",
       "    </tr>\n",
       "    <tr>\n",
       "      <th>3</th>\n",
       "      <td>0.8</td>\n",
       "      <td>0.000000</td>\n",
       "      <td>1</td>\n",
       "      <td>[0.8, 0.0]</td>\n",
       "    </tr>\n",
       "    <tr>\n",
       "      <th>4</th>\n",
       "      <td>0.2</td>\n",
       "      <td>0.666667</td>\n",
       "      <td>0</td>\n",
       "      <td>[0.2, 0.6666666666666666]</td>\n",
       "    </tr>\n",
       "    <tr>\n",
       "      <th>5</th>\n",
       "      <td>1.0</td>\n",
       "      <td>0.333333</td>\n",
       "      <td>1</td>\n",
       "      <td>[1.0, 0.3333333333333333]</td>\n",
       "    </tr>\n",
       "    <tr>\n",
       "      <th>6</th>\n",
       "      <td>0.6</td>\n",
       "      <td>0.000000</td>\n",
       "      <td>1</td>\n",
       "      <td>[0.6, 0.0]</td>\n",
       "    </tr>\n",
       "  </tbody>\n",
       "</table>\n",
       "</div>"
      ],
      "text/plain": [
       "   Normalised_x1  Normalised_x2  Label                      Point\n",
       "0            0.0       1.000000      0                 [0.0, 1.0]\n",
       "1            0.0       0.666667      0  [0.0, 0.6666666666666666]\n",
       "2            0.0       0.333333      0  [0.0, 0.3333333333333333]\n",
       "3            0.8       0.000000      1                 [0.8, 0.0]\n",
       "4            0.2       0.666667      0  [0.2, 0.6666666666666666]\n",
       "5            1.0       0.333333      1  [1.0, 0.3333333333333333]\n",
       "6            0.6       0.000000      1                 [0.6, 0.0]"
      ]
     },
     "execution_count": 11,
     "metadata": {},
     "output_type": "execute_result"
    }
   ],
   "source": [
    "xi_normalised_pd_Q2_new"
   ]
  },
  {
   "cell_type": "markdown",
   "metadata": {},
   "source": [
    "#### Therefore, point 1, 2, 3, 5 are in one cluster, and point 4,6,7 are in the other cluster"
   ]
  },
  {
   "cell_type": "markdown",
   "metadata": {},
   "source": [
    "# Question 3"
   ]
  },
  {
   "cell_type": "code",
   "execution_count": 12,
   "metadata": {},
   "outputs": [],
   "source": [
    "xi_normalised_pd_Q3 = xi_normalised_pd.copy()\n",
    "xi_normalised_pd_Q3['Point'] = xi_normalised_pd_Q3.apply(lambda row: [row.Normalised_x1,row.Normalised_x2],axis=1)"
   ]
  },
  {
   "cell_type": "code",
   "execution_count": 13,
   "metadata": {},
   "outputs": [
    {
     "data": {
      "text/html": [
       "<div>\n",
       "<style scoped>\n",
       "    .dataframe tbody tr th:only-of-type {\n",
       "        vertical-align: middle;\n",
       "    }\n",
       "\n",
       "    .dataframe tbody tr th {\n",
       "        vertical-align: top;\n",
       "    }\n",
       "\n",
       "    .dataframe thead th {\n",
       "        text-align: right;\n",
       "    }\n",
       "</style>\n",
       "<table border=\"1\" class=\"dataframe\">\n",
       "  <thead>\n",
       "    <tr style=\"text-align: right;\">\n",
       "      <th></th>\n",
       "      <th>Normalised_x1</th>\n",
       "      <th>Normalised_x2</th>\n",
       "      <th>Point</th>\n",
       "      <th>Label</th>\n",
       "    </tr>\n",
       "  </thead>\n",
       "  <tbody>\n",
       "    <tr>\n",
       "      <th>0</th>\n",
       "      <td>0.0</td>\n",
       "      <td>1.000000</td>\n",
       "      <td>[0.0, 1.0]</td>\n",
       "      <td>0</td>\n",
       "    </tr>\n",
       "    <tr>\n",
       "      <th>1</th>\n",
       "      <td>0.0</td>\n",
       "      <td>0.666667</td>\n",
       "      <td>[0.0, 0.6666666666666666]</td>\n",
       "      <td>1</td>\n",
       "    </tr>\n",
       "    <tr>\n",
       "      <th>2</th>\n",
       "      <td>0.0</td>\n",
       "      <td>0.333333</td>\n",
       "      <td>[0.0, 0.3333333333333333]</td>\n",
       "      <td>2</td>\n",
       "    </tr>\n",
       "    <tr>\n",
       "      <th>3</th>\n",
       "      <td>0.8</td>\n",
       "      <td>0.000000</td>\n",
       "      <td>[0.8, 0.0]</td>\n",
       "      <td>3</td>\n",
       "    </tr>\n",
       "    <tr>\n",
       "      <th>4</th>\n",
       "      <td>0.2</td>\n",
       "      <td>0.666667</td>\n",
       "      <td>[0.2, 0.6666666666666666]</td>\n",
       "      <td>4</td>\n",
       "    </tr>\n",
       "    <tr>\n",
       "      <th>5</th>\n",
       "      <td>1.0</td>\n",
       "      <td>0.333333</td>\n",
       "      <td>[1.0, 0.3333333333333333]</td>\n",
       "      <td>5</td>\n",
       "    </tr>\n",
       "    <tr>\n",
       "      <th>6</th>\n",
       "      <td>0.6</td>\n",
       "      <td>0.000000</td>\n",
       "      <td>[0.6, 0.0]</td>\n",
       "      <td>6</td>\n",
       "    </tr>\n",
       "  </tbody>\n",
       "</table>\n",
       "</div>"
      ],
      "text/plain": [
       "   Normalised_x1  Normalised_x2                      Point  Label\n",
       "0            0.0       1.000000                 [0.0, 1.0]      0\n",
       "1            0.0       0.666667  [0.0, 0.6666666666666666]      1\n",
       "2            0.0       0.333333  [0.0, 0.3333333333333333]      2\n",
       "3            0.8       0.000000                 [0.8, 0.0]      3\n",
       "4            0.2       0.666667  [0.2, 0.6666666666666666]      4\n",
       "5            1.0       0.333333  [1.0, 0.3333333333333333]      5\n",
       "6            0.6       0.000000                 [0.6, 0.0]      6"
      ]
     },
     "execution_count": 13,
     "metadata": {},
     "output_type": "execute_result"
    }
   ],
   "source": [
    "xi_normalised_pd_Q3['Label'] = xi_normalised_pd_Q3.index.values\n",
    "xi_normalised_pd_Q3"
   ]
  },
  {
   "cell_type": "code",
   "execution_count": 14,
   "metadata": {},
   "outputs": [],
   "source": [
    "# Write function to calculate the centroids of each cluster\n",
    "def calculate_the_centroids(xi_normalised_pd_Q3):\n",
    "    centroids = xi_normalised_pd_Q3.groupby(['Label']).mean().rename(columns={'Normalised_x1':'Centroids_x1','Normalised_x2':'Centroids_x2'})\n",
    "    return centroids[['Centroids_x1','Centroids_x2']].to_numpy()"
   ]
  },
  {
   "cell_type": "code",
   "execution_count": 15,
   "metadata": {},
   "outputs": [],
   "source": [
    "# Write function to return the two clusters with the cloest distance\n",
    "def return_the_cloest_cluster(xi_normalised_pd_Q3):\n",
    "    centroids = calculate_the_centroids(xi_normalised_pd_Q3)\n",
    "    number_of_cluster = len(xi_normalised_pd_Q3.Label.unique())\n",
    "    distance_matrix = np.identity(number_of_cluster)\n",
    "    distance_matrix[distance_matrix==1] = float('inf')\n",
    "    for i in range(len(centroids)):\n",
    "        for j in range(len(centroids)):\n",
    "            if i != j:\n",
    "                distance_matrix[i][j] = calculate_the_distance(centroids[i],centroids[j])\n",
    "    return np.unravel_index(distance_matrix.argmin(), distance_matrix.shape)"
   ]
  },
  {
   "cell_type": "code",
   "execution_count": 16,
   "metadata": {},
   "outputs": [],
   "source": [
    "def function_merge_two_clusters(xi_normalised_pd_Q3_old):\n",
    "    xi_normalised_pd_Q3_new = xi_normalised_pd_Q3_old.copy()\n",
    "    closest_clusters = return_the_cloest_cluster(xi_normalised_pd_Q3_new)\n",
    "    xi_normalised_pd_Q3_new.loc[xi_normalised_pd_Q3_new.Label ==  closest_clusters[1],'Label'] = closest_clusters[0]  \n",
    "    \n",
    "    for Count,Label in enumerate(xi_normalised_pd_Q3_new.Label.unique()):\n",
    "        xi_normalised_pd_Q3_new.loc[xi_normalised_pd_Q3_new.Label==Label,'Label'] = Count\n",
    "        \n",
    "    return xi_normalised_pd_Q3_new"
   ]
  },
  {
   "cell_type": "code",
   "execution_count": 17,
   "metadata": {},
   "outputs": [],
   "source": [
    "normalised_list = []\n",
    "\n",
    "xi_normalised_pd_Q3_old = xi_normalised_pd_Q3.copy()\n",
    "normalised_list.append(list(xi_normalised_pd_Q3_old.Label))\n",
    "xi_normalised_pd_Q3_new = function_merge_two_clusters(xi_normalised_pd_Q3_old)\n",
    "xi_normalised_pd_Q3_old = xi_normalised_pd_Q3_new.copy()\n",
    "normalised_list.append(list(xi_normalised_pd_Q3_new.Label))\n",
    "while len(xi_normalised_pd_Q3_new.Label.unique()) > 1:\n",
    "    xi_normalised_pd_Q3_new = function_merge_two_clusters(xi_normalised_pd_Q3_old)\n",
    "    xi_normalised_pd_Q3_old = xi_normalised_pd_Q3_new.copy()\n",
    "    normalised_list.append(list(xi_normalised_pd_Q3_new.Label))"
   ]
  },
  {
   "cell_type": "code",
   "execution_count": 18,
   "metadata": {},
   "outputs": [
    {
     "data": {
      "text/plain": [
       "[[0, 1, 2, 3, 4, 5, 6],\n",
       " [0, 1, 2, 3, 1, 4, 5],\n",
       " [0, 1, 2, 3, 1, 4, 3],\n",
       " [0, 1, 1, 2, 1, 3, 2],\n",
       " [0, 1, 1, 2, 1, 2, 2],\n",
       " [0, 0, 0, 1, 0, 1, 1],\n",
       " [0, 0, 0, 0, 0, 0, 0]]"
      ]
     },
     "execution_count": 18,
     "metadata": {},
     "output_type": "execute_result"
    }
   ],
   "source": [
    "normalised_list"
   ]
  },
  {
   "cell_type": "markdown",
   "metadata": {},
   "source": [
    "#### Initial: [1],[2],[3],[4],[5],[6],[7]\n",
    "#### First iteration: [1],[2,5],[3],[4],[6],[7]\n",
    "#### Second iteration: [1],[2,5],[3],[4,7],[6]\n",
    "#### Third iteration: [1],[2,3,5],[4,7],[6]\n",
    "#### Fourth iteration: [1],[2,3,5],[4,6,7]\n",
    "#### Fifth iteration: [1,2,3,5],[4,6,7]\n",
    "#### Sixth iteration: [1,2,3,4,5,6,7]"
   ]
  },
  {
   "cell_type": "code",
   "execution_count": null,
   "metadata": {},
   "outputs": [],
   "source": []
  }
 ],
 "metadata": {
  "kernelspec": {
   "display_name": "Python 3",
   "language": "python",
   "name": "python3"
  },
  "language_info": {
   "codemirror_mode": {
    "name": "ipython",
    "version": 3
   },
   "file_extension": ".py",
   "mimetype": "text/x-python",
   "name": "python",
   "nbconvert_exporter": "python",
   "pygments_lexer": "ipython3",
   "version": "3.8.5"
  }
 },
 "nbformat": 4,
 "nbformat_minor": 4
}
