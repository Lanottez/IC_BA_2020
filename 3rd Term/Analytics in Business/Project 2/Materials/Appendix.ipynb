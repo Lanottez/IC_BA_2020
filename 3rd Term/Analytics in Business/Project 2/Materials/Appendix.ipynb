{
 "cells": [
  {
   "cell_type": "code",
   "execution_count": 192,
   "metadata": {},
   "outputs": [],
   "source": [
    "import numpy as np\n",
    "import pandas as pd\n",
    "import matplotlib.pyplot as plt\n",
    "import numbers\n",
    "import math\n",
    "from datetime import datetime\n",
    "pd.options.mode.chained_assignment = None "
   ]
  },
  {
   "cell_type": "markdown",
   "metadata": {},
   "source": [
    "# Fill in the 2017 April Data"
   ]
  },
  {
   "cell_type": "code",
   "execution_count": 3,
   "metadata": {},
   "outputs": [],
   "source": [
    "def get_filed_2017_from_2016():\n",
    "    turbine_telemetry_Qian = pd.read_csv('turbine_telemetry.csv', parse_dates=[0], index_col=0)\n",
    "    turbine_telemetry_Qian = turbine_telemetry_Qian.reset_index()\n",
    "    turbine_telemetry_Qian.Timestamp = pd.to_datetime(turbine_telemetry_Qian.Timestamp)\n",
    "    turbine_telemetry_Qian['Year'] = turbine_telemetry_Qian.Timestamp.dt.year\n",
    "    turbine_telemetry_Qian['Month'] = turbine_telemetry_Qian.Timestamp.dt.month\n",
    "    turbine_telemetry_Qian['Day'] = turbine_telemetry_Qian.Timestamp.dt.day\n",
    "    turbine_telemetry_Qian['Hour'] = turbine_telemetry_Qian.Timestamp.dt.hour\n",
    "    turbine_telemetry_Qian['Minute'] = turbine_telemetry_Qian.Timestamp.dt.minute\n",
    "    turbine_telemetry_Qian['Second'] = turbine_telemetry_Qian.Timestamp.dt.second\n",
    "    \n",
    "    \n",
    "    grouped_df = turbine_telemetry_Qian.groupby(['Year','Month'])\n",
    "    grouped_df = grouped_df.agg({'Day': 'nunique'})\n",
    "    grouped_df = grouped_df.reset_index()\n",
    "    location = grouped_df.Year == 2017\n",
    "    grouped_df.loc[location]\n",
    "    # The data in April is missing\n",
    "    \n",
    "    grouped_df = turbine_telemetry_Qian.groupby(['Year','Month','Day'])\n",
    "    grouped_df = grouped_df.agg({'Hour': 'nunique'})\n",
    "    grouped_df = grouped_df.reset_index()\n",
    "    location = (grouped_df.Year == 2017) & (grouped_df.Month == 4)\n",
    "    grouped_df.loc[location]\n",
    "    # The data for April 3rd and April 24th are partially missing, and the data for April 4th to April 23 are entirely missing\n",
    "    \n",
    "    # Fill in the missing data for April 3th to April 24.\n",
    "    # Replace the missing data in 2017 by data in 2016\n",
    "    masks = (turbine_telemetry_Qian.Year == 2016) &  (turbine_telemetry_Qian.Month == 4) & (turbine_telemetry_Qian.Day.between(3, 24, inclusive=True))\n",
    "    data_2016_for_replacement = turbine_telemetry_Qian.loc[masks]\n",
    "    data_2016_for_replacement.Year = 2017\n",
    "    data_2016_for_replacement.Timestamp = data_2016_for_replacement.Timestamp + pd.offsets.DateOffset(years=1)\n",
    "    data_2016_for_replacement\n",
    "    \n",
    "    turbine_telemetry_filing_in_3_24 = turbine_telemetry_Qian.append(data_2016_for_replacement)\n",
    "    turbine_telemetry_filing_in_3_24\n",
    "\n",
    "    # reprint all the data from 2017\n",
    "    tt_17  = turbine_telemetry_filing_in_3_24.copy()\n",
    "    mask17 = (tt_17.Year == 2017)\n",
    "    tt_17  = tt_17[mask17]\n",
    "    \n",
    "    tt17 = tt_17.copy()\n",
    "    tt17 = tt17.reset_index()\n",
    "    plot_filled_data = tt17.plot.scatter('Timestamp', 'Power_kw')\n",
    "\n",
    "\n",
    "    return tt17"
   ]
  },
  {
   "cell_type": "markdown",
   "metadata": {},
   "source": [
    "# Bring all to xx:00 second and take the mean value for all the data from 2017"
   ]
  },
  {
   "cell_type": "code",
   "execution_count": 4,
   "metadata": {},
   "outputs": [],
   "source": [
    "def isnumber(x):\n",
    "    return isinstance(x, numbers.Number)\n",
    "\n",
    "def not_number_to_nan(row):\n",
    "    power = row.Power_kw\n",
    "    if isnumber(power):\n",
    "        return power\n",
    "    else: \n",
    "        return np.nan\n",
    "\n",
    "def get_all_zero_seconds_avg(tt17):\n",
    "\n",
    "    tt_17 = tt17.copy()\n",
    "    tt_17 = tt_17.reset_index()\n",
    "    tt_17.plot.scatter('Timestamp', 'Power_kw')\n",
    "        \n",
    "    tt_17.Timestamp = tt_17.Timestamp.map(lambda x: x.replace(second=0))\n",
    "    tt_17[\"Power_kw\"] = tt_17.apply( not_number_to_nan, axis =1)\n",
    "        \n",
    "    tt17_mean_data = tt17.groupby(\"Timestamp\").mean()\n",
    "    \n",
    "    return tt17_mean_data"
   ]
  },
  {
   "cell_type": "markdown",
   "metadata": {},
   "source": [
    "# Main Exploration"
   ]
  },
  {
   "cell_type": "code",
   "execution_count": 5,
   "metadata": {},
   "outputs": [
    {
     "data": {
      "image/png": "[encoded data removed]",
      "text/plain": [
       "<Figure size 432x288 with 1 Axes>"
      ]
     },
     "metadata": {
      "needs_background": "light"
     },
     "output_type": "display_data"
    },
    {
     "data": {
      "image/png": "[encoded data removed]",
      "text/plain": [
       "<Figure size 432x288 with 1 Axes>"
      ]
     },
     "metadata": {
      "needs_background": "light"
     },
     "output_type": "display_data"
    }
   ],
   "source": [
    "tt = pd.read_csv('turbine_telemetry.csv', parse_dates=[0], index_col=0)\n",
    "\n",
    "tt17 = get_filed_2017_from_2016()\n",
    "\n",
    "tt17_mean_data = get_all_zero_seconds_avg(tt17)"
   ]
  },
  {
   "cell_type": "markdown",
   "metadata": {},
   "source": [
    "# Q1 Assumption"
   ]
  },
  {
   "cell_type": "code",
   "execution_count": 6,
   "metadata": {},
   "outputs": [],
   "source": [
    "turbines = 500\n",
    "turbines_operating = 0.8 ##Assumption\n",
    "orkney_households = 9240"
   ]
  },
  {
   "cell_type": "markdown",
   "metadata": {},
   "source": [
    "# Q1 First way"
   ]
  },
  {
   "cell_type": "code",
   "execution_count": 7,
   "metadata": {},
   "outputs": [],
   "source": [
    "def calcucate_curtailed_energy_setpoint_based(tt):\n",
    "\n",
    "    turbine_telemetry_filter_wind_power = tt.copy()\n",
    "    turbine_telemetry_filter_wind_power.loc[turbine_telemetry_filter_wind_power.Wind_ms >= 30, \"Power_kw\"] = 0\n",
    "\n",
    "    max_setpoints_per_wind = turbine_telemetry_filter_wind_power.groupby('Wind_ms')['Setpoint_kw'].max()\n",
    "\n",
    "    turbine_telemetry_filter_wind_power = turbine_telemetry_filter_wind_power.merge( max_setpoints_per_wind, on = \"Wind_ms\")\n",
    "\n",
    "    turbine_telemetry_filter_wind_power = turbine_telemetry_filter_wind_power.rename(columns = {\"Setpoint_kw_x\": \"Setpoint_kw\", \"Setpoint_kw_y\": \"Max_possible_setpoint\" }) \n",
    "\n",
    "    turbine_telemetry_filter_wind_power[\"Setpoint_delta\"] = turbine_telemetry_filter_wind_power[\"Max_possible_setpoint\"] - turbine_telemetry_filter_wind_power[\"Setpoint_kw\"]\n",
    "\n",
    "    turbine_telemetry_filter_wind_power[\"Power_curtailed\"] = turbine_telemetry_filter_wind_power[\"Setpoint_delta\"]\n",
    "    turbine_telemetry_filter_wind_power.loc[ turbine_telemetry_filter_wind_power.Setpoint_kw > turbine_telemetry_filter_wind_power.Power_kw , \"Power_curtailed\"] = 0\n",
    "\n",
    "    total_curtailed_kwh = turbine_telemetry_filter_wind_power[\"Power_curtailed\"].sum()/60\n",
    "\n",
    "    total_curtailed_energy = turbines * turbines_operating * total_curtailed_kwh\n",
    "\n",
    "    return total_curtailed_energy, turbine_telemetry_filter_wind_power"
   ]
  },
  {
   "cell_type": "markdown",
   "metadata": {},
   "source": [
    "# Q1 Second Way: curtailed = (possible power - island demand - export)*t"
   ]
  },
  {
   "cell_type": "code",
   "execution_count": 8,
   "metadata": {},
   "outputs": [],
   "source": [
    "def get_wind_power_relation(tt):\n",
    "    # how to figure out what's the the smallest speed necessary to produce power\n",
    "    v_min = tt[(tt.loc[:, 'Power_kw'] >= 5.)].loc[:, 'Wind_ms'].quantile(0.1) # 10% quantile\n",
    "    \n",
    "    #df = pd.read_csv('turbine_telemetry.csv', parse_dates=[0], index_col=0)\n",
    "    df = tt.query('Setpoint_kw==900').copy()\n",
    "    \n",
    "    # remove data points when the wind speed is fast enough for power production but there is no power;\n",
    "    df.loc[((df.Wind_ms >= v_min) & (df.Power_kw.abs() <= 1e-5))] = np.nan\n",
    "    \n",
    "    # remove all missing values from the dataframe\n",
    "    df = df.dropna(0, inplace=False)\n",
    "    \n",
    "    #####################################\n",
    "    ## select bin locations\n",
    "    #####################################\n",
    "    wmax_ = df[df.Power_kw == df.Power_kw.quantile(0.90)].Wind_ms.quantile(0.5)\n",
    "    wmax  = df.Wind_ms.max()\n",
    "    \n",
    "    \n",
    "    bins = np.arange(0, wmax, .2)\n",
    "    \n",
    "    # group data by bins\n",
    "    df['bins'] = pd.cut(df.Wind_ms, bins) #\n",
    "    \n",
    "    df_ = df[['Power_kw', 'bins']].groupby('bins')\n",
    "    power_med = df_.quantile(0.5)\n",
    "    power_med['q10'] = df_.quantile(0.1)\n",
    "    power_med['q90'] = df_.quantile(0.9)\n",
    "    \n",
    "    \n",
    "    # pretty good replication of the power vs wind profile\n",
    "    plot_power = power_med.plot(rot=45)\n",
    "    \n",
    "    \n",
    "    df['bins'].isna().sum()\n",
    "    bin_nan = df[df[\"bins\"].isna()]\n",
    "    \n",
    "    #####################################\n",
    "    # look-up table mean and standard deviation\n",
    "    #####################################\n",
    "    \n",
    "    # group data by bins\n",
    "    cuts = pd.cut(df.Wind_ms, bins)\n",
    "    gp_  = df.Power_kw.groupby(cuts) # iterator\n",
    "    \n",
    "    lutm = gp_.mean()\n",
    "    luts = gp_.std()\n",
    "    \n",
    "    # convert to an interval index\n",
    "    lutm.index = pd.IntervalIndex(lutm.index)\n",
    "    luts.index = pd.IntervalIndex(luts.index)\n",
    "    # this is the basis of our look-up table\n",
    "    \n",
    "    \n",
    "    # round power to nearest 5 watts == 0.05 kW\n",
    "    lutm = lutm.round(2)\n",
    "    \n",
    "    # set final power output to 900\n",
    "    lutm.loc[wmax_:] = 900\n",
    "    \n",
    "    # make zero interval open at both ends to cover zero wind speed\n",
    "    lutm.loc[pd.Interval(0,.2, closed='right')] = 0 \n",
    "    \n",
    "    \n",
    "    #####################################\n",
    "    # extend range to gusts of wind that are greater than max operating speed (25m/s) but of short duration\n",
    "    #####################################\n",
    "    #lutm.loc[pd.Interval(wmax_, 50, closed='right')] = 900\n",
    "    #lutm.loc[pd.IntervalIndex.get_indexer_non_unique(lutm.loc[pd.Interval(25, 50)])] = 0\n",
    "\n",
    "\n",
    "    \n",
    "    # compare lookup table with data\n",
    "    plt.figure(figsize=(15,5))\n",
    "    s = plt.step(lutm.index.right, lutm, color='r')\n",
    "    plt.legend(s, ['look-up table'], loc='upper left')\n",
    "    \n",
    "    #########################################\n",
    "    gp = df\n",
    "    mask = (gp.index.year == 2017)\n",
    "    gp_17 = gp[mask]\n",
    "    \n",
    "    \n",
    "    possible_power = [ 0 if pd.isnull(bini) else lutm[bini] for bini in gp_17.bins  ]\n",
    "    gp_17 = gp_17.assign(Max_power_available = possible_power)\n",
    "    \n",
    "\n",
    "    return gp_17,lutm"
   ]
  },
  {
   "cell_type": "markdown",
   "metadata": {},
   "source": [
    "# Calculating the Demand"
   ]
  },
  {
   "cell_type": "code",
   "execution_count": 9,
   "metadata": {},
   "outputs": [],
   "source": [
    "def get_demand_data():\n",
    "    \n",
    "    demand = pd.read_csv('residential_demand.csv', parse_dates=[0], index_col=0)\n",
    "    demand['Demand_mean_kw'] = demand['Demand_mean_kw'] * 8193/365/24/demand.Demand_mean_kw.mean() \n",
    "    mask   = (demand.index.year == 2017)\n",
    "    demand = demand[mask]\n",
    "    \n",
    "    demand[\"Mean_demand\"] = demand[\"Demand_mean_kw\"]/demand[\"N_households\"]\n",
    "\n",
    "    return demand\n",
    "\n",
    "def calculate_curtailed_energy_mean_demand(gp_17, demand):\n",
    "    \n",
    "    gp_17 = gp_17.reset_index()\n",
    "    gp_17[\"Timestamp\"] = gp_17[\"Timestamp\"].apply(lambda x: pd.Timestamp.replace(x,second=0) )\n",
    "    gp_17 = gp_17.set_index(\"Timestamp\")\n",
    "    \n",
    "    \n",
    "    curtailed = gp_17.join(demand, how = \"outer\")\n",
    "    curtailed = curtailed.drop(columns = [\"N_households\",\"Demand_mean_kw\", \"Wind_ms\", \"bins\"])\n",
    "    curtailed.index.sort_values()\n",
    "    \n",
    "    \n",
    "    curtailed['Mean_demand']   = curtailed['Mean_demand'].interpolate(method='linear')\n",
    "    curtailed[\"island_demand\"] = curtailed[\"Mean_demand\"]*orkney_households\n",
    "    \n",
    "    \n",
    "    curtailed_power = curtailed.copy()\n",
    "    curtailed_power[\"power_excess\"] = turbines_operating*turbines*curtailed[\"Max_power_available\"] - curtailed[\"island_demand\"] - 40000\n",
    "    curtailed_power = curtailed_power.drop(columns = [\"Power_kw\",\"Setpoint_kw\", \"Max_power_available\",\"Mean_demand\", \"island_demand\"])\n",
    "    \n",
    "    curtailed_power.loc[curtailed_power['power_excess'] < 0, 'power_excess'] = 0\n",
    "    \n",
    "    total_curtailed_energy_kwh = curtailed_power[\"power_excess\"].sum()/60\n",
    "\n",
    "    return total_curtailed_energy_kwh, curtailed_power"
   ]
  },
  {
   "cell_type": "code",
   "execution_count": 160,
   "metadata": {},
   "outputs": [
    {
     "data": {
      "text/plain": [
       "Month\n",
       "1.0     1.191238e+09\n",
       "2.0     1.044514e+09\n",
       "3.0     9.080037e+08\n",
       "4.0     6.715769e+08\n",
       "5.0     4.951554e+08\n",
       "6.0     5.143863e+08\n",
       "7.0     3.445407e+08\n",
       "8.0     4.127667e+08\n",
       "9.0     5.756826e+08\n",
       "10.0    1.006758e+09\n",
       "11.0    1.349806e+09\n",
       "12.0    1.102870e+09\n",
       "Name: power_excess, dtype: float64"
      ]
     },
     "execution_count": 160,
     "metadata": {},
     "output_type": "execute_result"
    }
   ],
   "source": [
    "curtailed_power.groupby(['Month'])['power_excess'].sum()"
   ]
  },
  {
   "cell_type": "code",
   "execution_count": 96,
   "metadata": {},
   "outputs": [
    {
     "data": {
      "image/png": "[encoded data removed]",
      "text/plain": [
       "<Figure size 432x288 with 1 Axes>"
      ]
     },
     "metadata": {
      "needs_background": "light"
     },
     "output_type": "display_data"
    },
    {
     "data": {
      "image/png": "[encoded data removed]",
      "text/plain": [
       "<Figure size 1080x360 with 1 Axes>"
      ]
     },
     "metadata": {
      "needs_background": "light"
     },
     "output_type": "display_data"
    }
   ],
   "source": [
    "total_curtailed_energy_1way, turbine_telemetry_filter_wind_power = calcucate_curtailed_energy_setpoint_based(tt17_mean_data)\n",
    "gp_17,lutm = get_wind_power_relation(tt17_mean_data)\n",
    "demand = get_demand_data()\n",
    "total_curtailed_energy_2nd, curtailed_power = calculate_curtailed_energy_mean_demand(gp_17, demand)\n",
    "\n",
    "adjusting_Ratio=65*1000/500/900\n",
    "curtailed_power['power_excess']=curtailed_power['power_excess']*adjusting_Ratio\n",
    "total_curtailed_energy_2nd=total_curtailed_energy_2nd*adjusting_Ratio"
   ]
  },
  {
   "cell_type": "code",
   "execution_count": 100,
   "metadata": {},
   "outputs": [
    {
     "data": {
      "text/html": [
       "<div>\n",
       "<style scoped>\n",
       "    .dataframe tbody tr th:only-of-type {\n",
       "        vertical-align: middle;\n",
       "    }\n",
       "\n",
       "    .dataframe tbody tr th {\n",
       "        vertical-align: top;\n",
       "    }\n",
       "\n",
       "    .dataframe thead th {\n",
       "        text-align: right;\n",
       "    }\n",
       "</style>\n",
       "<table border=\"1\" class=\"dataframe\">\n",
       "  <thead>\n",
       "    <tr style=\"text-align: right;\">\n",
       "      <th></th>\n",
       "      <th>index</th>\n",
       "      <th>Year</th>\n",
       "      <th>Month</th>\n",
       "      <th>Day</th>\n",
       "      <th>Hour</th>\n",
       "      <th>Minute</th>\n",
       "      <th>Second</th>\n",
       "      <th>power_excess</th>\n",
       "    </tr>\n",
       "    <tr>\n",
       "      <th>Timestamp</th>\n",
       "      <th></th>\n",
       "      <th></th>\n",
       "      <th></th>\n",
       "      <th></th>\n",
       "      <th></th>\n",
       "      <th></th>\n",
       "      <th></th>\n",
       "      <th></th>\n",
       "    </tr>\n",
       "  </thead>\n",
       "  <tbody>\n",
       "    <tr>\n",
       "      <th>2017-01-01 00:00:00</th>\n",
       "      <td>558731.0</td>\n",
       "      <td>2017.0</td>\n",
       "      <td>1.0</td>\n",
       "      <td>1.0</td>\n",
       "      <td>0.0</td>\n",
       "      <td>0.0</td>\n",
       "      <td>20.0</td>\n",
       "      <td>46048.080074</td>\n",
       "    </tr>\n",
       "    <tr>\n",
       "      <th>2017-01-01 00:01:00</th>\n",
       "      <td>558732.0</td>\n",
       "      <td>2017.0</td>\n",
       "      <td>1.0</td>\n",
       "      <td>1.0</td>\n",
       "      <td>0.0</td>\n",
       "      <td>1.0</td>\n",
       "      <td>20.0</td>\n",
       "      <td>44663.147238</td>\n",
       "    </tr>\n",
       "    <tr>\n",
       "      <th>2017-01-01 00:02:00</th>\n",
       "      <td>558733.0</td>\n",
       "      <td>2017.0</td>\n",
       "      <td>1.0</td>\n",
       "      <td>1.0</td>\n",
       "      <td>0.0</td>\n",
       "      <td>2.0</td>\n",
       "      <td>20.0</td>\n",
       "      <td>46180.969957</td>\n",
       "    </tr>\n",
       "    <tr>\n",
       "      <th>2017-01-01 00:03:00</th>\n",
       "      <td>558734.0</td>\n",
       "      <td>2017.0</td>\n",
       "      <td>1.0</td>\n",
       "      <td>1.0</td>\n",
       "      <td>0.0</td>\n",
       "      <td>3.0</td>\n",
       "      <td>20.0</td>\n",
       "      <td>46087.948231</td>\n",
       "    </tr>\n",
       "    <tr>\n",
       "      <th>2017-01-01 00:04:00</th>\n",
       "      <td>558735.0</td>\n",
       "      <td>2017.0</td>\n",
       "      <td>1.0</td>\n",
       "      <td>1.0</td>\n",
       "      <td>0.0</td>\n",
       "      <td>4.0</td>\n",
       "      <td>20.0</td>\n",
       "      <td>45811.193173</td>\n",
       "    </tr>\n",
       "    <tr>\n",
       "      <th>...</th>\n",
       "      <td>...</td>\n",
       "      <td>...</td>\n",
       "      <td>...</td>\n",
       "      <td>...</td>\n",
       "      <td>...</td>\n",
       "      <td>...</td>\n",
       "      <td>...</td>\n",
       "      <td>...</td>\n",
       "    </tr>\n",
       "    <tr>\n",
       "      <th>2017-12-31 23:55:00</th>\n",
       "      <td>1054875.0</td>\n",
       "      <td>2017.0</td>\n",
       "      <td>12.0</td>\n",
       "      <td>31.0</td>\n",
       "      <td>23.0</td>\n",
       "      <td>55.0</td>\n",
       "      <td>32.0</td>\n",
       "      <td>0.000000</td>\n",
       "    </tr>\n",
       "    <tr>\n",
       "      <th>2017-12-31 23:56:00</th>\n",
       "      <td>1054876.0</td>\n",
       "      <td>2017.0</td>\n",
       "      <td>12.0</td>\n",
       "      <td>31.0</td>\n",
       "      <td>23.0</td>\n",
       "      <td>56.0</td>\n",
       "      <td>32.0</td>\n",
       "      <td>0.000000</td>\n",
       "    </tr>\n",
       "    <tr>\n",
       "      <th>2017-12-31 23:57:00</th>\n",
       "      <td>1054877.0</td>\n",
       "      <td>2017.0</td>\n",
       "      <td>12.0</td>\n",
       "      <td>31.0</td>\n",
       "      <td>23.0</td>\n",
       "      <td>57.0</td>\n",
       "      <td>32.0</td>\n",
       "      <td>0.000000</td>\n",
       "    </tr>\n",
       "    <tr>\n",
       "      <th>2017-12-31 23:58:00</th>\n",
       "      <td>1054878.0</td>\n",
       "      <td>2017.0</td>\n",
       "      <td>12.0</td>\n",
       "      <td>31.0</td>\n",
       "      <td>23.0</td>\n",
       "      <td>58.0</td>\n",
       "      <td>32.0</td>\n",
       "      <td>0.000000</td>\n",
       "    </tr>\n",
       "    <tr>\n",
       "      <th>2017-12-31 23:59:00</th>\n",
       "      <td>1054879.0</td>\n",
       "      <td>2017.0</td>\n",
       "      <td>12.0</td>\n",
       "      <td>31.0</td>\n",
       "      <td>23.0</td>\n",
       "      <td>59.0</td>\n",
       "      <td>32.0</td>\n",
       "      <td>0.000000</td>\n",
       "    </tr>\n",
       "  </tbody>\n",
       "</table>\n",
       "<p>478584 rows × 8 columns</p>\n",
       "</div>"
      ],
      "text/plain": [
       "                         index    Year  Month   Day  Hour  Minute  Second  \\\n",
       "Timestamp                                                                   \n",
       "2017-01-01 00:00:00   558731.0  2017.0    1.0   1.0   0.0     0.0    20.0   \n",
       "2017-01-01 00:01:00   558732.0  2017.0    1.0   1.0   0.0     1.0    20.0   \n",
       "2017-01-01 00:02:00   558733.0  2017.0    1.0   1.0   0.0     2.0    20.0   \n",
       "2017-01-01 00:03:00   558734.0  2017.0    1.0   1.0   0.0     3.0    20.0   \n",
       "2017-01-01 00:04:00   558735.0  2017.0    1.0   1.0   0.0     4.0    20.0   \n",
       "...                        ...     ...    ...   ...   ...     ...     ...   \n",
       "2017-12-31 23:55:00  1054875.0  2017.0   12.0  31.0  23.0    55.0    32.0   \n",
       "2017-12-31 23:56:00  1054876.0  2017.0   12.0  31.0  23.0    56.0    32.0   \n",
       "2017-12-31 23:57:00  1054877.0  2017.0   12.0  31.0  23.0    57.0    32.0   \n",
       "2017-12-31 23:58:00  1054878.0  2017.0   12.0  31.0  23.0    58.0    32.0   \n",
       "2017-12-31 23:59:00  1054879.0  2017.0   12.0  31.0  23.0    59.0    32.0   \n",
       "\n",
       "                     power_excess  \n",
       "Timestamp                          \n",
       "2017-01-01 00:00:00  46048.080074  \n",
       "2017-01-01 00:01:00  44663.147238  \n",
       "2017-01-01 00:02:00  46180.969957  \n",
       "2017-01-01 00:03:00  46087.948231  \n",
       "2017-01-01 00:04:00  45811.193173  \n",
       "...                           ...  \n",
       "2017-12-31 23:55:00      0.000000  \n",
       "2017-12-31 23:56:00      0.000000  \n",
       "2017-12-31 23:57:00      0.000000  \n",
       "2017-12-31 23:58:00      0.000000  \n",
       "2017-12-31 23:59:00      0.000000  \n",
       "\n",
       "[478584 rows x 8 columns]"
      ]
     },
     "execution_count": 100,
     "metadata": {},
     "output_type": "execute_result"
    }
   ],
   "source": [
    "curtailed_power"
   ]
  },
  {
   "cell_type": "markdown",
   "metadata": {},
   "source": [
    "# Function: return the curtailed energy based on the number of household(assuming heating all years)"
   ]
  },
  {
   "cell_type": "code",
   "execution_count": 161,
   "metadata": {},
   "outputs": [],
   "source": [
    "def saved_curtailmend_power(DR_penetration_perc):\n",
    "    # import new dataset\n",
    "    resc_heating_usage = pd.read_csv('Add_residential_heating_demand_perc.csv')\n",
    "    Udemand=demand.reset_index()\n",
    "    Ucurtailed_power=curtailed_power.reset_index()\n",
    "    \n",
    "    # Merge and filter table\n",
    "\n",
    "    combined_table_2 = pd.merge(Udemand,Ucurtailed_power, how ='left',on=['Timestamp']) \n",
    "    combined_table_2 = pd.merge(combined_table_2,resc_heating_usage, how ='left',on=['Hour','Minute']) \n",
    "    DR_penetration_num= orkney_households*DR_penetration_perc\n",
    "    combined_table_2=combined_table_2[['Timestamp','Demand_mean_kw','N_households','res_heating_perc','power_excess','Year','Month','Hour','Minute']]\n",
    "\n",
    "    #calculate additional residential electicity usage by installing DR system\n",
    "    combined_table_2['N_households']=orkney_households\n",
    "\n",
    "    combined_table_2['household_with_DR']=DR_penetration_num\n",
    "\n",
    "    combined_table_2['addi_demand_by_DR_kwh']=0.5*combined_table_2['household_with_DR']*combined_table_2['Demand_mean_kw']*combined_table_2['res_heating_perc']\n",
    "\n",
    "    # replace negative/NaN saved curtailment energy by 0\n",
    "\n",
    "    combined_table_2['saved_curtailment_kwh']= combined_table_2[['addi_demand_by_DR_kwh','power_excess']].min(axis=1)\n",
    "    combined_table_2['saved_curtailment_kwh'] = combined_table_2['saved_curtailment_kwh'].fillna(0)\n",
    "\n",
    "\n",
    "    #Print yearly_saved_energy(mwh)\n",
    "    yearly_saved_energy = pd.DataFrame(combined_table_2.groupby(['Month'])['saved_curtailment_kwh'].sum()).reset_index()\n",
    "    yearly_saved_energy.Month = yearly_saved_energy.apply(lambda row: int(row.Month),axis=1)\n",
    "    return yearly_saved_energy,combined_table_2\n"
   ]
  },
  {
   "cell_type": "markdown",
   "metadata": {},
   "source": [
    "# Function: return the curtailed energy based on the number of household(assuming heating only in winters)"
   ]
  },
  {
   "cell_type": "code",
   "execution_count": 101,
   "metadata": {},
   "outputs": [],
   "source": [
    "def saved_curtailmend_power_seasonal(DR_penetration_perc,DR_month_1=12,DR_month_2=11,DR_month_3=1):\n",
    "\n",
    "\n",
    "    resc_heating_usage = pd.read_csv('Add_residential_heating_demand_perc.csv')\n",
    "    Udemand=demand.reset_index()\n",
    "    Ucurtailed_power=curtailed_power.reset_index()\n",
    "\n",
    "    combined_table_2 = pd.merge(Udemand,Ucurtailed_power, how ='left',on=['Timestamp']) \n",
    "    combined_table_2 = pd.merge(combined_table_2,resc_heating_usage, how ='left',on=['Hour','Minute']) \n",
    "\n",
    "\n",
    "    combined_table_2=combined_table_2[ (combined_table_2['Month']== DR_month_1) | (combined_table_2['Month']== DR_month_2)  | (combined_table_2['Month']== DR_month_3)  ] \n",
    "\n",
    "    # add residential heating electricity assumption into combine dataframe\n",
    "    DR_penetration_num= orkney_households*DR_penetration_perc\n",
    "    combined_table_2=combined_table_2[['Timestamp','Demand_mean_kw','N_households','res_heating_perc','power_excess','Year','Month','Hour','Minute']]\n",
    "\n",
    "    #calculate additional residential electicity usage by installing DR system\n",
    "    combined_table_2['N_households']=orkney_households\n",
    "\n",
    "    combined_table_2['household_with_DR']=DR_penetration_num\n",
    "\n",
    "    combined_table_2['addi_demand_by_DR_kwh']=0.5*combined_table_2['household_with_DR']*combined_table_2['Demand_mean_kw']*combined_table_2['res_heating_perc']\n",
    "\n",
    "    # replace negative/NaN saved curtailment energy by 0\n",
    "\n",
    "    combined_table_2['saved_curtailment_kwh']= combined_table_2[['addi_demand_by_DR_kwh','power_excess']].min(axis=1)\n",
    "    combined_table_2['saved_curtailment_kwh'] = combined_table_2['saved_curtailment_kwh'].fillna(0)\n",
    "\n",
    "\n",
    "    #Print yearly_saved_energy(mwh)\n",
    "    yearly_saved_energy = pd.DataFrame(combined_table_2.groupby(['Month'])['saved_curtailment_kwh'].sum())\n",
    "    month = list(range(1,13))\n",
    "    monthly_saved_energy = pd.DataFrame(data = month,columns=['Month'])\n",
    "    monthly_saved_energy = pd.merge(monthly_saved_energy,yearly_saved_energy,how = 'left',on=['Month']) \n",
    "    monthly_saved_energy['saved_curtailment_kwh'] = monthly_saved_energy['saved_curtailment_kwh'].fillna(0)\n",
    "    return monthly_saved_energy,combined_table_2"
   ]
  },
  {
   "cell_type": "code",
   "execution_count": 129,
   "metadata": {},
   "outputs": [
    {
     "data": {
      "text/plain": [
       "0.08327025986164498"
      ]
     },
     "execution_count": 129,
     "metadata": {},
     "output_type": "execute_result"
    }
   ],
   "source": [
    "monthly_saved_energy,combined_table_2 = saved_curtailmend_power_seasonal(0.1)\n",
    "combined_table_2.addi_demand_by_DR_kwh.mean()/924"
   ]
  },
  {
   "cell_type": "markdown",
   "metadata": {},
   "source": [
    "# Function: NPV analysis"
   ]
  },
  {
   "cell_type": "code",
   "execution_count": 379,
   "metadata": {},
   "outputs": [],
   "source": [
    "def return_wholesale_price():\n",
    "    col_list = ['YEAR','MONTH', 'WHOLESALE PRICE(￡/MWh）']\n",
    "    wholesale_price = pd.read_csv('wholesale_price.csv',usecols=col_list) # https://www.businesselectricityprices.org.uk/retail-versus-wholesale-prices/\n",
    "    wholesale_price['Cumulative_Month'] = wholesale_price.index.values + 1\n",
    "    return wholesale_price"
   ]
  },
  {
   "cell_type": "code",
   "execution_count": 380,
   "metadata": {},
   "outputs": [],
   "source": [
    "def return_Revenue_for_generator(n,p_energy,P1): \n",
    "    return p_energy*P1\n",
    "\n",
    "def return_Loss_for_all_household(p_energy,P3,P2):\n",
    "    return p_energy*(P2-P3)\n",
    "\n",
    "def return_Financial_benefits_to_Kaluza(n,p_energy,P2,P1,FC,VC):\n",
    "    return n * p_energy * (P2-P1) -  FC - VC * n"
   ]
  },
  {
   "cell_type": "code",
   "execution_count": 398,
   "metadata": {},
   "outputs": [],
   "source": [
    "def return_Net_Cash_flow_Kaluza(year_index,ideal_penetration):\n",
    "    \n",
    "    \n",
    "    def return_degree_of_penetration(year_index,total_number_household,ideal_penetration):\n",
    "        x_list = np.arange(0.1, 1.1, 0.1).tolist()\n",
    "#         y_list = [(1-math.exp(-x))*total_number_household*ideal_penetration for x in x_list]np.arange(0.1, 1.1, 0.1).tolist()\n",
    "\n",
    "        y_list = [x*total_number_household*ideal_penetration for x in x_list]\n",
    "\n",
    "        return y_list[year_index]\n",
    "\n",
    "    \n",
    "    monthly_saved_energy,combined_table_2 = saved_curtailmend_power(degree)\n",
    "    p_energy=monthly_saved_energy.saved_curtailment_kwh\n",
    "    total_number_household = 10385\n",
    "    n = int(return_degree_of_penetration(year_index,total_number_household,ideal_penetration))\n",
    "    wholesale_price = return_wholesale_price()\n",
    "    P1 = wholesale_price.loc[wholesale_price.YEAR == 17]\n",
    "    P1 = 56/1000\n",
    "                # The unit is (GBP/KWh)\n",
    "                # the wholesale price is the generator sells the energy in the general market (based on online data)\n",
    "\n",
    "    P2 = 7.5 * 0.01 # The unit is (GBP/KWh)\n",
    "                # There is the gas price which the local residents are used for heating\n",
    "                # https://www.thegreenage.co.uk/cheaper-heat-home-gas-electricity/\n",
    "    P3 = 60/1000 # The unit is (GBP/KWh)\n",
    "                # This is the electricity price that the local residents will use for heating  \n",
    "                # https://www.thegreenage.co.uk/cheaper-heat-home-gas-electricity/\n",
    "\n",
    "    FC = 100 # The unit is (GBP/Household)\n",
    "             # the installment cost of this DR program \n",
    "    VC = 1 # The unit is (GBP/month * household） \n",
    "    \n",
    "    \n",
    "    month = monthly_saved_energy.Month.unique()\n",
    "    table_Q2 = pd.DataFrame(data = month,columns=['Month']).set_index('Month')\n",
    "    table_Q2 = pd.merge(table_Q2,monthly_saved_energy,how='inner',on=['Month'])\n",
    "    table_Q2['year_index'] = year_index\n",
    "    table_Q2['n'] = n\n",
    "    table_Q2['n'] = table_Q2['n'].fillna(table_Q2['n'].mean())\n",
    "    n_minus_1 = list(table_Q2.n)\n",
    "    table_Q2['New_Installment'] = 0\n",
    "    table_Q2['New_Installment'].iloc._setitem_with_indexer(0,total_number_household*ideal_penetration*0.1)\n",
    "    table_Q2['P1(￡/KWh)'] = P1\n",
    "    table_Q2['P3(￡/KWh)'] = P3\n",
    "    table_Q2['P2(￡/KWh)'] = P2\n",
    "    table_Q2['FC(￡)'] = FC\n",
    "    table_Q2['VC(￡)'] = VC\n",
    "    table_Q2['Revenue_Generator'] = table_Q2.apply(lambda row:return_Revenue_for_generator(row['n'],row['saved_curtailment_kwh'],row['P1(￡/KWh)']),axis=1)\n",
    "    table_Q2['Loss_All_Household'] = table_Q2.apply(lambda row:return_Loss_for_all_household(row['saved_curtailment_kwh'],row['P3(￡/KWh)'],row['P2(￡/KWh)']),axis=1)\n",
    "    table_Q2['Revenue_minus_Loss'] = table_Q2['Revenue_Generator'] + table_Q2['Loss_All_Household']\n",
    "    table_Q2['Net_Income_for_Generator'] = table_Q2['Revenue_minus_Loss']/3*1\n",
    "    table_Q2['Net_Income_for_Kaluza'] = table_Q2['Revenue_minus_Loss']/3*2\n",
    "    table_Q2['Fixed_Cost_Kaluza'] = table_Q2['New_Installment']*100*1.2\n",
    "    table_Q2['Variable_Cost_Kaluza'] = VC * table_Q2['n']\n",
    "    table_Q2['Total_cost_Kaluza'] = table_Q2['Fixed_Cost_Kaluza'] + table_Q2['Variable_Cost_Kaluza']\n",
    "    table_Q2['Net_Cash_flow_Kaluza'] = table_Q2['Net_Income_for_Kaluza'] - table_Q2['Total_cost_Kaluza']\n",
    "    return table_Q2"
   ]
  },
  {
   "cell_type": "code",
   "execution_count": 399,
   "metadata": {},
   "outputs": [],
   "source": [
    "def add_NPV(table):\n",
    "    def return_npv(month,value):\n",
    "        monthly_discount_rate = 0.07/12\n",
    "        return value/(1+monthly_discount_rate)**(month-1)\n",
    "    table['Discounted_cash_flow'] = table.apply(lambda row: return_npv(row.Month,row.Net_Cash_flow_Kaluza),axis=1)\n",
    "    table['NPV'] = table['Discounted_cash_flow'].cumsum()\n",
    "    return table"
   ]
  },
  {
   "cell_type": "code",
   "execution_count": 400,
   "metadata": {
    "scrolled": false
   },
   "outputs": [],
   "source": [
    "def return_yearly_revenue_based_on_ideal_pentration(ideal_pentration):\n",
    "    years_list = list(range(0,10))\n",
    "    total_cash_flow_list = [return_Net_Cash_flow_Kaluza(year_index,ideal_pentration) for year_index in years_list]\n",
    "    total_cash_flow_model = pd.concat(total_cash_flow_list).reset_index().drop(columns=['index','P1(￡/KWh)','P2(￡/KWh)','P3(￡/KWh)','FC(￡)','VC(￡)'])\n",
    "    NPV_model = add_NPV(total_cash_flow_model)\n",
    "    yearly_revenue = NPV_model.groupby(['year_index'])['Discounted_cash_flow'].sum()\n",
    "    return yearly_revenue,years_list\n",
    "#     return total_cash_flow_model,years_list"
   ]
  },
  {
   "cell_type": "code",
   "execution_count": 401,
   "metadata": {},
   "outputs": [],
   "source": [
    "# yearly_revenue_90,years_list = return_yearly_revenue_based_on_ideal_pentration(0.9)\n",
    "# yearly_revenue_75,years_list = return_yearly_revenue_based_on_ideal_pentration(0.75)\n",
    "# yearly_revenue_50,years_list = return_yearly_revenue_based_on_ideal_pentration(0.5)\n",
    "\n",
    "yearly_revenue_list_90,years_list = return_yearly_revenue_based_on_ideal_pentration(0.9)\n",
    "yearly_revenue_list_75,years_list = return_yearly_revenue_based_on_ideal_pentration(0.75)\n",
    "yearly_revenue_list_50,years_list = return_yearly_revenue_based_on_ideal_pentration(0.5)\n"
   ]
  },
  {
   "cell_type": "code",
   "execution_count": 409,
   "metadata": {},
   "outputs": [
    {
     "data": {
      "text/plain": [
       "<matplotlib.legend.Legend at 0x262987305b0>"
      ]
     },
     "execution_count": 409,
     "metadata": {},
     "output_type": "execute_result"
    },
    {
     "data": {
      "image/png": "[encoded data removed]",
      "text/plain": [
       "<Figure size 432x288 with 1 Axes>"
      ]
     },
     "metadata": {
      "needs_background": "light"
     },
     "output_type": "display_data"
    }
   ],
   "source": [
    "plt.plot(years_list,yearly_revenue_list_90,label='90%')\n",
    "plt.plot(years_list,yearly_revenue_list_75,label='75%')\n",
    "plt.plot(years_list,yearly_revenue_list_50,label='90%')\n",
    "plt.legend()"
   ]
  },
  {
   "cell_type": "code",
   "execution_count": 405,
   "metadata": {},
   "outputs": [
    {
     "data": {
      "text/plain": [
       "year_index\n",
       "0    116778.881416\n",
       "1    110745.746882\n",
       "2    104712.612348\n",
       "3     98667.853277\n",
       "4     92634.718743\n",
       "5     86601.584209\n",
       "6     80568.449675\n",
       "7     74523.690605\n",
       "8     68490.556071\n",
       "9     62457.421537\n",
       "Name: Discounted_cash_flow, dtype: float64"
      ]
     },
     "execution_count": 405,
     "metadata": {},
     "output_type": "execute_result"
    }
   ],
   "source": [
    "yearly_revenue_list_50"
   ]
  },
  {
   "cell_type": "code",
   "execution_count": 406,
   "metadata": {},
   "outputs": [
    {
     "data": {
      "text/plain": [
       "year_index\n",
       "0    82613.126417\n",
       "1    73557.612348\n",
       "2    64502.098279\n",
       "3    55446.584209\n",
       "4    46391.070140\n",
       "5    37335.556071\n",
       "6    28280.042001\n",
       "7    19224.527932\n",
       "8    10180.638399\n",
       "9     1125.124330\n",
       "Name: Discounted_cash_flow, dtype: float64"
      ]
     },
     "execution_count": 406,
     "metadata": {},
     "output_type": "execute_result"
    }
   ],
   "source": [
    "yearly_revenue_list_75"
   ]
  },
  {
   "cell_type": "code",
   "execution_count": null,
   "metadata": {},
   "outputs": [],
   "source": []
  },
  {
   "cell_type": "code",
   "execution_count": 403,
   "metadata": {},
   "outputs": [
    {
     "ename": "FileCreateError",
     "evalue": "[Errno 13] Permission denied: 'output_90.xlsx'",
     "output_type": "error",
     "traceback": [
      "\u001b[1;31m---------------------------------------------------------------------------\u001b[0m",
      "\u001b[1;31mPermissionError\u001b[0m                           Traceback (most recent call last)",
      "\u001b[1;32mD:\\Anaconda\\lib\\site-packages\\xlsxwriter\\workbook.py\u001b[0m in \u001b[0;36mclose\u001b[1;34m(self)\u001b[0m\n\u001b[0;32m    319\u001b[0m             \u001b[1;32mtry\u001b[0m\u001b[1;33m:\u001b[0m\u001b[1;33m\u001b[0m\u001b[1;33m\u001b[0m\u001b[0m\n\u001b[1;32m--> 320\u001b[1;33m                 \u001b[0mself\u001b[0m\u001b[1;33m.\u001b[0m\u001b[0m_store_workbook\u001b[0m\u001b[1;33m(\u001b[0m\u001b[1;33m)\u001b[0m\u001b[1;33m\u001b[0m\u001b[1;33m\u001b[0m\u001b[0m\n\u001b[0m\u001b[0;32m    321\u001b[0m             \u001b[1;32mexcept\u001b[0m \u001b[0mIOError\u001b[0m \u001b[1;32mas\u001b[0m \u001b[0me\u001b[0m\u001b[1;33m:\u001b[0m\u001b[1;33m\u001b[0m\u001b[1;33m\u001b[0m\u001b[0m\n",
      "\u001b[1;32mD:\\Anaconda\\lib\\site-packages\\xlsxwriter\\workbook.py\u001b[0m in \u001b[0;36m_store_workbook\u001b[1;34m(self)\u001b[0m\n\u001b[0;32m    637\u001b[0m         \u001b[1;32mexcept\u001b[0m \u001b[0mIOError\u001b[0m \u001b[1;32mas\u001b[0m \u001b[0me\u001b[0m\u001b[1;33m:\u001b[0m\u001b[1;33m\u001b[0m\u001b[1;33m\u001b[0m\u001b[0m\n\u001b[1;32m--> 638\u001b[1;33m             \u001b[1;32mraise\u001b[0m \u001b[0me\u001b[0m\u001b[1;33m\u001b[0m\u001b[1;33m\u001b[0m\u001b[0m\n\u001b[0m\u001b[0;32m    639\u001b[0m \u001b[1;33m\u001b[0m\u001b[0m\n",
      "\u001b[1;32mD:\\Anaconda\\lib\\site-packages\\xlsxwriter\\workbook.py\u001b[0m in \u001b[0;36m_store_workbook\u001b[1;34m(self)\u001b[0m\n\u001b[0;32m    634\u001b[0m         \u001b[1;32mtry\u001b[0m\u001b[1;33m:\u001b[0m\u001b[1;33m\u001b[0m\u001b[1;33m\u001b[0m\u001b[0m\n\u001b[1;32m--> 635\u001b[1;33m             xlsx_file = ZipFile(self.filename, \"w\", compression=ZIP_DEFLATED,\n\u001b[0m\u001b[0;32m    636\u001b[0m                                 allowZip64=self.allow_zip64)\n",
      "\u001b[1;32mD:\\Anaconda\\lib\\zipfile.py\u001b[0m in \u001b[0;36m__init__\u001b[1;34m(self, file, mode, compression, allowZip64, compresslevel, strict_timestamps)\u001b[0m\n\u001b[0;32m   1250\u001b[0m                 \u001b[1;32mtry\u001b[0m\u001b[1;33m:\u001b[0m\u001b[1;33m\u001b[0m\u001b[1;33m\u001b[0m\u001b[0m\n\u001b[1;32m-> 1251\u001b[1;33m                     \u001b[0mself\u001b[0m\u001b[1;33m.\u001b[0m\u001b[0mfp\u001b[0m \u001b[1;33m=\u001b[0m \u001b[0mio\u001b[0m\u001b[1;33m.\u001b[0m\u001b[0mopen\u001b[0m\u001b[1;33m(\u001b[0m\u001b[0mfile\u001b[0m\u001b[1;33m,\u001b[0m \u001b[0mfilemode\u001b[0m\u001b[1;33m)\u001b[0m\u001b[1;33m\u001b[0m\u001b[1;33m\u001b[0m\u001b[0m\n\u001b[0m\u001b[0;32m   1252\u001b[0m                 \u001b[1;32mexcept\u001b[0m \u001b[0mOSError\u001b[0m\u001b[1;33m:\u001b[0m\u001b[1;33m\u001b[0m\u001b[1;33m\u001b[0m\u001b[0m\n",
      "\u001b[1;31mPermissionError\u001b[0m: [Errno 13] Permission denied: 'output_90.xlsx'",
      "\nDuring handling of the above exception, another exception occurred:\n",
      "\u001b[1;31mFileCreateError\u001b[0m                           Traceback (most recent call last)",
      "\u001b[1;32m<ipython-input-403-f4c6a6de38df>\u001b[0m in \u001b[0;36m<module>\u001b[1;34m\u001b[0m\n\u001b[1;32m----> 1\u001b[1;33m \u001b[0mtotal_cash_flow_list_90\u001b[0m\u001b[1;33m.\u001b[0m\u001b[0mto_excel\u001b[0m\u001b[1;33m(\u001b[0m\u001b[1;34m\"output_90.xlsx\"\u001b[0m\u001b[1;33m,\u001b[0m\u001b[0msheet_name\u001b[0m\u001b[1;33m=\u001b[0m\u001b[1;34m'90'\u001b[0m\u001b[1;33m)\u001b[0m\u001b[1;33m\u001b[0m\u001b[1;33m\u001b[0m\u001b[0m\n\u001b[0m",
      "\u001b[1;32mD:\\Anaconda\\lib\\site-packages\\pandas\\core\\generic.py\u001b[0m in \u001b[0;36mto_excel\u001b[1;34m(self, excel_writer, sheet_name, na_rep, float_format, columns, header, index, index_label, startrow, startcol, engine, merge_cells, encoding, inf_rep, verbose, freeze_panes)\u001b[0m\n\u001b[0;32m   2024\u001b[0m             \u001b[0minf_rep\u001b[0m\u001b[1;33m=\u001b[0m\u001b[0minf_rep\u001b[0m\u001b[1;33m,\u001b[0m\u001b[1;33m\u001b[0m\u001b[1;33m\u001b[0m\u001b[0m\n\u001b[0;32m   2025\u001b[0m         )\n\u001b[1;32m-> 2026\u001b[1;33m         formatter.write(\n\u001b[0m\u001b[0;32m   2027\u001b[0m             \u001b[0mexcel_writer\u001b[0m\u001b[1;33m,\u001b[0m\u001b[1;33m\u001b[0m\u001b[1;33m\u001b[0m\u001b[0m\n\u001b[0;32m   2028\u001b[0m             \u001b[0msheet_name\u001b[0m\u001b[1;33m=\u001b[0m\u001b[0msheet_name\u001b[0m\u001b[1;33m,\u001b[0m\u001b[1;33m\u001b[0m\u001b[1;33m\u001b[0m\u001b[0m\n",
      "\u001b[1;32mD:\\Anaconda\\lib\\site-packages\\pandas\\io\\formats\\excel.py\u001b[0m in \u001b[0;36mwrite\u001b[1;34m(self, writer, sheet_name, startrow, startcol, freeze_panes, engine)\u001b[0m\n\u001b[0;32m    740\u001b[0m         )\n\u001b[0;32m    741\u001b[0m         \u001b[1;32mif\u001b[0m \u001b[0mneed_save\u001b[0m\u001b[1;33m:\u001b[0m\u001b[1;33m\u001b[0m\u001b[1;33m\u001b[0m\u001b[0m\n\u001b[1;32m--> 742\u001b[1;33m             \u001b[0mwriter\u001b[0m\u001b[1;33m.\u001b[0m\u001b[0msave\u001b[0m\u001b[1;33m(\u001b[0m\u001b[1;33m)\u001b[0m\u001b[1;33m\u001b[0m\u001b[1;33m\u001b[0m\u001b[0m\n\u001b[0m",
      "\u001b[1;32mD:\\Anaconda\\lib\\site-packages\\pandas\\io\\excel\\_xlsxwriter.py\u001b[0m in \u001b[0;36msave\u001b[1;34m(self)\u001b[0m\n\u001b[0;32m    191\u001b[0m         \u001b[0mSave\u001b[0m \u001b[0mworkbook\u001b[0m \u001b[0mto\u001b[0m \u001b[0mdisk\u001b[0m\u001b[1;33m.\u001b[0m\u001b[1;33m\u001b[0m\u001b[1;33m\u001b[0m\u001b[0m\n\u001b[0;32m    192\u001b[0m         \"\"\"\n\u001b[1;32m--> 193\u001b[1;33m         \u001b[1;32mreturn\u001b[0m \u001b[0mself\u001b[0m\u001b[1;33m.\u001b[0m\u001b[0mbook\u001b[0m\u001b[1;33m.\u001b[0m\u001b[0mclose\u001b[0m\u001b[1;33m(\u001b[0m\u001b[1;33m)\u001b[0m\u001b[1;33m\u001b[0m\u001b[1;33m\u001b[0m\u001b[0m\n\u001b[0m\u001b[0;32m    194\u001b[0m \u001b[1;33m\u001b[0m\u001b[0m\n\u001b[0;32m    195\u001b[0m     def write_cells(\n",
      "\u001b[1;32mD:\\Anaconda\\lib\\site-packages\\xlsxwriter\\workbook.py\u001b[0m in \u001b[0;36mclose\u001b[1;34m(self)\u001b[0m\n\u001b[0;32m    320\u001b[0m                 \u001b[0mself\u001b[0m\u001b[1;33m.\u001b[0m\u001b[0m_store_workbook\u001b[0m\u001b[1;33m(\u001b[0m\u001b[1;33m)\u001b[0m\u001b[1;33m\u001b[0m\u001b[1;33m\u001b[0m\u001b[0m\n\u001b[0;32m    321\u001b[0m             \u001b[1;32mexcept\u001b[0m \u001b[0mIOError\u001b[0m \u001b[1;32mas\u001b[0m \u001b[0me\u001b[0m\u001b[1;33m:\u001b[0m\u001b[1;33m\u001b[0m\u001b[1;33m\u001b[0m\u001b[0m\n\u001b[1;32m--> 322\u001b[1;33m                 \u001b[1;32mraise\u001b[0m \u001b[0mFileCreateError\u001b[0m\u001b[1;33m(\u001b[0m\u001b[0me\u001b[0m\u001b[1;33m)\u001b[0m\u001b[1;33m\u001b[0m\u001b[1;33m\u001b[0m\u001b[0m\n\u001b[0m\u001b[0;32m    323\u001b[0m             \u001b[1;32mexcept\u001b[0m \u001b[0mLargeZipFile\u001b[0m \u001b[1;32mas\u001b[0m \u001b[0me\u001b[0m\u001b[1;33m:\u001b[0m\u001b[1;33m\u001b[0m\u001b[1;33m\u001b[0m\u001b[0m\n\u001b[0;32m    324\u001b[0m                 raise FileSizeError(\"Filesize would require ZIP64 extensions. \"\n",
      "\u001b[1;31mFileCreateError\u001b[0m: [Errno 13] Permission denied: 'output_90.xlsx'"
     ]
    }
   ],
   "source": [
    "total_cash_flow_list_90.to_excel(\"output_90.xlsx\",sheet_name='90') "
   ]
  },
  {
   "cell_type": "code",
   "execution_count": null,
   "metadata": {},
   "outputs": [],
   "source": [
    "total_cash_flow_list_75.to_excel(\"output_75.xlsx\",sheet_name='75') "
   ]
  },
  {
   "cell_type": "code",
   "execution_count": null,
   "metadata": {},
   "outputs": [],
   "source": [
    "total_cash_flow_list_50.to_excel(\"output_50.xlsx\",sheet_name='50') "
   ]
  },
  {
   "cell_type": "code",
   "execution_count": null,
   "metadata": {},
   "outputs": [],
   "source": []
  },
  {
   "cell_type": "code",
   "execution_count": null,
   "metadata": {},
   "outputs": [],
   "source": []
  },
  {
   "cell_type": "code",
   "execution_count": null,
   "metadata": {},
   "outputs": [],
   "source": []
  }
 ],
 "metadata": {
  "kernelspec": {
   "display_name": "Python 3",
   "language": "python",
   "name": "python3"
  },
  "language_info": {
   "codemirror_mode": {
    "name": "ipython",
    "version": 3
   },
   "file_extension": ".py",
   "mimetype": "text/x-python",
   "name": "python",
   "nbconvert_exporter": "python",
   "pygments_lexer": "ipython3",
   "version": "3.8.5"
  }
 },
 "nbformat": 4,
 "nbformat_minor": 4
}
