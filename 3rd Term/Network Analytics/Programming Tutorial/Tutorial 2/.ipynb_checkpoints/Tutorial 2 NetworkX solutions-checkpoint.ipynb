{
 "cells": [
  {
   "cell_type": "markdown",
   "metadata": {},
   "source": [
    "This tutorial gives you an idea about centrality with Networkx. Some other exercises such as file IO with Excel, eigenvector centrality and page rank are also covered.  \n",
    "\n",
    "Before the start of writing any codes, it is important to load the approiate libraries with the following commands. Note that libraries loading must be placed at the top.\n",
    "\n",
    "Before the start of writing any codes, it is important to load the approiate libraries with the following commands. Note that libraries loading must be placed at the top."
   ]
  },
  {
   "cell_type": "code",
   "execution_count": 1,
   "metadata": {},
   "outputs": [],
   "source": [
    "# Import networkx library and rename it as nx. \n",
    "import networkx as nx\n",
    "\n",
    "# Adding support for high-performance, easy-to-use data structures and data analysis tools\n",
    "import pandas as pd\n",
    "\n",
    "# Adding support for large, multi-dimensional arrays and matrices.\n",
    "import numpy as np\n",
    "\n",
    "# Import linalg for Linear algebra\n",
    "from scipy import linalg\n",
    "\n",
    "# Import eigsh for the calculation of eigen-value\n",
    "from scipy.sparse.linalg import eigsh\n",
    "\n",
    "import matplotlib.pyplot as plt\n",
    "import operator\n",
    "import sys"
   ]
  },
  {
   "cell_type": "markdown",
   "metadata": {},
   "source": [
    "# Part 1: Centrality Calculation\n",
    "\n",
    "We read the graph from file 'centrality_example.txt' and express the graph using Networkx library. Then the graph is displayed on the screen for better illustration."
   ]
  },
  {
   "cell_type": "code",
   "execution_count": 2,
   "metadata": {},
   "outputs": [
    {
     "data": {
      "image/png": "[encoded data removed]",
      "text/plain": [
       "<Figure size 432x288 with 1 Axes>"
      ]
     },
     "metadata": {},
     "output_type": "display_data"
    }
   ],
   "source": [
    "# Put the path of the folder that contains the data file.\n",
    "place_holder = './'\n",
    "\n",
    "# Create an empty graph structure with no nodes and no edges.\n",
    "G0 = nx.Graph()\n",
    "# Read an un-directed graph from a list of edges\n",
    "G0 = nx.read_edgelist(place_holder + \"centrality_example.txt\", nodetype = str)\n",
    "\n",
    "# draw the graph to provide a better illustration\n",
    "nx.draw_random(G0, with_labels = True)"
   ]
  },
  {
   "cell_type": "markdown",
   "metadata": {},
   "source": [
    "### Exercise: Degree centrality & Betweenness centrality\n",
    "\n",
    "To calculate them, we can use the built-in functions in the networkx library."
   ]
  },
  {
   "cell_type": "code",
   "execution_count": 3,
   "metadata": {},
   "outputs": [
    {
     "name": "stdout",
     "output_type": "stream",
     "text": [
      "Degree centrality:\n",
      "{'a': 0.3333333333333333, 'b': 0.8333333333333333, 'e': 0.5, 'c': 0.6666666666666666, 'd': 0.5, 'f': 0.3333333333333333, 'g': 0.5}\n"
     ]
    }
   ],
   "source": [
    "# the function degree_centrality(G) is available in networkx.algorithms.centrality\n",
    "deg_cent = nx.algorithms.centrality.degree_centrality(G0)\n",
    "\n",
    "# The output is dictionary of nodes with degree centrality as the value\n",
    "print(\"Degree centrality:\")\n",
    "print(deg_cent)"
   ]
  },
  {
   "cell_type": "code",
   "execution_count": 4,
   "metadata": {},
   "outputs": [
    {
     "name": "stdout",
     "output_type": "stream",
     "text": [
      "Betweenness centrality:\n",
      "{'a': 0.05, 'b': 0.3111111111111111, 'e': 0.03888888888888889, 'c': 0.23888888888888887, 'd': 0.02222222222222222, 'f': 0.03333333333333333, 'g': 0.03888888888888889}\n"
     ]
    }
   ],
   "source": [
    "# the function betweenness_centrality(G) is also available in networkx.algorithms.centrality\n",
    "bet_cent = nx.algorithms.centrality.betweenness_centrality(G0)\n",
    "\n",
    "print(\"Betweenness centrality:\")\n",
    "print(bet_cent)"
   ]
  },
  {
   "cell_type": "markdown",
   "metadata": {},
   "source": [
    "# Part 2: Excel IO and eigenvector centrality (Similar to 4.3)\n",
    "\n",
    "### (a) Load the zachary karate club information from an Excel file.\n",
    "\n",
    "The data file is called \"zachary_karate_club.xlsx\"."
   ]
  },
  {
   "cell_type": "code",
   "execution_count": 5,
   "metadata": {},
   "outputs": [],
   "source": [
    "# The file name\n",
    "excelfile = \"zachary_karate_club.xlsx\""
   ]
  },
  {
   "cell_type": "markdown",
   "metadata": {},
   "source": [
    "Next, we have to read the Excel file using Pandas."
   ]
  },
  {
   "cell_type": "code",
   "execution_count": 6,
   "metadata": {
    "scrolled": true
   },
   "outputs": [
    {
     "name": "stdout",
     "output_type": "stream",
     "text": [
      "First Dataframe:\n",
      "    From  To\n",
      "0      0   1\n",
      "1      0   2\n",
      "2      0   3\n",
      "3      0   4\n",
      "4      0   5\n",
      "5      0   6\n",
      "6      0   7\n",
      "7      0   8\n",
      "8      0   9\n",
      "9      0  10\n",
      "10     0  11\n",
      "11     0  12\n",
      "12     0  13\n",
      "13     0  14\n",
      "14     0  15\n",
      "15     0  16\n",
      "16     1   2\n",
      "17     1   3\n",
      "18     1   7\n",
      "19    12   1\n",
      "20    13   1\n",
      "21     1  14\n",
      "22     1  15\n",
      "23     1  17\n",
      "24     2   3\n",
      "25     2   7\n",
      "26     2   8\n",
      "27    18   2\n",
      "28    12   2\n",
      "29    19   2\n",
      "30    20   2\n",
      "31     2  21\n",
      "32     3   7\n",
      "33    11   3\n",
      "34    12   3\n",
      "35     4   6\n",
      "36     9   4\n",
      "37     5   6\n",
      "38     9   5\n",
      "39    22   5\n",
      "40    22   6\n",
      "41    17   8\n",
      "42    21   8\n",
      "43    23   8\n",
      "44    18  23\n",
      "45    12  23\n",
      "46    24  21\n",
      "47    24  23\n",
      "48    25  21\n",
      "Second Dataframe:\n",
      "    From  To\n",
      "0     25  23\n",
      "1     26  21\n",
      "2     26  23\n",
      "3     14  23\n",
      "4     27  21\n",
      "5     27  23\n",
      "6     28  21\n",
      "7     28  23\n",
      "8     29  30\n",
      "9     29  19\n",
      "10    29  31\n",
      "11    29  21\n",
      "12    29  23\n",
      "13    32  30\n",
      "14    32  19\n",
      "15    32  16\n",
      "16    30  16\n",
      "17    33  31\n",
      "18    33  23\n",
      "19    19  23\n",
      "20    20  16\n",
      "21    20  23\n",
      "22    31  21\n",
      "23    31  23\n",
      "24    17  21\n",
      "25    17  23\n",
      "26    16  21\n",
      "27    16  23\n",
      "28    21  23\n"
     ]
    }
   ],
   "source": [
    "# Read the sheet 'T2-sheet-A' and T2-sheet-B\n",
    "sheetA = pd.read_excel(excelfile, sheet_name = \"T2A\", usecols = \"A:B\")\n",
    "sheetB = pd.read_excel(excelfile, sheet_name = \"T2B\", usecols = \"A:B\")\n",
    "\n",
    "print(\"First Dataframe:\")\n",
    "print(sheetA)\n",
    "print(\"Second Dataframe:\")\n",
    "print(sheetB)"
   ]
  },
  {
   "cell_type": "code",
   "execution_count": 7,
   "metadata": {},
   "outputs": [
    {
     "name": "stdout",
     "output_type": "stream",
     "text": [
      "    From  To\n",
      "0      0   1\n",
      "1      0   2\n",
      "2      0   3\n",
      "3      0   4\n",
      "4      0   5\n",
      "..   ...  ..\n",
      "73    17  21\n",
      "74    17  23\n",
      "75    16  21\n",
      "76    16  23\n",
      "77    21  23\n",
      "\n",
      "[78 rows x 2 columns]\n"
     ]
    }
   ],
   "source": [
    "# Then we concatenate the 2 dataframes\n",
    "total = pd.concat([sheetA,sheetB], ignore_index = True)\n",
    "\n",
    "# Print the matrix and the matrix size\n",
    "print(total)"
   ]
  },
  {
   "cell_type": "markdown",
   "metadata": {},
   "source": [
    "### (b) Exercise: We read the edgelist information, create an adjacency matrix, and calculate its eigenvalues and eigenvectors."
   ]
  },
  {
   "cell_type": "code",
   "execution_count": 8,
   "metadata": {
    "scrolled": true
   },
   "outputs": [
    {
     "name": "stdout",
     "output_type": "stream",
     "text": [
      "The edgelist for Zachary Karate Club\n",
      "0 1\n",
      "0 2\n",
      "0 3\n",
      "0 4\n",
      "0 5\n",
      "0 6\n",
      "0 7\n",
      "0 8\n",
      "0 9\n",
      "0 10\n",
      "0 11\n",
      "0 12\n",
      "0 13\n",
      "0 14\n",
      "0 15\n",
      "0 16\n",
      "1 2\n",
      "1 3\n",
      "1 7\n",
      "1 12\n",
      "1 13\n",
      "1 14\n",
      "1 15\n",
      "1 17\n",
      "2 3\n",
      "2 7\n",
      "2 8\n",
      "2 18\n",
      "2 12\n",
      "2 19\n",
      "2 20\n",
      "2 21\n",
      "3 7\n",
      "3 11\n",
      "3 12\n",
      "4 6\n",
      "4 9\n",
      "5 6\n",
      "5 9\n",
      "5 22\n",
      "6 22\n",
      "8 17\n",
      "8 21\n",
      "8 23\n",
      "12 23\n",
      "14 23\n",
      "16 32\n",
      "16 30\n",
      "16 20\n",
      "16 21\n",
      "16 23\n",
      "17 21\n",
      "17 23\n",
      "18 23\n",
      "19 29\n",
      "19 32\n",
      "19 23\n",
      "20 23\n",
      "21 24\n",
      "21 25\n",
      "21 26\n",
      "21 27\n",
      "21 28\n",
      "21 29\n",
      "21 31\n",
      "21 23\n",
      "23 24\n",
      "23 25\n",
      "23 26\n",
      "23 27\n",
      "23 28\n",
      "23 29\n",
      "23 33\n",
      "23 31\n",
      "29 30\n",
      "29 31\n",
      "30 32\n",
      "31 33\n"
     ]
    }
   ],
   "source": [
    "# Create a direct graph based on the dataframe format\n",
    "G_zachary = nx.from_pandas_edgelist(total, 'From', 'To', create_using = nx.Graph())\n",
    "\n",
    "print(\"The edgelist for Zachary Karate Club\")\n",
    "nx.write_weighted_edgelist(G_zachary, sys.stdout)"
   ]
  },
  {
   "cell_type": "markdown",
   "metadata": {},
   "source": [
    "### (c) Exercise: We now convert the edgelist into an adjacency matrix and calculate the eigenvalue."
   ]
  },
  {
   "cell_type": "code",
   "execution_count": 9,
   "metadata": {},
   "outputs": [
    {
     "name": "stdout",
     "output_type": "stream",
     "text": [
      "Largest eigenvalue: 6.725697727631722\n",
      "Smallest eigenvalue: -4.487229194162261\n",
      "Largest eigenvector: [-0.35549144 -0.26595992 -0.3171925  -0.21117972 -0.07596882 -0.07948305\n",
      " -0.07948305 -0.17095975 -0.22740391 -0.07596882 -0.0528557  -0.08425463\n",
      " -0.22647272 -0.09239954 -0.14791251 -0.09239954 -0.19103384 -0.1747583\n",
      " -0.10267425 -0.13347715 -0.13107782 -0.30864422 -0.02363563 -0.37336347\n",
      " -0.10140326 -0.10140326 -0.10140326 -0.10140326 -0.10140326 -0.15011857\n",
      " -0.05920647 -0.13496082 -0.05705244 -0.07557941]\n",
      "Smallest eigenvector: [-0.31716992 -0.12496128 -0.02726159  0.01922241  0.04807417  0.05337592\n",
      "  0.05337592  0.10032257  0.2204497   0.04807417  0.0706828   0.06639899\n",
      "  0.21641584  0.098531    0.21462428  0.098531    0.26735819  0.15751428\n",
      "  0.12216865  0.10464841  0.06258662 -0.281354   -0.02379015 -0.52093712\n",
      "  0.17879433  0.17879433  0.17879433  0.17879433  0.17879433  0.14433815\n",
      " -0.07710226  0.12706663 -0.06572081  0.08777588]\n"
     ]
    }
   ],
   "source": [
    "# convert to adjacency matrix\n",
    "attr_mat_zachary = nx.attr_matrix(G_zachary, rc_order = sorted(G_zachary.nodes(), key = int)).astype(float)\n",
    "\n",
    "# the eigenvalues can be calculated using eigsh since we know the adjacency matrix must be symmetry \n",
    "evalue, evector = eigsh(attr_mat_zachary)\n",
    "\n",
    "# Get the largest and smallest eigenvalues, and the corresponding index from the returned values\n",
    "# The Python max() function returns the largest item in an iterable\n",
    "# operator.itemgetter(n) constructs a callable that assumes an iterable object as input, \n",
    "# and fetches the n-th element out of it\n",
    "maxindex, maxvalue = max(enumerate(evalue), key=operator.itemgetter(1))\n",
    "minindex, minvalue = min(enumerate(evalue), key=operator.itemgetter(1))\n",
    "\n",
    "# Since the adjacency matrix must be a square matrix, the eigenvalue and vector will not be complex\n",
    "print(\"Largest eigenvalue:\", maxvalue)\n",
    "print(\"Smallest eigenvalue:\", minvalue)\n",
    "\n",
    "\n",
    "print(\"Largest eigenvector:\", evector[:, maxindex])\n",
    "print(\"Smallest eigenvector:\", evector[:, minindex])"
   ]
  },
  {
   "cell_type": "code",
   "execution_count": 10,
   "metadata": {},
   "outputs": [
    {
     "name": "stdout",
     "output_type": "stream",
     "text": [
      "Largest eigenvalue: 6.725697727631743\n",
      "Largest eigenvector: [0.35549144 0.26595992 0.3171925  0.21117972 0.07596882 0.07948305\n",
      " 0.07948305 0.17095975 0.22740391 0.07596882 0.0528557  0.08425463\n",
      " 0.22647272 0.09239954 0.14791251 0.09239954 0.19103384 0.1747583\n",
      " 0.10267425 0.13347715 0.13107782 0.30864422 0.02363563 0.37336347\n",
      " 0.10140326 0.10140326 0.10140326 0.10140326 0.10140326 0.15011857\n",
      " 0.05920647 0.13496082 0.05705244 0.07557941]\n"
     ]
    }
   ],
   "source": [
    "# To ensure that the eigen-vector is always positive\n",
    "seen_positive = False\n",
    "\n",
    "while seen_positive == False:\n",
    "    evalue, evector = eigsh(attr_mat_zachary)\n",
    "    maxindex, maxvalue = max(enumerate(evalue), key=operator.itemgetter(1))\n",
    "    for e in evector[:, maxindex]:\n",
    "        if e < 0:\n",
    "            seen_positive = False\n",
    "            break\n",
    "        else:\n",
    "            seen_positive = True\n",
    "    \n",
    "print(\"Largest eigenvalue:\", maxvalue)\n",
    "print(\"Largest eigenvector:\", evector[:, maxindex])"
   ]
  },
  {
   "cell_type": "markdown",
   "metadata": {},
   "source": [
    "### (d) Finally, we use the eigenvector_centrality_numpy() from numpy to calcuate the eigenvector based centralities for comparison."
   ]
  },
  {
   "cell_type": "code",
   "execution_count": 11,
   "metadata": {},
   "outputs": [
    {
     "data": {
      "text/plain": [
       "{0: 0.3554914445245667,\n",
       " 1: 0.2659599195524917,\n",
       " 2: 0.31719250448643177,\n",
       " 3: 0.21117972037789023,\n",
       " 4: 0.0759688181830692,\n",
       " 5: 0.07948304511709979,\n",
       " 6: 0.0794830451170998,\n",
       " 7: 0.17095974804479633,\n",
       " 8: 0.2274039071254001,\n",
       " 9: 0.07596881818306922,\n",
       " 10: 0.05285569749352137,\n",
       " 11: 0.08425462871671388,\n",
       " 12: 0.2264727201424812,\n",
       " 13: 0.09239953819570268,\n",
       " 14: 0.14791251029338764,\n",
       " 15: 0.09239953819570272,\n",
       " 16: 0.19103384140654375,\n",
       " 17: 0.17475830231435277,\n",
       " 18: 0.10267425072358617,\n",
       " 19: 0.13347715338024013,\n",
       " 20: 0.1310778229837108,\n",
       " 21: 0.308644219791047,\n",
       " 22: 0.02363562810459155,\n",
       " 23: 0.37336347029148304,\n",
       " 24: 0.10140326218952456,\n",
       " 25: 0.10140326218952453,\n",
       " 26: 0.10140326218952454,\n",
       " 27: 0.10140326218952452,\n",
       " 28: 0.10140326218952456,\n",
       " 29: 0.15011857186115282,\n",
       " 30: 0.0592064749167785,\n",
       " 31: 0.13496081926232772,\n",
       " 32: 0.05705244054116568,\n",
       " 33: 0.07557941348827206}"
      ]
     },
     "execution_count": 11,
     "metadata": {},
     "output_type": "execute_result"
    }
   ],
   "source": [
    "nx.eigenvector_centrality_numpy(G_zachary)"
   ]
  },
  {
   "cell_type": "markdown",
   "metadata": {},
   "source": [
    "You can refer to networkx website for more relevant functions to calculate centrality.\n",
    "\n",
    "https://networkx.github.io/documentation/networkx-1.10/reference/algorithms.centrality.html"
   ]
  },
  {
   "cell_type": "markdown",
   "metadata": {},
   "source": [
    "# Part 3: Page Rank Calculation (Similar to 4.6)\n",
    "\n",
    "### Exercise: (a) We read the page rank network from the file 'page_rank_network.txt' and create an adjacency matrix accordingly."
   ]
  },
  {
   "cell_type": "code",
   "execution_count": 12,
   "metadata": {},
   "outputs": [
    {
     "name": "stdout",
     "output_type": "stream",
     "text": [
      "a b\n",
      "b a\n",
      "b e\n",
      "e b\n",
      "e c\n",
      "e d\n",
      "c b\n",
      "c e\n",
      "d b\n",
      "d e\n"
     ]
    }
   ],
   "source": [
    "# Use fixed-point instead of floating point in numpy\n",
    "np.set_printoptions(suppress = True)\n",
    "\n",
    "# Read an un-directed graph from a list of edges\n",
    "G = nx.read_edgelist(place_holder + \"page_rank_network.txt\", nodetype = str, create_using = nx.DiGraph())\n",
    "\n",
    "# output the edgelist onto the screen\n",
    "nx.write_weighted_edgelist(G, sys.stdout)"
   ]
  },
  {
   "cell_type": "code",
   "execution_count": 13,
   "metadata": {},
   "outputs": [
    {
     "name": "stdout",
     "output_type": "stream",
     "text": [
      "[[0. 1. 0. 0. 0.]\n",
      " [1. 0. 0. 0. 1.]\n",
      " [0. 1. 0. 0. 1.]\n",
      " [0. 1. 0. 0. 1.]\n",
      " [0. 1. 1. 1. 0.]]\n"
     ]
    }
   ],
   "source": [
    "# create an adjacency matrix based on the un-directed graph\n",
    "attr_mat = nx.attr_matrix(G,rc_order = sorted(G.nodes(), key=str))\n",
    "print(attr_mat)"
   ]
  },
  {
   "cell_type": "markdown",
   "metadata": {},
   "source": [
    "### Exercise: (b) Calculate the stochastic matrix and its transpose."
   ]
  },
  {
   "cell_type": "code",
   "execution_count": 14,
   "metadata": {},
   "outputs": [
    {
     "name": "stdout",
     "output_type": "stream",
     "text": [
      "The Weight matrix\n",
      "[[0.         1.         0.         0.         0.        ]\n",
      " [0.5        0.         0.         0.         0.5       ]\n",
      " [0.         0.5        0.         0.         0.5       ]\n",
      " [0.         0.5        0.         0.         0.5       ]\n",
      " [0.         0.33333333 0.33333333 0.33333333 0.        ]]\n",
      "\n",
      "\n",
      "The transpose of the Weight matrix\n",
      "[[0.         0.5        0.         0.         0.        ]\n",
      " [1.         0.         0.5        0.5        0.33333333]\n",
      " [0.         0.         0.         0.         0.33333333]\n",
      " [0.         0.         0.         0.         0.33333333]\n",
      " [0.         0.5        0.5        0.5        0.        ]]\n"
     ]
    }
   ],
   "source": [
    "# get the weight matrix (stochastic matrices) W, axis = 1 says \"get the sum along the columns\"\n",
    "weight_mat = attr_mat / attr_mat.sum(axis = 1)\n",
    "print(\"The Weight matrix\")\n",
    "print(weight_mat)\n",
    "\n",
    "# print an extra line for easier display\n",
    "print('\\n')\n",
    "\n",
    "print(\"The transpose of the Weight matrix\")\n",
    "print(weight_mat.T)"
   ]
  },
  {
   "cell_type": "markdown",
   "metadata": {},
   "source": [
    "### Exercise: (c) Calcuate the eigen-vector using power method."
   ]
  },
  {
   "cell_type": "markdown",
   "metadata": {},
   "source": [
    "First, we create and initalize a starting vector for it to iterate on."
   ]
  },
  {
   "cell_type": "code",
   "execution_count": 15,
   "metadata": {},
   "outputs": [
    {
     "name": "stdout",
     "output_type": "stream",
     "text": [
      "The starting vector\n",
      "[[100.]\n",
      " [100.]\n",
      " [100.]\n",
      " [100.]\n",
      " [100.]]\n"
     ]
    }
   ],
   "source": [
    "# Create a vector of given shape/dimension, filled with ones,\n",
    "# then we multiply the the vector with 100\n",
    "num_row = attr_mat.shape[0]\n",
    "\n",
    "# fill with one in a column vector\n",
    "r = np.ones((num_row, 1)) * 100\n",
    "\n",
    "print(\"The starting vector\")\n",
    "print(r)"
   ]
  },
  {
   "cell_type": "markdown",
   "metadata": {},
   "source": [
    "Next, we use a while loop to implement power method that calculates page rank for directed graph. \n",
    "\n",
    "Basically, we want calculate r_(k+1)=transpose(W) x r_(k) 􏰆until is result is converged. We write the power method with a function."
   ]
  },
  {
   "cell_type": "code",
   "execution_count": 16,
   "metadata": {},
   "outputs": [
    {
     "name": "stdout",
     "output_type": "stream",
     "text": [
      "The number of iteration needed: 41\n",
      "The converged r\n",
      "[[ 90.9090746 ]\n",
      " [181.81820086]\n",
      " [ 45.45456638]\n",
      " [ 45.45456638]\n",
      " [136.36359178]]\n"
     ]
    }
   ],
   "source": [
    "\n",
    "\n",
    "# Import linalg for Linear algebra\n",
    "from scipy import linalg\n",
    "\n",
    "\"\"\"\n",
    "This function implements power method.\n",
    "\n",
    "Args:\n",
    "    weight_mat: The weight matrix.\n",
    "    r: The starting vector.\n",
    "\n",
    "Returns:\n",
    "    Null\n",
    "\"\"\"\n",
    "\n",
    "def power_method(weight_mat, r):\n",
    "\n",
    "    # Initalize the boolean converged\n",
    "    converged = False\n",
    "\n",
    "    # Mark the number of iteration as zero at the begining\n",
    "    numIter = 0\n",
    "\n",
    "    while not converged:\n",
    "\n",
    "        # calculate transpose(W) . r_(k)\n",
    "        r_new = (weight_mat.T).dot(r)\n",
    "\n",
    "        # Calculate the different between the previous r and the r from this iteration\n",
    "        # by taking the norm\n",
    "        if (linalg.norm(r-r_new) < 0.0001):\n",
    "            converged = True\n",
    "        else:\n",
    "            numIter += 1\n",
    "            r = r_new\n",
    "\n",
    "    print(\"The number of iteration needed: \", end = '')\n",
    "    print(numIter)\n",
    "\n",
    "    print(\"The converged r\")\n",
    "    print(r)\n",
    "    \n",
    "power_method(weight_mat, r)\n",
    "\n"
   ]
  },
  {
   "cell_type": "code",
   "execution_count": null,
   "metadata": {},
   "outputs": [],
   "source": []
  }
 ],
 "metadata": {
  "kernelspec": {
   "display_name": "Python 3",
   "language": "python",
   "name": "python3"
  },
  "language_info": {
   "codemirror_mode": {
    "name": "ipython",
    "version": 3
   },
   "file_extension": ".py",
   "mimetype": "text/x-python",
   "name": "python",
   "nbconvert_exporter": "python",
   "pygments_lexer": "ipython3",
   "version": "3.8.5"
  }
 },
 "nbformat": 4,
 "nbformat_minor": 2
}
