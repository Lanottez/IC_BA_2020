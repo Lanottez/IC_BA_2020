{
 "cells": [
  {
   "cell_type": "markdown",
   "metadata": {},
   "source": [
    "__(i) possible reasons for the differences in the two communities detected by the two algorithms__\n"
   ]
  },
  {
   "cell_type": "markdown",
   "metadata": {},
   "source": [
    "The differences in the two communities detected by the two algorithms are due to the fact that the two algorithms use different methods and metrics to detect the communities. Namely, the Girvan-Newman algorithm uses the betweeness of the edges as the main criterion, while the Louvain method is a geeedy algorithm that tries to optimize the modularity of a partition of the network."
   ]
  },
  {
   "cell_type": "markdown",
   "metadata": {},
   "source": [
    "In more details, the package Communities provides a function to use the Girvan-Newman algorithm to detect the communities. It provides the communities of all possible values of K (number of Communities) using the betweeness of the edges as the main criterion. Afterwards it is possible to calculate the value of modularity of the different possible communities that have been detected to find the number of communities that optimise the modularity too. \n",
    "\n",
    "On the other hand, the Louvain method automatically returns a number of communities that is considered as a \"best\" number (obviously as a greedy algorithm does not give a guarantee of finding the global optimum) using modularity as the criterion. \n",
    "\t\n",
    "For the Karate club dataset, applying the Girvan-Newman algorithm and then maximising the modularity results to the detection of 5 communities. With a modularity of 0.401, the detected communities are: \n",
    "[0, 1, 3, 7, 10, 11, 12, 13, 14, 15], [2, 16, 19, 20, 30, 32], [4, 5, 6, 9, 22],\n",
    "[8, 17, 21, 23, 24, 25, 26, 27, 28, 29, 31, 33], [18]\n",
    "\n",
    "Applying the Louvain algorithm to the same dataset, results to finding a \"best\" number of communities of 4, at which the modularity of the communities detected is maximized. With a modularity of 0.416, the detected communities are:\n",
    "[0, 1, 2, 3, 7, 10, 11, 12, 13, 14, 15], [16, 20, 30, 32], [4, 5, 6, 9, 22],\n",
    "[8, 17, 18, 19, 21, 23, 24, 25, 26, 27, 28, 29, 31, 33]\n",
    "\n",
    "Even though the two algorithms detect different numbers of communities, the two algorithms reach similar result. The major difference is node 18, which is an independent community when detected by the Girvan-Newman algorithm, but belongs to a large community when detected by the Louvain algorithm. Other than the node 18, the communities detected by the two algorithms are very similar, and the corresponding modularity values are similar too.\n",
    "\t\n",
    "\t\n",
    "For the email dataset, applying the Girvan-Newman algorithm and then maximising the modularity, resutls to the detection of 8 communities. With a modularity of 0.201, the detected communities are: \t[1, 3, 4, 6, 8, 9, 11, 13, 14, 15, 17, 18, 20, 21, 22, 31, 32, 33, 36, 37, 40, 41, 42, 44, 45, 47, 49, 50, 52, 53, 54, 55, 56, 57, 59, 62, 63, 64, 65, 66, 67, 68, 71, 72, 75, 76, 77, 78, 79, 80, 81],\n",
    "\t[2, 5, 7, 10, 12, 19, 24, 25, 26, 27, 28, 29, 35, 38, 39, 46, 48, 58, 60, 61, 69, 70, 73, 74],\n",
    "\t[16],[51],[23],[43],[34],[30]\n",
    "\t\n",
    "\t\n",
    "Applying the Louvain algorithm, results to a communities'number of 3, with a modularity of 0.276, the detected communities are:\n",
    "[25, 2, 5, 7, 12, 19, 24, 26, 27, 28, 29, 32, 35, 37, 38, 39, 46, 48, 53, 58, 60, 61, 68, 69, 73, 74, 51, 10, 23, 43, 70, 34, 30],\n",
    "[1, 13, 18, 22, 36, 40, 41, 42, 47, 49, 52, 57, 64, 77, 78, 79, 80, 81, 3, 6, 9, 11, 16, 17, 21, 31, 45, 54, 59, 62, 63, 67, 72, 76, 71, 65],\n",
    "[14, 33, 50, 55, 75, 4, 56, 15, 20, 44, 66, 8]\n",
    "\t\n",
    "\n",
    "It is observed that the email dataset communities detected by the two algorithms present bigger differences than those of the Karate-club dataset.\n",
    "\n",
    "Based on the results of the two datasets detected by the two algorithms, it appears that the Girvan-Newman comared with the effort to maximise modularity is more likely to place a single node into its own community compared to the Louvain algorithm. The reason may be derived to the  different approach the two algorithms take in detecting communities.\n",
    "\n",
    "\n",
    "Girvan-Newman is a top-down algorithm, which detects communities by progressively removing edges from the original network. This argorithm is based on a fact that in a network, the number of shortest paths through edges within communities is relatively small, and the number of shortest paths through edges between communities is relatively larger. It first calculates the betweenness of each edge, then removes the edge(s) with the highest betweenness. The Girvan-Newman algorithm repeats this step until each node is in its own community. \n",
    "\n",
    "On the other hand, the Louvain is a bottom-up algorithm, which is consisted of two steps. Firstly, the algorithm places each node in its own community. For each node, the algorithm calculates the modularity gains obtained by moving the node into each one of its neighbors’ communities. Then, each node is moved to the community which maximize the modularity gains. If no gain is possible then the node stays in its original community. For the first step, the Louvain algorithm applies this procedure repeatedly, until no further improvement is possible. Then, the Louvain algorithm compress all nodes in the same community into a new node, and the weight of edges between nodes in the community is transformed into the weight of the ring of the new node, and the weight of edges between communities is transformed into the weight of edges between new nodes. \n",
    "For the second step, the algorithm builds a new network based on the communities detected by the first step. The inter- and intra-community links are represented in the new network by weighted regular links and self-loops, respectively. Then, the Louvain algorithm repeats the first step and the second step, until there is no further change to the communities detected. \n",
    "\n"
   ]
  },
  {
   "cell_type": "markdown",
   "metadata": {},
   "source": [
    "__(ii) and possible explanation and insight into the communities based on the two algorithms__"
   ]
  },
  {
   "cell_type": "markdown",
   "metadata": {},
   "source": [
    "For the karate dataset, while the two algorithms detect different communities, they present similar patterns. There are two major communities within the karate dataset, which in total consist of more than 2/3 of all nodes, and the rest nodes form other communities. In communities detected by Girvan Newman algorithm, the rest nodes form three communities, of which one community only contain one node. In communities detected by Louvain algorithm, the rest node form two communities. Moreover, the communities detected by the two algorithms have a similar modularity, which proves that the two algorithm return a similar division of communitiies. In the two major communities detected by both algorithms, there exist an obvious central node: in one community, node 0 is the most significant one; in the other community, node 21 and 23 are the most significant ones. The pattern observed from both algorithms matches the known ground-truth that in the club there is an administrator and an instructor who led to the split of the club into two. "
   ]
  },
  {
   "cell_type": "markdown",
   "metadata": {},
   "source": [
    "Unlike the karate dataset, for which the both the two algorithm detects two major communities, the email dataset shows different patterns.While using the Girvan Newman algorithm to detect the communities in the email dataset, the modularity is maximised when there are 8 communities, but 5 of them only contain single node. While using the Louvain algorithm to detect the communities, the modularity is maximised when there are 3 communities. Both algorithm, however, shows the similar patterns that there are two major communities in the email dataset. Moreover, it appears that the connection between communities in the email dataset are less dense comparing to the communities in the karate club dataset, as the for the karate dataset, the communities detected by the Girvan Newman algorithm and Louvain return modularity of 0.401 and 0.405, respectively, but for the email dataset, the communities detected by the Girvan Newman algorithm and Louvain return modularity of 0.201 and 0.279, respectively. This pattern make senses, since unlike the karata club, where the nodes are split by the administrator and instructor, the connection between communities of email dataset, which implies the email connection between students, are more dense.  "
   ]
  },
  {
   "cell_type": "code",
   "execution_count": null,
   "metadata": {},
   "outputs": [],
   "source": []
  }
 ],
 "metadata": {
  "kernelspec": {
   "display_name": "Python 3",
   "language": "python",
   "name": "python3"
  },
  "language_info": {
   "codemirror_mode": {
    "name": "ipython",
    "version": 3
   },
   "file_extension": ".py",
   "mimetype": "text/x-python",
   "name": "python",
   "nbconvert_exporter": "python",
   "pygments_lexer": "ipython3",
   "version": "3.8.5"
  }
 },
 "nbformat": 4,
 "nbformat_minor": 5
}
