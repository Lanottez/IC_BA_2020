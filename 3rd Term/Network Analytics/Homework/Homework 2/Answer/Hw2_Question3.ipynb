{
 "cells": [
  {
   "cell_type": "markdown",
   "id": "exact-psychiatry",
   "metadata": {},
   "source": [
    "## <div align=\"center\"> Homework 2</div>\n",
    "## <div align=\"center\"> Network Analytics</div>\n",
    "### <div align=\"center\"> Group Assignment</div>\n",
    "### <div align=\"center\"> Question 3</div>\n",
    "\n",
    "<br><div align=\"center\"> By Group A3: </div>\n",
    "<div align=\"center\"> Jiaqi Chen, Yuxi Fu, Jiaxuan Lyu, Maria Tsotalou, Qian Zhang </div>"
   ]
  },
  {
   "cell_type": "markdown",
   "id": "facial-listing",
   "metadata": {},
   "source": [
    "\n",
    "### a) \n",
    "\n",
    "We formulate the problem of sending the maximum amount of flow from Node 1 to\n",
    "Node 5 in the  network as a linear program\n",
    "\n",
    "Let the flow that enters the node 1 and exits node 5 be f.\n",
    "\n",
    "The linear optimisation problem is formulated as follows\n",
    "\n",
    "__Objective function:__\n",
    "maximize(f)\n",
    "\n",
    "__Variables:__\n",
    "<br>$f$: that enters the exit 1 and exits node 5\n",
    "<br>$x_{12}$: flow from node 1 to node 2 \n",
    "<br>$x_{13}$: flow from node 1 to node 3 \n",
    "<br>$x_{14}$: flow from node 1 to node 4 \n",
    "<br>similiralily we define $x_{24}, x_{25}, x_{35}, x_{43}, x_{45}$\n",
    "\n",
    "\n",
    "__Constraints:__\n",
    "\n",
    "Flow conservation:\n",
    "<br> $node_1: - x_{12} - x_{13} - x_{14}  + f      = 0$\n",
    "<br> $node_2: + x_{12} - x_{24} - x_{25}          = 0$\n",
    "<br> $node_3: + x_{13} + x_{43} - x_{35}          = 0$\n",
    "<br> $node_4: + x_{14} + x_{24} - x_{43} - x_{45} = 0$\n",
    "<br> $node_5: + x_{25} + x_{35} + x_{45} - f      = 0$\n",
    "\n",
    "Capacity:\n",
    "<br>$x_{12} <=5$\n",
    "<br>$x_{13} <=2$\n",
    "<br>$x_{14} <=1$\n",
    "<br>$x_{24} <=3$\n",
    "<br>$x_{25} <=1$\n",
    "<br>$x_{35} <=7$\n",
    "<br>$x_{43} <=1$\n",
    "<br>$x_{45} <=4$\n",
    "\n",
    "Non-negativity:\n",
    "<br>All $x_{i} >= 0, \\ f >= 0$"
   ]
  },
  {
   "cell_type": "markdown",
   "id": "romantic-organic",
   "metadata": {},
   "source": [
    "### b)"
   ]
  },
  {
   "cell_type": "markdown",
   "id": "collect-drinking",
   "metadata": {},
   "source": [
    "Let the above problem be resembled as:\n",
    "\n",
    "<br>__Objective function:__ \n",
    "<br> $maximise (c^T*x)$\n",
    "<br> where $c = [0, 0, 0, 0, 0, 0, 0, 0, 1]$\n",
    "\n",
    "<br>__Variables:__ \n",
    "<br>$x = [x_{12}, x_{13}, x_{14}, x_{24}, x_{25}, x_{35}, x_{43}, x_{45}]^T$\n",
    "\n",
    "__Constraints:__\n",
    "<br>$Ax<=b$\n",
    "<br> Where,\n",
    "$b = [0, 0, 0, 0, 0, 5, 2, 1, 3, 1, 7, 1, 4] ^T$ \n",
    "(actually the first five rows are of the format Ax = b )\n",
    "and "
   ]
  },
  {
   "cell_type": "code",
   "execution_count": 1,
   "id": "furnished-confidentiality",
   "metadata": {
    "scrolled": true
   },
   "outputs": [
    {
     "name": "stdout",
     "output_type": "stream",
     "text": [
      "A = \n",
      "[[-1 -1 -1  0  0  0  0  0  1]\n",
      " [ 1  0  0 -1 -1  0  0  0  0]\n",
      " [ 0  1  0  0  0 -1  1  0  0]\n",
      " [ 0  0  1  1  0  0 -1 -1  0]\n",
      " [ 0  0  0  0  1  1  0  1 -1]\n",
      " [ 1  0  0  0  0  0  0  0  0]\n",
      " [ 0  1  0  0  0  0  0  0  0]\n",
      " [ 0  0  1  0  0  0  0  0  0]\n",
      " [ 0  0  0  1  0  0  0  0  0]\n",
      " [ 0  0  0  0  1  0  0  0  0]\n",
      " [ 0  0  0  0  0  1  0  0  0]\n",
      " [ 0  0  0  0  0  0  1  0  0]\n",
      " [ 0  0  0  0  0  0  0  1  0]]\n"
     ]
    }
   ],
   "source": [
    "import numpy as np\n",
    "            \n",
    "A = np.matrix('-1 -1 -1 0 0 0 0 0 1; 1 0 0 -1 -1 0 0 0  0; \\\n",
    "0 1  0 0 0 -1 1 0 0 ; 0 0 1 1 0 0 -1 -1 0; 0 0 0 0 1 1 0 1 -1; \\\n",
    "1 0 0 0 0 0 0 0 0; 0 1 0 0 0 0 0 0 0; 0 0 1 0 0 0 0 0 0;\\\n",
    "0 0 0 1 0 0 0 0 0; 0 0 0 0 1 0 0 0 0; 0 0 0 0 0 1 0 0 0; \\\n",
    "0 0 0 0 0 0 1 0 0; 0 0 0 0 0 0 0 1 0')\n",
    "print(\"A = \")\n",
    "print(A)"
   ]
  },
  {
   "cell_type": "markdown",
   "id": "valued-fossil",
   "metadata": {},
   "source": [
    "From optimisation theory we know that the dual problem will be of the form:\n",
    "\n",
    "<br>__Objective function:__ \n",
    "<br> $minimize (b^T*y)$\n",
    "\n",
    "<br>__Variables:__ \n",
    "<br>$y = [y_{1}, _{2}, y_{3}, y_{4}, y_{5}, y_{6}, y_{7}, y_{8},  y_{9},  y_{10},  y_{11}, y_{12},  y_{13}]^T$\n",
    "\n",
    "__Constraints:__\n",
    "<br>$A^T*y<=b$\n",
    "<br> "
   ]
  },
  {
   "cell_type": "code",
   "execution_count": 2,
   "id": "catholic-cuisine",
   "metadata": {
    "scrolled": true
   },
   "outputs": [
    {
     "name": "stdout",
     "output_type": "stream",
     "text": [
      "transpose A =\n",
      "[[-1  1  0  0  0  1  0  0  0  0  0  0  0]\n",
      " [-1  0  1  0  0  0  1  0  0  0  0  0  0]\n",
      " [-1  0  0  1  0  0  0  1  0  0  0  0  0]\n",
      " [ 0 -1  0  1  0  0  0  0  1  0  0  0  0]\n",
      " [ 0 -1  0  0  1  0  0  0  0  1  0  0  0]\n",
      " [ 0  0 -1  0  1  0  0  0  0  0  1  0  0]\n",
      " [ 0  0  1 -1  0  0  0  0  0  0  0  1  0]\n",
      " [ 0  0  0 -1  1  0  0  0  0  0  0  0  1]\n",
      " [ 1  0  0  0 -1  0  0  0  0  0  0  0  0]]\n"
     ]
    }
   ],
   "source": [
    "At = A.transpose()\n",
    "print(\"transpose A =\")\n",
    "print(At)"
   ]
  },
  {
   "cell_type": "markdown",
   "id": "abstract-council",
   "metadata": {},
   "source": [
    "We will use Excel solver to solve the problem. "
   ]
  },
  {
   "cell_type": "markdown",
   "id": "advisory-union",
   "metadata": {},
   "source": [
    "The dual problem in excel is solved as following:\n",
    "\n",
    "![title](images/Q3_excel_sheet_dual.png)"
   ]
  },
  {
   "cell_type": "markdown",
   "id": "integrated-component",
   "metadata": {},
   "source": [
    "While the sensitivity analysis leads to \n",
    "\n",
    "![title](images/Q3_excel_sheet_dual_sensitivity.png)"
   ]
  },
  {
   "cell_type": "markdown",
   "id": "strategic-malta",
   "metadata": {},
   "source": [
    "It is worth noticing that essentialy we could solve only the primal problem since from the sensitivity analysis (from the shadow rices actually) of the primal problem we can find the optimal solution of the dual one and vice versa. This becomaes obvious from the sensitivity analysis of the primal problem. \n",
    "\n"
   ]
  },
  {
   "cell_type": "markdown",
   "id": "czech-livestock",
   "metadata": {},
   "source": [
    "The primal  problem in excel is solved as following:\n",
    "\n",
    "![title](images/Q3_excel_sheet_primal.png)"
   ]
  },
  {
   "cell_type": "markdown",
   "id": "found-accuracy",
   "metadata": {},
   "source": [
    "While the sensitivity analysis of the primal leads to \n",
    "\n",
    "![title](images/Q3_excel_sheet_primal_sensitivity.png)"
   ]
  },
  {
   "cell_type": "markdown",
   "id": "welcome-wallace",
   "metadata": {},
   "source": [
    "### c)"
   ]
  },
  {
   "cell_type": "markdown",
   "id": "polish-investigation",
   "metadata": {},
   "source": [
    "A min-cut is a cut with the minimum capacity, where capacity of the cut Cap(S, T) = sum of the capacities of edges from S to T."
   ]
  },
  {
   "cell_type": "markdown",
   "id": "dried-taylor",
   "metadata": {},
   "source": [
    "It is reasonable that the max-flow <= min-cut capacity as this minimum capacity poses essentialy a bottleneck to the system. In order to understand this fully we will depict it with an example. \n",
    "\n",
    "We now that for the capacity: $cap_{S,T} = sum (capacities\\ of \\ edges\\ from\\ S\\ to\\ T)$\n",
    "\n",
    "<br> While for the flow: $flow_{cut} = flow_{out} - flow_{in}$\n",
    "<br> however,  $flow_{out} <= cap_{cut}$ \n",
    "<br> thus for each cut $ flow_{cut} <=  cap_{cut}$\n",
    "\n",
    "\n",
    "Any given cut divides the network into two subsets. The flow at a given point can be depicted as the flow between these two subsets. The maximum flow for the total network is equal to the flow of the cut with the smallest maximum flow which, as it is concluded from the above inequality, is the cut with the minimum capacity. "
   ]
  },
  {
   "cell_type": "markdown",
   "id": "outdoor-japanese",
   "metadata": {},
   "source": [
    "### d)"
   ]
  },
  {
   "cell_type": "markdown",
   "id": "peripheral-claim",
   "metadata": {},
   "source": [
    ".We know that the shadow price of a constraint gives us the change of the optimal objective funcction value if the right hand side of the constraint is increased by one unit value. The shadow prices can give us an indication of which constraints are binding for the optimisation problem. \n",
    "The sensitivity analysis of the prmal problem, which we have depicted in question b too, is the following."
   ]
  },
  {
   "cell_type": "markdown",
   "id": "found-adams",
   "metadata": {},
   "source": [
    "![title](images/Q3_excel_sheet_primal_sensitivity_annotation.png)"
   ]
  },
  {
   "cell_type": "markdown",
   "id": "handy-stamp",
   "metadata": {},
   "source": [
    "It becomes apparent that the capacity of the edges 2-5, 2-4, 1-4, and 1-3 are binding for our problem since they have non-zero shadow prices. \n",
    "\n",
    "If we observe our network these edges correspond to the following cut\n",
    "\n",
    "![title](images/network_cut.png)"
   ]
  },
  {
   "cell_type": "markdown",
   "id": "official-action",
   "metadata": {},
   "source": [
    "That gives us the minimum capacity cut for our network."
   ]
  }
 ],
 "metadata": {
  "kernelspec": {
   "display_name": "Python 3",
   "language": "python",
   "name": "python3"
  },
  "language_info": {
   "codemirror_mode": {
    "name": "ipython",
    "version": 3
   },
   "file_extension": ".py",
   "mimetype": "text/x-python",
   "name": "python",
   "nbconvert_exporter": "python",
   "pygments_lexer": "ipython3",
   "version": "3.8.5"
  }
 },
 "nbformat": 4,
 "nbformat_minor": 5
}
