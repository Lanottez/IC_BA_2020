{
 "cells": [
  {
   "cell_type": "markdown",
   "metadata": {},
   "source": [
    "This tutorial gives you an idea of Networkx and other useful libraries. Basically, it is composed of three different examples which involve loading graphs and data structures.\n",
    "\n",
    "Before the start of writing any codes, it is important to load the approiate libraries with the following commands. Note that libraries loading must be placed at the top."
   ]
  },
  {
   "cell_type": "code",
   "execution_count": 1,
   "metadata": {},
   "outputs": [],
   "source": [
    "# Import networkx library and rename it as nx. \n",
    "import \n",
    "\n",
    "# Adding support for large, multi-dimensional arrays and matrices.\n",
    "import \n",
    "\n",
    "import sys\n",
    "import matplotlib.pyplot as plt"
   ]
  },
  {
   "cell_type": "markdown",
   "metadata": {},
   "source": [
    "# Part 1: File Input/output\n",
    "\n",
    "### Example I: Loading an undirected graph from a data file and display the information. \n",
    "\n",
    "The data file is called \"edgelist1.txt\"."
   ]
  },
  {
   "cell_type": "code",
   "execution_count": 3,
   "metadata": {},
   "outputs": [],
   "source": [
    "# Put the path of the folder that contains the data file. \n",
    "# As we put the data file in the same directory, \"./\" is good enough.\n",
    "# You can also put a hard-coded link as well.\n",
    "place_holder = "
   ]
  },
  {
   "cell_type": "markdown",
   "metadata": {},
   "source": [
    "After getting the place-holder for the data file, we can construct the graph using the Networkx library.\n",
    "The result will be printed on the screen and written to the file \"edgelist1_out.txt\"."
   ]
  },
  {
   "cell_type": "code",
   "execution_count": null,
   "metadata": {},
   "outputs": [],
   "source": [
    "# Create an empty graph structure with no nodes and no edges.\n",
    "G0 = \n",
    "# Read an un-directed graph from a list of edges\n",
    "G0 = nx.read_edgelist()\n",
    "\n",
    "# check if read correctly, write graph G as a list of edges with numeric weights to terminal and a file.\n",
    "print(\"Printing G0\")\n",
    "# Print the graph information\n",
    "nx.\n",
    "# write the graph information in an output file\n",
    "nx.write_weighted_edgelist(G0, place_holder + \"edgelist1_out.txt\")"
   ]
  },
  {
   "cell_type": "markdown",
   "metadata": {},
   "source": [
    "### Exercise I: Directed graph. \n",
    "\n",
    "We use the same file \"edgelist1.txt\". An edge from a to b with a weight W exists when a line \"a b W\" can be found in the file.\n",
    "\n",
    "The result will also be printed on the screen and written to the file \"edgelist2_out.txt\"."
   ]
  },
  {
   "cell_type": "code",
   "execution_count": null,
   "metadata": {},
   "outputs": [],
   "source": [
    "G1 = nx.#(**write here)\n",
    "# Read an directed graph from a list of edges, need to specify that using the parameter ‘create_using’\n",
    "G1 = nx.read_edgelist(#(**write here), #(**write here), #(**write here),\\\n",
    "                      data = [('weight', int)])\n",
    "\n",
    "print(\"Printing G1\")\n",
    "\n",
    "nx.write_weighted_edgelist(#(**write here))\n",
    "nx.write_weighted_edgelist(G1, place_holder + \"edgelist2_out.txt\")"
   ]
  },
  {
   "cell_type": "markdown",
   "metadata": {},
   "source": [
    "### Exercise II: Directed graph with weight on nodes. \n",
    "\n",
    "We use the same file as the input in this example. However, the weight information within the file refers to the weight on the edges. \n",
    "\n",
    "We hard code the weight for the nodes in this example."
   ]
  },
  {
   "cell_type": "code",
   "execution_count": null,
   "metadata": {},
   "outputs": [],
   "source": [
    "G2 = nx.DiGraph()\n",
    "# Read an directed graph from a list of edges\n",
    "\n",
    "G2 = nx.read_edgelist(place_holder + \"edgelist1.txt\", nodetype = str, create_using = nx.DiGraph(), \\\n",
    "                    data = (('weight', int),))\n",
    "\n",
    "\n",
    "# Adding weight to certain nodes\n",
    "#(**write here) = 3\n",
    "#(**write here) = 2\n",
    "\n",
    "print(\"Printing G3\")\n",
    "nx.write_weighted_edgelist(#(**write here))\n",
    "\n",
    "# Printing extra information about the node info.\n",
    "print(list(G2.nodes.data()))"
   ]
  },
  {
   "cell_type": "markdown",
   "metadata": {},
   "source": [
    "# Part 2: Matrix representation and visualization.\n",
    "\n",
    "### Example I: Read an adjacency matrix from a file as an undirected graph. Then display the graph using the display subroutine. \n",
    "\n",
    "The file used in this example is 'adjmat1.txt'."
   ]
  },
  {
   "cell_type": "code",
   "execution_count": null,
   "metadata": {},
   "outputs": [],
   "source": [
    "# Display subroutine\n",
    "def display(place_holder, nx_graph, nx_graph_str):\n",
    "\n",
    "    plt.subplots(figsize=(5, 5))\n",
    "    nx.draw_spring(nx_graph, with_labels = True, node_color='skyblue', node_size=200, \\\n",
    "                   edge_color='black')\n",
    "    fig = plt.gcf()\n",
    "    plt.show()\n",
    "    fig.savefig(place_holder + nx_graph_str + '.jpg')"
   ]
  },
  {
   "cell_type": "code",
   "execution_count": null,
   "metadata": {},
   "outputs": [],
   "source": [
    "# Read the adjacency matrix from a file and store the weight using int\n",
    "M3_txt = np.loadtxt()\n",
    "M3 = np.matrix()\n",
    "\n",
    "# convert the matrix into a graph\n",
    "G3 = nx.from_numpy_matrix()\n",
    "\n",
    "# Print the graph information\n",
    "print(\"Printing G3\")\n",
    "nx.write_weighted_edgelist(G3, sys.stdout)\n",
    "\n",
    "# Display using a visualization routine and write to disk as jpg\n",
    "display(place_holder, G3, 'G3')"
   ]
  },
  {
   "cell_type": "markdown",
   "metadata": {},
   "source": [
    "### Exercise I: Read an adjacency matrix from a file as a directed graph. \n",
    "\n",
    "The file used in this example is 'adjmat2.txt'."
   ]
  },
  {
   "cell_type": "code",
   "execution_count": null,
   "metadata": {},
   "outputs": [],
   "source": [
    "M4_txt = np.loadtxt(#(**write here))\n",
    "M4 = np.matrix(#(**write here), #(**write here))\n",
    "\n",
    "# convert the matrix into a graph\n",
    "G4 = nx.from_numpy_matrix(M4, #(**write here))\n",
    "\n",
    "# Print the graph information\n",
    "print(\"Printing G4\")\n",
    "nx.write_weighted_edgelist(G4, sys.stdout)\n",
    "display(place_holder, G4, 'G4')"
   ]
  },
  {
   "cell_type": "markdown",
   "metadata": {},
   "source": [
    "### Exercise II: Change the visualization."
   ]
  },
  {
   "cell_type": "code",
   "execution_count": null,
   "metadata": {},
   "outputs": [],
   "source": [
    "# Make the plot bigger\n",
    "plt.subplots(#(**write here))\n",
    "\n",
    "# draw a circular layout, get the nodes bigger and change the node color\n",
    "nx.draw_circular(G4, with_labels = True, node_color=#(**write here), node_size=#(**write here), \\\n",
    "               edge_color=#(**write here))\n",
    "\n",
    "# add title\n",
    "#(**write here)\n",
    "plt.show()\n"
   ]
  },
  {
   "cell_type": "markdown",
   "metadata": {},
   "source": [
    "### Additional Exercise: Adjust the size of the nodes based on the outward degrees.\n",
    "\n",
    "Assume that each node has at least one outgoing edge."
   ]
  },
  {
   "cell_type": "code",
   "execution_count": null,
   "metadata": {},
   "outputs": [],
   "source": [
    "# get the outward degree for each node and store them as a list of (node_number, degree)\n",
    "out_deg = #(**write here)\n",
    "\n",
    "# Multiply the node degree to 1000 as the node size \n",
    "#(**write here)\n",
    "\n",
    "print(out_deg)\n",
    "\n",
    "# create the plot and title\n",
    "#(**write here)\n",
    "\n",
    "nx.draw(G4, with_labels = True, node_color = 'red', node_size = #(**write here), edge_color='black')"
   ]
  }
 ],
 "metadata": {
  "kernelspec": {
   "display_name": "Python 3",
   "language": "python",
   "name": "python3"
  },
  "language_info": {
   "codemirror_mode": {
    "name": "ipython",
    "version": 3
   },
   "file_extension": ".py",
   "mimetype": "text/x-python",
   "name": "python",
   "nbconvert_exporter": "python",
   "pygments_lexer": "ipython3",
   "version": "3.7.7"
  }
 },
 "nbformat": 4,
 "nbformat_minor": 2
}
