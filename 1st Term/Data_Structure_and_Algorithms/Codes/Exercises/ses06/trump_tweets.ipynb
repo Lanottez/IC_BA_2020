{
 "cells": [
  {
   "cell_type": "markdown",
   "metadata": {},
   "source": [
    "# Trump tweets\n",
    "\n",
    "_Data Structures and Algorithms_\n",
    "\n",
    "_Imperial College Business School_\n",
    "\n",
    "\n",
    "---\n",
    "We will now practice dealing with JSON data from Twitter's API.\n",
    "\n",
    "But first, let us introduce a new way to interact with Python.\n",
    "\n",
    "---\n"
   ]
  },
  {
   "cell_type": "markdown",
   "metadata": {},
   "source": [
    "## Submission\n",
    "\n",
    "This part of the session is meant to be open-ended, and you don't need to submit anything. "
   ]
  },
  {
   "cell_type": "markdown",
   "metadata": {},
   "source": [
    "## Jupyter Notebooks\n",
    "\n",
    "So far we've been using the Python console and the Spyder IDE to write code. Now we'll introduce another convenient way to both write code and present it: the Jupyter Notebook. Briefly, the notebook is an interactive computing environment that allows us to include \"live\" Python code that the user can run, combined with explanations, narrative text, equations, etc. Notebooks can also easily be exported to html and PDF formats. Due to this flexibility, they have become popular in various contexts: for example, they are often used in analytics teams to share and present ideas. This document and all the other html files have been written as Jupyter Notebooks.\n",
    "\n",
    "The main visible component of the notebook is a web application, which is your interface with the notebook. It allows you to both create and manage documents and write and run Python code. All of this happens in your browser. The web application uses a process called Python kernel to run your code - essentially there is an IPython \"shell\" (resembling Spyder's console) running in the background. The documents have the extension `.ipynb`. \n",
    "\n",
    "The Jupyter Notebook format is not limited to Python, but can be used with other languages including R, as long as the corresponding kernel has been installed.\n",
    "\n",
    "Jupyter Notebook comes with your Anaconda distribution. You can find it in the Anaconda Navigator. In Windows, you should also be able to find it by tapping the Windows key and starting to type Jupyter. Opening the program starts both a log window (a command line/terminal that documents what goes on in the Python kernel) and a new tab in your web browser. \n",
    "\n",
    "When Jupyter Notebook starts, the browser window shows a folder view, by default of the directory `C:\\Users\\USERNAME` in Windows, and similarly your user folder in macOS. Navigate to the directory where you saved the session files in the Jupyter browser window, and open the file `trump_tweets.ipynb`. If you saved your files somewhere else (say on D: drive), please copy and paste them to within the directory where Jupyter opens. \n",
    "\n",
    "> **Advanced**. It is possible to change the default of Jupyter Notebook to any directory, but the process a bit technical so we won't go into the details here."
   ]
  },
  {
   "cell_type": "markdown",
   "metadata": {},
   "source": [
    "## Notebook features\n",
    "\n",
    "Let's go through the main functionalities of the Notebook.\n",
    "\n",
    "\n",
    "When you open the file `trump_tweets.ipynb`, you'll see this same text, but below also snippets of Python code that you can run and edit. Indeed, you can also edit the entire document to make comments, add new code cells, and so on. \n",
    "\n",
    "### Code cells\n",
    "\n",
    "A Jupyter notebook is organized in cells. Some cells contain text and others code snippets. You can run a cell containing Python code by selecting it and pressing the \"Play\" button in the toolbar above, or using `Shift + Enter` (which moves you to the next cell) or `Ctrl + Enter` (which keeps you in place). Try editing the code below and running it."
   ]
  },
  {
   "cell_type": "code",
   "execution_count": 1,
   "metadata": {},
   "outputs": [
    {
     "name": "stdout",
     "output_type": "stream",
     "text": [
      "Hey!\n",
      "3\n"
     ]
    },
    {
     "data": {
      "text/plain": [
       "-1"
      ]
     },
     "execution_count": 1,
     "metadata": {},
     "output_type": "execute_result"
    }
   ],
   "source": [
    "print('Hey!')\n",
    "print(1 + 2)\n",
    "1 + 8\n",
    "4 - 5"
   ]
  },
  {
   "cell_type": "markdown",
   "metadata": {},
   "source": [
    "Running a code cell will display everything that you `print` and the result of the last expression that was evaluated, here 4-5."
   ]
  },
  {
   "cell_type": "markdown",
   "metadata": {},
   "source": [
    "### Text cells\n",
    "\n",
    "You can edit a text cell's contents by double-clicking on it. When you're done editing, use `Shift + Enter` to render the cell. The text cells support [Markdown](https://github.com/adam-p/markdown-here/wiki/Markdown-Cheatsheet) syntax. Try editing the text in the cell below. "
   ]
  },
  {
   "cell_type": "markdown",
   "metadata": {},
   "source": [
    "_Double click to edit this cell._\n",
    "\n",
    "**Bold text**\n",
    "\n",
    "### A header\n",
    "\n",
    "#### A smaller header\n",
    "\n",
    "Some more text.\n",
    "\n",
    "When you're done editing, hit `Shift+Enter` to render the cell."
   ]
  },
  {
   "cell_type": "markdown",
   "metadata": {},
   "source": [
    "## Creating new cells\n",
    "\n",
    "You can add a new cell from the plus sign in the menu. It will by default be a code cell. If you want to change it to a markdown text cell, select it and go to the menu Cell -> Cell Type -> Markdown, or select Markdown from the drop down menu in the toolbar. You can remove a cell using the scissors icon.\n",
    "\n",
    "## Saving the Notebook\n",
    "\n",
    "Save the Notebook either from the Save icon or Go to File -> Save.  "
   ]
  },
  {
   "cell_type": "markdown",
   "metadata": {},
   "source": [
    "## Important: stopping code execution in Jupyter\n",
    "\n",
    "Let's try running some more code in the Notebook. Run the following cell using `Shift+Enter`."
   ]
  },
  {
   "cell_type": "code",
   "execution_count": null,
   "metadata": {},
   "outputs": [],
   "source": [
    "counter = 5\n",
    "while counter >=0:\n",
    "    counter = counter + 1 "
   ]
  },
  {
   "cell_type": "markdown",
   "metadata": {},
   "source": [
    "You will see that on the left hand side of the cell Jupyter displays `In[*]`. **This means that the code in the cell is still executing. While this is going on, you will not be able to run code from other cells.** \n",
    "\n",
    "What we've created above is an infinite loop that will never finish. The condition of the while loop will always remain `True`. **In order to stop Jupyter executing it, click on the Stop icon or choose _Kernel->Interrupt_ from the menu above.**\n",
    "\n",
    "You may need this later so make a note of this now. Try it again a few times: run the cell and stop its execution.\n",
    "\n",
    "If something goes more seriously wrong and the Notebook crashes, you can restart the Python Kernel from the same menu, or from the icon next to the stop icon. Notice that this will clear Python's memory so you would have to run all your code again from the beginning."
   ]
  },
  {
   "cell_type": "markdown",
   "metadata": {},
   "source": [
    "## Trump tweets, JSON edition\n",
    "\n",
    "Earlier in the course, we looked at some of Donald Trump's tweets that had been conveniently packaged into a CSV file that we could open as a spreadsheet. The dataset we used ended in summer 2016. What if we wanted to analyse more recent tweets? We could do this by registering for access to Twitter's API (application programming interface; Twitter's interface for anyone to access its data) and downloading the data directly using one of the libraries that Python users have developed for accessing the API. \n",
    "\n",
    "We won't register for the API now. Instead, we'll use data maintained by Github user bpb27. \n",
    "\n",
    "The data that we'll use has been cleaned and condensed, but resembles the output from the Twitter API. Instead of CSV, the API gives data in JSON format. We've included the file condensed_2016.json downloaded from Github in the zip file.\n",
    "\n",
    "What is JSON data, and how can we load it into Python?\n",
    "\n",
    "### JSON\n",
    "\n",
    "JSON (JavaScript Object Notation, \"Jason\") is a common format for semi-structured data on the web. Many APIs provide data as JSON. We can open a JSON file in any text editor. It will look something like this.\n",
    "\n",
    "```json\n",
    "{\"countries\":\n",
    "  [\n",
    "  {\"Germany\": \"Berlin\"},\n",
    "  {\"France\": \"Paris\"},\n",
    "  {\"Italy\": \"Rome\"}\n",
    "  ]\n",
    "}\n",
    "```\n",
    "\n",
    "This looks very much like a Python data structure with nested dictionaries and lists. A tweet from Twitter's API will look similar (some fields only here):\n",
    "\n",
    "```json\n",
    "{\"source\": \"Twitter for iPhone\",\n",
    "\"id_str\": \"815271067749060609\",\n",
    "\"text\": \"RT @realDonaldTrump: Happy Birthday @DonaldJTrumpJr!\\nhttps://t.co/uRxyCD3hBz\",\n",
    "\"created_at\": \"Sat Dec 31 18:59:04 +0000 2016\",\n",
    "\"retweet_count\": 9529,\n",
    "\"in_reply_to_user_id_str\": null,\n",
    "\"favorite_count\": 0,\n",
    "\"is_retweet\": true}\n",
    "```\n",
    "JSON is more flexible than CSV. For example, some tweets might not include some data fields. In a CSV file, we would still include them in tabular form. In JSON, the specific key-value pair would be absent.\n",
    "\n",
    "We can read the JSON file to Python as we would a text file, or open it in Notepad or another text editor. \n"
   ]
  },
  {
   "cell_type": "code",
   "execution_count": 35,
   "metadata": {},
   "outputs": [
    {
     "name": "stdout",
     "output_type": "stream",
     "text": [
      "[{\"source\": \"Twitter for iPhone\", \"id_str\": \"815271067749060609\", \"text\": \"RT @realDonaldTrump: Happy Birthday @DonaldJTrumpJr!\\nhttps://t.co/uRxyCD3hBz\", \"created_at\": \"Sat Dec 31 18:59:04 +0000 2016\", \"retweet_count\": 9529, \"in_reply_to_user_id_str\": null, \"favorite_count\": 0, \"is_retweet\": true}, {\"source\": \"Twitter for iPhone\", \"id_str\": \"815270850916208644\", \"text\": \"Happy Birthday @DonaldJTrumpJr!\\nhttps://t.co/uRxyCD3hBz\", \"created_at\": \"Sat Dec 31 18:58:12 +0000 2016\", \"retweet_count\": 9\n"
     ]
    }
   ],
   "source": [
    "json_file_name = 'condensed_2016.json'\n",
    "with open(json_file_name, encoding='utf8') as f:\n",
    "    text = f.read()\n",
    "\n",
    "# Print first characters of resulting string \n",
    "print(text[0:500]) "
   ]
  },
  {
   "cell_type": "markdown",
   "metadata": {},
   "source": [
    "Having read the file, we could parse through the string looking for  different aspects of each tweet. But it's much more convenient to use a library that directly exploits the structure of JSON. This is called simply the json library. We import it using the import statement, and use its methods to load data into Python's data structures."
   ]
  },
  {
   "cell_type": "code",
   "execution_count": 41,
   "metadata": {
    "collapsed": true,
    "jupyter": {
     "outputs_hidden": true
    }
   },
   "outputs": [],
   "source": [
    "import json\n",
    "json_file_name = 'condensed_2016.json'\n",
    "with open(json_file_name, encoding='utf8') as f:\n",
    "    tweet_data = json.load(f)"
   ]
  },
  {
   "cell_type": "markdown",
   "metadata": {},
   "source": [
    "The result is a Python list of dictionaries containing the tweets."
   ]
  },
  {
   "cell_type": "code",
   "execution_count": 46,
   "metadata": {},
   "outputs": [
    {
     "data": {
      "text/plain": [
       "[{'created_at': 'Sat Dec 31 18:59:04 +0000 2016',\n",
       "  'favorite_count': 0,\n",
       "  'id_str': '815271067749060609',\n",
       "  'in_reply_to_user_id_str': None,\n",
       "  'is_retweet': True,\n",
       "  'retweet_count': 9529,\n",
       "  'source': 'Twitter for iPhone',\n",
       "  'text': 'RT @realDonaldTrump: Happy Birthday @DonaldJTrumpJr!\\nhttps://t.co/uRxyCD3hBz'},\n",
       " {'created_at': 'Sat Dec 31 18:58:12 +0000 2016',\n",
       "  'favorite_count': 55601,\n",
       "  'id_str': '815270850916208644',\n",
       "  'in_reply_to_user_id_str': None,\n",
       "  'is_retweet': False,\n",
       "  'retweet_count': 9529,\n",
       "  'source': 'Twitter for iPhone',\n",
       "  'text': 'Happy Birthday @DonaldJTrumpJr!\\nhttps://t.co/uRxyCD3hBz'}]"
      ]
     },
     "execution_count": 46,
     "metadata": {},
     "output_type": "execute_result"
    }
   ],
   "source": [
    "tweet_data[0:2]"
   ]
  },
  {
   "cell_type": "markdown",
   "metadata": {},
   "source": [
    "We're now ready to study patterns in the tweets."
   ]
  },
  {
   "cell_type": "markdown",
   "metadata": {},
   "source": [
    "### Exercise: Up all night?\n",
    "\n",
    "Let's start by analysing President Trump's sleep patterns. We will create a count of the number of tweets by hour of the day. \n",
    "\n",
    "Here's how you can get the hour from a tweet timestamp using the `datetime` module."
   ]
  },
  {
   "cell_type": "code",
   "execution_count": 55,
   "metadata": {},
   "outputs": [
    {
     "name": "stdout",
     "output_type": "stream",
     "text": [
      "{'source': 'Twitter for iPhone', 'id_str': '815271067749060609', 'text': 'RT @realDonaldTrump: Happy Birthday @DonaldJTrumpJr!\\nhttps://t.co/uRxyCD3hBz', 'created_at': 'Sat Dec 31 18:59:04 +0000 2016', 'retweet_count': 9529, 'in_reply_to_user_id_str': None, 'favorite_count': 0, 'is_retweet': True}\n",
      "Sat Dec 31 18:59:04 +0000 2016\n",
      "2016 12 31 18\n"
     ]
    },
    {
     "data": {
      "text/plain": [
       "int"
      ]
     },
     "execution_count": 55,
     "metadata": {},
     "output_type": "execute_result"
    }
   ],
   "source": [
    "from datetime import datetime\n",
    "\n",
    "# Get first tweet\n",
    "tw = tweet_data[0]\n",
    "print(tw)\n",
    "# We see the timestamp is at the field 'created_at'\n",
    "\n",
    "# Get timestamp of the tweet\n",
    "date_str = tw['created_at']\n",
    "print(date_str)\n",
    "\n",
    "# Make into datetime object, get the attributes of the result\n",
    "dt = datetime.strptime(date_str,'%a %b %d %H:%M:%S +0000 %Y') # specify format of time string\n",
    "print(dt.year, dt.month, dt.day, dt.hour)\n",
    "type(dt.hour)"
   ]
  },
  {
   "cell_type": "markdown",
   "metadata": {},
   "source": [
    "Your task is to count all tweets by hour. One way to do this is creating a dictionary with keys as hours and values as counts.\n",
    "\n",
    "#### Sidebar: dictionary comprehension\n",
    "\n",
    "Recall that Python has a convenient way of reducing the work we need to do for writing loops called _comprehensions_. We can write a loop to create a dictionary in a single line as follows. The same kind of thing can be done to create lists too."
   ]
  },
  {
   "cell_type": "code",
   "execution_count": 123,
   "metadata": {},
   "outputs": [
    {
     "data": {
      "text/plain": [
       "{0: 0,\n",
       " 1: 0,\n",
       " 2: 0,\n",
       " 3: 0,\n",
       " 4: 0,\n",
       " 5: 0,\n",
       " 6: 0,\n",
       " 7: 0,\n",
       " 8: 0,\n",
       " 9: 0,\n",
       " 10: 0,\n",
       " 11: 0,\n",
       " 12: 0,\n",
       " 13: 0,\n",
       " 14: 0,\n",
       " 15: 0,\n",
       " 16: 0,\n",
       " 17: 0,\n",
       " 18: 0,\n",
       " 19: 0,\n",
       " 20: 0,\n",
       " 21: 0,\n",
       " 22: 0,\n",
       " 23: 0}"
      ]
     },
     "execution_count": 123,
     "metadata": {},
     "output_type": "execute_result"
    }
   ],
   "source": [
    "# Initialize dictionary of zero hourly counts using dictionary comprehension\n",
    "# Dictionary specified as key->hour, value->zero for each hour value in the range\n",
    "hourly_counts = {hour:0 for hour in range(24)}\n",
    "hourly_counts"
   ]
  },
  {
   "cell_type": "markdown",
   "metadata": {},
   "source": [
    "You may find this initialization useful in calculating the counts."
   ]
  },
  {
   "cell_type": "code",
   "execution_count": 227,
   "metadata": {
    "collapsed": true,
    "jupyter": {
     "outputs_hidden": true
    }
   },
   "outputs": [],
   "source": [
    "# Your code here. \n",
    "\n",
    "# Initialize hourly_counts as above\n",
    "\n",
    "# loop through tweets in tweet_data\n",
    "# within loop: get timestamp of tweet as above\n",
    "# within loop: get hour as above\n",
    "# within loop: add one to dictionary value for relevant hour\n"
   ]
  },
  {
   "cell_type": "markdown",
   "metadata": {},
   "source": [
    "What is the most common hour for tweeting? What can you say about the President's sleeping patterns? What additional analysis would you do?\n",
    "\n",
    "You can use `matplotlib` to plot the result. You can do a line chart following [the first example here](https://matplotlib.org/users/pyplot_tutorial.html), or a bar chart following [this example](https://pythonspot.com/en/matplotlib-bar-chart/).\n",
    "\n",
    "You could also check how this pattern changes over different months."
   ]
  },
  {
   "cell_type": "markdown",
   "metadata": {},
   "source": [
    "### Exercise: Who's tweeting?\n",
    "\n",
    "It appears that there are different sources for the tweets in the `source` field of the data. \n",
    "\n",
    "Create an hourly count of tweets by the different sources. Can you infer what this suggests about Trump's personal phone and the one his office uses for tweeting?\n",
    "\n",
    "Let's first find all the sources that are in the data. "
   ]
  },
  {
   "cell_type": "code",
   "execution_count": 228,
   "metadata": {},
   "outputs": [
    {
     "name": "stdout",
     "output_type": "stream",
     "text": [
      "{'Twitter for Android', 'TweetDeck', 'Twitter for iPad', 'Mobile Web (M5)', 'Twitter Ads', 'Twitter for iPhone', 'Twitter Web Client', 'Periscope', 'Instagram', 'Media Studio'}\n"
     ]
    }
   ],
   "source": [
    "sources = set()\n",
    "for tweet in tweet_data:\n",
    "    if tweet['source'] not in sources:\n",
    "        sources.add(tweet['source'])   \n",
    "print(sources)"
   ]
  },
  {
   "cell_type": "markdown",
   "metadata": {},
   "source": [
    "Which are the most common sources and what do their timings suggest about usage?"
   ]
  },
  {
   "cell_type": "code",
   "execution_count": 229,
   "metadata": {
    "collapsed": true,
    "jupyter": {
     "outputs_hidden": true
    }
   },
   "outputs": [],
   "source": [
    "# Your code here\n",
    "# Initialize dictionary (or multiple) like above\n",
    "# Loop through tweets and add to counts like above"
   ]
  },
  {
   "cell_type": "markdown",
   "metadata": {},
   "source": [
    "### Exercise: Who's tweeting what?\n",
    "\n",
    "How do the contents of Mr Trump's tweets change depending on the source? We could do some really sophisticated analysis here through [sentiment analysis](http://text-processing.com/demo/sentiment/) of the tweet texts. For the purposes of this exercise, do the following calculations by tweet source:\n",
    "\n",
    "1. Find the fraction of tweets containing the word 'dumb' in either upper or lower case.\n",
    "\n",
    "2. Repeat for words you'd like, for example the ones suggested below.\n",
    "\n",
    "You can also repeat the analysis by source and hour, or look at different words or mentions of different Twitter users. \n",
    "\n",
    "Note you probably want to count both upper and lower case words together.\n"
   ]
  },
  {
   "cell_type": "code",
   "execution_count": 230,
   "metadata": {
    "collapsed": true,
    "jupyter": {
     "outputs_hidden": true
    }
   },
   "outputs": [],
   "source": [
    "# Your code here\n",
    "words = ['dumb', 'brexit', '#makeamericagreatagain', 'guns', 'dead', '#crookedhillary']\n"
   ]
  }
 ],
 "metadata": {
  "kernelspec": {
   "display_name": "Python 3",
   "language": "python",
   "name": "python3"
  },
  "language_info": {
   "codemirror_mode": {
    "name": "ipython",
    "version": 3
   },
   "file_extension": ".py",
   "mimetype": "text/x-python",
   "name": "python",
   "nbconvert_exporter": "python",
   "pygments_lexer": "ipython3",
   "version": "3.7.4"
  }
 },
 "nbformat": 4,
 "nbformat_minor": 4
}
